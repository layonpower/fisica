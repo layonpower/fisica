{
  "cells": [
    {
      "cell_type": "markdown",
      "source": [
        "\n",
        " # TODO Objetivo del laboratorio\n",
        " El objetivo de la presenta práctica es conocer el estándar de simulación de circuitos [SPICE](http://bwrcs.eecs.berkeley.edu/Classes/IcBook/SPICE) y realizar pequeñas simulaciones en corriente continua con el mismo. SPICE es una forma elegante y sencilla de codificar circuitos eléctricos de manera que puedan ser procesados por un ordenador. Mediante un sencillo lenguaje podemos definir resistencias, fuentes de alimentación, etc., las conexiones entre ellos y los resultados que deseamos obtener.\n",
        "\n",
        " # TODO El estándar SPICE\n",
        " **SPICE** es una abreviabiación de *Simulation Program with Integrated Circtuit Emphasis*.\n",
        " Se trata básicamente de un método estándar para describir circuitos usando texto plano en\n",
        " lugar de una representación gráfica (o *esquemática*). A esta descripción en texto se\n",
        " la llama también **netlist** y básicamente se corresponde con la *lista* de los componentes del circuito y cómo estos están conectados entre sí, es decir, de los nodos de unión.\n",
        " Los ficheros netlist pueden tener extensiones `.cir`, `.net`, `.ckt`, ó `.sp` y es muy común encontrárselos con cualquiera de estas.\n",
        "\n",
        " Existen en el mercado muchas variantes (intérpretes) de Spice, aunque el original fue descrito\n",
        " en la Universidad de Berkeley. En la lista de intérpretes de Spice tenemos desde esfuerzos y proyectos comerciales hasta *open source* y regidos por distintas comunidades de usuarios y programadores.\n",
        "\n",
        "> **TODO A continuación...Pregunta:** Enumera todos los intérprete de Spice que puedas encontrar. Crea una tabla en Markdown con varias columnas (para el nombre, fabricante, versión actual, licencia y alguna característica sobresaliente). Aquí tienes un ejemplo del que puedes partir y seguir completando:\n",
        "\n",
        "| Intérprete | Licencia | Fabricante         | Características  |\n",
        "| ---------- | -------- | ------------------ | ---------------- |\n",
        "| Ahkab      | GPL      | Giuseppe Venturini | Basado en Python |\n",
        "| LTspice    | freeware | Mike Engelhardt    | Intérprete Spice más usado del mercado  |\n",
        "| OrCAD EE PSpice | Propietario | OrCAD Systems Corporation | Escrito en C y C++ |\n",
        "| Ngspice | BSD | | Basado en Spice3, Cider y Xspice|\n",
        "\n",
        "   \n",
        "\n",
        " > **Pregunta:** ¿Qué comparación puedes efectuar entre C y Spice como estándares (lenguajes) y sus respectivas implementaciones en software? ¿Qué implementaciones reales (compiladores) del lenguaje C conoces? \n",
        "Se puede hacer una analogía entre un lenguaje estadar como el ANSI C y Spice si hablamos de estándares y sus diferentes implementaciones. En este caso se va a hablar desde la perspectiva de quien escribe estas líneas en cuanto a su experiencia con diversos compiladores de C mediante la siguiente tabla:\n",
        "\n",
        "| Compidor | Licencia | Fabricante         | Experiencia personal  |\n",
        "| ---------- | -------- | ------------------ | ---------------- |\n",
        "| Turbo C   | Propietario (freeware desde 2006)   | Borland | Entorno Univesitario |\n",
        "| gcc  | GPL | Free Software Foundation  | Entorno Univesitario |\n",
        "| MPLAB C Compiler   | Propietario   | Microchip Technology | Estancia en empresa italiana dedicada al desarrollo de microcontroladores |\n",
        "\n",
        "\n",
        " ## Elementos de un netlist\n",
        " Como acabamos de comentar, un netlist se corresponde con la codificación de los elementos electrónicos de un circuito y las uniones entre los mismos. Veamos con más concreción qué partes y secciones lo componen.\n",
        "\n",
        " ## Comentarios\n",
        "\n",
        " La primera línea de un netlist se corresponderá siempre con un comentario. A partir de esta línea se pueden introducir más comentarios pero tienen que ir siempre precedidos de un `*`. Ejemplo:\n",
        " \n",
        " ```spice\n",
        " Mi primer circuito\n",
        " * Otro comentario\n",
        " * más comentarios\n",
        " *\n",
        " ```\n",
        "\n",
        " ## Dispositivos básicos de un circuito\n",
        " Los elementos de un netlist son los mismos que encontramos en cualquier circuito eléctrico sencillo,\n",
        " tales como resistencias, **condensadores**, **bobinas**, **interruptores**, **hilos** y **fuentes** de alimentación.\n",
        " Para distinguir uno de otro, se reserva una letra característica: `V` para fuentes de alimentación, `R` para resistencias, `C` para condensadores y `L` para bobinas. También es posible usar estas letras en su versión en minúscula (`r`, `v`, `c`, `l`, etc.).\n",
        " Después de esta letra característica se puede sufijar cualquier texto para diferenciar un elemento de otro (números, letras, palabras, etc.). Ejemplo:\n",
        "\n",
        " ```\n",
        " * Una resistencia\n",
        " R1\n",
        " *  Otra resistencia\n",
        " R2\n",
        " * Fuente de alimentación\n",
        " V\n",
        " * Un condensador\n",
        " Cprincipal\n",
        " ```\n",
        "\n",
        " ## Conexiones\n",
        " A continuación de indicar el elemento eléctrico, tenemos que informar a Spice cuáles\n",
        " son los puntos de unión tanto a un lado como al otro del elemento.\n",
        " Así es como Spice sabe qué está conectado a qué: porque comparten un **punto**\n",
        " (o **nodo**, aunque este término se reserva sobretodo a uniones de más de dos elementos)\n",
        " que hemos señalizado correctamente. Para nombrar nodos, lo mejor es emplear una\n",
        " numeración secuencial: 0...n. **La enumeración de los puntos de unión es completamente\n",
        " a nuestro criterio**.\n",
        "\n",
        " ```\n",
        " * Una resistencia\n",
        " * entre cables 0 y 1\n",
        " R1 0 1\n",
        " ```\n",
        "\n",
        " **Sólo es necesario seguir un criterio**: en el caso de una\n",
        " fuente de alimentación, el nodo que pondremos primero será\n",
        " aquel que está más cerca del *borne* positivo. Ejemplo:\n",
        "\n",
        " ```spice\n",
        " * Para una fuente indicamos primeramente conexión a nodo positivo.\n",
        " v 2 3 type=vdc vdc=1\n",
        " ```\n",
        " \n",
        "En el *caso de LTspice* no es necesario indicar los parámetros `type=vdc` y `vdc=X`, sino que si no se especifica nada, se supone que el último valor es el del voltaje a corriente continua:\n",
        "\n",
        "```spice\n",
        "* Especificación de una fuente de alimentación de 10 V en corrient continua en el caso de LTspice\n",
        "v 0 1 10\n",
        "```\n",
        "\n",
        "Aquí tienes un ejemplo gráfico de los componentes comentados justo arriba (resistencia y voltaje):\n",
        "\n",
        "![](https://raw.githubusercontent.com/pammacdotnet/spicelab/master/resistencia%20y%20pila%20con%20nodos.svg?sanitize=true)\n",
        "\n",
        " ## Unidades en SPICE\n",
        "\n",
        " Las unidades de las magnitudes características del circuito son siempre [unidades\n",
        " del Sistema Internacional](https://en.wikipedia.org/wiki/SI_electromagnetism_units) y no es necesario indicarlo explícitamente en el netlist.\n",
        "\n",
        " La forma de especificar múltiplos de estas cantidades es añadiendo una letra.\n",
        " Básicamente las que nos interesan y las que suelen aparecer mayoritariamente son `k` para \"kilo-,\" `m` para \"mili?\" y `u` para \"micro?\".\n",
        "\n",
        " > **Pregunta:** Crea una tabla en Markdown con todos los prefijos de múltiplos que puedas, su abreviatura y su equivalencia numérica.\n",
        "\n",
        "| Prefijo múltiplo |  Abreviatura  | Equivalecia numérica |\n",
        "| ---------- | -------- | -------- |\n",
        "| tera| T | $$ 10 ^ {12} $$|\n",
        "| giga| G | $$ 10 ^ 9 $$|\n",
        "| mega| M | $$ 10 ^ 6 $$|\n",
        "| kilo| k | $$ 10 ^ 3 $$|\n",
        "| hecto| h | $$ 10 ^ 2 $$|\n",
        "| deca| da | $$ 10 ^ 1 $$|\n",
        "| deci| d | $$ 10 ^ {-1} $$|\n",
        "| centi| c | $$ 10 ^ {-2} $$|\n",
        "| mili| m | $$ 10 ^ {-3} $$|\n",
        "| micro| $$ \\mu $$ | $$ 10 ^ {-6} $$\n",
        "| nano| n | $$ 10 ^ {-9} $$\n",
        "| pico| p | $$ 10 ^ {-12} $$\n",
        "\n",
        " En el caso de las fuentes de alimentación hemos de especificar si se trata de corriente contínua (`vdc`) o alterna (`ac`).\n",
        "\n",
        " ```\n",
        " * Una resistencia de 5 Ohmios\n",
        " R2 1 0 5\n",
        " * Una pila de 10 Voltios (continua)\n",
        " V1 1 0 type=vdc vdc=10\n",
        " * Una resistencia de 5 kΩ\n",
        " RX 2 4 5k\n",
        " ```\n",
        "\n",
        " > **Pregunta**: ¿qué unidades del Sistema Internacional relacionadas con la asignatura –y los circuitos en general– conoces? Responde aquí mismo en una celda de Markdown con una tabla.\n",
        "\n",
        "| Cantidad | Unidad SI  | Unidad Fundamental SI |\n",
        "| ---------- | -------- | -------- |\n",
        "| Corriente eléctrica | Amperio A | Sí |\n",
        "| Resistencia eléctrica | Ohmio $$\\varOmega$$ | No |\n",
        "| Diferencia de potencial | Voltio V | No |\n",
        "\n",
        " ## Valores iniciales\n",
        "\n",
        " Aparecen justo al final de la definición del componente (`ic`). Suelen aplicarse principalmente con condensadores.\n",
        "\n",
        " ```\n",
        " * Una condensador inicialmente no cargado\n",
        " c 1 0 1u ic=0\n",
        " ```\n",
        "\n",
        " ## Fin del circuito\n",
        "\n",
        " El fin de la descripción de un netlist se especifica mediante el\n",
        " comando `.end`.\n",
        "\n",
        " ```spice\n",
        " * Mi primer circuito\n",
        " V 1 0 vdc=10 type=vdc\n",
        " R 1 0 5\n",
        " * Fin del circuito\n",
        " .end\n",
        " ```\n",
        "\n",
        "\n",
        " ## Comandos SPICE para circuitos en corriente continua\n",
        "\n",
        " Además de la descripción del circuito, hemos de indicar al intérprete de Spice qué\n",
        " tipo de análisis queremos realizar en sobre el mismo y cómo queremos presentar\n",
        " la salida de la simulación. Los comandos en Spice empiezan por un `.` y suelen\n",
        " escribirse justo al final del circuito, pero antes del comando `.end`.\n",
        "\n",
        " ```\n",
        "  Mi primer circuito\n",
        " * Aquí van los componentes\n",
        " R 1 0 6k\n",
        " ...\n",
        " * Comandos\n",
        " .op\n",
        " ...\n",
        " * Fin del circuito\n",
        " .end\n",
        " ```\n",
        "\n",
        " > **Pregunta**: Hasta lo que has visto del lenguaje Spice, ¿dentro de qué tipo o conjunto de lenguajes encajaría? ¿Funcionales? ¿Específicos de dominio? ¿Procedurales? ¿Estructurados? ¿Orientado a Objetos ¿Funcionales? Justifica tu respuesta. \n",
        " https://www.jetbrains.com/es-es/mps/concepts/domain-specific-languages/\n",
        " https://dosideas.com/noticias/actualidad/487-los-lenguajes-especificos-de-dominio\n",
        " \n",
        "\n",
        " Veamos los principales comandos de simulación:\n",
        "\n",
        " - `.op` es el comando más sencillo que podemos emplear en. Devuelve el voltaje e intensidad en cada ramal y componente del circuito. Este comando no necesita parámetros.\n",
        " - `.dc` es uy parecido al comando `.op` pero nos permite cambiar el valor del voltaje de una fuente de alimentación en pasos consecutivos entre el valor A y el valor B.\n",
        " En el caso de que la fuente tuviera asignada ya un valor para su voltaje, este sería ignorado. Ejemplo:\n",
        "\n",
        "\n",
        " ```spice\n",
        " * Variamos el valor del voltaje\n",
        " * de la fuente \"v\" de 1 a 1000\n",
        " * en pasos de 5 voltios\n",
        " v 1 0 type=vdc vdc=10\n",
        " .dc v 1 start=1 stop=1000 step=20\n",
        " v2a 2 4 type=vdc vdc=9\n",
        " * Igual para v2a. Se ignora su voltaje de 9V\n",
        " .dc v2a start=0 stop=10 step=2\n",
        " ```\n",
        "\n",
        " - El comando `.tran` realiza un análisis en el tiempo de los parámetros del\n",
        " circuito. Si no se emplea la directiva `uic` (*use initial conditions*) o esta es igual a cero, este análisis se realiza desde el punto estable de funcionamiento del circuito hasta un tiempo `tfinal`.\n",
        " y en intervalos `tstep`. Si empleamos un varlor distinto para parámetro `uic`,\n",
        " entonces se hará uso de las condiciones iniciales definidas para cada componente\n",
        "  (típicamente `ic=X` en el caso de los condensadores, que da cuenta de la carga incial que estos pudieran tener).\n",
        "\n",
        "\n",
        " ```\n",
        " * Hacemos avanzar el tiempo entre\n",
        " * tinicial y tfinal en pasos tstep\n",
        " .tran tstart=X tstop=Y tstep=Z uic=0/1/2/3\n",
        " ```\n",
        "\n",
        " `X`, `Y` y `Z` tienen, evidentemente unidades de tiempo en el S.I. (segundos).\n",
        "\n",
        " > **Pregunta**: El parámetro `uic` puede tener varios valores y cada uno significa una cosa. Detállalo usando un celda Markdown y consultando la [documentación de Ahkab](https://buildmedia.readthedocs.org/media/pdf/ahkab/latest/ahkab.pdf).\n",
        "\n",
        "\n",
        "| UIC | Funcionalidad  |\n",
        "| ---------- | -------- |\n",
        "| 0 | all node voltages and currents through v/h/e/sources will be assumed to be zero at t = tstart |\n",
        "| 1 | the status at ‘t = tstart is the last result from a OP analysis |\n",
        "| 2 | the status at t=tstart is the last result from a OP analysis on which are set the values of currents through inductors and voltages on capacitors specified in their ic. This is done very roughly, checking is recommended |\n",
        "| 3 | Load a user supplied ic. This requires a .ic directive somewhere in the netlist and a .ic‘s name and ic_label must match |\n",
        "\n",
        "\n",
        "\n",
        " ## Intérprete SPICE que vamos a usar: Ahkab\n",
        " Tras un estándar siempre hay una o varias implementaciones. Ahkab no deja de ser una implmentación más en Python del estándar Spice.\n",
        " > **Pregunta:** Comenta las distintas implementaciones de lenguajes y estándares que conozcas. Hazlo usando una tabla en Markdown. [Aquí](https://www.markdownguide.org/extended-syntax/#tables) tienes un poco de ayuda (aunque antes ya se ha puesto el ejemplo de una tabla).\n",
        "\n",
        "| Estándar | Implementación  |\n",
        "| ---------- | -------- |\n",
        "| SQL | PL/SQL |\n",
        "| SQL | Transact-SQL |\n",
        "| ECMAScript | JavaScript |\n",
        " \n",
        " > **Pregunta:** Describe brevemente este software (creador, objetivos, versiones, licencia, características principales, dependencias, etc.).\n",
        "\n",
        " # Trabajo práctico\n",
        " Muy bien, ahora toca definir circuitos y ejecutar simulaciones sobre los mismos gracias a Ahkab.\n",
        " ## Instalación de bibliotecas necesarias\n",
        " Si estás utilizando Anaconda, asegúrate de tener su entorno activado:\n",
        " \n",
        " ```cmd\n",
        " C:\\> conda activate base (en el caso de Windows)\n",
        " ```\n",
        " ó\n",
        "\n",
        " ```bash\n",
        " $ source /usr/local/Caskroom/miniconda/base/bin/activate (en el caso de macOS)\n",
        " ```\n",
        "\n",
        "En el caso de Windows tienes que tener en el PATH el directorio donde se encuentre el comando `conda` (visita la sección de [Environment Variables](https://superuser.com/questions/949560/how-do-i-set-system-environment-variables-in-windows-10) del [Panel de Control](https://www.digitalcitizen.life/8-ways-start-control-panel-windows-10)). Si has instalado Anaconda con [esta opción](https://docs.anaconda.com/_images/win-install-options.png) marcada, ya no tienes que preocuparte por ello. \n",
        "\n",
        "En el caso de usar Visual Studio Code, este puede encontrar automáticamente la distintas distribuciones de Python que tengamos instaladas y si abrimos un terminal, este se adaptará automáticamente al entorno Python que hayamos seleccionado. La configuración de Python en VS Code está bien explicada su [documentación](https://code.visualstudio.com/docs/python/python-tutorial).\n",
        "\n",
        "![](https://raw.githubusercontent.com/microsoft/vscode-python/main/images/InterpreterSelectionZoom.gif)\n",
        "\n",
        "Ahora ya puedes instalar Ahkab:\n",
        "\n",
        " ```\n",
        " (base) $ pip install ahkab\n",
        " ``` "
      ],
      "metadata": {}
    },
    {
      "source": [
        "También puedes instalar Ahkab directamente desde este mismo notebook:"
      ],
      "cell_type": "markdown",
      "metadata": {}
    },
    {
      "cell_type": "code",
      "execution_count": 1,
      "metadata": {},
      "outputs": [
        {
          "output_type": "stream",
          "name": "stdout",
          "text": [
            "Requirement already satisfied: ahkab in c:\\users\\leon\\scoop\\apps\\miniconda3\\current\\lib\\site-packages (0.18)\nRequirement already satisfied: scipy>=0.14.0 in c:\\users\\leon\\scoop\\apps\\miniconda3\\current\\lib\\site-packages (from ahkab) (1.5.4)\nRequirement already satisfied: sympy>=0.7.6 in c:\\users\\leon\\scoop\\apps\\miniconda3\\current\\lib\\site-packages (from ahkab) (1.6.2)\nRequirement already satisfied: numpy>1.7.0 in c:\\users\\leon\\scoop\\apps\\miniconda3\\current\\lib\\site-packages (from ahkab) (1.19.2)\nRequirement already satisfied: tabulate>=0.7.3 in c:\\users\\leon\\scoop\\apps\\miniconda3\\current\\lib\\site-packages (from ahkab) (0.8.7)\nRequirement already satisfied: mpmath>=0.19 in c:\\users\\leon\\scoop\\apps\\miniconda3\\current\\lib\\site-packages (from sympy>=0.7.6->ahkab) (1.1.0)\n"
          ]
        }
      ],
      "source": [
        "!pip install ahkab"
      ]
    },
    {
      "source": [
        "\n",
        " Como siempre, una vez instalado cualquier framework para Python, ya lo podemos utilizar, tanto desde el [REPL](https://en.wikipedia.org/wiki/Read–eval–print_loop) como desde un entorno Jupyter (Jupyter, [Jupyterlab](http://jupyterlab.readthedocs.io/en/stable/), VS Code o nteract). Recuerda que para usar el kernel Python (que viene con Anaconda) desde nteract debes seguir las instrucciones que se indican en su [documentación oficial](https://nteract.io/kernels). "
      ],
      "cell_type": "markdown",
      "metadata": {}
    },
    {
      "source": [
        "Como vamos a pintar algunas gráficas, necesitamos instlar [matplotlib](https://matplotlib.org). Al igual que con Ahkab, esto lo podemos hacer directamente desde este mismo notebook. Si hemos usado Anaconda: "
      ],
      "cell_type": "markdown",
      "metadata": {}
    },
    {
      "cell_type": "code",
      "execution_count": 4,
      "metadata": {},
      "outputs": [
        {
          "output_type": "stream",
          "name": "stdout",
          "text": [
            "Collecting package metadata (current_repodata.json): ...working... done\nSolving environment: ...working... done\n\n# All requested packages already installed.\n\n"
          ]
        }
      ],
      "source": [
        "!conda install -y -c conda-forge matplotlib"
      ]
    },
    {
      "cell_type": "code",
      "source": [
        "import pylab as plt\n",
        "import ahkab"
      ],
      "outputs": [],
      "execution_count": 23,
      "metadata": {
        "execution": {
          "iopub.status.busy": "2020-12-04T16:31:38.592Z",
          "iopub.execute_input": "2020-12-04T16:31:38.612Z",
          "iopub.status.idle": "2020-12-04T16:31:44.372Z",
          "shell.execute_reply": "2020-12-04T16:31:44.448Z"
        }
      }
    },
    {
      "cell_type": "markdown",
      "source": [
        " > **Pylab** es una librería de Python que incluye otras librerías tales como matplotlib, para la representación gráfica, y numpy,para cálculo matemático .\n",
        " Uno de sus principales usos es como alternativa libre a Matlab.\n",
        "\n",
        " ## Circuitos sencillos para trabjar con la ley de Ohm:\n",
        "\n",
        " La *mal llamada* ley de Ohm reza que el voltaje (la *energía por unidad de carga*) que se disipa en un tramo de un circuito eléctrico es equivalente a la intensidad ($I$) de la corriente (es decir, cuántos electrones circulan por unidad de tiempo) por la resistencia del material ($R$) en el que está desplazándose dicha corriente. Matemáticamente:\n",
        "\n",
        " $$\n",
        " V = I\\cdot R\n",
        " $$\n",
        "\n",
        " > **Pregunta:** comprueba que la ecuación anterior está ajustada a nivel dimensional, es decir, que la naturaleza de lo que está a ambos lados del signo igual es la misma. Realiza este ejercicio con LaTeX en una celda Markdown.\n",
        "\n",
        " Comencemos con el circuito más sencillo posible de todos:\n",
        "\n",
        " ![](https://raw.githubusercontent.com/pammacdotnet/spicelab/master/primer%20circuito.svg?sanitize=true)\n",
        "\n",
        " Vamos a escribir su contenido (componentes o *netlist*) en disco con el nombre `circuito sencillo.sp`. Esto lo podemos lograr directamente y en tiempo real desde una celda de Jupyter gracias a los *comandos mágicos* de este entorno de programación literaria. En concreto vamos a utilizar `%%writefile` que guarda los contenidos de una celda como un fichero. "
      ],
      "metadata": {}
    },
    {
      "cell_type": "code",
      "source": [
        "%%writefile \"circuito sencillo.sp\"\n",
        "* Este es un circuito sencillo\n",
        "r1 1 0 10\n",
        "v1 0 1 type=vdc vdc=9\n",
        ".op\n",
        ".dc v1 start=0 stop=9 step=1\n",
        ".tran tstep=0.01 tstart=6.5 tstop=7.5 uic=0\n",
        ".end"
      ],
      "outputs": [
        {
          "output_type": "stream",
          "name": "stdout",
          "text": [
            "Overwriting circuito sencillo.sp\n"
          ]
        }
      ],
      "execution_count": 4,
      "metadata": {
        "execution": {
          "iopub.status.busy": "2020-12-04T16:31:49.729Z",
          "iopub.execute_input": "2020-12-04T16:31:49.743Z",
          "iopub.status.idle": "2020-12-04T16:31:49.773Z",
          "shell.execute_reply": "2020-12-04T16:31:49.784Z"
        }
      }
    },
    {
      "cell_type": "markdown",
      "source": [
        "Ahora vamos a leer su descripción con Ahkab, interpretar y ejecutar las simulaciones que en él estén descritas."
      ],
      "metadata": {}
    },
    {
      "cell_type": "code",
      "source": [
        "circuito_y_análisis = ahkab.netlist_parser.parse_circuit('circuito sencillo.sp')"
      ],
      "outputs": [],
      "execution_count": 5,
      "metadata": {
        "execution": {
          "iopub.status.busy": "2020-12-04T16:31:53.003Z",
          "iopub.execute_input": "2020-12-04T16:31:53.016Z",
          "iopub.status.idle": "2020-12-04T16:31:53.038Z",
          "shell.execute_reply": "2020-12-04T16:31:53.050Z"
        }
      }
    },
    {
      "cell_type": "markdown",
      "source": [
        " Separamos la información del netlist (componentes) de los análisis (uno de tipo `op` y otro de tipo `dc`):"
      ],
      "metadata": {}
    },
    {
      "cell_type": "code",
      "source": [
        "circuito = circuito_y_análisis[0]\n",
        "análisis_en_netlist = circuito_y_análisis[1]\n",
        "lista_de_análisis = ahkab.netlist_parser.parse_analysis(circuito, análisis_en_netlist)\n",
        "print(lista_de_análisis)\n"
      ],
      "outputs": [
        {
          "output_type": "stream",
          "name": "stdout",
          "text": [
            "[{'type': 'op', 'guess': True, 'x0': None}, {'type': 'dc', 'source': 'v1', 'start': 0.0, 'stop': 9.0, 'step': 1.0, 'sweep_type': 'LIN'}, {'type': 'tran', 'tstep': 0.01, 'tstart': 6.5, 'tstop': 7.5, 'x0': None, 'method': None}]\n"
          ]
        }
      ],
      "execution_count": 6,
      "metadata": {
        "execution": {
          "iopub.status.busy": "2020-12-04T16:32:03.807Z",
          "iopub.execute_input": "2020-12-04T16:32:03.818Z",
          "iopub.status.idle": "2020-12-04T16:32:03.844Z",
          "shell.execute_reply": "2020-12-04T16:32:03.856Z"
        }
      }
    },
    {
      "cell_type": "markdown",
      "source": [
        "> **Pregunta:** ¿qué tipo de estructura de Python es `lista_de_análisis`?\n",
        "\n",
        "La función parse_analysis devuelve una lista que guardamos en lista_de_análisis. Las lista en Python Las listas (o ‘List’) en Python son un tipo de estructuras de datos muy flexible que guardan de forma ordenada un conjunto de datos que no tiene porque ser del mismo tipo.\n",
        "En este caso, la función devuelve e cicuito y las directivas a analizar.\n",
        "\n",
        " Las simulaciones que implican listas de datos (`.dc`, `.tran`, etc.) necesitan de un fichero temporal (`outfile`)\n",
        " donde almacenar los resultados. Para ello tenemos que definir la propiedad `outfile`.\n",
        " Mediante las siguientes líneas vamos a crear esos ficheros temporales cuando  un elemento de la lista sea dc o tran. Suponemos que solo puede haber una ocurrencia de cada uno."
      ],
      "metadata": {}
    },
    {
      "cell_type": "markdown",
      "source": [
        " > **Pregunta:** escribe el código Python necesario para identificar qué análisis de `lista_de_análisis`\n",
        " son de tipo `dc` ó `tran` y sólo añadir la propiedad `outfile` en estos casos.\n",
        "Aquí tenéis un post de Stackoverflow con algo de [ayuda](https://stackoverflow.com/questions/49194107/how-to-find-index-of-a-dictionary-key-value-within-a-list-python).\n",
        " Un poco más de ayuda: el siguiente código (sí, una única línea) devuelve el índice de la simulación que es de tipo `dc`. Para simplificar un poco el ejercicio, suponed que, como máximo, habrá un análisis de tipo `tran` y/o `dc`."
      ],
      "metadata": {}
    },
    {
      "cell_type": "code",
      "source": [
        "\n",
        "\n",
        "\n",
        "lista_de_análisis[[i for i, d in enumerate(lista_de_análisis) if \"dc\" in d.values()][0]]['outfile'] = \"simulación2 dc.tsv\"\n",
        "lista_de_análisis[[i for i, d in enumerate(lista_de_análisis) if \"tran\" in d.values()][0]]['outfile'] = \"simulación tran.tsv\"\n",
        "\n"
      ],
      "outputs": [],
      "execution_count": 7,
      "metadata": {}
    },
    {
      "cell_type": "markdown",
      "source": [
        "Una vez que ya hemos separado netlists de simulaciones, ahora ejecutamos las segundas (¡todas a la vez!) gracias al método `.run` de Ahkab: "
      ],
      "metadata": {}
    },
    {
      "cell_type": "code",
      "source": [
        "resultados = ahkab.run(circuito, lista_de_análisis)"
      ],
      "outputs": [
        {
          "output_type": "stream",
          "name": "stdout",
          "text": [
            "Starting op analysis:\n",
            "Calculating guess: skipped. (linear circuit)\n",
            "Solving...   done.\n",
            "Solving...   done.\n",
            "Difference check within margins.\n",
            "(Voltage: er=0.001, ea=1e-06, Current: er=0.001, ea=1e-09)\n",
            "Starting DC analysis:\n",
            "Solving...  done\n",
            "Starting transient analysis: \n",
            "Selected method: TRAP\n",
            "Solving...  done.\n",
            "Average time step: 0.00900901\n"
          ]
        }
      ],
      "execution_count": 8,
      "metadata": {}
    },
    {
      "cell_type": "markdown",
      "source": [
        "### Resultados de la simulación `.dc`\n",
        "Imprimimos información sobre la simulación de tipo `.dc`:"
      ],
      "metadata": {}
    },
    {
      "cell_type": "code",
      "source": [
        "print(resultados['dc'])"
      ],
      "outputs": [
        {
          "output_type": "stream",
          "name": "stdout",
          "text": [
            "<DC simulation results for '* este es un circuito sencillo' (netlist circuito sencillo.sp). LIN sweep of V1 from 0 to 9 V. Run on 2020-12-22 09:14:09, data file simulación2 dc.tsv>\n"
          ]
        }
      ],
      "execution_count": 9,
      "metadata": {}
    },
    {
      "cell_type": "markdown",
      "source": [
        " Veamos qué variables podemos dibujar para el caso del análisis `dc`."
      ],
      "metadata": {}
    },
    {
      "cell_type": "code",
      "source": [
        "print(resultados['dc'].keys())"
      ],
      "outputs": [
        {
          "output_type": "stream",
          "name": "stdout",
          "text": [
            "['V1', 'V1', 'I(V1)']\n"
          ]
        }
      ],
      "execution_count": 10,
      "metadata": {}
    },
    {
      "cell_type": "markdown",
      "source": [
        "Y ahora graficamos el resultado del análisis anterior. Concretamente vamos a representar el voltaje en el borne 1 (`V1`) con respecto a la intensidad del circuito (`I(V1)`).\n",
        "Para la representación vamos a usar [matplotlib](https://matplotlib.org), que en nuestro caso la hemos referenciado al realizar la llamada de pylab, ya que esta libería la incluye, pero se podría haber llamado directamente a matplotlib."
      ],
      "metadata": {}
    },
    {
      "cell_type": "code",
      "source": [
        "figura = plt.figure()\n",
        "plt.title(\"Prueba DC\")\n",
        "plt.plot(resultados['dc']['V1'], resultados['dc']['I(V1)'], label=\"Voltaje (V1)\")\n",
        "plt.ylabel('intensidad de corriente (amperios)')\n",
        "plt.xlabel('voltaje (voltios)')"
      ],
      "outputs": [
        {
          "output_type": "execute_result",
          "data": {
            "text/plain": [
              "Text(0.5, 0, 'voltaje (voltios)')"
            ]
          },
          "metadata": {},
          "execution_count": 11
        },
        {
          "output_type": "display_data",
          "data": {
            "text/plain": "<Figure size 432x288 with 1 Axes>",
            "image/svg+xml": "<?xml version=\"1.0\" encoding=\"utf-8\" standalone=\"no\"?>\r\n<!DOCTYPE svg PUBLIC \"-//W3C//DTD SVG 1.1//EN\"\r\n  \"http://www.w3.org/Graphics/SVG/1.1/DTD/svg11.dtd\">\r\n<!-- Created with matplotlib (https://matplotlib.org/) -->\r\n<svg height=\"279.25pt\" version=\"1.1\" viewBox=\"0 0 397.557031 279.25\" width=\"397.557031pt\" xmlns=\"http://www.w3.org/2000/svg\" xmlns:xlink=\"http://www.w3.org/1999/xlink\">\r\n <metadata>\r\n  <rdf:RDF xmlns:cc=\"http://creativecommons.org/ns#\" xmlns:dc=\"http://purl.org/dc/elements/1.1/\" xmlns:rdf=\"http://www.w3.org/1999/02/22-rdf-syntax-ns#\">\r\n   <cc:Work>\r\n    <dc:type rdf:resource=\"http://purl.org/dc/dcmitype/StillImage\"/>\r\n    <dc:date>2020-12-22T10:14:28.393465</dc:date>\r\n    <dc:format>image/svg+xml</dc:format>\r\n    <dc:creator>\r\n     <cc:Agent>\r\n      <dc:title>Matplotlib v3.3.3, https://matplotlib.org/</dc:title>\r\n     </cc:Agent>\r\n    </dc:creator>\r\n   </cc:Work>\r\n  </rdf:RDF>\r\n </metadata>\r\n <defs>\r\n  <style type=\"text/css\">*{stroke-linecap:butt;stroke-linejoin:round;}</style>\r\n </defs>\r\n <g id=\"figure_1\">\r\n  <g id=\"patch_1\">\r\n   <path d=\"M 0 279.25 \r\nL 397.557031 279.25 \r\nL 397.557031 0 \r\nL 0 0 \r\nz\r\n\" style=\"fill:none;\"/>\r\n  </g>\r\n  <g id=\"axes_1\">\r\n   <g id=\"patch_2\">\r\n    <path d=\"M 55.557031 239.758125 \r\nL 390.357031 239.758125 \r\nL 390.357031 22.318125 \r\nL 55.557031 22.318125 \r\nz\r\n\" style=\"fill:#ffffff;\"/>\r\n   </g>\r\n   <g id=\"matplotlib.axis_1\">\r\n    <g id=\"xtick_1\">\r\n     <g id=\"line2d_1\">\r\n      <defs>\r\n       <path d=\"M 0 0 \r\nL 0 3.5 \r\n\" id=\"m708b55922a\" style=\"stroke:#000000;stroke-width:0.8;\"/>\r\n      </defs>\r\n      <g>\r\n       <use style=\"stroke:#000000;stroke-width:0.8;\" x=\"70.775213\" xlink:href=\"#m708b55922a\" y=\"239.758125\"/>\r\n      </g>\r\n     </g>\r\n     <g id=\"text_1\">\r\n      <!-- 0 -->\r\n      <g transform=\"translate(67.275838 255.116406)scale(0.11 -0.11)\">\r\n       <defs>\r\n        <path d=\"M 31.78125 66.40625 \r\nQ 24.171875 66.40625 20.328125 58.90625 \r\nQ 16.5 51.421875 16.5 36.375 \r\nQ 16.5 21.390625 20.328125 13.890625 \r\nQ 24.171875 6.390625 31.78125 6.390625 \r\nQ 39.453125 6.390625 43.28125 13.890625 \r\nQ 47.125 21.390625 47.125 36.375 \r\nQ 47.125 51.421875 43.28125 58.90625 \r\nQ 39.453125 66.40625 31.78125 66.40625 \r\nz\r\nM 31.78125 74.21875 \r\nQ 44.046875 74.21875 50.515625 64.515625 \r\nQ 56.984375 54.828125 56.984375 36.375 \r\nQ 56.984375 17.96875 50.515625 8.265625 \r\nQ 44.046875 -1.421875 31.78125 -1.421875 \r\nQ 19.53125 -1.421875 13.0625 8.265625 \r\nQ 6.59375 17.96875 6.59375 36.375 \r\nQ 6.59375 54.828125 13.0625 64.515625 \r\nQ 19.53125 74.21875 31.78125 74.21875 \r\nz\r\n\" id=\"DejaVuSans-48\"/>\r\n       </defs>\r\n       <use xlink:href=\"#DejaVuSans-48\"/>\r\n      </g>\r\n     </g>\r\n    </g>\r\n    <g id=\"xtick_2\">\r\n     <g id=\"line2d_2\">\r\n      <g>\r\n       <use style=\"stroke:#000000;stroke-width:0.8;\" x=\"138.411577\" xlink:href=\"#m708b55922a\" y=\"239.758125\"/>\r\n      </g>\r\n     </g>\r\n     <g id=\"text_2\">\r\n      <!-- 2 -->\r\n      <g transform=\"translate(134.912202 255.116406)scale(0.11 -0.11)\">\r\n       <defs>\r\n        <path d=\"M 19.1875 8.296875 \r\nL 53.609375 8.296875 \r\nL 53.609375 0 \r\nL 7.328125 0 \r\nL 7.328125 8.296875 \r\nQ 12.9375 14.109375 22.625 23.890625 \r\nQ 32.328125 33.6875 34.8125 36.53125 \r\nQ 39.546875 41.84375 41.421875 45.53125 \r\nQ 43.3125 49.21875 43.3125 52.78125 \r\nQ 43.3125 58.59375 39.234375 62.25 \r\nQ 35.15625 65.921875 28.609375 65.921875 \r\nQ 23.96875 65.921875 18.8125 64.3125 \r\nQ 13.671875 62.703125 7.8125 59.421875 \r\nL 7.8125 69.390625 \r\nQ 13.765625 71.78125 18.9375 73 \r\nQ 24.125 74.21875 28.421875 74.21875 \r\nQ 39.75 74.21875 46.484375 68.546875 \r\nQ 53.21875 62.890625 53.21875 53.421875 \r\nQ 53.21875 48.921875 51.53125 44.890625 \r\nQ 49.859375 40.875 45.40625 35.40625 \r\nQ 44.1875 33.984375 37.640625 27.21875 \r\nQ 31.109375 20.453125 19.1875 8.296875 \r\nz\r\n\" id=\"DejaVuSans-50\"/>\r\n       </defs>\r\n       <use xlink:href=\"#DejaVuSans-50\"/>\r\n      </g>\r\n     </g>\r\n    </g>\r\n    <g id=\"xtick_3\">\r\n     <g id=\"line2d_3\">\r\n      <g>\r\n       <use style=\"stroke:#000000;stroke-width:0.8;\" x=\"206.04794\" xlink:href=\"#m708b55922a\" y=\"239.758125\"/>\r\n      </g>\r\n     </g>\r\n     <g id=\"text_3\">\r\n      <!-- 4 -->\r\n      <g transform=\"translate(202.548565 255.116406)scale(0.11 -0.11)\">\r\n       <defs>\r\n        <path d=\"M 37.796875 64.3125 \r\nL 12.890625 25.390625 \r\nL 37.796875 25.390625 \r\nz\r\nM 35.203125 72.90625 \r\nL 47.609375 72.90625 \r\nL 47.609375 25.390625 \r\nL 58.015625 25.390625 \r\nL 58.015625 17.1875 \r\nL 47.609375 17.1875 \r\nL 47.609375 0 \r\nL 37.796875 0 \r\nL 37.796875 17.1875 \r\nL 4.890625 17.1875 \r\nL 4.890625 26.703125 \r\nz\r\n\" id=\"DejaVuSans-52\"/>\r\n       </defs>\r\n       <use xlink:href=\"#DejaVuSans-52\"/>\r\n      </g>\r\n     </g>\r\n    </g>\r\n    <g id=\"xtick_4\">\r\n     <g id=\"line2d_4\">\r\n      <g>\r\n       <use style=\"stroke:#000000;stroke-width:0.8;\" x=\"273.684304\" xlink:href=\"#m708b55922a\" y=\"239.758125\"/>\r\n      </g>\r\n     </g>\r\n     <g id=\"text_4\">\r\n      <!-- 6 -->\r\n      <g transform=\"translate(270.184929 255.116406)scale(0.11 -0.11)\">\r\n       <defs>\r\n        <path d=\"M 33.015625 40.375 \r\nQ 26.375 40.375 22.484375 35.828125 \r\nQ 18.609375 31.296875 18.609375 23.390625 \r\nQ 18.609375 15.53125 22.484375 10.953125 \r\nQ 26.375 6.390625 33.015625 6.390625 \r\nQ 39.65625 6.390625 43.53125 10.953125 \r\nQ 47.40625 15.53125 47.40625 23.390625 \r\nQ 47.40625 31.296875 43.53125 35.828125 \r\nQ 39.65625 40.375 33.015625 40.375 \r\nz\r\nM 52.59375 71.296875 \r\nL 52.59375 62.3125 \r\nQ 48.875 64.0625 45.09375 64.984375 \r\nQ 41.3125 65.921875 37.59375 65.921875 \r\nQ 27.828125 65.921875 22.671875 59.328125 \r\nQ 17.53125 52.734375 16.796875 39.40625 \r\nQ 19.671875 43.65625 24.015625 45.921875 \r\nQ 28.375 48.1875 33.59375 48.1875 \r\nQ 44.578125 48.1875 50.953125 41.515625 \r\nQ 57.328125 34.859375 57.328125 23.390625 \r\nQ 57.328125 12.15625 50.6875 5.359375 \r\nQ 44.046875 -1.421875 33.015625 -1.421875 \r\nQ 20.359375 -1.421875 13.671875 8.265625 \r\nQ 6.984375 17.96875 6.984375 36.375 \r\nQ 6.984375 53.65625 15.1875 63.9375 \r\nQ 23.390625 74.21875 37.203125 74.21875 \r\nQ 40.921875 74.21875 44.703125 73.484375 \r\nQ 48.484375 72.75 52.59375 71.296875 \r\nz\r\n\" id=\"DejaVuSans-54\"/>\r\n       </defs>\r\n       <use xlink:href=\"#DejaVuSans-54\"/>\r\n      </g>\r\n     </g>\r\n    </g>\r\n    <g id=\"xtick_5\">\r\n     <g id=\"line2d_5\">\r\n      <g>\r\n       <use style=\"stroke:#000000;stroke-width:0.8;\" x=\"341.320668\" xlink:href=\"#m708b55922a\" y=\"239.758125\"/>\r\n      </g>\r\n     </g>\r\n     <g id=\"text_5\">\r\n      <!-- 8 -->\r\n      <g transform=\"translate(337.821293 255.116406)scale(0.11 -0.11)\">\r\n       <defs>\r\n        <path d=\"M 31.78125 34.625 \r\nQ 24.75 34.625 20.71875 30.859375 \r\nQ 16.703125 27.09375 16.703125 20.515625 \r\nQ 16.703125 13.921875 20.71875 10.15625 \r\nQ 24.75 6.390625 31.78125 6.390625 \r\nQ 38.8125 6.390625 42.859375 10.171875 \r\nQ 46.921875 13.96875 46.921875 20.515625 \r\nQ 46.921875 27.09375 42.890625 30.859375 \r\nQ 38.875 34.625 31.78125 34.625 \r\nz\r\nM 21.921875 38.8125 \r\nQ 15.578125 40.375 12.03125 44.71875 \r\nQ 8.5 49.078125 8.5 55.328125 \r\nQ 8.5 64.0625 14.71875 69.140625 \r\nQ 20.953125 74.21875 31.78125 74.21875 \r\nQ 42.671875 74.21875 48.875 69.140625 \r\nQ 55.078125 64.0625 55.078125 55.328125 \r\nQ 55.078125 49.078125 51.53125 44.71875 \r\nQ 48 40.375 41.703125 38.8125 \r\nQ 48.828125 37.15625 52.796875 32.3125 \r\nQ 56.78125 27.484375 56.78125 20.515625 \r\nQ 56.78125 9.90625 50.3125 4.234375 \r\nQ 43.84375 -1.421875 31.78125 -1.421875 \r\nQ 19.734375 -1.421875 13.25 4.234375 \r\nQ 6.78125 9.90625 6.78125 20.515625 \r\nQ 6.78125 27.484375 10.78125 32.3125 \r\nQ 14.796875 37.15625 21.921875 38.8125 \r\nz\r\nM 18.3125 54.390625 \r\nQ 18.3125 48.734375 21.84375 45.5625 \r\nQ 25.390625 42.390625 31.78125 42.390625 \r\nQ 38.140625 42.390625 41.71875 45.5625 \r\nQ 45.3125 48.734375 45.3125 54.390625 \r\nQ 45.3125 60.0625 41.71875 63.234375 \r\nQ 38.140625 66.40625 31.78125 66.40625 \r\nQ 25.390625 66.40625 21.84375 63.234375 \r\nQ 18.3125 60.0625 18.3125 54.390625 \r\nz\r\n\" id=\"DejaVuSans-56\"/>\r\n       </defs>\r\n       <use xlink:href=\"#DejaVuSans-56\"/>\r\n      </g>\r\n     </g>\r\n    </g>\r\n    <g id=\"text_6\">\r\n     <!-- voltaje (voltios) -->\r\n     <g transform=\"translate(180.266719 269.762344)scale(0.11 -0.11)\">\r\n      <defs>\r\n       <path d=\"M 2.984375 54.6875 \r\nL 12.5 54.6875 \r\nL 29.59375 8.796875 \r\nL 46.6875 54.6875 \r\nL 56.203125 54.6875 \r\nL 35.6875 0 \r\nL 23.484375 0 \r\nz\r\n\" id=\"DejaVuSans-118\"/>\r\n       <path d=\"M 30.609375 48.390625 \r\nQ 23.390625 48.390625 19.1875 42.75 \r\nQ 14.984375 37.109375 14.984375 27.296875 \r\nQ 14.984375 17.484375 19.15625 11.84375 \r\nQ 23.34375 6.203125 30.609375 6.203125 \r\nQ 37.796875 6.203125 41.984375 11.859375 \r\nQ 46.1875 17.53125 46.1875 27.296875 \r\nQ 46.1875 37.015625 41.984375 42.703125 \r\nQ 37.796875 48.390625 30.609375 48.390625 \r\nz\r\nM 30.609375 56 \r\nQ 42.328125 56 49.015625 48.375 \r\nQ 55.71875 40.765625 55.71875 27.296875 \r\nQ 55.71875 13.875 49.015625 6.21875 \r\nQ 42.328125 -1.421875 30.609375 -1.421875 \r\nQ 18.84375 -1.421875 12.171875 6.21875 \r\nQ 5.515625 13.875 5.515625 27.296875 \r\nQ 5.515625 40.765625 12.171875 48.375 \r\nQ 18.84375 56 30.609375 56 \r\nz\r\n\" id=\"DejaVuSans-111\"/>\r\n       <path d=\"M 9.421875 75.984375 \r\nL 18.40625 75.984375 \r\nL 18.40625 0 \r\nL 9.421875 0 \r\nz\r\n\" id=\"DejaVuSans-108\"/>\r\n       <path d=\"M 18.3125 70.21875 \r\nL 18.3125 54.6875 \r\nL 36.8125 54.6875 \r\nL 36.8125 47.703125 \r\nL 18.3125 47.703125 \r\nL 18.3125 18.015625 \r\nQ 18.3125 11.328125 20.140625 9.421875 \r\nQ 21.96875 7.515625 27.59375 7.515625 \r\nL 36.8125 7.515625 \r\nL 36.8125 0 \r\nL 27.59375 0 \r\nQ 17.1875 0 13.234375 3.875 \r\nQ 9.28125 7.765625 9.28125 18.015625 \r\nL 9.28125 47.703125 \r\nL 2.6875 47.703125 \r\nL 2.6875 54.6875 \r\nL 9.28125 54.6875 \r\nL 9.28125 70.21875 \r\nz\r\n\" id=\"DejaVuSans-116\"/>\r\n       <path d=\"M 34.28125 27.484375 \r\nQ 23.390625 27.484375 19.1875 25 \r\nQ 14.984375 22.515625 14.984375 16.5 \r\nQ 14.984375 11.71875 18.140625 8.90625 \r\nQ 21.296875 6.109375 26.703125 6.109375 \r\nQ 34.1875 6.109375 38.703125 11.40625 \r\nQ 43.21875 16.703125 43.21875 25.484375 \r\nL 43.21875 27.484375 \r\nz\r\nM 52.203125 31.203125 \r\nL 52.203125 0 \r\nL 43.21875 0 \r\nL 43.21875 8.296875 \r\nQ 40.140625 3.328125 35.546875 0.953125 \r\nQ 30.953125 -1.421875 24.3125 -1.421875 \r\nQ 15.921875 -1.421875 10.953125 3.296875 \r\nQ 6 8.015625 6 15.921875 \r\nQ 6 25.140625 12.171875 29.828125 \r\nQ 18.359375 34.515625 30.609375 34.515625 \r\nL 43.21875 34.515625 \r\nL 43.21875 35.40625 \r\nQ 43.21875 41.609375 39.140625 45 \r\nQ 35.0625 48.390625 27.6875 48.390625 \r\nQ 23 48.390625 18.546875 47.265625 \r\nQ 14.109375 46.140625 10.015625 43.890625 \r\nL 10.015625 52.203125 \r\nQ 14.9375 54.109375 19.578125 55.046875 \r\nQ 24.21875 56 28.609375 56 \r\nQ 40.484375 56 46.34375 49.84375 \r\nQ 52.203125 43.703125 52.203125 31.203125 \r\nz\r\n\" id=\"DejaVuSans-97\"/>\r\n       <path d=\"M 9.421875 54.6875 \r\nL 18.40625 54.6875 \r\nL 18.40625 -0.984375 \r\nQ 18.40625 -11.421875 14.421875 -16.109375 \r\nQ 10.453125 -20.796875 1.609375 -20.796875 \r\nL -1.8125 -20.796875 \r\nL -1.8125 -13.1875 \r\nL 0.59375 -13.1875 \r\nQ 5.71875 -13.1875 7.5625 -10.8125 \r\nQ 9.421875 -8.453125 9.421875 -0.984375 \r\nz\r\nM 9.421875 75.984375 \r\nL 18.40625 75.984375 \r\nL 18.40625 64.59375 \r\nL 9.421875 64.59375 \r\nz\r\n\" id=\"DejaVuSans-106\"/>\r\n       <path d=\"M 56.203125 29.59375 \r\nL 56.203125 25.203125 \r\nL 14.890625 25.203125 \r\nQ 15.484375 15.921875 20.484375 11.0625 \r\nQ 25.484375 6.203125 34.421875 6.203125 \r\nQ 39.59375 6.203125 44.453125 7.46875 \r\nQ 49.3125 8.734375 54.109375 11.28125 \r\nL 54.109375 2.78125 \r\nQ 49.265625 0.734375 44.1875 -0.34375 \r\nQ 39.109375 -1.421875 33.890625 -1.421875 \r\nQ 20.796875 -1.421875 13.15625 6.1875 \r\nQ 5.515625 13.8125 5.515625 26.8125 \r\nQ 5.515625 40.234375 12.765625 48.109375 \r\nQ 20.015625 56 32.328125 56 \r\nQ 43.359375 56 49.78125 48.890625 \r\nQ 56.203125 41.796875 56.203125 29.59375 \r\nz\r\nM 47.21875 32.234375 \r\nQ 47.125 39.59375 43.09375 43.984375 \r\nQ 39.0625 48.390625 32.421875 48.390625 \r\nQ 24.90625 48.390625 20.390625 44.140625 \r\nQ 15.875 39.890625 15.1875 32.171875 \r\nz\r\n\" id=\"DejaVuSans-101\"/>\r\n       <path id=\"DejaVuSans-32\"/>\r\n       <path d=\"M 31 75.875 \r\nQ 24.46875 64.65625 21.28125 53.65625 \r\nQ 18.109375 42.671875 18.109375 31.390625 \r\nQ 18.109375 20.125 21.3125 9.0625 \r\nQ 24.515625 -2 31 -13.1875 \r\nL 23.1875 -13.1875 \r\nQ 15.875 -1.703125 12.234375 9.375 \r\nQ 8.59375 20.453125 8.59375 31.390625 \r\nQ 8.59375 42.28125 12.203125 53.3125 \r\nQ 15.828125 64.359375 23.1875 75.875 \r\nz\r\n\" id=\"DejaVuSans-40\"/>\r\n       <path d=\"M 9.421875 54.6875 \r\nL 18.40625 54.6875 \r\nL 18.40625 0 \r\nL 9.421875 0 \r\nz\r\nM 9.421875 75.984375 \r\nL 18.40625 75.984375 \r\nL 18.40625 64.59375 \r\nL 9.421875 64.59375 \r\nz\r\n\" id=\"DejaVuSans-105\"/>\r\n       <path d=\"M 44.28125 53.078125 \r\nL 44.28125 44.578125 \r\nQ 40.484375 46.53125 36.375 47.5 \r\nQ 32.28125 48.484375 27.875 48.484375 \r\nQ 21.1875 48.484375 17.84375 46.4375 \r\nQ 14.5 44.390625 14.5 40.28125 \r\nQ 14.5 37.15625 16.890625 35.375 \r\nQ 19.28125 33.59375 26.515625 31.984375 \r\nL 29.59375 31.296875 \r\nQ 39.15625 29.25 43.1875 25.515625 \r\nQ 47.21875 21.78125 47.21875 15.09375 \r\nQ 47.21875 7.46875 41.1875 3.015625 \r\nQ 35.15625 -1.421875 24.609375 -1.421875 \r\nQ 20.21875 -1.421875 15.453125 -0.5625 \r\nQ 10.6875 0.296875 5.421875 2 \r\nL 5.421875 11.28125 \r\nQ 10.40625 8.6875 15.234375 7.390625 \r\nQ 20.0625 6.109375 24.8125 6.109375 \r\nQ 31.15625 6.109375 34.5625 8.28125 \r\nQ 37.984375 10.453125 37.984375 14.40625 \r\nQ 37.984375 18.0625 35.515625 20.015625 \r\nQ 33.0625 21.96875 24.703125 23.78125 \r\nL 21.578125 24.515625 \r\nQ 13.234375 26.265625 9.515625 29.90625 \r\nQ 5.8125 33.546875 5.8125 39.890625 \r\nQ 5.8125 47.609375 11.28125 51.796875 \r\nQ 16.75 56 26.8125 56 \r\nQ 31.78125 56 36.171875 55.265625 \r\nQ 40.578125 54.546875 44.28125 53.078125 \r\nz\r\n\" id=\"DejaVuSans-115\"/>\r\n       <path d=\"M 8.015625 75.875 \r\nL 15.828125 75.875 \r\nQ 23.140625 64.359375 26.78125 53.3125 \r\nQ 30.421875 42.28125 30.421875 31.390625 \r\nQ 30.421875 20.453125 26.78125 9.375 \r\nQ 23.140625 -1.703125 15.828125 -13.1875 \r\nL 8.015625 -13.1875 \r\nQ 14.5 -2 17.703125 9.0625 \r\nQ 20.90625 20.125 20.90625 31.390625 \r\nQ 20.90625 42.671875 17.703125 53.65625 \r\nQ 14.5 64.65625 8.015625 75.875 \r\nz\r\n\" id=\"DejaVuSans-41\"/>\r\n      </defs>\r\n      <use xlink:href=\"#DejaVuSans-118\"/>\r\n      <use x=\"59.179688\" xlink:href=\"#DejaVuSans-111\"/>\r\n      <use x=\"120.361328\" xlink:href=\"#DejaVuSans-108\"/>\r\n      <use x=\"148.144531\" xlink:href=\"#DejaVuSans-116\"/>\r\n      <use x=\"187.353516\" xlink:href=\"#DejaVuSans-97\"/>\r\n      <use x=\"248.632812\" xlink:href=\"#DejaVuSans-106\"/>\r\n      <use x=\"276.416016\" xlink:href=\"#DejaVuSans-101\"/>\r\n      <use x=\"337.939453\" xlink:href=\"#DejaVuSans-32\"/>\r\n      <use x=\"369.726562\" xlink:href=\"#DejaVuSans-40\"/>\r\n      <use x=\"408.740234\" xlink:href=\"#DejaVuSans-118\"/>\r\n      <use x=\"467.919922\" xlink:href=\"#DejaVuSans-111\"/>\r\n      <use x=\"529.101562\" xlink:href=\"#DejaVuSans-108\"/>\r\n      <use x=\"556.884766\" xlink:href=\"#DejaVuSans-116\"/>\r\n      <use x=\"596.09375\" xlink:href=\"#DejaVuSans-105\"/>\r\n      <use x=\"623.876953\" xlink:href=\"#DejaVuSans-111\"/>\r\n      <use x=\"685.058594\" xlink:href=\"#DejaVuSans-115\"/>\r\n      <use x=\"737.158203\" xlink:href=\"#DejaVuSans-41\"/>\r\n     </g>\r\n    </g>\r\n   </g>\r\n   <g id=\"matplotlib.axis_2\">\r\n    <g id=\"ytick_1\">\r\n     <g id=\"line2d_6\">\r\n      <defs>\r\n       <path d=\"M 0 0 \r\nL -3.5 0 \r\n\" id=\"m4cd7290aec\" style=\"stroke:#000000;stroke-width:0.8;\"/>\r\n      </defs>\r\n      <g>\r\n       <use style=\"stroke:#000000;stroke-width:0.8;\" x=\"55.557031\" xlink:href=\"#m4cd7290aec\" y=\"207.910852\"/>\r\n      </g>\r\n     </g>\r\n     <g id=\"text_7\">\r\n      <!-- −0.8 -->\r\n      <g transform=\"translate(21.845938 212.089993)scale(0.11 -0.11)\">\r\n       <defs>\r\n        <path d=\"M 10.59375 35.5 \r\nL 73.1875 35.5 \r\nL 73.1875 27.203125 \r\nL 10.59375 27.203125 \r\nz\r\n\" id=\"DejaVuSans-8722\"/>\r\n        <path d=\"M 10.6875 12.40625 \r\nL 21 12.40625 \r\nL 21 0 \r\nL 10.6875 0 \r\nz\r\n\" id=\"DejaVuSans-46\"/>\r\n       </defs>\r\n       <use xlink:href=\"#DejaVuSans-8722\"/>\r\n       <use x=\"83.789062\" xlink:href=\"#DejaVuSans-48\"/>\r\n       <use x=\"147.412109\" xlink:href=\"#DejaVuSans-46\"/>\r\n       <use x=\"179.199219\" xlink:href=\"#DejaVuSans-56\"/>\r\n      </g>\r\n     </g>\r\n    </g>\r\n    <g id=\"ytick_2\">\r\n     <g id=\"line2d_7\">\r\n      <g>\r\n       <use style=\"stroke:#000000;stroke-width:0.8;\" x=\"55.557031\" xlink:href=\"#m4cd7290aec\" y=\"163.98358\"/>\r\n      </g>\r\n     </g>\r\n     <g id=\"text_8\">\r\n      <!-- −0.6 -->\r\n      <g transform=\"translate(21.845938 168.16272)scale(0.11 -0.11)\">\r\n       <use xlink:href=\"#DejaVuSans-8722\"/>\r\n       <use x=\"83.789062\" xlink:href=\"#DejaVuSans-48\"/>\r\n       <use x=\"147.412109\" xlink:href=\"#DejaVuSans-46\"/>\r\n       <use x=\"179.199219\" xlink:href=\"#DejaVuSans-54\"/>\r\n      </g>\r\n     </g>\r\n    </g>\r\n    <g id=\"ytick_3\">\r\n     <g id=\"line2d_8\">\r\n      <g>\r\n       <use style=\"stroke:#000000;stroke-width:0.8;\" x=\"55.557031\" xlink:href=\"#m4cd7290aec\" y=\"120.056307\"/>\r\n      </g>\r\n     </g>\r\n     <g id=\"text_9\">\r\n      <!-- −0.4 -->\r\n      <g transform=\"translate(21.845938 124.235447)scale(0.11 -0.11)\">\r\n       <use xlink:href=\"#DejaVuSans-8722\"/>\r\n       <use x=\"83.789062\" xlink:href=\"#DejaVuSans-48\"/>\r\n       <use x=\"147.412109\" xlink:href=\"#DejaVuSans-46\"/>\r\n       <use x=\"179.199219\" xlink:href=\"#DejaVuSans-52\"/>\r\n      </g>\r\n     </g>\r\n    </g>\r\n    <g id=\"ytick_4\">\r\n     <g id=\"line2d_9\">\r\n      <g>\r\n       <use style=\"stroke:#000000;stroke-width:0.8;\" x=\"55.557031\" xlink:href=\"#m4cd7290aec\" y=\"76.129034\"/>\r\n      </g>\r\n     </g>\r\n     <g id=\"text_10\">\r\n      <!-- −0.2 -->\r\n      <g transform=\"translate(21.845938 80.308175)scale(0.11 -0.11)\">\r\n       <use xlink:href=\"#DejaVuSans-8722\"/>\r\n       <use x=\"83.789062\" xlink:href=\"#DejaVuSans-48\"/>\r\n       <use x=\"147.412109\" xlink:href=\"#DejaVuSans-46\"/>\r\n       <use x=\"179.199219\" xlink:href=\"#DejaVuSans-50\"/>\r\n      </g>\r\n     </g>\r\n    </g>\r\n    <g id=\"ytick_5\">\r\n     <g id=\"line2d_10\">\r\n      <g>\r\n       <use style=\"stroke:#000000;stroke-width:0.8;\" x=\"55.557031\" xlink:href=\"#m4cd7290aec\" y=\"32.201761\"/>\r\n      </g>\r\n     </g>\r\n     <g id=\"text_11\">\r\n      <!-- 0.0 -->\r\n      <g transform=\"translate(31.063594 36.380902)scale(0.11 -0.11)\">\r\n       <use xlink:href=\"#DejaVuSans-48\"/>\r\n       <use x=\"63.623047\" xlink:href=\"#DejaVuSans-46\"/>\r\n       <use x=\"95.410156\" xlink:href=\"#DejaVuSans-48\"/>\r\n      </g>\r\n     </g>\r\n    </g>\r\n    <g id=\"text_12\">\r\n     <!-- intensidad de corriente (amperios) -->\r\n     <g transform=\"translate(15.558281 226.612656)rotate(-90)scale(0.11 -0.11)\">\r\n      <defs>\r\n       <path d=\"M 54.890625 33.015625 \r\nL 54.890625 0 \r\nL 45.90625 0 \r\nL 45.90625 32.71875 \r\nQ 45.90625 40.484375 42.875 44.328125 \r\nQ 39.84375 48.1875 33.796875 48.1875 \r\nQ 26.515625 48.1875 22.3125 43.546875 \r\nQ 18.109375 38.921875 18.109375 30.90625 \r\nL 18.109375 0 \r\nL 9.078125 0 \r\nL 9.078125 54.6875 \r\nL 18.109375 54.6875 \r\nL 18.109375 46.1875 \r\nQ 21.34375 51.125 25.703125 53.5625 \r\nQ 30.078125 56 35.796875 56 \r\nQ 45.21875 56 50.046875 50.171875 \r\nQ 54.890625 44.34375 54.890625 33.015625 \r\nz\r\n\" id=\"DejaVuSans-110\"/>\r\n       <path d=\"M 45.40625 46.390625 \r\nL 45.40625 75.984375 \r\nL 54.390625 75.984375 \r\nL 54.390625 0 \r\nL 45.40625 0 \r\nL 45.40625 8.203125 \r\nQ 42.578125 3.328125 38.25 0.953125 \r\nQ 33.9375 -1.421875 27.875 -1.421875 \r\nQ 17.96875 -1.421875 11.734375 6.484375 \r\nQ 5.515625 14.40625 5.515625 27.296875 \r\nQ 5.515625 40.1875 11.734375 48.09375 \r\nQ 17.96875 56 27.875 56 \r\nQ 33.9375 56 38.25 53.625 \r\nQ 42.578125 51.265625 45.40625 46.390625 \r\nz\r\nM 14.796875 27.296875 \r\nQ 14.796875 17.390625 18.875 11.75 \r\nQ 22.953125 6.109375 30.078125 6.109375 \r\nQ 37.203125 6.109375 41.296875 11.75 \r\nQ 45.40625 17.390625 45.40625 27.296875 \r\nQ 45.40625 37.203125 41.296875 42.84375 \r\nQ 37.203125 48.484375 30.078125 48.484375 \r\nQ 22.953125 48.484375 18.875 42.84375 \r\nQ 14.796875 37.203125 14.796875 27.296875 \r\nz\r\n\" id=\"DejaVuSans-100\"/>\r\n       <path d=\"M 48.78125 52.59375 \r\nL 48.78125 44.1875 \r\nQ 44.96875 46.296875 41.140625 47.34375 \r\nQ 37.3125 48.390625 33.40625 48.390625 \r\nQ 24.65625 48.390625 19.8125 42.84375 \r\nQ 14.984375 37.3125 14.984375 27.296875 \r\nQ 14.984375 17.28125 19.8125 11.734375 \r\nQ 24.65625 6.203125 33.40625 6.203125 \r\nQ 37.3125 6.203125 41.140625 7.25 \r\nQ 44.96875 8.296875 48.78125 10.40625 \r\nL 48.78125 2.09375 \r\nQ 45.015625 0.34375 40.984375 -0.53125 \r\nQ 36.96875 -1.421875 32.421875 -1.421875 \r\nQ 20.0625 -1.421875 12.78125 6.34375 \r\nQ 5.515625 14.109375 5.515625 27.296875 \r\nQ 5.515625 40.671875 12.859375 48.328125 \r\nQ 20.21875 56 33.015625 56 \r\nQ 37.15625 56 41.109375 55.140625 \r\nQ 45.0625 54.296875 48.78125 52.59375 \r\nz\r\n\" id=\"DejaVuSans-99\"/>\r\n       <path d=\"M 41.109375 46.296875 \r\nQ 39.59375 47.171875 37.8125 47.578125 \r\nQ 36.03125 48 33.890625 48 \r\nQ 26.265625 48 22.1875 43.046875 \r\nQ 18.109375 38.09375 18.109375 28.8125 \r\nL 18.109375 0 \r\nL 9.078125 0 \r\nL 9.078125 54.6875 \r\nL 18.109375 54.6875 \r\nL 18.109375 46.1875 \r\nQ 20.953125 51.171875 25.484375 53.578125 \r\nQ 30.03125 56 36.53125 56 \r\nQ 37.453125 56 38.578125 55.875 \r\nQ 39.703125 55.765625 41.0625 55.515625 \r\nz\r\n\" id=\"DejaVuSans-114\"/>\r\n       <path d=\"M 52 44.1875 \r\nQ 55.375 50.25 60.0625 53.125 \r\nQ 64.75 56 71.09375 56 \r\nQ 79.640625 56 84.28125 50.015625 \r\nQ 88.921875 44.046875 88.921875 33.015625 \r\nL 88.921875 0 \r\nL 79.890625 0 \r\nL 79.890625 32.71875 \r\nQ 79.890625 40.578125 77.09375 44.375 \r\nQ 74.3125 48.1875 68.609375 48.1875 \r\nQ 61.625 48.1875 57.5625 43.546875 \r\nQ 53.515625 38.921875 53.515625 30.90625 \r\nL 53.515625 0 \r\nL 44.484375 0 \r\nL 44.484375 32.71875 \r\nQ 44.484375 40.625 41.703125 44.40625 \r\nQ 38.921875 48.1875 33.109375 48.1875 \r\nQ 26.21875 48.1875 22.15625 43.53125 \r\nQ 18.109375 38.875 18.109375 30.90625 \r\nL 18.109375 0 \r\nL 9.078125 0 \r\nL 9.078125 54.6875 \r\nL 18.109375 54.6875 \r\nL 18.109375 46.1875 \r\nQ 21.1875 51.21875 25.484375 53.609375 \r\nQ 29.78125 56 35.6875 56 \r\nQ 41.65625 56 45.828125 52.96875 \r\nQ 50 49.953125 52 44.1875 \r\nz\r\n\" id=\"DejaVuSans-109\"/>\r\n       <path d=\"M 18.109375 8.203125 \r\nL 18.109375 -20.796875 \r\nL 9.078125 -20.796875 \r\nL 9.078125 54.6875 \r\nL 18.109375 54.6875 \r\nL 18.109375 46.390625 \r\nQ 20.953125 51.265625 25.265625 53.625 \r\nQ 29.59375 56 35.59375 56 \r\nQ 45.5625 56 51.78125 48.09375 \r\nQ 58.015625 40.1875 58.015625 27.296875 \r\nQ 58.015625 14.40625 51.78125 6.484375 \r\nQ 45.5625 -1.421875 35.59375 -1.421875 \r\nQ 29.59375 -1.421875 25.265625 0.953125 \r\nQ 20.953125 3.328125 18.109375 8.203125 \r\nz\r\nM 48.6875 27.296875 \r\nQ 48.6875 37.203125 44.609375 42.84375 \r\nQ 40.53125 48.484375 33.40625 48.484375 \r\nQ 26.265625 48.484375 22.1875 42.84375 \r\nQ 18.109375 37.203125 18.109375 27.296875 \r\nQ 18.109375 17.390625 22.1875 11.75 \r\nQ 26.265625 6.109375 33.40625 6.109375 \r\nQ 40.53125 6.109375 44.609375 11.75 \r\nQ 48.6875 17.390625 48.6875 27.296875 \r\nz\r\n\" id=\"DejaVuSans-112\"/>\r\n      </defs>\r\n      <use xlink:href=\"#DejaVuSans-105\"/>\r\n      <use x=\"27.783203\" xlink:href=\"#DejaVuSans-110\"/>\r\n      <use x=\"91.162109\" xlink:href=\"#DejaVuSans-116\"/>\r\n      <use x=\"130.371094\" xlink:href=\"#DejaVuSans-101\"/>\r\n      <use x=\"191.894531\" xlink:href=\"#DejaVuSans-110\"/>\r\n      <use x=\"255.273438\" xlink:href=\"#DejaVuSans-115\"/>\r\n      <use x=\"307.373047\" xlink:href=\"#DejaVuSans-105\"/>\r\n      <use x=\"335.15625\" xlink:href=\"#DejaVuSans-100\"/>\r\n      <use x=\"398.632812\" xlink:href=\"#DejaVuSans-97\"/>\r\n      <use x=\"459.912109\" xlink:href=\"#DejaVuSans-100\"/>\r\n      <use x=\"523.388672\" xlink:href=\"#DejaVuSans-32\"/>\r\n      <use x=\"555.175781\" xlink:href=\"#DejaVuSans-100\"/>\r\n      <use x=\"618.652344\" xlink:href=\"#DejaVuSans-101\"/>\r\n      <use x=\"680.175781\" xlink:href=\"#DejaVuSans-32\"/>\r\n      <use x=\"711.962891\" xlink:href=\"#DejaVuSans-99\"/>\r\n      <use x=\"766.943359\" xlink:href=\"#DejaVuSans-111\"/>\r\n      <use x=\"828.125\" xlink:href=\"#DejaVuSans-114\"/>\r\n      <use x=\"867.488281\" xlink:href=\"#DejaVuSans-114\"/>\r\n      <use x=\"908.601562\" xlink:href=\"#DejaVuSans-105\"/>\r\n      <use x=\"936.384766\" xlink:href=\"#DejaVuSans-101\"/>\r\n      <use x=\"997.908203\" xlink:href=\"#DejaVuSans-110\"/>\r\n      <use x=\"1061.287109\" xlink:href=\"#DejaVuSans-116\"/>\r\n      <use x=\"1100.496094\" xlink:href=\"#DejaVuSans-101\"/>\r\n      <use x=\"1162.019531\" xlink:href=\"#DejaVuSans-32\"/>\r\n      <use x=\"1193.806641\" xlink:href=\"#DejaVuSans-40\"/>\r\n      <use x=\"1232.820312\" xlink:href=\"#DejaVuSans-97\"/>\r\n      <use x=\"1294.099609\" xlink:href=\"#DejaVuSans-109\"/>\r\n      <use x=\"1391.511719\" xlink:href=\"#DejaVuSans-112\"/>\r\n      <use x=\"1454.988281\" xlink:href=\"#DejaVuSans-101\"/>\r\n      <use x=\"1516.511719\" xlink:href=\"#DejaVuSans-114\"/>\r\n      <use x=\"1557.625\" xlink:href=\"#DejaVuSans-105\"/>\r\n      <use x=\"1585.408203\" xlink:href=\"#DejaVuSans-111\"/>\r\n      <use x=\"1646.589844\" xlink:href=\"#DejaVuSans-115\"/>\r\n      <use x=\"1698.689453\" xlink:href=\"#DejaVuSans-41\"/>\r\n     </g>\r\n    </g>\r\n   </g>\r\n   <g id=\"line2d_11\">\r\n    <path clip-path=\"url(#p24c2e307e4)\" d=\"M 70.775213 32.201761 \r\nL 104.593395 54.165398 \r\nL 138.411577 76.129034 \r\nL 172.229759 98.09267 \r\nL 206.04794 120.056307 \r\nL 239.866122 142.019943 \r\nL 273.684304 163.98358 \r\nL 307.502486 185.947216 \r\nL 341.320668 207.910852 \r\nL 375.138849 229.874489 \r\n\" style=\"fill:none;stroke:#1f77b4;stroke-linecap:square;stroke-width:1.5;\"/>\r\n   </g>\r\n   <g id=\"patch_3\">\r\n    <path d=\"M 55.557031 239.758125 \r\nL 55.557031 22.318125 \r\n\" style=\"fill:none;stroke:#000000;stroke-linecap:square;stroke-linejoin:miter;stroke-width:0.8;\"/>\r\n   </g>\r\n   <g id=\"patch_4\">\r\n    <path d=\"M 390.357031 239.758125 \r\nL 390.357031 22.318125 \r\n\" style=\"fill:none;stroke:#000000;stroke-linecap:square;stroke-linejoin:miter;stroke-width:0.8;\"/>\r\n   </g>\r\n   <g id=\"patch_5\">\r\n    <path d=\"M 55.557031 239.758125 \r\nL 390.357031 239.758125 \r\n\" style=\"fill:none;stroke:#000000;stroke-linecap:square;stroke-linejoin:miter;stroke-width:0.8;\"/>\r\n   </g>\r\n   <g id=\"patch_6\">\r\n    <path d=\"M 55.557031 22.318125 \r\nL 390.357031 22.318125 \r\n\" style=\"fill:none;stroke:#000000;stroke-linecap:square;stroke-linejoin:miter;stroke-width:0.8;\"/>\r\n   </g>\r\n   <g id=\"text_13\">\r\n    <!-- Prueba DC -->\r\n    <g transform=\"translate(191.280781 16.318125)scale(0.12 -0.12)\">\r\n     <defs>\r\n      <path d=\"M 19.671875 64.796875 \r\nL 19.671875 37.40625 \r\nL 32.078125 37.40625 \r\nQ 38.96875 37.40625 42.71875 40.96875 \r\nQ 46.484375 44.53125 46.484375 51.125 \r\nQ 46.484375 57.671875 42.71875 61.234375 \r\nQ 38.96875 64.796875 32.078125 64.796875 \r\nz\r\nM 9.8125 72.90625 \r\nL 32.078125 72.90625 \r\nQ 44.34375 72.90625 50.609375 67.359375 \r\nQ 56.890625 61.8125 56.890625 51.125 \r\nQ 56.890625 40.328125 50.609375 34.8125 \r\nQ 44.34375 29.296875 32.078125 29.296875 \r\nL 19.671875 29.296875 \r\nL 19.671875 0 \r\nL 9.8125 0 \r\nz\r\n\" id=\"DejaVuSans-80\"/>\r\n      <path d=\"M 8.5 21.578125 \r\nL 8.5 54.6875 \r\nL 17.484375 54.6875 \r\nL 17.484375 21.921875 \r\nQ 17.484375 14.15625 20.5 10.265625 \r\nQ 23.53125 6.390625 29.59375 6.390625 \r\nQ 36.859375 6.390625 41.078125 11.03125 \r\nQ 45.3125 15.671875 45.3125 23.6875 \r\nL 45.3125 54.6875 \r\nL 54.296875 54.6875 \r\nL 54.296875 0 \r\nL 45.3125 0 \r\nL 45.3125 8.40625 \r\nQ 42.046875 3.421875 37.71875 1 \r\nQ 33.40625 -1.421875 27.6875 -1.421875 \r\nQ 18.265625 -1.421875 13.375 4.4375 \r\nQ 8.5 10.296875 8.5 21.578125 \r\nz\r\nM 31.109375 56 \r\nz\r\n\" id=\"DejaVuSans-117\"/>\r\n      <path d=\"M 48.6875 27.296875 \r\nQ 48.6875 37.203125 44.609375 42.84375 \r\nQ 40.53125 48.484375 33.40625 48.484375 \r\nQ 26.265625 48.484375 22.1875 42.84375 \r\nQ 18.109375 37.203125 18.109375 27.296875 \r\nQ 18.109375 17.390625 22.1875 11.75 \r\nQ 26.265625 6.109375 33.40625 6.109375 \r\nQ 40.53125 6.109375 44.609375 11.75 \r\nQ 48.6875 17.390625 48.6875 27.296875 \r\nz\r\nM 18.109375 46.390625 \r\nQ 20.953125 51.265625 25.265625 53.625 \r\nQ 29.59375 56 35.59375 56 \r\nQ 45.5625 56 51.78125 48.09375 \r\nQ 58.015625 40.1875 58.015625 27.296875 \r\nQ 58.015625 14.40625 51.78125 6.484375 \r\nQ 45.5625 -1.421875 35.59375 -1.421875 \r\nQ 29.59375 -1.421875 25.265625 0.953125 \r\nQ 20.953125 3.328125 18.109375 8.203125 \r\nL 18.109375 0 \r\nL 9.078125 0 \r\nL 9.078125 75.984375 \r\nL 18.109375 75.984375 \r\nz\r\n\" id=\"DejaVuSans-98\"/>\r\n      <path d=\"M 19.671875 64.796875 \r\nL 19.671875 8.109375 \r\nL 31.59375 8.109375 \r\nQ 46.6875 8.109375 53.6875 14.9375 \r\nQ 60.6875 21.78125 60.6875 36.53125 \r\nQ 60.6875 51.171875 53.6875 57.984375 \r\nQ 46.6875 64.796875 31.59375 64.796875 \r\nz\r\nM 9.8125 72.90625 \r\nL 30.078125 72.90625 \r\nQ 51.265625 72.90625 61.171875 64.09375 \r\nQ 71.09375 55.28125 71.09375 36.53125 \r\nQ 71.09375 17.671875 61.125 8.828125 \r\nQ 51.171875 0 30.078125 0 \r\nL 9.8125 0 \r\nz\r\n\" id=\"DejaVuSans-68\"/>\r\n      <path d=\"M 64.40625 67.28125 \r\nL 64.40625 56.890625 \r\nQ 59.421875 61.53125 53.78125 63.8125 \r\nQ 48.140625 66.109375 41.796875 66.109375 \r\nQ 29.296875 66.109375 22.65625 58.46875 \r\nQ 16.015625 50.828125 16.015625 36.375 \r\nQ 16.015625 21.96875 22.65625 14.328125 \r\nQ 29.296875 6.6875 41.796875 6.6875 \r\nQ 48.140625 6.6875 53.78125 8.984375 \r\nQ 59.421875 11.28125 64.40625 15.921875 \r\nL 64.40625 5.609375 \r\nQ 59.234375 2.09375 53.4375 0.328125 \r\nQ 47.65625 -1.421875 41.21875 -1.421875 \r\nQ 24.65625 -1.421875 15.125 8.703125 \r\nQ 5.609375 18.84375 5.609375 36.375 \r\nQ 5.609375 53.953125 15.125 64.078125 \r\nQ 24.65625 74.21875 41.21875 74.21875 \r\nQ 47.75 74.21875 53.53125 72.484375 \r\nQ 59.328125 70.75 64.40625 67.28125 \r\nz\r\n\" id=\"DejaVuSans-67\"/>\r\n     </defs>\r\n     <use xlink:href=\"#DejaVuSans-80\"/>\r\n     <use x=\"58.552734\" xlink:href=\"#DejaVuSans-114\"/>\r\n     <use x=\"99.666016\" xlink:href=\"#DejaVuSans-117\"/>\r\n     <use x=\"163.044922\" xlink:href=\"#DejaVuSans-101\"/>\r\n     <use x=\"224.568359\" xlink:href=\"#DejaVuSans-98\"/>\r\n     <use x=\"288.044922\" xlink:href=\"#DejaVuSans-97\"/>\r\n     <use x=\"349.324219\" xlink:href=\"#DejaVuSans-32\"/>\r\n     <use x=\"381.111328\" xlink:href=\"#DejaVuSans-68\"/>\r\n     <use x=\"458.113281\" xlink:href=\"#DejaVuSans-67\"/>\r\n    </g>\r\n   </g>\r\n  </g>\r\n </g>\r\n <defs>\r\n  <clipPath id=\"p24c2e307e4\">\r\n   <rect height=\"217.44\" width=\"334.8\" x=\"55.557031\" y=\"22.318125\"/>\r\n  </clipPath>\r\n </defs>\r\n</svg>\r\n",
            "image/png": "[encoded data removed]"
          },
          "metadata": {
            "needs_background": "light"
          }
        }
      ],
      "execution_count": 11,
      "metadata": {}
    },
    {
      "cell_type": "markdown",
      "source": [
        "> **Pregunta:** comenta la gráfica anterior… ¿qué estamos viendo exactamente? Etiqueta los ejes de la misma convenientemente. Así como ningún número puede *viajar* solo sin hacer referencia a su naturaleza, ninguna gráfica puede estar sin sus ejes convenientemente etiquetados. Algo de [ayuda](https://matplotlib.org/3.1.0/gallery/pyplots/fig_axes_labels_simple.html). ¿Qué biblioteca estamos usando para graficar? Una [pista](https://matplotlib.org)."
      ],
      "metadata": {}
    },
    {
      "cell_type": "markdown",
      "source": [
        " ### Resultados de la simulación `.op` \n",
        " El método `.results` nos devuelve un diccionario con los resultados de la simulación."
      ],
      "metadata": {}
    },
    {
      "cell_type": "code",
      "source": [
        "print(resultados['op'].results)"
      ],
      "outputs": [
        {
          "output_type": "stream",
          "name": "stdout",
          "text": [
            "{V1: -9.0, I(V1): -0.9}\n"
          ]
        }
      ],
      "execution_count": 14,
      "metadata": {}
    },
    {
      "cell_type": "markdown",
      "source": [
        " A continuación analizamos el resltado obtenido. Cabe destacar que trataremos los resutados en valor absoluto, ya que los signos dependen de cómo hemos definido el circuito.\n",
        "En la definición del circuito tenemos en el punto 1 9 voltios y una resitencia entre el punto 0 y 1 de 10 ohmios. \n",
        "Aplicando la ley de Ohm vamos a calcular la intensidad de corriente: \n",
        "\n",
        " $$\n",
        " I = \\frac{V}{R}\n",
        " $$\n",
        " \n",
        " Sustituimos nuestros valores en la fórmula:\n",
        "\n",
        " $$\n",
        " I = \\frac{9 \\mathrm{V}}{10\\varOmega}=0.9 \\mathrm{A}\n",
        " $$\n",
        "\n",
        " Ahora vamos a resolver el cálculo con Sympy. Pylab también incluye Sympy por lo que no tendremos que hacer nuevamente la llamada a esta librería.\n",
        " \n",
        "\n"
      ],
      "metadata": {}
    },
    {
      "cell_type": "code",
      "execution_count": 10,
      "metadata": {},
      "outputs": [
        {
          "output_type": "execute_result",
          "data": {
            "text/plain": [
              "0.9*ampere"
            ],
            "text/latex": "$\\displaystyle 0.9 \\text{A}$"
          },
          "metadata": {},
          "execution_count": 10
        }
      ],
      "source": [
        "\n",
        "from sympy.physics.units import ohms, amperes, volts\n",
        "from sympy.physics.units import convert_to\n",
        "from sympy.physics.units import kilo\n",
        "from sympy import solve, symbols, Eq\n",
        "v1 = 9*volts\n",
        "r1 = 10*ohms\n",
        "#intensidad = symbols('i')\n",
        "intensidad = amperes\n",
        "ley_ohm = Eq(v1, intensidad*r1)\n",
        "solucion= solve(ley_ohm, intensidad)\n",
        "convert_to(solucion[0], [amperes]).n(1)\n"
      ]
    },
    {
      "source": [
        "## Resolución del mismo circuito pero con LTspice\n",
        "¿Cómo? ¿Es esto posible? ¿Desde Jupyter? Sí!!! Pero primero, por comodidad, deberíamos crear un alias del comando que apunte a nuestro ejecutable. Además, con un poco de inteligencia, podemos adelantarnos al hecho de si estamos en Windows o macOS:"
      ],
      "cell_type": "markdown",
      "metadata": {}
    },
    {
      "cell_type": "code",
      "execution_count": 68,
      "metadata": {},
      "outputs": [],
      "source": [
        "#import platform\n",
        "#%alias lts /Applications/LTspice.app/Contents/MacOS/LTspice -ascii -b\n",
        "#if platform.system() == \"Windows\":\n",
        "#%alias lts C:\\Program Files\\LTC\\LTspiceXVII\\XVIIx64.exe -ascii -b\n",
        "%alias lts C:\\LTspice\\XVIIx64.exe -ascii -b"
      ]
    },
    {
      "source": [
        "**Pregunta**: ¿Qué significan las opciones `-b` y `-ascii`? Algo de ayuda [aquí](http://ltwiki.org/LTspiceHelp/LTspiceHelp/Command_Line_Switches.htm).  \n",
        "b procesamiento por lotes  \n",
        "ascii permite utilizar archivos de extensión raw con los resultados de la simulación  "
      ],
      "cell_type": "markdown",
      "metadata": {}
    },
    {
      "source": [
        "También tenemos que cambiar ligeramente la sintaxis. Ejecuta esta línea para que se escriba el fichero siguiente. Para LTspice, vamos a reservar la extensión `.net`:"
      ],
      "cell_type": "markdown",
      "metadata": {}
    },
    {
      "cell_type": "code",
      "execution_count": 69,
      "metadata": {},
      "outputs": [
        {
          "output_type": "stream",
          "name": "stdout",
          "text": [
            "Overwriting circuito sencillo.net\n"
          ]
        }
      ],
      "source": [
        "%%writefile \"circuito sencillo.net\"\n",
        "* Este es un circuito sencillo adaptado para LTspice\n",
        "r1 1 0 100\n",
        "v1 0 1 9\n",
        ".op\n",
        "* Comentamos el análisis .dc para centrarnos primero en el .op\n",
        "* .dc v1 1 10 \n",
        ".end"
      ]
    },
    {
      "source": [
        "Ejecutamos LTspice con el circuito (de la misma manera que antes habíamos hecho con Ahkab)."
      ],
      "cell_type": "markdown",
      "metadata": {}
    },
    {
      "cell_type": "code",
      "execution_count": 70,
      "metadata": {},
      "outputs": [],
      "source": [
        "lts \"circuito sencillo.net\""
      ]
    },
    {
      "source": [
        "Veamos el contenido de la simulación."
      ],
      "cell_type": "markdown",
      "metadata": {}
    },
    {
      "cell_type": "code",
      "execution_count": 71,
      "metadata": {},
      "outputs": [
        {
          "output_type": "stream",
          "text": [
            "\u001b[0mCircuit\u001b[0m\u001b[1;33m:\u001b[0m \u001b[1;33m*\u001b[0m \u001b[0mEste\u001b[0m \u001b[0mes\u001b[0m \u001b[0mun\u001b[0m \u001b[0mcircuito\u001b[0m \u001b[0msencillo\u001b[0m \u001b[0madaptado\u001b[0m \u001b[0mpara\u001b[0m \u001b[0mLTspice\u001b[0m\u001b[1;33m\n",
            "\u001b[0m\u001b[1;33m\n",
            "\u001b[0m\u001b[0mDirect\u001b[0m \u001b[0mNewton\u001b[0m \u001b[0miteration\u001b[0m \u001b[1;32mfor\u001b[0m \u001b[1;33m.\u001b[0m\u001b[0mop\u001b[0m \u001b[0mpoint\u001b[0m \u001b[0msucceeded\u001b[0m\u001b[1;33m.\u001b[0m\u001b[1;33m\n",
            "\u001b[0m\u001b[1;33m\n",
            "\u001b[0m\u001b[0mDate\u001b[0m\u001b[1;33m:\u001b[0m \u001b[0mMon\u001b[0m \u001b[0mDec\u001b[0m \u001b[1;36m28\u001b[0m \u001b[1;36m13\u001b[0m\u001b[1;33m:\u001b[0m\u001b[1;36m15\u001b[0m\u001b[1;33m:\u001b[0m\u001b[1;36m20\u001b[0m \u001b[1;36m2020\u001b[0m\u001b[1;33m\n",
            "\u001b[0m\u001b[0mTotal\u001b[0m \u001b[0melapsed\u001b[0m \u001b[0mtime\u001b[0m\u001b[1;33m:\u001b[0m \u001b[1;36m0.043\u001b[0m \u001b[0mseconds\u001b[0m\u001b[1;33m.\u001b[0m\u001b[1;33m\n",
            "\u001b[0m\u001b[1;33m\n",
            "\u001b[0m\u001b[0mtnom\u001b[0m \u001b[1;33m=\u001b[0m \u001b[1;36m27\u001b[0m\u001b[1;33m\n",
            "\u001b[0m\u001b[0mtemp\u001b[0m \u001b[1;33m=\u001b[0m \u001b[1;36m27\u001b[0m\u001b[1;33m\n",
            "\u001b[0m\u001b[0mmethod\u001b[0m \u001b[1;33m=\u001b[0m \u001b[0mtrap\u001b[0m\u001b[1;33m\n",
            "\u001b[0m\u001b[0mtotiter\u001b[0m \u001b[1;33m=\u001b[0m \u001b[1;36m3\u001b[0m\u001b[1;33m\n",
            "\u001b[0m\u001b[0mtraniter\u001b[0m \u001b[1;33m=\u001b[0m \u001b[1;36m0\u001b[0m\u001b[1;33m\n",
            "\u001b[0m\u001b[0mtranpoints\u001b[0m \u001b[1;33m=\u001b[0m \u001b[1;36m0\u001b[0m\u001b[1;33m\n",
            "\u001b[0m\u001b[0maccept\u001b[0m \u001b[1;33m=\u001b[0m \u001b[1;36m0\u001b[0m\u001b[1;33m\n",
            "\u001b[0m\u001b[0mrejected\u001b[0m \u001b[1;33m=\u001b[0m \u001b[1;36m0\u001b[0m\u001b[1;33m\n",
            "\u001b[0m\u001b[0mmatrix\u001b[0m \u001b[0msize\u001b[0m \u001b[1;33m=\u001b[0m \u001b[1;36m2\u001b[0m\u001b[1;33m\n",
            "\u001b[0m\u001b[0mfillins\u001b[0m \u001b[1;33m=\u001b[0m \u001b[1;36m0\u001b[0m\u001b[1;33m\n",
            "\u001b[0m\u001b[0msolver\u001b[0m \u001b[1;33m=\u001b[0m \u001b[0mNormal\u001b[0m\u001b[1;33m\n",
            "\u001b[0m\u001b[0mMatrix\u001b[0m \u001b[0mCompiler1\u001b[0m\u001b[1;33m:\u001b[0m \u001b[1;36m36\u001b[0m \u001b[0mbytes\u001b[0m \u001b[0mobject\u001b[0m \u001b[0mcode\u001b[0m \u001b[0msize\u001b[0m\u001b[1;33m\n",
            "\u001b[0m\u001b[0mMatrix\u001b[0m \u001b[0mCompiler2\u001b[0m\u001b[1;33m:\u001b[0m \u001b[1;36m96\u001b[0m \u001b[0mbytes\u001b[0m \u001b[0mobject\u001b[0m \u001b[0mcode\u001b[0m \u001b[0msize\u001b[0m\u001b[1;33m\u001b[0m\u001b[1;33m\u001b[0m\u001b[0m\n"
          ],
          "name": "stdout"
        }
      ],
      "source": [
        "%pycat circuito sencillo.log"
      ]
    },
    {
      "source": [
        "Ahora repitamos lo mismo para el análisis `.dc`:"
      ],
      "cell_type": "markdown",
      "metadata": {}
    },
    {
      "cell_type": "code",
      "execution_count": 72,
      "metadata": {},
      "outputs": [
        {
          "output_type": "stream",
          "name": "stdout",
          "text": [
            "Overwriting circuito sencillo.net\n"
          ]
        }
      ],
      "source": [
        "%%writefile \"circuito sencillo.net\"\n",
        "* Este es un circuito sencillo adaptado para LTspice\n",
        "r1 1 0 100\n",
        "v1 0 1 9\n",
        "* Ahora obviamos el análisis .op\n",
        "* .op\n",
        ".dc v1 1 10 \n",
        ".end\n"
      ]
    },
    {
      "cell_type": "code",
      "execution_count": 73,
      "metadata": {},
      "outputs": [],
      "source": [
        "lts \"circuito sencillo.net\""
      ]
    },
    {
      "source": [
        "Al ejecutar esta simulación, se genera un fichero `.raw` con los resultados. Es muy parecido al `outfile` que hemos empleado antes con Ahkab. Para leer este fichero, tenemos que usar el paquete [ltspice de Python](https://github.com/DongHoonPark/ltspice_pytool), el cual podéis instalar directamente desde Jupyter:"
      ],
      "cell_type": "markdown",
      "metadata": {}
    },
    {
      "cell_type": "code",
      "execution_count": 76,
      "metadata": {},
      "outputs": [
        {
          "output_type": "stream",
          "name": "stdout",
          "text": [
            "Requirement already satisfied: ltspice in c:\\users\\leon\\scoop\\apps\\miniconda3\\current\\lib\\site-packages (1.0.0)\nRequirement already satisfied: numpy in c:\\users\\leon\\scoop\\apps\\miniconda3\\current\\lib\\site-packages (from ltspice) (1.19.2)\n"
          ]
        }
      ],
      "source": [
        "!pip install ltspice"
      ]
    },
    {
      "source": [
        "Ahora ya podemos leer este fichero `.raw` y pintar una recta de voltaje muy parecida a la que obtuvimos anteriormente con Ahkab:"
      ],
      "cell_type": "markdown",
      "metadata": {}
    },
    {
      "cell_type": "code",
      "execution_count": 74,
      "metadata": {},
      "outputs": [
        {
          "output_type": "execute_result",
          "data": {
            "text/plain": [
              "[<matplotlib.lines.Line2D at 0x19f21d1ec08>]"
            ]
          },
          "metadata": {},
          "execution_count": 74
        },
        {
          "output_type": "display_data",
          "data": {
            "text/plain": "<Figure size 432x288 with 1 Axes>",
            "image/svg+xml": "<?xml version=\"1.0\" encoding=\"utf-8\" standalone=\"no\"?>\r\n<!DOCTYPE svg PUBLIC \"-//W3C//DTD SVG 1.1//EN\"\r\n  \"http://www.w3.org/Graphics/SVG/1.1/DTD/svg11.dtd\">\r\n<!-- Created with matplotlib (https://matplotlib.org/) -->\r\n<svg height=\"249.485937pt\" version=\"1.1\" viewBox=\"0 0 379.415156 249.485937\" width=\"379.415156pt\" xmlns=\"http://www.w3.org/2000/svg\" xmlns:xlink=\"http://www.w3.org/1999/xlink\">\r\n <metadata>\r\n  <rdf:RDF xmlns:cc=\"http://creativecommons.org/ns#\" xmlns:dc=\"http://purl.org/dc/elements/1.1/\" xmlns:rdf=\"http://www.w3.org/1999/02/22-rdf-syntax-ns#\">\r\n   <cc:Work>\r\n    <dc:type rdf:resource=\"http://purl.org/dc/dcmitype/StillImage\"/>\r\n    <dc:date>2020-12-28T13:15:55.199380</dc:date>\r\n    <dc:format>image/svg+xml</dc:format>\r\n    <dc:creator>\r\n     <cc:Agent>\r\n      <dc:title>Matplotlib v3.3.3, https://matplotlib.org/</dc:title>\r\n     </cc:Agent>\r\n    </dc:creator>\r\n   </cc:Work>\r\n  </rdf:RDF>\r\n </metadata>\r\n <defs>\r\n  <style type=\"text/css\">*{stroke-linecap:butt;stroke-linejoin:round;}</style>\r\n </defs>\r\n <g id=\"figure_1\">\r\n  <g id=\"patch_1\">\r\n   <path d=\"M 0 249.485937 \r\nL 379.415156 249.485937 \r\nL 379.415156 0 \r\nL 0 0 \r\nz\r\n\" style=\"fill:none;\"/>\r\n  </g>\r\n  <g id=\"axes_1\">\r\n   <g id=\"patch_2\">\r\n    <path d=\"M 37.415156 224.64 \r\nL 372.215156 224.64 \r\nL 372.215156 7.2 \r\nL 37.415156 7.2 \r\nz\r\n\" style=\"fill:#ffffff;\"/>\r\n   </g>\r\n   <g id=\"matplotlib.axis_1\">\r\n    <g id=\"xtick_1\">\r\n     <g id=\"line2d_1\">\r\n      <defs>\r\n       <path d=\"M 0 0 \r\nL 0 3.5 \r\n\" id=\"mb7e0c754e4\" style=\"stroke:#000000;stroke-width:0.8;\"/>\r\n      </defs>\r\n      <g>\r\n       <use style=\"stroke:#000000;stroke-width:0.8;\" x=\"86.45152\" xlink:href=\"#mb7e0c754e4\" y=\"224.64\"/>\r\n      </g>\r\n     </g>\r\n     <g id=\"text_1\">\r\n      <!-- 2 -->\r\n      <g transform=\"translate(82.952145 239.998281)scale(0.11 -0.11)\">\r\n       <defs>\r\n        <path d=\"M 19.1875 8.296875 \r\nL 53.609375 8.296875 \r\nL 53.609375 0 \r\nL 7.328125 0 \r\nL 7.328125 8.296875 \r\nQ 12.9375 14.109375 22.625 23.890625 \r\nQ 32.328125 33.6875 34.8125 36.53125 \r\nQ 39.546875 41.84375 41.421875 45.53125 \r\nQ 43.3125 49.21875 43.3125 52.78125 \r\nQ 43.3125 58.59375 39.234375 62.25 \r\nQ 35.15625 65.921875 28.609375 65.921875 \r\nQ 23.96875 65.921875 18.8125 64.3125 \r\nQ 13.671875 62.703125 7.8125 59.421875 \r\nL 7.8125 69.390625 \r\nQ 13.765625 71.78125 18.9375 73 \r\nQ 24.125 74.21875 28.421875 74.21875 \r\nQ 39.75 74.21875 46.484375 68.546875 \r\nQ 53.21875 62.890625 53.21875 53.421875 \r\nQ 53.21875 48.921875 51.53125 44.890625 \r\nQ 49.859375 40.875 45.40625 35.40625 \r\nQ 44.1875 33.984375 37.640625 27.21875 \r\nQ 31.109375 20.453125 19.1875 8.296875 \r\nz\r\n\" id=\"DejaVuSans-50\"/>\r\n       </defs>\r\n       <use xlink:href=\"#DejaVuSans-50\"/>\r\n      </g>\r\n     </g>\r\n    </g>\r\n    <g id=\"xtick_2\">\r\n     <g id=\"line2d_2\">\r\n      <g>\r\n       <use style=\"stroke:#000000;stroke-width:0.8;\" x=\"154.087884\" xlink:href=\"#mb7e0c754e4\" y=\"224.64\"/>\r\n      </g>\r\n     </g>\r\n     <g id=\"text_2\">\r\n      <!-- 4 -->\r\n      <g transform=\"translate(150.588509 239.998281)scale(0.11 -0.11)\">\r\n       <defs>\r\n        <path d=\"M 37.796875 64.3125 \r\nL 12.890625 25.390625 \r\nL 37.796875 25.390625 \r\nz\r\nM 35.203125 72.90625 \r\nL 47.609375 72.90625 \r\nL 47.609375 25.390625 \r\nL 58.015625 25.390625 \r\nL 58.015625 17.1875 \r\nL 47.609375 17.1875 \r\nL 47.609375 0 \r\nL 37.796875 0 \r\nL 37.796875 17.1875 \r\nL 4.890625 17.1875 \r\nL 4.890625 26.703125 \r\nz\r\n\" id=\"DejaVuSans-52\"/>\r\n       </defs>\r\n       <use xlink:href=\"#DejaVuSans-52\"/>\r\n      </g>\r\n     </g>\r\n    </g>\r\n    <g id=\"xtick_3\">\r\n     <g id=\"line2d_3\">\r\n      <g>\r\n       <use style=\"stroke:#000000;stroke-width:0.8;\" x=\"221.724247\" xlink:href=\"#mb7e0c754e4\" y=\"224.64\"/>\r\n      </g>\r\n     </g>\r\n     <g id=\"text_3\">\r\n      <!-- 6 -->\r\n      <g transform=\"translate(218.224872 239.998281)scale(0.11 -0.11)\">\r\n       <defs>\r\n        <path d=\"M 33.015625 40.375 \r\nQ 26.375 40.375 22.484375 35.828125 \r\nQ 18.609375 31.296875 18.609375 23.390625 \r\nQ 18.609375 15.53125 22.484375 10.953125 \r\nQ 26.375 6.390625 33.015625 6.390625 \r\nQ 39.65625 6.390625 43.53125 10.953125 \r\nQ 47.40625 15.53125 47.40625 23.390625 \r\nQ 47.40625 31.296875 43.53125 35.828125 \r\nQ 39.65625 40.375 33.015625 40.375 \r\nz\r\nM 52.59375 71.296875 \r\nL 52.59375 62.3125 \r\nQ 48.875 64.0625 45.09375 64.984375 \r\nQ 41.3125 65.921875 37.59375 65.921875 \r\nQ 27.828125 65.921875 22.671875 59.328125 \r\nQ 17.53125 52.734375 16.796875 39.40625 \r\nQ 19.671875 43.65625 24.015625 45.921875 \r\nQ 28.375 48.1875 33.59375 48.1875 \r\nQ 44.578125 48.1875 50.953125 41.515625 \r\nQ 57.328125 34.859375 57.328125 23.390625 \r\nQ 57.328125 12.15625 50.6875 5.359375 \r\nQ 44.046875 -1.421875 33.015625 -1.421875 \r\nQ 20.359375 -1.421875 13.671875 8.265625 \r\nQ 6.984375 17.96875 6.984375 36.375 \r\nQ 6.984375 53.65625 15.1875 63.9375 \r\nQ 23.390625 74.21875 37.203125 74.21875 \r\nQ 40.921875 74.21875 44.703125 73.484375 \r\nQ 48.484375 72.75 52.59375 71.296875 \r\nz\r\n\" id=\"DejaVuSans-54\"/>\r\n       </defs>\r\n       <use xlink:href=\"#DejaVuSans-54\"/>\r\n      </g>\r\n     </g>\r\n    </g>\r\n    <g id=\"xtick_4\">\r\n     <g id=\"line2d_4\">\r\n      <g>\r\n       <use style=\"stroke:#000000;stroke-width:0.8;\" x=\"289.360611\" xlink:href=\"#mb7e0c754e4\" y=\"224.64\"/>\r\n      </g>\r\n     </g>\r\n     <g id=\"text_4\">\r\n      <!-- 8 -->\r\n      <g transform=\"translate(285.861236 239.998281)scale(0.11 -0.11)\">\r\n       <defs>\r\n        <path d=\"M 31.78125 34.625 \r\nQ 24.75 34.625 20.71875 30.859375 \r\nQ 16.703125 27.09375 16.703125 20.515625 \r\nQ 16.703125 13.921875 20.71875 10.15625 \r\nQ 24.75 6.390625 31.78125 6.390625 \r\nQ 38.8125 6.390625 42.859375 10.171875 \r\nQ 46.921875 13.96875 46.921875 20.515625 \r\nQ 46.921875 27.09375 42.890625 30.859375 \r\nQ 38.875 34.625 31.78125 34.625 \r\nz\r\nM 21.921875 38.8125 \r\nQ 15.578125 40.375 12.03125 44.71875 \r\nQ 8.5 49.078125 8.5 55.328125 \r\nQ 8.5 64.0625 14.71875 69.140625 \r\nQ 20.953125 74.21875 31.78125 74.21875 \r\nQ 42.671875 74.21875 48.875 69.140625 \r\nQ 55.078125 64.0625 55.078125 55.328125 \r\nQ 55.078125 49.078125 51.53125 44.71875 \r\nQ 48 40.375 41.703125 38.8125 \r\nQ 48.828125 37.15625 52.796875 32.3125 \r\nQ 56.78125 27.484375 56.78125 20.515625 \r\nQ 56.78125 9.90625 50.3125 4.234375 \r\nQ 43.84375 -1.421875 31.78125 -1.421875 \r\nQ 19.734375 -1.421875 13.25 4.234375 \r\nQ 6.78125 9.90625 6.78125 20.515625 \r\nQ 6.78125 27.484375 10.78125 32.3125 \r\nQ 14.796875 37.15625 21.921875 38.8125 \r\nz\r\nM 18.3125 54.390625 \r\nQ 18.3125 48.734375 21.84375 45.5625 \r\nQ 25.390625 42.390625 31.78125 42.390625 \r\nQ 38.140625 42.390625 41.71875 45.5625 \r\nQ 45.3125 48.734375 45.3125 54.390625 \r\nQ 45.3125 60.0625 41.71875 63.234375 \r\nQ 38.140625 66.40625 31.78125 66.40625 \r\nQ 25.390625 66.40625 21.84375 63.234375 \r\nQ 18.3125 60.0625 18.3125 54.390625 \r\nz\r\n\" id=\"DejaVuSans-56\"/>\r\n       </defs>\r\n       <use xlink:href=\"#DejaVuSans-56\"/>\r\n      </g>\r\n     </g>\r\n    </g>\r\n    <g id=\"xtick_5\">\r\n     <g id=\"line2d_5\">\r\n      <g>\r\n       <use style=\"stroke:#000000;stroke-width:0.8;\" x=\"356.996974\" xlink:href=\"#mb7e0c754e4\" y=\"224.64\"/>\r\n      </g>\r\n     </g>\r\n     <g id=\"text_5\">\r\n      <!-- 10 -->\r\n      <g transform=\"translate(349.998224 239.998281)scale(0.11 -0.11)\">\r\n       <defs>\r\n        <path d=\"M 12.40625 8.296875 \r\nL 28.515625 8.296875 \r\nL 28.515625 63.921875 \r\nL 10.984375 60.40625 \r\nL 10.984375 69.390625 \r\nL 28.421875 72.90625 \r\nL 38.28125 72.90625 \r\nL 38.28125 8.296875 \r\nL 54.390625 8.296875 \r\nL 54.390625 0 \r\nL 12.40625 0 \r\nz\r\n\" id=\"DejaVuSans-49\"/>\r\n        <path d=\"M 31.78125 66.40625 \r\nQ 24.171875 66.40625 20.328125 58.90625 \r\nQ 16.5 51.421875 16.5 36.375 \r\nQ 16.5 21.390625 20.328125 13.890625 \r\nQ 24.171875 6.390625 31.78125 6.390625 \r\nQ 39.453125 6.390625 43.28125 13.890625 \r\nQ 47.125 21.390625 47.125 36.375 \r\nQ 47.125 51.421875 43.28125 58.90625 \r\nQ 39.453125 66.40625 31.78125 66.40625 \r\nz\r\nM 31.78125 74.21875 \r\nQ 44.046875 74.21875 50.515625 64.515625 \r\nQ 56.984375 54.828125 56.984375 36.375 \r\nQ 56.984375 17.96875 50.515625 8.265625 \r\nQ 44.046875 -1.421875 31.78125 -1.421875 \r\nQ 19.53125 -1.421875 13.0625 8.265625 \r\nQ 6.59375 17.96875 6.59375 36.375 \r\nQ 6.59375 54.828125 13.0625 64.515625 \r\nQ 19.53125 74.21875 31.78125 74.21875 \r\nz\r\n\" id=\"DejaVuSans-48\"/>\r\n       </defs>\r\n       <use xlink:href=\"#DejaVuSans-49\"/>\r\n       <use x=\"63.623047\" xlink:href=\"#DejaVuSans-48\"/>\r\n      </g>\r\n     </g>\r\n    </g>\r\n   </g>\r\n   <g id=\"matplotlib.axis_2\">\r\n    <g id=\"ytick_1\">\r\n     <g id=\"line2d_6\">\r\n      <defs>\r\n       <path d=\"M 0 0 \r\nL -3.5 0 \r\n\" id=\"m07eb4c1e9e\" style=\"stroke:#000000;stroke-width:0.8;\"/>\r\n      </defs>\r\n      <g>\r\n       <use style=\"stroke:#000000;stroke-width:0.8;\" x=\"37.415156\" xlink:href=\"#m07eb4c1e9e\" y=\"214.756364\"/>\r\n      </g>\r\n     </g>\r\n     <g id=\"text_6\">\r\n      <!-- −10 -->\r\n      <g transform=\"translate(7.2 218.935504)scale(0.11 -0.11)\">\r\n       <defs>\r\n        <path d=\"M 10.59375 35.5 \r\nL 73.1875 35.5 \r\nL 73.1875 27.203125 \r\nL 10.59375 27.203125 \r\nz\r\n\" id=\"DejaVuSans-8722\"/>\r\n       </defs>\r\n       <use xlink:href=\"#DejaVuSans-8722\"/>\r\n       <use x=\"83.789062\" xlink:href=\"#DejaVuSans-49\"/>\r\n       <use x=\"147.412109\" xlink:href=\"#DejaVuSans-48\"/>\r\n      </g>\r\n     </g>\r\n    </g>\r\n    <g id=\"ytick_2\">\r\n     <g id=\"line2d_7\">\r\n      <g>\r\n       <use style=\"stroke:#000000;stroke-width:0.8;\" x=\"37.415156\" xlink:href=\"#m07eb4c1e9e\" y=\"170.829091\"/>\r\n      </g>\r\n     </g>\r\n     <g id=\"text_7\">\r\n      <!-- −8 -->\r\n      <g transform=\"translate(14.19875 175.008232)scale(0.11 -0.11)\">\r\n       <use xlink:href=\"#DejaVuSans-8722\"/>\r\n       <use x=\"83.789062\" xlink:href=\"#DejaVuSans-56\"/>\r\n      </g>\r\n     </g>\r\n    </g>\r\n    <g id=\"ytick_3\">\r\n     <g id=\"line2d_8\">\r\n      <g>\r\n       <use style=\"stroke:#000000;stroke-width:0.8;\" x=\"37.415156\" xlink:href=\"#m07eb4c1e9e\" y=\"126.901818\"/>\r\n      </g>\r\n     </g>\r\n     <g id=\"text_8\">\r\n      <!-- −6 -->\r\n      <g transform=\"translate(14.19875 131.080959)scale(0.11 -0.11)\">\r\n       <use xlink:href=\"#DejaVuSans-8722\"/>\r\n       <use x=\"83.789062\" xlink:href=\"#DejaVuSans-54\"/>\r\n      </g>\r\n     </g>\r\n    </g>\r\n    <g id=\"ytick_4\">\r\n     <g id=\"line2d_9\">\r\n      <g>\r\n       <use style=\"stroke:#000000;stroke-width:0.8;\" x=\"37.415156\" xlink:href=\"#m07eb4c1e9e\" y=\"82.974545\"/>\r\n      </g>\r\n     </g>\r\n     <g id=\"text_9\">\r\n      <!-- −4 -->\r\n      <g transform=\"translate(14.19875 87.153686)scale(0.11 -0.11)\">\r\n       <use xlink:href=\"#DejaVuSans-8722\"/>\r\n       <use x=\"83.789062\" xlink:href=\"#DejaVuSans-52\"/>\r\n      </g>\r\n     </g>\r\n    </g>\r\n    <g id=\"ytick_5\">\r\n     <g id=\"line2d_10\">\r\n      <g>\r\n       <use style=\"stroke:#000000;stroke-width:0.8;\" x=\"37.415156\" xlink:href=\"#m07eb4c1e9e\" y=\"39.047273\"/>\r\n      </g>\r\n     </g>\r\n     <g id=\"text_10\">\r\n      <!-- −2 -->\r\n      <g transform=\"translate(14.19875 43.226413)scale(0.11 -0.11)\">\r\n       <use xlink:href=\"#DejaVuSans-8722\"/>\r\n       <use x=\"83.789062\" xlink:href=\"#DejaVuSans-50\"/>\r\n      </g>\r\n     </g>\r\n    </g>\r\n   </g>\r\n   <g id=\"line2d_11\">\r\n    <path clip-path=\"url(#p2a3a024c4a)\" d=\"M 52.633338 17.083636 \r\nL 356.996974 214.756364 \r\nL 356.996974 214.756364 \r\n\" style=\"fill:none;stroke:#1f77b4;stroke-linecap:square;stroke-width:1.5;\"/>\r\n   </g>\r\n   <g id=\"patch_3\">\r\n    <path d=\"M 37.415156 224.64 \r\nL 37.415156 7.2 \r\n\" style=\"fill:none;stroke:#000000;stroke-linecap:square;stroke-linejoin:miter;stroke-width:0.8;\"/>\r\n   </g>\r\n   <g id=\"patch_4\">\r\n    <path d=\"M 372.215156 224.64 \r\nL 372.215156 7.2 \r\n\" style=\"fill:none;stroke:#000000;stroke-linecap:square;stroke-linejoin:miter;stroke-width:0.8;\"/>\r\n   </g>\r\n   <g id=\"patch_5\">\r\n    <path d=\"M 37.415156 224.64 \r\nL 372.215156 224.64 \r\n\" style=\"fill:none;stroke:#000000;stroke-linecap:square;stroke-linejoin:miter;stroke-width:0.8;\"/>\r\n   </g>\r\n   <g id=\"patch_6\">\r\n    <path d=\"M 37.415156 7.2 \r\nL 372.215156 7.2 \r\n\" style=\"fill:none;stroke:#000000;stroke-linecap:square;stroke-linejoin:miter;stroke-width:0.8;\"/>\r\n   </g>\r\n  </g>\r\n </g>\r\n <defs>\r\n  <clipPath id=\"p2a3a024c4a\">\r\n   <rect height=\"217.44\" width=\"334.8\" x=\"37.415156\" y=\"7.2\"/>\r\n  </clipPath>\r\n </defs>\r\n</svg>\r\n",
            "image/png": "[encoded data removed]"
          },
          "metadata": {
            "needs_background": "light"
          }
        }
      ],
      "source": [
        "import ltspice\n",
        "l = ltspice.Ltspice(\"circuito sencillo.raw\")\n",
        "l.parse()\n",
        "tiempo = l.get_time()\n",
        "voltaje = l.get_data('V(1)')\n",
        "corriente = l.get_data('I(V1)')\n",
        "# Podemos pintar la corrente en función del tiempo\n",
        "# plt.plot(tiempo, corriente)\n",
        "# O el voltaje\n",
        "plt.plot(tiempo, voltaje)"
      ]
    },
    {
      "source": [
        "** En resumen: ** hemos usado dos *compiladores* Spice distintos para hacer el mismo ejercicio. De igual manera podríamos haber usado [Ngspice](http://ngspice.sourceforge.net) u otro. De hecho, podíamos haber usado Ahkab en modo comando. Si tenemos correctamente instalado este framework, en princpio podemos invocarlo [directamente desde línea de comandos](https://ahkab.readthedocs.io/en/latest/help/Command-Line-Help.html):"
      ],
      "cell_type": "markdown",
      "metadata": {}
    },
    {
      "cell_type": "code",
      "execution_count": 14,
      "metadata": {},
      "outputs": [
        {
          "output_type": "stream",
          "name": "stdout",
          "text": [
            "2020-12-28 11:10:47\n",
            "ahkab v. 0.18 (c) 2006-2015 Giuseppe Venturini\n",
            "\n",
            "Operating Point (OP) analysis\n",
            "\n",
            "Netlist: circuito sencillo.sp\n",
            "Title: * este es un circuito sencillo\n",
            "At 300.00 K\n",
            "Options:\n",
            "\tvea = 1.000000e-06\n",
            "\tver = 0.001000\n",
            "\tiea = 1.000000e-09\n",
            "\tier = 0.001000\n",
            "\tgmin = 0.000000e+00\n",
            "\n",
            "Convergence reached in 2 iterations.\n",
            "\n",
            "========\n",
            "RESULTS:\n",
            "========\n",
            "\n",
            "Variable    Units      Value        Error    %\n",
            "----------  -------  -------  -----------  ---\n",
            "V1          V           -9    9.00002e-12    0\n",
            "I(V1)       A           -0.9  0              0\n",
            "\n",
            "========================\n",
            "ELEMENTS OP INFORMATION:\n",
            "========================\n",
            "\n",
            "Part ID      R [Ω]    V(n1,n2) [V]    I(n1->n2) [A]    P [W]\n",
            "---------  -------  --------------  ---------------  -------\n",
            "R1              10              -9             -0.9      8.1\n",
            "\n",
            "Part ID      V(n1,n2) [V]    I(n1->n2) [A]    P [W]\n",
            "---------  --------------  ---------------  -------\n",
            "V1                      9             -0.9     -8.1\n",
            "\n",
            "Total power dissipation: 8.1 W\n",
            "\n",
            "#V1\tV1\tI(V1)\n",
            "0.000000000000000000e+00\t0.000000000000000000e+00\t0.000000000000000000e+00\n",
            "1.000000000000000000e+00\t-1.000000000000000000e+00\t-1.000000000000000056e-01\n",
            "2.000000000000000000e+00\t-2.000000000000000000e+00\t-2.000000000000000111e-01\n",
            "3.000000000000000000e+00\t-3.000000000000000000e+00\t-3.000000000000000444e-01\n",
            "4.000000000000000000e+00\t-4.000000000000000000e+00\t-4.000000000000000222e-01\n",
            "5.000000000000000000e+00\t-5.000000000000000000e+00\t-5.000000000000000000e-01\n",
            "6.000000000000000000e+00\t-6.000000000000000000e+00\t-6.000000000000000888e-01\n",
            "7.000000000000000000e+00\t-7.000000000000000000e+00\t-7.000000000000000666e-01\n",
            "8.000000000000000000e+00\t-8.000000000000000000e+00\t-8.000000000000000444e-01\n",
            "9.000000000000000000e+00\t-9.000000000000000000e+00\t-9.000000000000000222e-01\n",
            "#T\tV1\tI(V1)\n",
            "6.500100010000999795e+00\t-9.000000000000000000e+00\t-9.000000000090901953e-01\n",
            "6.500200020001999590e+00\t-9.000000000000000000e+00\t-9.000000000089101171e-01\n",
            "6.500220846857308388e+00\t-9.000000000000000000e+00\t-9.000000000090901953e-01\n",
            "6.500241576915259500e+00\t-9.000000000000000000e+00\t-9.000000000089101171e-01\n",
            "6.500283037031161726e+00\t-9.000000000000000000e+00\t-9.000000000090900842e-01\n",
            "6.500365957262965289e+00\t-9.000000000000000000e+00\t-9.000000000089101171e-01\n",
            "6.500531797726572414e+00\t-9.000000000000000000e+00\t-9.000000000090900842e-01\n",
            "6.500863478653787553e+00\t-9.000000000000000000e+00\t-9.000000000089100061e-01\n",
            "6.501526840508216942e+00\t-9.000000000000000000e+00\t-9.000000000090900842e-01\n",
            "6.502853564217075721e+00\t-9.000000000000000000e+00\t-9.000000000089102281e-01\n",
            "6.505507011634793280e+00\t-9.000000000000000000e+00\t-9.000000000090899732e-01\n",
            "6.510813906470229284e+00\t-9.000000000000000000e+00\t-9.000000000089101171e-01\n",
            "6.520813906470229071e+00\t-9.000000000000000000e+00\t-9.000000000090899732e-01\n",
            "6.530813906470228858e+00\t-9.000000000000000000e+00\t-9.000000000089101171e-01\n",
            "6.540813906470228645e+00\t-9.000000000000000000e+00\t-9.000000000090900842e-01\n",
            "6.550813906470228432e+00\t-9.000000000000000000e+00\t-9.000000000089101171e-01\n",
            "6.560813906470228218e+00\t-9.000000000000000000e+00\t-9.000000000090900842e-01\n",
            "6.570813906470228005e+00\t-9.000000000000000000e+00\t-9.000000000089101171e-01\n",
            "6.580813906470227792e+00\t-9.000000000000000000e+00\t-9.000000000090900842e-01\n",
            "6.590813906470227579e+00\t-9.000000000000000000e+00\t-9.000000000089101171e-01\n",
            "6.600813906470227366e+00\t-9.000000000000000000e+00\t-9.000000000090900842e-01\n",
            "6.610813906470227153e+00\t-9.000000000000000000e+00\t-9.000000000089101171e-01\n",
            "6.620813906470226939e+00\t-9.000000000000000000e+00\t-9.000000000090900842e-01\n",
            "6.630813906470226726e+00\t-9.000000000000000000e+00\t-9.000000000089101171e-01\n",
            "6.640813906470226513e+00\t-9.000000000000000000e+00\t-9.000000000090900842e-01\n",
            "6.650813906470226300e+00\t-9.000000000000000000e+00\t-9.000000000089101171e-01\n",
            "6.660813906470226087e+00\t-9.000000000000000000e+00\t-9.000000000090900842e-01\n",
            "6.670813906470225874e+00\t-9.000000000000000000e+00\t-9.000000000089101171e-01\n",
            "6.680813906470225660e+00\t-9.000000000000000000e+00\t-9.000000000090900842e-01\n",
            "6.690813906470225447e+00\t-9.000000000000000000e+00\t-9.000000000089101171e-01\n",
            "6.700813906470225234e+00\t-9.000000000000000000e+00\t-9.000000000090900842e-01\n",
            "6.710813906470225021e+00\t-9.000000000000000000e+00\t-9.000000000089101171e-01\n",
            "6.720813906470224808e+00\t-9.000000000000000000e+00\t-9.000000000090900842e-01\n",
            "6.730813906470224595e+00\t-9.000000000000000000e+00\t-9.000000000089101171e-01\n",
            "6.740813906470224381e+00\t-9.000000000000000000e+00\t-9.000000000090900842e-01\n",
            "6.750813906470224168e+00\t-9.000000000000000000e+00\t-9.000000000089101171e-01\n",
            "6.760813906470223955e+00\t-9.000000000000000000e+00\t-9.000000000090900842e-01\n",
            "6.770813906470223742e+00\t-9.000000000000000000e+00\t-9.000000000089101171e-01\n",
            "6.780813906470223529e+00\t-9.000000000000000000e+00\t-9.000000000090900842e-01\n",
            "6.790813906470223316e+00\t-9.000000000000000000e+00\t-9.000000000089101171e-01\n",
            "6.800813906470223102e+00\t-9.000000000000000000e+00\t-9.000000000090900842e-01\n",
            "6.810813906470222889e+00\t-9.000000000000000000e+00\t-9.000000000089101171e-01\n",
            "6.820813906470222676e+00\t-9.000000000000000000e+00\t-9.000000000090900842e-01\n",
            "6.830813906470222463e+00\t-9.000000000000000000e+00\t-9.000000000089101171e-01\n",
            "6.840813906470222250e+00\t-9.000000000000000000e+00\t-9.000000000090900842e-01\n",
            "6.850813906470222037e+00\t-9.000000000000000000e+00\t-9.000000000089101171e-01\n",
            "6.860813906470221823e+00\t-9.000000000000000000e+00\t-9.000000000090900842e-01\n",
            "6.870813906470221610e+00\t-9.000000000000000000e+00\t-9.000000000089101171e-01\n",
            "6.880813906470221397e+00\t-9.000000000000000000e+00\t-9.000000000090900842e-01\n",
            "6.890813906470221184e+00\t-9.000000000000000000e+00\t-9.000000000089101171e-01\n",
            "6.900813906470220971e+00\t-9.000000000000000000e+00\t-9.000000000090900842e-01\n",
            "6.910813906470220758e+00\t-9.000000000000000000e+00\t-9.000000000089101171e-01\n",
            "6.920813906470220545e+00\t-9.000000000000000000e+00\t-9.000000000090900842e-01\n",
            "6.930813906470220331e+00\t-9.000000000000000000e+00\t-9.000000000089101171e-01\n",
            "6.940813906470220118e+00\t-9.000000000000000000e+00\t-9.000000000090900842e-01\n",
            "6.950813906470219905e+00\t-9.000000000000000000e+00\t-9.000000000089101171e-01\n",
            "W: Locale appears not set! please export LANG=\"en_US.UTF-8\" or equivalent, \n",
            "W: or ahkab's unicode support is broken.\n",
            "6.960813906470219692e+00\t-9.000000000000000000e+00\t-9.000000000090900842e-01\n",
            "6.970813906470219479e+00\t-9.000000000000000000e+00\t-9.000000000089101171e-01\n",
            "6.980813906470219266e+00\t-9.000000000000000000e+00\t-9.000000000090900842e-01\n",
            "6.990813906470219052e+00\t-9.000000000000000000e+00\t-9.000000000089101171e-01\n",
            "7.000813906470218839e+00\t-9.000000000000000000e+00\t-9.000000000090900842e-01\n",
            "7.010813906470218626e+00\t-9.000000000000000000e+00\t-9.000000000089101171e-01\n",
            "7.020813906470218413e+00\t-9.000000000000000000e+00\t-9.000000000090900842e-01\n",
            "7.030813906470218200e+00\t-9.000000000000000000e+00\t-9.000000000089101171e-01\n",
            "7.040813906470217987e+00\t-9.000000000000000000e+00\t-9.000000000090900842e-01\n",
            "7.050813906470217773e+00\t-9.000000000000000000e+00\t-9.000000000089101171e-01\n",
            "7.060813906470217560e+00\t-9.000000000000000000e+00\t-9.000000000090900842e-01\n",
            "7.070813906470217347e+00\t-9.000000000000000000e+00\t-9.000000000089101171e-01\n",
            "7.080813906470217134e+00\t-9.000000000000000000e+00\t-9.000000000090900842e-01\n",
            "7.090813906470216921e+00\t-9.000000000000000000e+00\t-9.000000000089101171e-01\n",
            "7.100813906470216708e+00\t-9.000000000000000000e+00\t-9.000000000090900842e-01\n",
            "7.110813906470216494e+00\t-9.000000000000000000e+00\t-9.000000000089101171e-01\n",
            "7.120813906470216281e+00\t-9.000000000000000000e+00\t-9.000000000090900842e-01\n",
            "7.130813906470216068e+00\t-9.000000000000000000e+00\t-9.000000000089101171e-01\n",
            "7.140813906470215855e+00\t-9.000000000000000000e+00\t-9.000000000090900842e-01\n",
            "7.150813906470215642e+00\t-9.000000000000000000e+00\t-9.000000000089101171e-01\n",
            "7.160813906470215429e+00\t-9.000000000000000000e+00\t-9.000000000090900842e-01\n",
            "7.170813906470215215e+00\t-9.000000000000000000e+00\t-9.000000000089101171e-01\n",
            "7.180813906470215002e+00\t-9.000000000000000000e+00\t-9.000000000090900842e-01\n",
            "7.190813906470214789e+00\t-9.000000000000000000e+00\t-9.000000000089101171e-01\n",
            "7.200813906470214576e+00\t-9.000000000000000000e+00\t-9.000000000090900842e-01\n",
            "7.210813906470214363e+00\t-9.000000000000000000e+00\t-9.000000000089101171e-01\n",
            "7.220813906470214150e+00\t-9.000000000000000000e+00\t-9.000000000090900842e-01\n",
            "7.230813906470213936e+00\t-9.000000000000000000e+00\t-9.000000000089101171e-01\n",
            "7.240813906470213723e+00\t-9.000000000000000000e+00\t-9.000000000090900842e-01\n",
            "7.250813906470213510e+00\t-9.000000000000000000e+00\t-9.000000000089101171e-01\n",
            "7.260813906470213297e+00\t-9.000000000000000000e+00\t-9.000000000090900842e-01\n",
            "7.270813906470213084e+00\t-9.000000000000000000e+00\t-9.000000000089101171e-01\n",
            "7.280813906470212871e+00\t-9.000000000000000000e+00\t-9.000000000090900842e-01\n",
            "7.290813906470212657e+00\t-9.000000000000000000e+00\t-9.000000000089101171e-01\n",
            "7.300813906470212444e+00\t-9.000000000000000000e+00\t-9.000000000090900842e-01\n",
            "7.310813906470212231e+00\t-9.000000000000000000e+00\t-9.000000000089101171e-01\n",
            "7.320813906470212018e+00\t-9.000000000000000000e+00\t-9.000000000090900842e-01\n",
            "7.330813906470211805e+00\t-9.000000000000000000e+00\t-9.000000000089101171e-01\n",
            "7.340813906470211592e+00\t-9.000000000000000000e+00\t-9.000000000090900842e-01\n",
            "7.350813906470211379e+00\t-9.000000000000000000e+00\t-9.000000000089101171e-01\n",
            "7.360813906470211165e+00\t-9.000000000000000000e+00\t-9.000000000090900842e-01\n",
            "7.370813906470210952e+00\t-9.000000000000000000e+00\t-9.000000000089101171e-01\n",
            "7.380813906470210739e+00\t-9.000000000000000000e+00\t-9.000000000090900842e-01\n",
            "7.390813906470210526e+00\t-9.000000000000000000e+00\t-9.000000000089101171e-01\n",
            "7.400813906470210313e+00\t-9.000000000000000000e+00\t-9.000000000090900842e-01\n",
            "7.410813906470210100e+00\t-9.000000000000000000e+00\t-9.000000000089101171e-01\n",
            "7.420813906470209886e+00\t-9.000000000000000000e+00\t-9.000000000090900842e-01\n",
            "7.430813906470209673e+00\t-9.000000000000000000e+00\t-9.000000000089101171e-01\n",
            "7.440813906470209460e+00\t-9.000000000000000000e+00\t-9.000000000090900842e-01\n",
            "7.450813906470209247e+00\t-9.000000000000000000e+00\t-9.000000000089101171e-01\n",
            "7.460813906470209034e+00\t-9.000000000000000000e+00\t-9.000000000090900842e-01\n",
            "7.470813906470208821e+00\t-9.000000000000000000e+00\t-9.000000000089101171e-01\n",
            "7.480813906470208607e+00\t-9.000000000000000000e+00\t-9.000000000090900842e-01\n",
            "7.490813906470208394e+00\t-9.000000000000000000e+00\t-9.000000000089101171e-01\n",
            "7.500813906470208181e+00\t-9.000000000000000000e+00\t-9.000000000090900842e-01\n"
          ]
        }
      ],
      "source": [
        "!ahkab \"circuito sencillo.sp\""
      ]
    },
    {
      "source": [
        "**Ejercicio premium**: Graficar los datos anteriores con [Gnuplot](http://www.gnuplot.info). "
      ],
      "cell_type": "markdown",
      "metadata": {}
    },
    {
      "source": [
        " ## Análisis de circuito con resistencias en serie"
      ],
      "cell_type": "markdown",
      "metadata": {}
    },
    {
      "cell_type": "markdown",
      "source": [
        "Vamos a resolver (en punto de operación) el siguiente circuito:\n",
        "\n",
        "![](https://raw.githubusercontent.com/pammacdotnet/spicelab/master/resistencias%20en%20serie.svg?sanitize=true)\n",
        "\n",
        "Al igual que antes, grabamos el netlist en disco desde Jupyter gracias a la *palabra mágica* [`%writefile`](https://ipython.readthedocs.io/en/stable/interactive/magics.html#cellmagic-writefile). Más info [aquí](https://ipython.readthedocs.io/en/stable/interactive/magics.html#cellmagic-writefile). "
      ],
      "metadata": {}
    },
    {
      "cell_type": "code",
      "source": [
        "%%writefile \"resistencias en serie.net\"\n",
        "* circuito con tres resistencias en serie\n",
        "v1 1 0 type=vdc vdc=9\n",
        "R1 0 2 3k\n",
        "R2 2 3 10k  \n",
        "R3 3 1 5k\n",
        "* análisis del circuito\n",
        ".op\n",
        ".end"
      ],
      "outputs": [
        {
          "output_type": "stream",
          "name": "stdout",
          "text": [
            "Overwriting resistencias en serie.net\n"
          ]
        }
      ],
      "execution_count": 87,
      "metadata": {}
    },
    {
      "cell_type": "code",
      "source": [
        "circuito_y_análisis = ahkab.netlist_parser.parse_circuit('resistencias en serie.net')\n",
        "circuito = circuito_y_análisis[0]       \n",
        "análisis_en_netlist = circuito_y_análisis[1]\n",
        "lista_de_análisis = ahkab.netlist_parser.parse_analysis(circuito, análisis_en_netlist)\n",
        "resultados = ahkab.run(circuito, lista_de_análisis)"
      ],
      "outputs": [
        {
          "output_type": "stream",
          "name": "stdout",
          "text": [
            "Starting op analysis:\n",
            "Calculating guess: skipped. (linear circuit)\n",
            "Solving...   done.\n",
            "Solving...   done.\n",
            "Difference check within margins.\n",
            "(Voltage: er=0.001, ea=1e-06, Current: er=0.001, ea=1e-09)\n"
          ]
        }
      ],
      "execution_count": 88,
      "metadata": {}
    },
    {
      "cell_type": "markdown",
      "source": [
        "Imprimos los resultados del análisis `.op`:"
      ],
      "metadata": {}
    },
    {
      "cell_type": "code",
      "source": [
        "print(resultados['op'])"
      ],
      "outputs": [
        {
          "output_type": "stream",
          "name": "stdout",
          "text": [
            "OP simulation results for '* circuito con tres resistencias en serie'(netlist resistencias en serie.net).\nRun on 2021-01-04 00:20:51, data file None.\nVariable    Units      Value     Error    %\n----------  -------  -------  --------  ---\nV1          V         9       -9e-12      0\nV2          V         1.5     -1.5e-12    0\nV3          V         6.5     -6.5e-12    0\nI(V1)       A        -0.0005   0          0\n"
          ]
        }
      ],
      "execution_count": 89,
      "metadata": {}
    },
    {
      "cell_type": "markdown",
      "source": [
        "Los cantidades `V1`, `V2` y `V3` hacen referencia a los distintos valores del potencial que se ha perdido en cada uno de los bornes que has elegido para describir el netlist (`1`, `2`, etc.). Por ejemplo, podemos calcular el *potencial consumido* por la resistencia `R1` y verás que coincide con el del punto `V2` devuelto por Ahkab. **Ejercicio**: compruébalo tú mismo y refléjalo por escrito."
      ],
      "metadata": {}
    },
    {
      "source": [
        "Cargamos primero todo lo relacionado con Sympy:"
      ],
      "cell_type": "markdown",
      "metadata": {}
    },
    {
      "cell_type": "code",
      "execution_count": 90,
      "metadata": {},
      "outputs": [],
      "source": [
        "from sympy.physics.units import ohms, amperes, volts\n",
        "from sympy.physics.units import convert_to"
      ]
    },
    {
      "cell_type": "code",
      "source": [
        "r1 = 3E3*ohms\n",
        "intensidad_ahkab = resultados['op']['I(V1)'][0][0]*amperes\n",
        "v2 = convert_to(intensidad_ahkab*r1, [volts])\n",
        "v2"
      ],
      "outputs": [
        {
          "output_type": "execute_result",
          "data": {
            "text/plain": [
              "-1.5*volt"
            ],
            "text/latex": "$\\displaystyle - 1.5 \\text{V}$"
          },
          "metadata": {},
          "execution_count": 91
        }
      ],
      "execution_count": 91,
      "metadata": {}
    },
    {
      "cell_type": "markdown",
      "source": [
        " > **Pregunta**: reproduce el resto de los valores anteriores de manera *manual* mediante Sympy (es decir, aplicando la ley de Ohm, pero con un *toque computacional*). Te pongo aquí un ejemplo del que puedes partir… En él sólo calculo la corriente que circula por el circuito (sí, justo la que antes Ahkab ha devuelto de manera automática). Para ello necesito previamente computar la resistencia total (`r_total`). Faltarían el resto de resultados y convertirlos a unidades más *vistosas* (mediante la orden `convert_to` y `.n()`)."
      ],
      "metadata": {}
    },
    {
      "cell_type": "code",
      "source": [
        "from sympy.physics.units import kilo\n",
        "from sympy import solve, symbols, Eq\n",
        "v1 = 9*volts\n",
        "r1 = 3*kilo*ohms\n",
        "r2 = 10*kilo*ohms\n",
        "r3 = 5*kilo*ohms\n",
        "r_total = r1 + r2 + r3\n",
        "intensidad = symbols('i')\n",
        "ley_ohm = Eq(v1, intensidad*r_total)\n",
        "solucion_para_intensidad = solve(ley_ohm, intensidad)\n",
        "convert_to(solucion_para_intensidad[0], [amperes]).n(2)"
      ],
      "outputs": [
        {
          "output_type": "execute_result",
          "data": {
            "text/plain": [
              "0.0005*ampere"
            ],
            "text/latex": "$\\displaystyle 0.0005 \\text{A}$"
          },
          "metadata": {},
          "execution_count": 11
        }
      ],
      "execution_count": 11,
      "metadata": {}
    },
    {
      "cell_type": "markdown",
      "source": [
        "> **Pregunta**: Demuestra que se cumple la Ley de Kirchhoff de la energía en un circuito, es decir, que la suma de la energía suministrada por las fuentes (pilas) es igual a la consumida por las resistencias. Realiza la operación con Sympy.\n",
        "\n",
        "$$\n",
        "\\sum_i^N V_{\\text{fuentes}} = \\sum_j^M V_{\\text{consumido en resistencias}}\n",
        "$$\n",
        "\n",
        "Ten en cuenta que en este caso sólo hay una fuente."
      ],
      "metadata": {}
    },
    {
      "source": [
        "$$\n",
        "\\sum_i^N V_{\\text{fuentes}}\n",
        "$$"
      ],
      "cell_type": "markdown",
      "metadata": {}
    },
    {
      "cell_type": "code",
      "execution_count": 25,
      "metadata": {},
      "outputs": [
        {
          "output_type": "execute_result",
          "data": {
            "text/plain": [
              "9.0*volt"
            ],
            "text/latex": "$\\displaystyle 9.0 \\text{V}$"
          },
          "metadata": {},
          "execution_count": 25
        }
      ],
      "source": [
        "VFuentes = 9*volts\n",
        "convert_to(VFuentes, [volts]).n(2)"
      ]
    },
    {
      "source": [
        "$$\n",
        "\\sum_j^M V_{\\text{consumido en resistencias}}\n",
        "$$"
      ],
      "cell_type": "markdown",
      "metadata": {}
    },
    {
      "cell_type": "code",
      "execution_count": 27,
      "metadata": {},
      "outputs": [
        {
          "output_type": "execute_result",
          "data": {
            "text/plain": [
              "9.0*volt"
            ],
            "text/latex": "$\\displaystyle 9.0 \\text{V}$"
          },
          "metadata": {},
          "execution_count": 27
        }
      ],
      "source": [
        "\n",
        "r1 = 3*kilo*ohms\n",
        "r2 = 10*kilo*ohms\n",
        "r3 = 5*kilo*ohms\n",
        "ICircuito = 0.0005 * amperes\n",
        "VR1 = volts\n",
        "ley_ohm = Eq(VR1, ICircuito*r1)\n",
        "solucion_para_voltajeR1 = solve(ley_ohm, VR1)\n",
        "convert_to(solucion_para_voltajeR1[0], [volts]).n(2)\n",
        "\n",
        "VR1 = volts\n",
        "ley_ohm = Eq(VR1, ICircuito*r1)\n",
        "solucion_para_voltajeR1 = solve(ley_ohm, VR1)\n",
        "convert_to(solucion_para_voltajeR1[0], [volts]).n(2)\n",
        "\n",
        "VR2 = volts\n",
        "ley_ohm = Eq(VR2, ICircuito*r2)\n",
        "solucion_para_voltajeR2 = solve(ley_ohm, VR2)\n",
        "convert_to(solucion_para_voltajeR2[0], [volts]).n(2)\n",
        "\n",
        "VR3 = volts\n",
        "ley_ohm = Eq(VR3, ICircuito*r3)\n",
        "solucion_para_voltajeR3 = solve(ley_ohm, VR3)\n",
        "convert_to(solucion_para_voltajeR3[0], [volts]).n(2)\n",
        "\n",
        "convert_to(solucion_para_voltajeR1[0] + solucion_para_voltajeR2[0] + solucion_para_voltajeR3[0], [volts]).n(2) \n",
        "\n"
      ]
    },
    {
      "cell_type": "markdown",
      "source": [
        "## Análisis `.op` de circuitos con resistencias en paralelo\n",
        "\n",
        "Vamos a complicar un poco el trabajo añadiendo elementos en paralelo.\n",
        "\n",
        " > **Pregunta**: realiza los análisis `.op` de los siguientes circuitos.\n",
        " Para ello crea un netlist separado para cada uno donde queden correctamente descritos\n",
        " junto con la simulación (`.op`). Comenta los resultados que devuelve Ahkab (no imprimas los resultados de las simulaciones *sin más*).\n",
        "\n",
        " ![](https://raw.githubusercontent.com/pammacdotnet/spicelab/master/resistencias%20en%20paralelo.svg?sanitize=true)\n",
        "\n",
        " Aquí tienes el análisis del primer circuito, para que sirva de ejemplo:"
      ],
      "metadata": {}
    },
    {
      "cell_type": "code",
      "source": [
        "%%writefile \"resistencias en paralelo 1.cir\"\n",
        "* resistencias en paralelo\n",
        "vdd 0 1 vdc=12 type=vdc\n",
        "r2 1 2 1k\n",
        "r3 2 3 220\n",
        "r4 3 0 1.5k\n",
        "r5 2 0 470\n",
        ".op\n",
        ".end"
      ],
      "outputs": [
        {
          "output_type": "stream",
          "name": "stdout",
          "text": [
            "Overwriting resistencias en paralelo 1.cir\n"
          ]
        }
      ],
      "execution_count": 28,
      "metadata": {}
    },
    {
      "cell_type": "code",
      "source": [
        "circuito_y_análisis = ahkab.netlist_parser.parse_circuit('resistencias en paralelo 1.cir')\n",
        "circuito = circuito_y_análisis[0]       \n",
        "análisis_en_netlist = circuito_y_análisis[1]\n",
        "lista_de_análisis = ahkab.netlist_parser.parse_analysis(circuito, análisis_en_netlist)\n",
        "resultados = ahkab.run(circuito, lista_de_análisis)"
      ],
      "outputs": [
        {
          "output_type": "stream",
          "name": "stdout",
          "text": [
            "Starting op analysis:\n",
            "Calculating guess: skipped. (linear circuit)\n",
            "Solving...   done.\n",
            "Solving...   done.\n",
            "Difference check within margins.\n",
            "(Voltage: er=0.001, ea=1e-06, Current: er=0.001, ea=1e-09)\n"
          ]
        }
      ],
      "execution_count": 29,
      "metadata": {}
    },
    {
      "cell_type": "markdown",
      "source": [
        "Imprimimos los resultados del análisis `.op`. Como puedes comprobar, Ahkab sólo reporta la intensidad de corriente en las ramas en las que hay una pila (en este caso, la rama donde está la pila `VDD`)."
      ],
      "metadata": {}
    },
    {
      "cell_type": "code",
      "source": [
        "print(resultados['op'])"
      ],
      "outputs": [
        {
          "output_type": "stream",
          "name": "stdout",
          "text": [
            "OP simulation results for '* resistencias en paralelo'(netlist resistencias en paralelo 1.cir).\nRun on 2020-12-28 23:07:07, data file None.\nVariable    Units           Value        Error    %\n----------  -------  ------------  -----------  ---\nV1          V        -12           1.2e-11        0\nV2          V         -3.23533     3.23532e-12    0\nV3          V         -2.8215      2.82151e-12    0\nI(VDD)      A         -0.00876467  0              0\n"
          ]
        }
      ],
      "execution_count": 30,
      "metadata": {}
    },
    {
      "cell_type": "markdown",
      "source": [
        "> **Pregunta:** inserta dos *pilas virtuales* de 0 voltios en el resto de ramas del circuito (`Vdummy1` en la rama donde está `R5` y `Vdummy2` en la rama donde está `R3` y `R4`) para que Ahkab nos imprima también la corriente en las mismas. Es muy parecido al tercer circuito que tienes que resolver, donde `V1`, `V2` y `V3` tienen cero voltios. Estas *pilas nulas* son, a todos los efectos, *simples cables*. Una vez que ya tienes las corrientes en todas las ramas, comprueba que se cumple la Ley de Kirchhoff para las corrientes:\n",
        "\n",
        "$$\n",
        "I_{\\text{entrante}} = \\sum_i^{N} I_{\\text{salientes}}\n",
        "$$\n",
        "\n",
        "Repite lo mismo para los otros dos circuitos. Realiza además los cálculos con Sympy (recalcula los mismos voltajes que devuelve Ahkab a partir de la corriente que sí te devuelve la simulación) y cuidando de no olvidar las unidades. Recuerda que el objeto `resultados` alberga toda la información que necesitas de manera indexada. Ya han aparecido un ejemplo más arriba. Es decir: no *copies* los números *a mano*, trabaja de manera informáticamente elegante (usando la variable `resultados`). "
      ],
      "metadata": {}
    },
    {
      "source": [
        "# Circuito 1 \n",
        "Añadimos las pilas virtuales en el primer circuito"
      ],
      "cell_type": "markdown",
      "metadata": {}
    },
    {
      "cell_type": "code",
      "execution_count": 3,
      "metadata": {},
      "outputs": [
        {
          "output_type": "stream",
          "name": "stdout",
          "text": [
            "Overwriting resistencias en paralelo 1-v2.cir\n"
          ]
        }
      ],
      "source": [
        "%%writefile \"resistencias en paralelo 1-v2.cir\"\n",
        "* resistencias en paralelo\n",
        "vdd 0 1 type=vdc vdc=12\n",
        "r2 1 2 1k\n",
        "r3 2 3 220\n",
        "Vdummy2 3 4 type=vdc vdc=0\n",
        "r4 4 0 1.5k\n",
        "Vdummy1 2 5 type=vdc vdc=0\n",
        "r5 5 0 470\n",
        ".op\n",
        ".end"
      ]
    },
    {
      "cell_type": "code",
      "execution_count": 99,
      "metadata": {},
      "outputs": [
        {
          "output_type": "stream",
          "name": "stdout",
          "text": [
            "Starting op analysis:\n",
            "Calculating guess: skipped. (linear circuit)\n",
            "Solving...   done.\n",
            "Solving...   done.\n",
            "Difference check within margins.\n",
            "(Voltage: er=0.001, ea=1e-06, Current: er=0.001, ea=1e-09)\n"
          ]
        }
      ],
      "source": [
        "circuito_y_análisis = ahkab.netlist_parser.parse_circuit('resistencias en paralelo 1-v2.cir')\n",
        "circuito = circuito_y_análisis[0]       \n",
        "análisis_en_netlist = circuito_y_análisis[1]\n",
        "lista_de_análisis = ahkab.netlist_parser.parse_analysis(circuito, análisis_en_netlist)\n",
        "resultados = ahkab.run(circuito, lista_de_análisis)\n"
      ]
    },
    {
      "cell_type": "code",
      "execution_count": 100,
      "metadata": {},
      "outputs": [
        {
          "output_type": "stream",
          "name": "stdout",
          "text": [
            "OP simulation results for '* resistencias en paralelo'(netlist resistencias en paralelo 1-v2.cir).\nRun on 2021-01-04 00:41:12, data file None.\nVariable    Units           Value        Error    %\n----------  -------  ------------  -----------  ---\nV1          V        -12           1.2e-11        0\nV2          V         -3.23533     3.23533e-12    0\nV3          V         -2.8215      2.82151e-12    0\nV4          V         -2.8215      2.82151e-12    0\nV5          V         -3.23533     3.23533e-12    0\nI(VDD)      A         -0.00876467  0              0\nI(VDUMMY2)  A         -0.001881    0              0\nI(VDUMMY1)  A         -0.00688367  0              0\n"
          ]
        }
      ],
      "source": [
        "print(resultados['op'])"
      ]
    },
    {
      "source": [
        "comprobamos la la Ley de Kirchhoff para las corrientes"
      ],
      "cell_type": "markdown",
      "metadata": {}
    },
    {
      "source": [
        "Cálculos con Sympy\n"
      ],
      "cell_type": "markdown",
      "metadata": {}
    },
    {
      "cell_type": "code",
      "execution_count": 94,
      "metadata": {},
      "outputs": [],
      "source": [
        "from sympy.physics.units import ohms, amperes, volts\n",
        "from sympy.physics.units import convert_to\n",
        "from sympy.physics.units import kilo\n",
        "from sympy import solve, symbols, Eq"
      ]
    },
    {
      "cell_type": "code",
      "execution_count": 104,
      "metadata": {},
      "outputs": [
        {
          "output_type": "execute_result",
          "data": {
            "text/plain": [
              "-0.00876467*ampere"
            ],
            "text/latex": "$\\displaystyle - 0.00876467 \\text{A}$"
          },
          "metadata": {},
          "execution_count": 104
        }
      ],
      "source": [
        "IEntrante = float(resultados['op']['I(VDD)']) * amperes\n",
        "convert_to(IEntrante,[amperes]).n(6)"
      ]
    },
    {
      "cell_type": "code",
      "execution_count": 105,
      "metadata": {},
      "outputs": [
        {
          "output_type": "execute_result",
          "data": {
            "text/plain": [
              "-0.00876467*ampere"
            ],
            "text/latex": "$\\displaystyle - 0.00876467 \\text{A}$"
          },
          "metadata": {},
          "execution_count": 105
        }
      ],
      "source": [
        "ISaliente= (float(resultados['op']['I(VDUMMY1)']) + float(resultados['op']['I(VDUMMY2)']))  * amperes\n",
        "convert_to(ISaliente,[amperes]).n(6)"
      ]
    },
    {
      "cell_type": "code",
      "execution_count": null,
      "metadata": {},
      "outputs": [],
      "source": []
    },
    {
      "cell_type": "code",
      "execution_count": 11,
      "metadata": {},
      "outputs": [],
      "source": [
        "from sympy.physics.units import ohms, amperes, volts\n",
        "from sympy.physics.units import convert_to\n",
        "from sympy.physics.units import kilo\n",
        "from sympy import solve, symbols, Eq"
      ]
    },
    {
      "cell_type": "code",
      "execution_count": 13,
      "metadata": {},
      "outputs": [],
      "source": [
        "r2 = 1*kilo*ohms\n",
        "r5 = 470*ohms\n",
        "r3 = 220*ohms\n",
        "r4 = 1.5*kilo*ohms"
      ]
    },
    {
      "source": [
        "Rama R5 Pila Dummy1"
      ],
      "cell_type": "markdown",
      "metadata": {}
    },
    {
      "cell_type": "code",
      "execution_count": 17,
      "metadata": {},
      "outputs": [
        {
          "output_type": "execute_result",
          "data": {
            "text/plain": [
              "3.2*volt"
            ],
            "text/latex": "$\\displaystyle 3.2 \\text{V}$"
          },
          "metadata": {},
          "execution_count": 17
        }
      ],
      "source": [
        "rt=r5\n",
        "#IRama = 0.00876467 * amperes\n",
        "IRama = 0.00688367 * amperes\n",
        "#IRama = 0.001881 * amperes\n",
        "V1 = volts\n",
        "ley_ohm = Eq(V1, IRama*rt)\n",
        "solucion_para_voltaje1 = solve(ley_ohm, V1)\n",
        "convert_to(solucion_para_voltaje1[0], [volts]).n(2)\n"
      ]
    },
    {
      "source": [
        "Rama r4 y Pila Dummy2"
      ],
      "cell_type": "markdown",
      "metadata": {}
    },
    {
      "cell_type": "code",
      "execution_count": 20,
      "metadata": {},
      "outputs": [
        {
          "output_type": "execute_result",
          "data": {
            "text/plain": [
              "2.8*volt"
            ],
            "text/latex": "$\\displaystyle 2.8 \\text{V}$"
          },
          "metadata": {},
          "execution_count": 20
        }
      ],
      "source": [
        "rt=r4\n",
        "#IRama = 0.00876467 * amperes\n",
        "#IRama = 0.00688367 * amperes\n",
        "IRama = 0.001881 * amperes\n",
        "V1 = volts\n",
        "ley_ohm = Eq(V1, IRama*rt)\n",
        "solucion_para_voltaje1 = solve(ley_ohm, V1)\n",
        "convert_to(solucion_para_voltaje1[0], [volts]).n(2)"
      ]
    },
    {
      "source": [
        "# Circuito 2\n"
      ],
      "cell_type": "markdown",
      "metadata": {}
    },
    {
      "cell_type": "code",
      "execution_count": 19,
      "metadata": {},
      "outputs": [
        {
          "output_type": "stream",
          "name": "stdout",
          "text": [
            "Overwriting resistencias en paralelo 2.cir\n"
          ]
        }
      ],
      "source": [
        "%%writefile \"resistencias en paralelo 2.cir\"\n",
        ".resitencias en paralelo\n",
        "v1 0 1 vdc=9 type=vdc\n",
        "v2 5 0 vdc=1.5 type=vdc\n",
        "r1 1 2 47\n",
        "r2 2 3 220\n",
        "r3 2 5 180\n",
        "r4 3 4 1k\n",
        "r5 4 0 560\n",
        ".op\n",
        ".end"
      ]
    },
    {
      "cell_type": "code",
      "execution_count": 106,
      "metadata": {},
      "outputs": [
        {
          "output_type": "stream",
          "name": "stdout",
          "text": [
            "Starting op analysis:\n",
            "Calculating guess: skipped. (linear circuit)\n",
            "Solving...   done.\n",
            "Solving...   done.\n",
            "Difference check within margins.\n",
            "(Voltage: er=0.001, ea=1e-06, Current: er=0.001, ea=1e-09)\n",
            "OP simulation results for '.resitencias en paralelo'(netlist resistencias en paralelo 2.cir).\n",
            "Run on 2021-01-04 00:42:13, data file None.\n",
            "Variable    Units         Value        Error    %\n",
            "----------  -------  ----------  -----------  ---\n",
            "V1          V        -9          8.99994e-12    0\n",
            "V5          V        -1.5        1.50001e-12    0\n",
            "V2          V        -7.29441    7.29442e-12    0\n",
            "V3          V        -6.39285    6.39285e-12    0\n",
            "V4          V        -2.29487    2.29487e-12    0\n",
            "I(V1)       A        -0.0362891  0              0\n",
            "I(V2)       A         0.0321912  0              0\n"
          ]
        }
      ],
      "source": [
        "circuito_y_análisis = ahkab.netlist_parser.parse_circuit('resistencias en paralelo 2.cir')\n",
        "circuito = circuito_y_análisis[0]       \n",
        "análisis_en_netlist = circuito_y_análisis[1]\n",
        "lista_de_análisis = ahkab.netlist_parser.parse_analysis(circuito, análisis_en_netlist)\n",
        "resultados = ahkab.run(circuito, lista_de_análisis)\n",
        "print(resultados['op'])"
      ]
    },
    {
      "source": [
        "ponemos pilas virtuales para que Ahkab nos de la intensidad en la rama que no hay pila"
      ],
      "cell_type": "markdown",
      "metadata": {}
    },
    {
      "cell_type": "code",
      "execution_count": 25,
      "metadata": {},
      "outputs": [
        {
          "output_type": "stream",
          "name": "stdout",
          "text": [
            "Overwriting resistencias en paralelo 2-v2.cir\n"
          ]
        }
      ],
      "source": [
        "%%writefile \"resistencias en paralelo 2-v2.cir\"\n",
        ".resitencias en paralelo\n",
        "v1 0 1 vdc=9 type=vdc\n",
        "v2 0 5 vdc=1.5 type=vdc\n",
        "r1 1 2 47\n",
        "r2 2 3 220\n",
        "r3 2 5 180\n",
        "r4 3 4 1k\n",
        "Vdummy1 6 6 type=vdc vdc=0\n",
        "r5 6 0 560\n",
        ".op\n",
        ".end"
      ]
    },
    {
      "cell_type": "code",
      "execution_count": 109,
      "metadata": {},
      "outputs": [
        {
          "output_type": "stream",
          "name": "stdout",
          "text": [
            "Starting op analysis:\n",
            "Calculating guess: skipped. (linear circuit)\n",
            "Solving...   done.\n",
            "Solving...   done.\n",
            "Difference check within margins.\n",
            "(Voltage: er=0.001, ea=1e-06, Current: er=0.001, ea=1e-09)\n",
            "OP simulation results for '.resitencias en paralelo'(netlist resistencias en paralelo 2-v2.cir).\n",
            "Run on 2021-01-04 00:42:55, data file None.\n",
            "Variable    Units          Value        Error    %\n",
            "----------  -------  -----------  -----------  ---\n",
            "V1          V        -9           9e-12          0\n",
            "V5          V        -1.5         1.5e-12        0\n",
            "V2          V        -7.29441     7.29442e-12    0\n",
            "V3          V        -6.39285     6.39286e-12    0\n",
            "V4          V        -2.29487     2.29487e-12    0\n",
            "V6          V        -2.29487     2.29487e-12    0\n",
            "I(V1)       A        -0.0362891   0              0\n",
            "I(V2)       A         0.0321912   0              0\n",
            "I(VDUMMY1)  A         0.00409798  0              0\n"
          ]
        }
      ],
      "source": [
        "circuito_y_análisis = ahkab.netlist_parser.parse_circuit('resistencias en paralelo 2-v2.cir')\n",
        "circuito = circuito_y_análisis[0]       \n",
        "análisis_en_netlist = circuito_y_análisis[1]\n",
        "lista_de_análisis = ahkab.netlist_parser.parse_analysis(circuito, análisis_en_netlist)\n",
        "resultados = ahkab.run(circuito, lista_de_análisis)\n",
        "print(resultados['op'])"
      ]
    },
    {
      "cell_type": "code",
      "execution_count": 110,
      "metadata": {},
      "outputs": [
        {
          "output_type": "execute_result",
          "data": {
            "text/plain": [
              "-0.0362891*ampere"
            ],
            "text/latex": "$\\displaystyle - 0.0362891 \\text{A}$"
          },
          "metadata": {},
          "execution_count": 110
        }
      ],
      "source": [
        "IEntrante = float(resultados['op']['I(V1)']) * amperes\n",
        "convert_to(IEntrante,[amperes]).n(6)"
      ]
    },
    {
      "cell_type": "code",
      "execution_count": 111,
      "metadata": {},
      "outputs": [
        {
          "output_type": "execute_result",
          "data": {
            "text/plain": [
              "0.0362891*ampere"
            ],
            "text/latex": "$\\displaystyle 0.0362891 \\text{A}$"
          },
          "metadata": {},
          "execution_count": 111
        }
      ],
      "source": [
        "ISaliente= (float(resultados['op']['I(V2)']) + float(resultados['op']['I(VDUMMY1)']))  * amperes\n",
        "convert_to(ISaliente,[amperes]).n(6)"
      ]
    },
    {
      "source": [
        "# Circuito 3"
      ],
      "cell_type": "markdown",
      "metadata": {}
    },
    {
      "cell_type": "code",
      "execution_count": 30,
      "metadata": {},
      "outputs": [
        {
          "output_type": "stream",
          "name": "stdout",
          "text": [
            "Overwriting resistencias en paralelo 3.cir\n"
          ]
        }
      ],
      "source": [
        "%%writefile \"resistencias en paralelo 3.cir\"\n",
        "* resistencias en paralelo\n",
        "vdd 0 1 type=vdc vdc=9\n",
        "r1 2 0 10k\n",
        "r2 3 0 2k\n",
        "r3 4 0 1k\n",
        "v1 1 2 type=vdc vdc=0\n",
        "v2 1 3 type=vdc vdc=0\n",
        "v3 1 4 type=vdc vdc=0\n",
        ".op\n",
        ".end"
      ]
    },
    {
      "cell_type": "code",
      "execution_count": 112,
      "metadata": {},
      "outputs": [
        {
          "output_type": "stream",
          "name": "stdout",
          "text": [
            "Starting op analysis:\n",
            "Calculating guess: skipped. (linear circuit)\n",
            "Solving...   done.\n",
            "Solving...   done.\n",
            "Difference check within margins.\n",
            "(Voltage: er=0.001, ea=1e-06, Current: er=0.001, ea=1e-09)\n",
            "OP simulation results for '* resistencias en paralelo'(netlist resistencias en paralelo 3.cir).\n",
            "Run on 2021-01-04 00:43:05, data file None.\n",
            "Variable    Units      Value    Error    %\n",
            "----------  -------  -------  -------  ---\n",
            "V1          V        -9         9e-12    0\n",
            "V2          V        -9         9e-12    0\n",
            "V3          V        -9         9e-12    0\n",
            "V4          V        -9         9e-12    0\n",
            "I(VDD)      A        -0.0144    0        0\n",
            "I(V1)       A        -0.0009    0        0\n",
            "I(V2)       A        -0.0045    0        0\n",
            "I(V3)       A        -0.009     0        0\n"
          ]
        }
      ],
      "source": [
        "circuito_y_análisis = ahkab.netlist_parser.parse_circuit('resistencias en paralelo 3.cir')\n",
        "circuito = circuito_y_análisis[0]       \n",
        "análisis_en_netlist = circuito_y_análisis[1]\n",
        "lista_de_análisis = ahkab.netlist_parser.parse_analysis(circuito, análisis_en_netlist)\n",
        "resultados = ahkab.run(circuito, lista_de_análisis)\n",
        "print(resultados['op'])"
      ]
    },
    {
      "cell_type": "code",
      "execution_count": 117,
      "metadata": {},
      "outputs": [
        {
          "output_type": "execute_result",
          "data": {
            "text/plain": [
              "-0.0144*ampere"
            ],
            "text/latex": "$\\displaystyle - 0.0144 \\text{A}$"
          },
          "metadata": {},
          "execution_count": 117
        }
      ],
      "source": [
        "IEntrante = float(resultados['op']['I(VDD)']) * amperes\n",
        "convert_to(IEntrante,[amperes]).n(3)"
      ]
    },
    {
      "cell_type": "code",
      "execution_count": 118,
      "metadata": {},
      "outputs": [
        {
          "output_type": "execute_result",
          "data": {
            "text/plain": [
              "-0.0144*ampere"
            ],
            "text/latex": "$\\displaystyle - 0.0144 \\text{A}$"
          },
          "metadata": {},
          "execution_count": 118
        }
      ],
      "source": [
        "ISaliente= (float(resultados['op']['I(V1)']) + float(resultados['op']['I(V2)']) + float(resultados['op']['I(V3)']))  * amperes\n",
        "convert_to(ISaliente,[amperes]).n(3)"
      ]
    },
    {
      "cell_type": "code",
      "execution_count": 4,
      "metadata": {},
      "outputs": [],
      "source": [
        "from sympy.physics.units import ohms, amperes, volts\n",
        "from sympy.physics.units import convert_to\n",
        "from sympy.physics.units import kilo\n",
        "from sympy import solve, symbols, Eq"
      ]
    },
    {
      "source": [
        "Voltaje rama R1"
      ],
      "cell_type": "markdown",
      "metadata": {}
    },
    {
      "cell_type": "code",
      "execution_count": 5,
      "metadata": {},
      "outputs": [
        {
          "output_type": "execute_result",
          "data": {
            "text/plain": [
              "9.0*volt"
            ],
            "text/latex": "$\\displaystyle 9.0 \\text{V}$"
          },
          "metadata": {},
          "execution_count": 5
        }
      ],
      "source": [
        "r1 = 10*kilo*ohms\n",
        "IRama = 0.0009 * amperes\n",
        "V1 = volts\n",
        "ley_ohm = Eq(V1, IRama*r1)\n",
        "solucion_para_voltaje1 = solve(ley_ohm, V1)\n",
        "convert_to(solucion_para_voltaje1[0], [volts]).n(2)\n"
      ]
    },
    {
      "source": [
        "Voltaje rama R2"
      ],
      "cell_type": "markdown",
      "metadata": {}
    },
    {
      "cell_type": "code",
      "execution_count": 8,
      "metadata": {},
      "outputs": [
        {
          "output_type": "execute_result",
          "data": {
            "text/plain": [
              "9.0*volt"
            ],
            "text/latex": "$\\displaystyle 9.0 \\text{V}$"
          },
          "metadata": {},
          "execution_count": 8
        }
      ],
      "source": [
        "r2 = 2*kilo*ohms\n",
        "IRama = 0.0045 * amperes\n",
        "V2 = volts\n",
        "ley_ohm = Eq(V2, IRama*r2)\n",
        "solucion_para_voltaje2 = solve(ley_ohm, V2)\n",
        "convert_to(solucion_para_voltaje2[0], [volts]).n(2)"
      ]
    },
    {
      "source": [
        "Voltaje rama R3\n"
      ],
      "cell_type": "markdown",
      "metadata": {}
    },
    {
      "cell_type": "code",
      "execution_count": 10,
      "metadata": {},
      "outputs": [
        {
          "output_type": "execute_result",
          "data": {
            "text/plain": [
              "9.0*volt"
            ],
            "text/latex": "$\\displaystyle 9.0 \\text{V}$"
          },
          "metadata": {},
          "execution_count": 10
        }
      ],
      "source": [
        "r3 = 1*kilo*ohms\n",
        "IRama = 0.009 * amperes\n",
        "V3 = volts\n",
        "ley_ohm = Eq(V3, IRama*r3)\n",
        "solucion_para_voltaje3 = solve(ley_ohm, V3)\n",
        "convert_to(solucion_para_voltaje3[0], [volts]).n(2)"
      ]
    },
    {
      "source": [
        " # Circuitos en DC que evolucionan con el tiempo"
      ],
      "cell_type": "markdown",
      "metadata": {}
    },
    {
      "cell_type": "markdown",
      "source": [
        " ## Carga de un condensador\n",
        " Vamos a ver qué le pasa a un circuito de corriente continua cuando tiene un condensador\n",
        " en serie.\n",
        "\n",
        " ![](https://raw.githubusercontent.com/pammacdotnet/spicelab/master/condensador%20en%20continua.svg?sanitize=true)\n",
        "\n",
        " Al igual que antes, primero guardamos el circuito en un netlist externo:"
      ],
      "metadata": {}
    },
    {
      "cell_type": "code",
      "source": [
        "%%writefile \"condensador en continua.ckt\"\n",
        "* Carga condensador\n",
        "v1 0 1 type=vdc vdc=6\n",
        "r1 1 2 1k\n",
        "c1 2 0 1m ic=0\n",
        ".op\n",
        ".tran tstep=0.1 tstop=8 uic=0\n",
        ".end"
      ],
      "outputs": [
        {
          "output_type": "stream",
          "name": "stdout",
          "text": [
            "Overwriting condensador en continua.ckt\n"
          ]
        }
      ],
      "execution_count": 66,
      "metadata": {}
    },
    {
      "cell_type": "markdown",
      "source": [
        "> **Pregunta:** ¿qué significa el parámetro `ic=0`? ¿qué perseguimos con un análisis de tipo `.tran`?\n",
        "\n",
        "Leamos el circuito:"
      ],
      "metadata": {}
    },
    {
      "cell_type": "code",
      "source": [
        "circuito_y_análisis = ahkab.netlist_parser.parse_circuit(\"condensador en continua.ckt\")"
      ],
      "outputs": [],
      "execution_count": 67,
      "metadata": {}
    },
    {
      "cell_type": "markdown",
      "source": [
        " Separamos el netlist de los análisis y asignamos un fichero de almacenamiento de datos (`outfile`):"
      ],
      "metadata": {}
    },
    {
      "cell_type": "code",
      "source": [
        "circuito = circuito_y_análisis[0]\n",
        "análisis_en_netlist = circuito_y_análisis[1]\n",
        "lista_de_análisis = ahkab.netlist_parser.parse_analysis(circuito, análisis_en_netlist)\n",
        "lista_de_análisis[1]['outfile'] = \"simulación tran.tsv\""
      ],
      "outputs": [],
      "execution_count": 68,
      "metadata": {}
    },
    {
      "cell_type": "markdown",
      "source": [
        " Ejecutamos la simulación:"
      ],
      "metadata": {}
    },
    {
      "cell_type": "code",
      "source": [
        "resultados = ahkab.run(circuito, lista_de_análisis)\n",
        "print(resultados['op'])\n",
        "#print(resultados['tran'].keys())"
      ],
      "outputs": [
        {
          "output_type": "stream",
          "name": "stdout",
          "text": [
            "Starting op analysis:\n",
            "Calculating guess: skipped. (linear circuit)\n",
            "Solving...   done.\n",
            "Solving...   done.\n",
            "Difference check within margins.\n",
            "(Voltage: er=0.001, ea=1e-06, Current: er=0.001, ea=1e-09)\n",
            "Starting transient analysis: \n",
            "Selected method: TRAP\n",
            "Solving...  done.\n",
            "Average time step: 0.0869565\n",
            "OP simulation results for '* carga condensador'(netlist condensador en continua.ckt).\n",
            "Run on 2020-12-29 00:37:27, data file None.\n",
            "Variable    Units      Value    Error    %\n",
            "----------  -------  -------  -------  ---\n",
            "V1          V             -6    6e-12    0\n",
            "V2          V             -6    6e-12    0\n",
            "I(V1)       A              0    0        0\n"
          ]
        }
      ],
      "execution_count": 69,
      "metadata": {}
    },
    {
      "cell_type": "markdown",
      "source": [
        " Dibujamos la gráfica de carga del condensador con el tiempo, centrándonos en la intensidad que circula por la pila. "
      ],
      "metadata": {}
    },
    {
      "cell_type": "code",
      "source": [
        "figura = plt.figure()\n",
        "plt.title(\"Carga de un condensador\")\n",
        "plt.plot(resultados['tran']['T'], resultados['tran']['I(V1)'], label=\"Una etiqueta\")"
      ],
      "outputs": [
        {
          "output_type": "execute_result",
          "data": {
            "text/plain": [
              "[<matplotlib.lines.Line2D at 0x17dd818fd48>]"
            ]
          },
          "metadata": {},
          "execution_count": 70
        },
        {
          "output_type": "display_data",
          "data": {
            "text/plain": "<Figure size 432x288 with 1 Axes>",
            "image/svg+xml": "<?xml version=\"1.0\" encoding=\"utf-8\" standalone=\"no\"?>\r\n<!DOCTYPE svg PUBLIC \"-//W3C//DTD SVG 1.1//EN\"\r\n  \"http://www.w3.org/Graphics/SVG/1.1/DTD/svg11.dtd\">\r\n<!-- Created with matplotlib (https://matplotlib.org/) -->\r\n<svg height=\"264.604062pt\" version=\"1.1\" viewBox=\"0 0 396.908594 264.604062\" width=\"396.908594pt\" xmlns=\"http://www.w3.org/2000/svg\" xmlns:xlink=\"http://www.w3.org/1999/xlink\">\r\n <metadata>\r\n  <rdf:RDF xmlns:cc=\"http://creativecommons.org/ns#\" xmlns:dc=\"http://purl.org/dc/elements/1.1/\" xmlns:rdf=\"http://www.w3.org/1999/02/22-rdf-syntax-ns#\">\r\n   <cc:Work>\r\n    <dc:type rdf:resource=\"http://purl.org/dc/dcmitype/StillImage\"/>\r\n    <dc:date>2020-12-29T01:37:32.379287</dc:date>\r\n    <dc:format>image/svg+xml</dc:format>\r\n    <dc:creator>\r\n     <cc:Agent>\r\n      <dc:title>Matplotlib v3.3.3, https://matplotlib.org/</dc:title>\r\n     </cc:Agent>\r\n    </dc:creator>\r\n   </cc:Work>\r\n  </rdf:RDF>\r\n </metadata>\r\n <defs>\r\n  <style type=\"text/css\">*{stroke-linecap:butt;stroke-linejoin:round;}</style>\r\n </defs>\r\n <g id=\"figure_1\">\r\n  <g id=\"patch_1\">\r\n   <path d=\"M -0 264.604062 \r\nL 396.908594 264.604062 \r\nL 396.908594 0 \r\nL -0 0 \r\nz\r\n\" style=\"fill:none;\"/>\r\n  </g>\r\n  <g id=\"axes_1\">\r\n   <g id=\"patch_2\">\r\n    <path d=\"M 54.908594 239.758125 \r\nL 389.708594 239.758125 \r\nL 389.708594 22.318125 \r\nL 54.908594 22.318125 \r\nz\r\n\" style=\"fill:#ffffff;\"/>\r\n   </g>\r\n   <g id=\"matplotlib.axis_1\">\r\n    <g id=\"xtick_1\">\r\n     <g id=\"line2d_1\">\r\n      <defs>\r\n       <path d=\"M 0 0 \r\nL 0 3.5 \r\n\" id=\"ma15d1223d1\" style=\"stroke:#000000;stroke-width:0.8;\"/>\r\n      </defs>\r\n      <g>\r\n       <use style=\"stroke:#000000;stroke-width:0.8;\" x=\"70.096601\" xlink:href=\"#ma15d1223d1\" y=\"239.758125\"/>\r\n      </g>\r\n     </g>\r\n     <g id=\"text_1\">\r\n      <!-- 0 -->\r\n      <g transform=\"translate(66.597226 255.116406)scale(0.11 -0.11)\">\r\n       <defs>\r\n        <path d=\"M 31.78125 66.40625 \r\nQ 24.171875 66.40625 20.328125 58.90625 \r\nQ 16.5 51.421875 16.5 36.375 \r\nQ 16.5 21.390625 20.328125 13.890625 \r\nQ 24.171875 6.390625 31.78125 6.390625 \r\nQ 39.453125 6.390625 43.28125 13.890625 \r\nQ 47.125 21.390625 47.125 36.375 \r\nQ 47.125 51.421875 43.28125 58.90625 \r\nQ 39.453125 66.40625 31.78125 66.40625 \r\nz\r\nM 31.78125 74.21875 \r\nQ 44.046875 74.21875 50.515625 64.515625 \r\nQ 56.984375 54.828125 56.984375 36.375 \r\nQ 56.984375 17.96875 50.515625 8.265625 \r\nQ 44.046875 -1.421875 31.78125 -1.421875 \r\nQ 19.53125 -1.421875 13.0625 8.265625 \r\nQ 6.59375 17.96875 6.59375 36.375 \r\nQ 6.59375 54.828125 13.0625 64.515625 \r\nQ 19.53125 74.21875 31.78125 74.21875 \r\nz\r\n\" id=\"DejaVuSans-48\"/>\r\n       </defs>\r\n       <use xlink:href=\"#DejaVuSans-48\"/>\r\n      </g>\r\n     </g>\r\n    </g>\r\n    <g id=\"xtick_2\">\r\n     <g id=\"line2d_2\">\r\n      <g>\r\n       <use style=\"stroke:#000000;stroke-width:0.8;\" x=\"107.810492\" xlink:href=\"#ma15d1223d1\" y=\"239.758125\"/>\r\n      </g>\r\n     </g>\r\n     <g id=\"text_2\">\r\n      <!-- 1 -->\r\n      <g transform=\"translate(104.311117 255.116406)scale(0.11 -0.11)\">\r\n       <defs>\r\n        <path d=\"M 12.40625 8.296875 \r\nL 28.515625 8.296875 \r\nL 28.515625 63.921875 \r\nL 10.984375 60.40625 \r\nL 10.984375 69.390625 \r\nL 28.421875 72.90625 \r\nL 38.28125 72.90625 \r\nL 38.28125 8.296875 \r\nL 54.390625 8.296875 \r\nL 54.390625 0 \r\nL 12.40625 0 \r\nz\r\n\" id=\"DejaVuSans-49\"/>\r\n       </defs>\r\n       <use xlink:href=\"#DejaVuSans-49\"/>\r\n      </g>\r\n     </g>\r\n    </g>\r\n    <g id=\"xtick_3\">\r\n     <g id=\"line2d_3\">\r\n      <g>\r\n       <use style=\"stroke:#000000;stroke-width:0.8;\" x=\"145.524383\" xlink:href=\"#ma15d1223d1\" y=\"239.758125\"/>\r\n      </g>\r\n     </g>\r\n     <g id=\"text_3\">\r\n      <!-- 2 -->\r\n      <g transform=\"translate(142.025008 255.116406)scale(0.11 -0.11)\">\r\n       <defs>\r\n        <path d=\"M 19.1875 8.296875 \r\nL 53.609375 8.296875 \r\nL 53.609375 0 \r\nL 7.328125 0 \r\nL 7.328125 8.296875 \r\nQ 12.9375 14.109375 22.625 23.890625 \r\nQ 32.328125 33.6875 34.8125 36.53125 \r\nQ 39.546875 41.84375 41.421875 45.53125 \r\nQ 43.3125 49.21875 43.3125 52.78125 \r\nQ 43.3125 58.59375 39.234375 62.25 \r\nQ 35.15625 65.921875 28.609375 65.921875 \r\nQ 23.96875 65.921875 18.8125 64.3125 \r\nQ 13.671875 62.703125 7.8125 59.421875 \r\nL 7.8125 69.390625 \r\nQ 13.765625 71.78125 18.9375 73 \r\nQ 24.125 74.21875 28.421875 74.21875 \r\nQ 39.75 74.21875 46.484375 68.546875 \r\nQ 53.21875 62.890625 53.21875 53.421875 \r\nQ 53.21875 48.921875 51.53125 44.890625 \r\nQ 49.859375 40.875 45.40625 35.40625 \r\nQ 44.1875 33.984375 37.640625 27.21875 \r\nQ 31.109375 20.453125 19.1875 8.296875 \r\nz\r\n\" id=\"DejaVuSans-50\"/>\r\n       </defs>\r\n       <use xlink:href=\"#DejaVuSans-50\"/>\r\n      </g>\r\n     </g>\r\n    </g>\r\n    <g id=\"xtick_4\">\r\n     <g id=\"line2d_4\">\r\n      <g>\r\n       <use style=\"stroke:#000000;stroke-width:0.8;\" x=\"183.238273\" xlink:href=\"#ma15d1223d1\" y=\"239.758125\"/>\r\n      </g>\r\n     </g>\r\n     <g id=\"text_4\">\r\n      <!-- 3 -->\r\n      <g transform=\"translate(179.738898 255.116406)scale(0.11 -0.11)\">\r\n       <defs>\r\n        <path d=\"M 40.578125 39.3125 \r\nQ 47.65625 37.796875 51.625 33 \r\nQ 55.609375 28.21875 55.609375 21.1875 \r\nQ 55.609375 10.40625 48.1875 4.484375 \r\nQ 40.765625 -1.421875 27.09375 -1.421875 \r\nQ 22.515625 -1.421875 17.65625 -0.515625 \r\nQ 12.796875 0.390625 7.625 2.203125 \r\nL 7.625 11.71875 \r\nQ 11.71875 9.328125 16.59375 8.109375 \r\nQ 21.484375 6.890625 26.8125 6.890625 \r\nQ 36.078125 6.890625 40.9375 10.546875 \r\nQ 45.796875 14.203125 45.796875 21.1875 \r\nQ 45.796875 27.640625 41.28125 31.265625 \r\nQ 36.765625 34.90625 28.71875 34.90625 \r\nL 20.21875 34.90625 \r\nL 20.21875 43.015625 \r\nL 29.109375 43.015625 \r\nQ 36.375 43.015625 40.234375 45.921875 \r\nQ 44.09375 48.828125 44.09375 54.296875 \r\nQ 44.09375 59.90625 40.109375 62.90625 \r\nQ 36.140625 65.921875 28.71875 65.921875 \r\nQ 24.65625 65.921875 20.015625 65.03125 \r\nQ 15.375 64.15625 9.8125 62.3125 \r\nL 9.8125 71.09375 \r\nQ 15.4375 72.65625 20.34375 73.4375 \r\nQ 25.25 74.21875 29.59375 74.21875 \r\nQ 40.828125 74.21875 47.359375 69.109375 \r\nQ 53.90625 64.015625 53.90625 55.328125 \r\nQ 53.90625 49.265625 50.4375 45.09375 \r\nQ 46.96875 40.921875 40.578125 39.3125 \r\nz\r\n\" id=\"DejaVuSans-51\"/>\r\n       </defs>\r\n       <use xlink:href=\"#DejaVuSans-51\"/>\r\n      </g>\r\n     </g>\r\n    </g>\r\n    <g id=\"xtick_5\">\r\n     <g id=\"line2d_5\">\r\n      <g>\r\n       <use style=\"stroke:#000000;stroke-width:0.8;\" x=\"220.952164\" xlink:href=\"#ma15d1223d1\" y=\"239.758125\"/>\r\n      </g>\r\n     </g>\r\n     <g id=\"text_5\">\r\n      <!-- 4 -->\r\n      <g transform=\"translate(217.452789 255.116406)scale(0.11 -0.11)\">\r\n       <defs>\r\n        <path d=\"M 37.796875 64.3125 \r\nL 12.890625 25.390625 \r\nL 37.796875 25.390625 \r\nz\r\nM 35.203125 72.90625 \r\nL 47.609375 72.90625 \r\nL 47.609375 25.390625 \r\nL 58.015625 25.390625 \r\nL 58.015625 17.1875 \r\nL 47.609375 17.1875 \r\nL 47.609375 0 \r\nL 37.796875 0 \r\nL 37.796875 17.1875 \r\nL 4.890625 17.1875 \r\nL 4.890625 26.703125 \r\nz\r\n\" id=\"DejaVuSans-52\"/>\r\n       </defs>\r\n       <use xlink:href=\"#DejaVuSans-52\"/>\r\n      </g>\r\n     </g>\r\n    </g>\r\n    <g id=\"xtick_6\">\r\n     <g id=\"line2d_6\">\r\n      <g>\r\n       <use style=\"stroke:#000000;stroke-width:0.8;\" x=\"258.666054\" xlink:href=\"#ma15d1223d1\" y=\"239.758125\"/>\r\n      </g>\r\n     </g>\r\n     <g id=\"text_6\">\r\n      <!-- 5 -->\r\n      <g transform=\"translate(255.166679 255.116406)scale(0.11 -0.11)\">\r\n       <defs>\r\n        <path d=\"M 10.796875 72.90625 \r\nL 49.515625 72.90625 \r\nL 49.515625 64.59375 \r\nL 19.828125 64.59375 \r\nL 19.828125 46.734375 \r\nQ 21.96875 47.46875 24.109375 47.828125 \r\nQ 26.265625 48.1875 28.421875 48.1875 \r\nQ 40.625 48.1875 47.75 41.5 \r\nQ 54.890625 34.8125 54.890625 23.390625 \r\nQ 54.890625 11.625 47.5625 5.09375 \r\nQ 40.234375 -1.421875 26.90625 -1.421875 \r\nQ 22.3125 -1.421875 17.546875 -0.640625 \r\nQ 12.796875 0.140625 7.71875 1.703125 \r\nL 7.71875 11.625 \r\nQ 12.109375 9.234375 16.796875 8.0625 \r\nQ 21.484375 6.890625 26.703125 6.890625 \r\nQ 35.15625 6.890625 40.078125 11.328125 \r\nQ 45.015625 15.765625 45.015625 23.390625 \r\nQ 45.015625 31 40.078125 35.4375 \r\nQ 35.15625 39.890625 26.703125 39.890625 \r\nQ 22.75 39.890625 18.8125 39.015625 \r\nQ 14.890625 38.140625 10.796875 36.28125 \r\nz\r\n\" id=\"DejaVuSans-53\"/>\r\n       </defs>\r\n       <use xlink:href=\"#DejaVuSans-53\"/>\r\n      </g>\r\n     </g>\r\n    </g>\r\n    <g id=\"xtick_7\">\r\n     <g id=\"line2d_7\">\r\n      <g>\r\n       <use style=\"stroke:#000000;stroke-width:0.8;\" x=\"296.379945\" xlink:href=\"#ma15d1223d1\" y=\"239.758125\"/>\r\n      </g>\r\n     </g>\r\n     <g id=\"text_7\">\r\n      <!-- 6 -->\r\n      <g transform=\"translate(292.88057 255.116406)scale(0.11 -0.11)\">\r\n       <defs>\r\n        <path d=\"M 33.015625 40.375 \r\nQ 26.375 40.375 22.484375 35.828125 \r\nQ 18.609375 31.296875 18.609375 23.390625 \r\nQ 18.609375 15.53125 22.484375 10.953125 \r\nQ 26.375 6.390625 33.015625 6.390625 \r\nQ 39.65625 6.390625 43.53125 10.953125 \r\nQ 47.40625 15.53125 47.40625 23.390625 \r\nQ 47.40625 31.296875 43.53125 35.828125 \r\nQ 39.65625 40.375 33.015625 40.375 \r\nz\r\nM 52.59375 71.296875 \r\nL 52.59375 62.3125 \r\nQ 48.875 64.0625 45.09375 64.984375 \r\nQ 41.3125 65.921875 37.59375 65.921875 \r\nQ 27.828125 65.921875 22.671875 59.328125 \r\nQ 17.53125 52.734375 16.796875 39.40625 \r\nQ 19.671875 43.65625 24.015625 45.921875 \r\nQ 28.375 48.1875 33.59375 48.1875 \r\nQ 44.578125 48.1875 50.953125 41.515625 \r\nQ 57.328125 34.859375 57.328125 23.390625 \r\nQ 57.328125 12.15625 50.6875 5.359375 \r\nQ 44.046875 -1.421875 33.015625 -1.421875 \r\nQ 20.359375 -1.421875 13.671875 8.265625 \r\nQ 6.984375 17.96875 6.984375 36.375 \r\nQ 6.984375 53.65625 15.1875 63.9375 \r\nQ 23.390625 74.21875 37.203125 74.21875 \r\nQ 40.921875 74.21875 44.703125 73.484375 \r\nQ 48.484375 72.75 52.59375 71.296875 \r\nz\r\n\" id=\"DejaVuSans-54\"/>\r\n       </defs>\r\n       <use xlink:href=\"#DejaVuSans-54\"/>\r\n      </g>\r\n     </g>\r\n    </g>\r\n    <g id=\"xtick_8\">\r\n     <g id=\"line2d_8\">\r\n      <g>\r\n       <use style=\"stroke:#000000;stroke-width:0.8;\" x=\"334.093835\" xlink:href=\"#ma15d1223d1\" y=\"239.758125\"/>\r\n      </g>\r\n     </g>\r\n     <g id=\"text_8\">\r\n      <!-- 7 -->\r\n      <g transform=\"translate(330.59446 255.116406)scale(0.11 -0.11)\">\r\n       <defs>\r\n        <path d=\"M 8.203125 72.90625 \r\nL 55.078125 72.90625 \r\nL 55.078125 68.703125 \r\nL 28.609375 0 \r\nL 18.3125 0 \r\nL 43.21875 64.59375 \r\nL 8.203125 64.59375 \r\nz\r\n\" id=\"DejaVuSans-55\"/>\r\n       </defs>\r\n       <use xlink:href=\"#DejaVuSans-55\"/>\r\n      </g>\r\n     </g>\r\n    </g>\r\n    <g id=\"xtick_9\">\r\n     <g id=\"line2d_9\">\r\n      <g>\r\n       <use style=\"stroke:#000000;stroke-width:0.8;\" x=\"371.807726\" xlink:href=\"#ma15d1223d1\" y=\"239.758125\"/>\r\n      </g>\r\n     </g>\r\n     <g id=\"text_9\">\r\n      <!-- 8 -->\r\n      <g transform=\"translate(368.308351 255.116406)scale(0.11 -0.11)\">\r\n       <defs>\r\n        <path d=\"M 31.78125 34.625 \r\nQ 24.75 34.625 20.71875 30.859375 \r\nQ 16.703125 27.09375 16.703125 20.515625 \r\nQ 16.703125 13.921875 20.71875 10.15625 \r\nQ 24.75 6.390625 31.78125 6.390625 \r\nQ 38.8125 6.390625 42.859375 10.171875 \r\nQ 46.921875 13.96875 46.921875 20.515625 \r\nQ 46.921875 27.09375 42.890625 30.859375 \r\nQ 38.875 34.625 31.78125 34.625 \r\nz\r\nM 21.921875 38.8125 \r\nQ 15.578125 40.375 12.03125 44.71875 \r\nQ 8.5 49.078125 8.5 55.328125 \r\nQ 8.5 64.0625 14.71875 69.140625 \r\nQ 20.953125 74.21875 31.78125 74.21875 \r\nQ 42.671875 74.21875 48.875 69.140625 \r\nQ 55.078125 64.0625 55.078125 55.328125 \r\nQ 55.078125 49.078125 51.53125 44.71875 \r\nQ 48 40.375 41.703125 38.8125 \r\nQ 48.828125 37.15625 52.796875 32.3125 \r\nQ 56.78125 27.484375 56.78125 20.515625 \r\nQ 56.78125 9.90625 50.3125 4.234375 \r\nQ 43.84375 -1.421875 31.78125 -1.421875 \r\nQ 19.734375 -1.421875 13.25 4.234375 \r\nQ 6.78125 9.90625 6.78125 20.515625 \r\nQ 6.78125 27.484375 10.78125 32.3125 \r\nQ 14.796875 37.15625 21.921875 38.8125 \r\nz\r\nM 18.3125 54.390625 \r\nQ 18.3125 48.734375 21.84375 45.5625 \r\nQ 25.390625 42.390625 31.78125 42.390625 \r\nQ 38.140625 42.390625 41.71875 45.5625 \r\nQ 45.3125 48.734375 45.3125 54.390625 \r\nQ 45.3125 60.0625 41.71875 63.234375 \r\nQ 38.140625 66.40625 31.78125 66.40625 \r\nQ 25.390625 66.40625 21.84375 63.234375 \r\nQ 18.3125 60.0625 18.3125 54.390625 \r\nz\r\n\" id=\"DejaVuSans-56\"/>\r\n       </defs>\r\n       <use xlink:href=\"#DejaVuSans-56\"/>\r\n      </g>\r\n     </g>\r\n    </g>\r\n   </g>\r\n   <g id=\"matplotlib.axis_2\">\r\n    <g id=\"ytick_1\">\r\n     <g id=\"line2d_10\">\r\n      <defs>\r\n       <path d=\"M 0 0 \r\nL -3.5 0 \r\n\" id=\"med6c4826a9\" style=\"stroke:#000000;stroke-width:0.8;\"/>\r\n      </defs>\r\n      <g>\r\n       <use style=\"stroke:#000000;stroke-width:0.8;\" x=\"54.908594\" xlink:href=\"#med6c4826a9\" y=\"230.032692\"/>\r\n      </g>\r\n     </g>\r\n     <g id=\"text_10\">\r\n      <!-- −0.006 -->\r\n      <g transform=\"translate(7.2 234.211832)scale(0.11 -0.11)\">\r\n       <defs>\r\n        <path d=\"M 10.59375 35.5 \r\nL 73.1875 35.5 \r\nL 73.1875 27.203125 \r\nL 10.59375 27.203125 \r\nz\r\n\" id=\"DejaVuSans-8722\"/>\r\n        <path d=\"M 10.6875 12.40625 \r\nL 21 12.40625 \r\nL 21 0 \r\nL 10.6875 0 \r\nz\r\n\" id=\"DejaVuSans-46\"/>\r\n       </defs>\r\n       <use xlink:href=\"#DejaVuSans-8722\"/>\r\n       <use x=\"83.789062\" xlink:href=\"#DejaVuSans-48\"/>\r\n       <use x=\"147.412109\" xlink:href=\"#DejaVuSans-46\"/>\r\n       <use x=\"179.199219\" xlink:href=\"#DejaVuSans-48\"/>\r\n       <use x=\"242.822266\" xlink:href=\"#DejaVuSans-48\"/>\r\n       <use x=\"306.445312\" xlink:href=\"#DejaVuSans-54\"/>\r\n      </g>\r\n     </g>\r\n    </g>\r\n    <g id=\"ytick_2\">\r\n     <g id=\"line2d_11\">\r\n      <g>\r\n       <use style=\"stroke:#000000;stroke-width:0.8;\" x=\"54.908594\" xlink:href=\"#med6c4826a9\" y=\"197.050634\"/>\r\n      </g>\r\n     </g>\r\n     <g id=\"text_11\">\r\n      <!-- −0.005 -->\r\n      <g transform=\"translate(7.2 201.229774)scale(0.11 -0.11)\">\r\n       <use xlink:href=\"#DejaVuSans-8722\"/>\r\n       <use x=\"83.789062\" xlink:href=\"#DejaVuSans-48\"/>\r\n       <use x=\"147.412109\" xlink:href=\"#DejaVuSans-46\"/>\r\n       <use x=\"179.199219\" xlink:href=\"#DejaVuSans-48\"/>\r\n       <use x=\"242.822266\" xlink:href=\"#DejaVuSans-48\"/>\r\n       <use x=\"306.445312\" xlink:href=\"#DejaVuSans-53\"/>\r\n      </g>\r\n     </g>\r\n    </g>\r\n    <g id=\"ytick_3\">\r\n     <g id=\"line2d_12\">\r\n      <g>\r\n       <use style=\"stroke:#000000;stroke-width:0.8;\" x=\"54.908594\" xlink:href=\"#med6c4826a9\" y=\"164.068576\"/>\r\n      </g>\r\n     </g>\r\n     <g id=\"text_12\">\r\n      <!-- −0.004 -->\r\n      <g transform=\"translate(7.2 168.247716)scale(0.11 -0.11)\">\r\n       <use xlink:href=\"#DejaVuSans-8722\"/>\r\n       <use x=\"83.789062\" xlink:href=\"#DejaVuSans-48\"/>\r\n       <use x=\"147.412109\" xlink:href=\"#DejaVuSans-46\"/>\r\n       <use x=\"179.199219\" xlink:href=\"#DejaVuSans-48\"/>\r\n       <use x=\"242.822266\" xlink:href=\"#DejaVuSans-48\"/>\r\n       <use x=\"306.445312\" xlink:href=\"#DejaVuSans-52\"/>\r\n      </g>\r\n     </g>\r\n    </g>\r\n    <g id=\"ytick_4\">\r\n     <g id=\"line2d_13\">\r\n      <g>\r\n       <use style=\"stroke:#000000;stroke-width:0.8;\" x=\"54.908594\" xlink:href=\"#med6c4826a9\" y=\"131.086518\"/>\r\n      </g>\r\n     </g>\r\n     <g id=\"text_13\">\r\n      <!-- −0.003 -->\r\n      <g transform=\"translate(7.2 135.265658)scale(0.11 -0.11)\">\r\n       <use xlink:href=\"#DejaVuSans-8722\"/>\r\n       <use x=\"83.789062\" xlink:href=\"#DejaVuSans-48\"/>\r\n       <use x=\"147.412109\" xlink:href=\"#DejaVuSans-46\"/>\r\n       <use x=\"179.199219\" xlink:href=\"#DejaVuSans-48\"/>\r\n       <use x=\"242.822266\" xlink:href=\"#DejaVuSans-48\"/>\r\n       <use x=\"306.445312\" xlink:href=\"#DejaVuSans-51\"/>\r\n      </g>\r\n     </g>\r\n    </g>\r\n    <g id=\"ytick_5\">\r\n     <g id=\"line2d_14\">\r\n      <g>\r\n       <use style=\"stroke:#000000;stroke-width:0.8;\" x=\"54.908594\" xlink:href=\"#med6c4826a9\" y=\"98.104459\"/>\r\n      </g>\r\n     </g>\r\n     <g id=\"text_14\">\r\n      <!-- −0.002 -->\r\n      <g transform=\"translate(7.2 102.2836)scale(0.11 -0.11)\">\r\n       <use xlink:href=\"#DejaVuSans-8722\"/>\r\n       <use x=\"83.789062\" xlink:href=\"#DejaVuSans-48\"/>\r\n       <use x=\"147.412109\" xlink:href=\"#DejaVuSans-46\"/>\r\n       <use x=\"179.199219\" xlink:href=\"#DejaVuSans-48\"/>\r\n       <use x=\"242.822266\" xlink:href=\"#DejaVuSans-48\"/>\r\n       <use x=\"306.445312\" xlink:href=\"#DejaVuSans-50\"/>\r\n      </g>\r\n     </g>\r\n    </g>\r\n    <g id=\"ytick_6\">\r\n     <g id=\"line2d_15\">\r\n      <g>\r\n       <use style=\"stroke:#000000;stroke-width:0.8;\" x=\"54.908594\" xlink:href=\"#med6c4826a9\" y=\"65.122401\"/>\r\n      </g>\r\n     </g>\r\n     <g id=\"text_15\">\r\n      <!-- −0.001 -->\r\n      <g transform=\"translate(7.2 69.301542)scale(0.11 -0.11)\">\r\n       <use xlink:href=\"#DejaVuSans-8722\"/>\r\n       <use x=\"83.789062\" xlink:href=\"#DejaVuSans-48\"/>\r\n       <use x=\"147.412109\" xlink:href=\"#DejaVuSans-46\"/>\r\n       <use x=\"179.199219\" xlink:href=\"#DejaVuSans-48\"/>\r\n       <use x=\"242.822266\" xlink:href=\"#DejaVuSans-48\"/>\r\n       <use x=\"306.445312\" xlink:href=\"#DejaVuSans-49\"/>\r\n      </g>\r\n     </g>\r\n    </g>\r\n    <g id=\"ytick_7\">\r\n     <g id=\"line2d_16\">\r\n      <g>\r\n       <use style=\"stroke:#000000;stroke-width:0.8;\" x=\"54.908594\" xlink:href=\"#med6c4826a9\" y=\"32.140343\"/>\r\n      </g>\r\n     </g>\r\n     <g id=\"text_16\">\r\n      <!-- 0.000 -->\r\n      <g transform=\"translate(16.417656 36.319484)scale(0.11 -0.11)\">\r\n       <use xlink:href=\"#DejaVuSans-48\"/>\r\n       <use x=\"63.623047\" xlink:href=\"#DejaVuSans-46\"/>\r\n       <use x=\"95.410156\" xlink:href=\"#DejaVuSans-48\"/>\r\n       <use x=\"159.033203\" xlink:href=\"#DejaVuSans-48\"/>\r\n       <use x=\"222.65625\" xlink:href=\"#DejaVuSans-48\"/>\r\n      </g>\r\n     </g>\r\n    </g>\r\n   </g>\r\n   <g id=\"line2d_17\">\r\n    <path clip-path=\"url(#p6449f3581e)\" d=\"M 70.126776 229.874489 \r\nL 70.15695 229.716349 \r\nL 70.163234 229.683432 \r\nL 70.169488 229.650673 \r\nL 70.181997 229.585172 \r\nL 70.207016 229.454236 \r\nL 70.257053 229.192623 \r\nL 70.357126 228.670438 \r\nL 70.557274 227.630214 \r\nL 70.957569 225.566239 \r\nL 71.758159 221.503321 \r\nL 73.359339 213.630848 \r\nL 76.550677 198.896582 \r\nL 80.322066 183.015035 \r\nL 84.093455 168.646017 \r\nL 87.864844 155.645477 \r\nL 91.636233 143.883083 \r\nL 95.407622 133.240917 \r\nL 99.179011 123.612291 \r\nL 102.9504 114.900677 \r\nL 106.721789 107.018741 \r\nL 110.493178 99.887465 \r\nL 114.264567 93.435358 \r\nL 118.035956 87.597738 \r\nL 121.807345 82.316081 \r\nL 125.578734 77.537439 \r\nL 129.350123 73.213907 \r\nL 133.121512 69.302139 \r\nL 136.892902 65.76292 \r\nL 140.664291 62.56077 \r\nL 144.43568 59.663587 \r\nL 148.207069 57.042325 \r\nL 151.978458 54.670708 \r\nL 155.749847 52.524959 \r\nL 159.521236 50.583567 \r\nL 163.292625 48.82707 \r\nL 167.064014 47.237858 \r\nL 170.835403 45.799999 \r\nL 174.606792 44.49908 \r\nL 178.378181 43.322057 \r\nL 182.14957 42.257132 \r\nL 185.920959 41.293628 \r\nL 189.692348 40.421887 \r\nL 193.463737 39.633169 \r\nL 197.235126 38.919566 \r\nL 201.006515 38.273926 \r\nL 204.777905 37.689775 \r\nL 208.549294 37.161258 \r\nL 212.320683 36.683076 \r\nL 216.092072 36.250435 \r\nL 219.863461 35.858997 \r\nL 223.63485 35.50484 \r\nL 227.406239 35.184412 \r\nL 231.177628 34.894501 \r\nL 234.949017 34.6322 \r\nL 238.720406 34.39488 \r\nL 242.491795 34.180163 \r\nL 246.263184 33.985894 \r\nL 250.034573 33.810127 \r\nL 253.805962 33.6511 \r\nL 257.577351 33.507219 \r\nL 261.34874 33.37704 \r\nL 265.120129 33.25926 \r\nL 268.891518 33.152696 \r\nL 272.662907 33.056282 \r\nL 276.434297 32.96905 \r\nL 280.205686 32.890125 \r\nL 283.977075 32.818717 \r\nL 287.748464 32.75411 \r\nL 291.519853 32.695656 \r\nL 295.291242 32.64277 \r\nL 299.062631 32.594919 \r\nL 302.83402 32.551627 \r\nL 306.605409 32.512457 \r\nL 310.376798 32.477017 \r\nL 314.148187 32.444953 \r\nL 317.919576 32.415943 \r\nL 321.690965 32.389695 \r\nL 325.462354 32.365948 \r\nL 329.233743 32.344462 \r\nL 333.005132 32.325022 \r\nL 336.776521 32.307433 \r\nL 340.54791 32.29152 \r\nL 344.3193 32.277122 \r\nL 348.090689 32.264096 \r\nL 351.862078 32.25231 \r\nL 355.633467 32.241646 \r\nL 359.404856 32.231999 \r\nL 363.176245 32.22327 \r\nL 366.947634 32.215372 \r\nL 370.719023 32.208226 \r\nL 374.490412 32.201761 \r\n\" style=\"fill:none;stroke:#1f77b4;stroke-linecap:square;stroke-width:1.5;\"/>\r\n   </g>\r\n   <g id=\"patch_3\">\r\n    <path d=\"M 54.908594 239.758125 \r\nL 54.908594 22.318125 \r\n\" style=\"fill:none;stroke:#000000;stroke-linecap:square;stroke-linejoin:miter;stroke-width:0.8;\"/>\r\n   </g>\r\n   <g id=\"patch_4\">\r\n    <path d=\"M 389.708594 239.758125 \r\nL 389.708594 22.318125 \r\n\" style=\"fill:none;stroke:#000000;stroke-linecap:square;stroke-linejoin:miter;stroke-width:0.8;\"/>\r\n   </g>\r\n   <g id=\"patch_5\">\r\n    <path d=\"M 54.908594 239.758125 \r\nL 389.708594 239.758125 \r\n\" style=\"fill:none;stroke:#000000;stroke-linecap:square;stroke-linejoin:miter;stroke-width:0.8;\"/>\r\n   </g>\r\n   <g id=\"patch_6\">\r\n    <path d=\"M 54.908594 22.318125 \r\nL 389.708594 22.318125 \r\n\" style=\"fill:none;stroke:#000000;stroke-linecap:square;stroke-linejoin:miter;stroke-width:0.8;\"/>\r\n   </g>\r\n   <g id=\"text_17\">\r\n    <!-- Carga de un condensador -->\r\n    <g transform=\"translate(144.942344 16.318125)scale(0.12 -0.12)\">\r\n     <defs>\r\n      <path d=\"M 64.40625 67.28125 \r\nL 64.40625 56.890625 \r\nQ 59.421875 61.53125 53.78125 63.8125 \r\nQ 48.140625 66.109375 41.796875 66.109375 \r\nQ 29.296875 66.109375 22.65625 58.46875 \r\nQ 16.015625 50.828125 16.015625 36.375 \r\nQ 16.015625 21.96875 22.65625 14.328125 \r\nQ 29.296875 6.6875 41.796875 6.6875 \r\nQ 48.140625 6.6875 53.78125 8.984375 \r\nQ 59.421875 11.28125 64.40625 15.921875 \r\nL 64.40625 5.609375 \r\nQ 59.234375 2.09375 53.4375 0.328125 \r\nQ 47.65625 -1.421875 41.21875 -1.421875 \r\nQ 24.65625 -1.421875 15.125 8.703125 \r\nQ 5.609375 18.84375 5.609375 36.375 \r\nQ 5.609375 53.953125 15.125 64.078125 \r\nQ 24.65625 74.21875 41.21875 74.21875 \r\nQ 47.75 74.21875 53.53125 72.484375 \r\nQ 59.328125 70.75 64.40625 67.28125 \r\nz\r\n\" id=\"DejaVuSans-67\"/>\r\n      <path d=\"M 34.28125 27.484375 \r\nQ 23.390625 27.484375 19.1875 25 \r\nQ 14.984375 22.515625 14.984375 16.5 \r\nQ 14.984375 11.71875 18.140625 8.90625 \r\nQ 21.296875 6.109375 26.703125 6.109375 \r\nQ 34.1875 6.109375 38.703125 11.40625 \r\nQ 43.21875 16.703125 43.21875 25.484375 \r\nL 43.21875 27.484375 \r\nz\r\nM 52.203125 31.203125 \r\nL 52.203125 0 \r\nL 43.21875 0 \r\nL 43.21875 8.296875 \r\nQ 40.140625 3.328125 35.546875 0.953125 \r\nQ 30.953125 -1.421875 24.3125 -1.421875 \r\nQ 15.921875 -1.421875 10.953125 3.296875 \r\nQ 6 8.015625 6 15.921875 \r\nQ 6 25.140625 12.171875 29.828125 \r\nQ 18.359375 34.515625 30.609375 34.515625 \r\nL 43.21875 34.515625 \r\nL 43.21875 35.40625 \r\nQ 43.21875 41.609375 39.140625 45 \r\nQ 35.0625 48.390625 27.6875 48.390625 \r\nQ 23 48.390625 18.546875 47.265625 \r\nQ 14.109375 46.140625 10.015625 43.890625 \r\nL 10.015625 52.203125 \r\nQ 14.9375 54.109375 19.578125 55.046875 \r\nQ 24.21875 56 28.609375 56 \r\nQ 40.484375 56 46.34375 49.84375 \r\nQ 52.203125 43.703125 52.203125 31.203125 \r\nz\r\n\" id=\"DejaVuSans-97\"/>\r\n      <path d=\"M 41.109375 46.296875 \r\nQ 39.59375 47.171875 37.8125 47.578125 \r\nQ 36.03125 48 33.890625 48 \r\nQ 26.265625 48 22.1875 43.046875 \r\nQ 18.109375 38.09375 18.109375 28.8125 \r\nL 18.109375 0 \r\nL 9.078125 0 \r\nL 9.078125 54.6875 \r\nL 18.109375 54.6875 \r\nL 18.109375 46.1875 \r\nQ 20.953125 51.171875 25.484375 53.578125 \r\nQ 30.03125 56 36.53125 56 \r\nQ 37.453125 56 38.578125 55.875 \r\nQ 39.703125 55.765625 41.0625 55.515625 \r\nz\r\n\" id=\"DejaVuSans-114\"/>\r\n      <path d=\"M 45.40625 27.984375 \r\nQ 45.40625 37.75 41.375 43.109375 \r\nQ 37.359375 48.484375 30.078125 48.484375 \r\nQ 22.859375 48.484375 18.828125 43.109375 \r\nQ 14.796875 37.75 14.796875 27.984375 \r\nQ 14.796875 18.265625 18.828125 12.890625 \r\nQ 22.859375 7.515625 30.078125 7.515625 \r\nQ 37.359375 7.515625 41.375 12.890625 \r\nQ 45.40625 18.265625 45.40625 27.984375 \r\nz\r\nM 54.390625 6.78125 \r\nQ 54.390625 -7.171875 48.1875 -13.984375 \r\nQ 42 -20.796875 29.203125 -20.796875 \r\nQ 24.46875 -20.796875 20.265625 -20.09375 \r\nQ 16.0625 -19.390625 12.109375 -17.921875 \r\nL 12.109375 -9.1875 \r\nQ 16.0625 -11.328125 19.921875 -12.34375 \r\nQ 23.78125 -13.375 27.78125 -13.375 \r\nQ 36.625 -13.375 41.015625 -8.765625 \r\nQ 45.40625 -4.15625 45.40625 5.171875 \r\nL 45.40625 9.625 \r\nQ 42.625 4.78125 38.28125 2.390625 \r\nQ 33.9375 0 27.875 0 \r\nQ 17.828125 0 11.671875 7.65625 \r\nQ 5.515625 15.328125 5.515625 27.984375 \r\nQ 5.515625 40.671875 11.671875 48.328125 \r\nQ 17.828125 56 27.875 56 \r\nQ 33.9375 56 38.28125 53.609375 \r\nQ 42.625 51.21875 45.40625 46.390625 \r\nL 45.40625 54.6875 \r\nL 54.390625 54.6875 \r\nz\r\n\" id=\"DejaVuSans-103\"/>\r\n      <path id=\"DejaVuSans-32\"/>\r\n      <path d=\"M 45.40625 46.390625 \r\nL 45.40625 75.984375 \r\nL 54.390625 75.984375 \r\nL 54.390625 0 \r\nL 45.40625 0 \r\nL 45.40625 8.203125 \r\nQ 42.578125 3.328125 38.25 0.953125 \r\nQ 33.9375 -1.421875 27.875 -1.421875 \r\nQ 17.96875 -1.421875 11.734375 6.484375 \r\nQ 5.515625 14.40625 5.515625 27.296875 \r\nQ 5.515625 40.1875 11.734375 48.09375 \r\nQ 17.96875 56 27.875 56 \r\nQ 33.9375 56 38.25 53.625 \r\nQ 42.578125 51.265625 45.40625 46.390625 \r\nz\r\nM 14.796875 27.296875 \r\nQ 14.796875 17.390625 18.875 11.75 \r\nQ 22.953125 6.109375 30.078125 6.109375 \r\nQ 37.203125 6.109375 41.296875 11.75 \r\nQ 45.40625 17.390625 45.40625 27.296875 \r\nQ 45.40625 37.203125 41.296875 42.84375 \r\nQ 37.203125 48.484375 30.078125 48.484375 \r\nQ 22.953125 48.484375 18.875 42.84375 \r\nQ 14.796875 37.203125 14.796875 27.296875 \r\nz\r\n\" id=\"DejaVuSans-100\"/>\r\n      <path d=\"M 56.203125 29.59375 \r\nL 56.203125 25.203125 \r\nL 14.890625 25.203125 \r\nQ 15.484375 15.921875 20.484375 11.0625 \r\nQ 25.484375 6.203125 34.421875 6.203125 \r\nQ 39.59375 6.203125 44.453125 7.46875 \r\nQ 49.3125 8.734375 54.109375 11.28125 \r\nL 54.109375 2.78125 \r\nQ 49.265625 0.734375 44.1875 -0.34375 \r\nQ 39.109375 -1.421875 33.890625 -1.421875 \r\nQ 20.796875 -1.421875 13.15625 6.1875 \r\nQ 5.515625 13.8125 5.515625 26.8125 \r\nQ 5.515625 40.234375 12.765625 48.109375 \r\nQ 20.015625 56 32.328125 56 \r\nQ 43.359375 56 49.78125 48.890625 \r\nQ 56.203125 41.796875 56.203125 29.59375 \r\nz\r\nM 47.21875 32.234375 \r\nQ 47.125 39.59375 43.09375 43.984375 \r\nQ 39.0625 48.390625 32.421875 48.390625 \r\nQ 24.90625 48.390625 20.390625 44.140625 \r\nQ 15.875 39.890625 15.1875 32.171875 \r\nz\r\n\" id=\"DejaVuSans-101\"/>\r\n      <path d=\"M 8.5 21.578125 \r\nL 8.5 54.6875 \r\nL 17.484375 54.6875 \r\nL 17.484375 21.921875 \r\nQ 17.484375 14.15625 20.5 10.265625 \r\nQ 23.53125 6.390625 29.59375 6.390625 \r\nQ 36.859375 6.390625 41.078125 11.03125 \r\nQ 45.3125 15.671875 45.3125 23.6875 \r\nL 45.3125 54.6875 \r\nL 54.296875 54.6875 \r\nL 54.296875 0 \r\nL 45.3125 0 \r\nL 45.3125 8.40625 \r\nQ 42.046875 3.421875 37.71875 1 \r\nQ 33.40625 -1.421875 27.6875 -1.421875 \r\nQ 18.265625 -1.421875 13.375 4.4375 \r\nQ 8.5 10.296875 8.5 21.578125 \r\nz\r\nM 31.109375 56 \r\nz\r\n\" id=\"DejaVuSans-117\"/>\r\n      <path d=\"M 54.890625 33.015625 \r\nL 54.890625 0 \r\nL 45.90625 0 \r\nL 45.90625 32.71875 \r\nQ 45.90625 40.484375 42.875 44.328125 \r\nQ 39.84375 48.1875 33.796875 48.1875 \r\nQ 26.515625 48.1875 22.3125 43.546875 \r\nQ 18.109375 38.921875 18.109375 30.90625 \r\nL 18.109375 0 \r\nL 9.078125 0 \r\nL 9.078125 54.6875 \r\nL 18.109375 54.6875 \r\nL 18.109375 46.1875 \r\nQ 21.34375 51.125 25.703125 53.5625 \r\nQ 30.078125 56 35.796875 56 \r\nQ 45.21875 56 50.046875 50.171875 \r\nQ 54.890625 44.34375 54.890625 33.015625 \r\nz\r\n\" id=\"DejaVuSans-110\"/>\r\n      <path d=\"M 48.78125 52.59375 \r\nL 48.78125 44.1875 \r\nQ 44.96875 46.296875 41.140625 47.34375 \r\nQ 37.3125 48.390625 33.40625 48.390625 \r\nQ 24.65625 48.390625 19.8125 42.84375 \r\nQ 14.984375 37.3125 14.984375 27.296875 \r\nQ 14.984375 17.28125 19.8125 11.734375 \r\nQ 24.65625 6.203125 33.40625 6.203125 \r\nQ 37.3125 6.203125 41.140625 7.25 \r\nQ 44.96875 8.296875 48.78125 10.40625 \r\nL 48.78125 2.09375 \r\nQ 45.015625 0.34375 40.984375 -0.53125 \r\nQ 36.96875 -1.421875 32.421875 -1.421875 \r\nQ 20.0625 -1.421875 12.78125 6.34375 \r\nQ 5.515625 14.109375 5.515625 27.296875 \r\nQ 5.515625 40.671875 12.859375 48.328125 \r\nQ 20.21875 56 33.015625 56 \r\nQ 37.15625 56 41.109375 55.140625 \r\nQ 45.0625 54.296875 48.78125 52.59375 \r\nz\r\n\" id=\"DejaVuSans-99\"/>\r\n      <path d=\"M 30.609375 48.390625 \r\nQ 23.390625 48.390625 19.1875 42.75 \r\nQ 14.984375 37.109375 14.984375 27.296875 \r\nQ 14.984375 17.484375 19.15625 11.84375 \r\nQ 23.34375 6.203125 30.609375 6.203125 \r\nQ 37.796875 6.203125 41.984375 11.859375 \r\nQ 46.1875 17.53125 46.1875 27.296875 \r\nQ 46.1875 37.015625 41.984375 42.703125 \r\nQ 37.796875 48.390625 30.609375 48.390625 \r\nz\r\nM 30.609375 56 \r\nQ 42.328125 56 49.015625 48.375 \r\nQ 55.71875 40.765625 55.71875 27.296875 \r\nQ 55.71875 13.875 49.015625 6.21875 \r\nQ 42.328125 -1.421875 30.609375 -1.421875 \r\nQ 18.84375 -1.421875 12.171875 6.21875 \r\nQ 5.515625 13.875 5.515625 27.296875 \r\nQ 5.515625 40.765625 12.171875 48.375 \r\nQ 18.84375 56 30.609375 56 \r\nz\r\n\" id=\"DejaVuSans-111\"/>\r\n      <path d=\"M 44.28125 53.078125 \r\nL 44.28125 44.578125 \r\nQ 40.484375 46.53125 36.375 47.5 \r\nQ 32.28125 48.484375 27.875 48.484375 \r\nQ 21.1875 48.484375 17.84375 46.4375 \r\nQ 14.5 44.390625 14.5 40.28125 \r\nQ 14.5 37.15625 16.890625 35.375 \r\nQ 19.28125 33.59375 26.515625 31.984375 \r\nL 29.59375 31.296875 \r\nQ 39.15625 29.25 43.1875 25.515625 \r\nQ 47.21875 21.78125 47.21875 15.09375 \r\nQ 47.21875 7.46875 41.1875 3.015625 \r\nQ 35.15625 -1.421875 24.609375 -1.421875 \r\nQ 20.21875 -1.421875 15.453125 -0.5625 \r\nQ 10.6875 0.296875 5.421875 2 \r\nL 5.421875 11.28125 \r\nQ 10.40625 8.6875 15.234375 7.390625 \r\nQ 20.0625 6.109375 24.8125 6.109375 \r\nQ 31.15625 6.109375 34.5625 8.28125 \r\nQ 37.984375 10.453125 37.984375 14.40625 \r\nQ 37.984375 18.0625 35.515625 20.015625 \r\nQ 33.0625 21.96875 24.703125 23.78125 \r\nL 21.578125 24.515625 \r\nQ 13.234375 26.265625 9.515625 29.90625 \r\nQ 5.8125 33.546875 5.8125 39.890625 \r\nQ 5.8125 47.609375 11.28125 51.796875 \r\nQ 16.75 56 26.8125 56 \r\nQ 31.78125 56 36.171875 55.265625 \r\nQ 40.578125 54.546875 44.28125 53.078125 \r\nz\r\n\" id=\"DejaVuSans-115\"/>\r\n     </defs>\r\n     <use xlink:href=\"#DejaVuSans-67\"/>\r\n     <use x=\"69.824219\" xlink:href=\"#DejaVuSans-97\"/>\r\n     <use x=\"131.103516\" xlink:href=\"#DejaVuSans-114\"/>\r\n     <use x=\"170.466797\" xlink:href=\"#DejaVuSans-103\"/>\r\n     <use x=\"233.943359\" xlink:href=\"#DejaVuSans-97\"/>\r\n     <use x=\"295.222656\" xlink:href=\"#DejaVuSans-32\"/>\r\n     <use x=\"327.009766\" xlink:href=\"#DejaVuSans-100\"/>\r\n     <use x=\"390.486328\" xlink:href=\"#DejaVuSans-101\"/>\r\n     <use x=\"452.009766\" xlink:href=\"#DejaVuSans-32\"/>\r\n     <use x=\"483.796875\" xlink:href=\"#DejaVuSans-117\"/>\r\n     <use x=\"547.175781\" xlink:href=\"#DejaVuSans-110\"/>\r\n     <use x=\"610.554688\" xlink:href=\"#DejaVuSans-32\"/>\r\n     <use x=\"642.341797\" xlink:href=\"#DejaVuSans-99\"/>\r\n     <use x=\"697.322266\" xlink:href=\"#DejaVuSans-111\"/>\r\n     <use x=\"758.503906\" xlink:href=\"#DejaVuSans-110\"/>\r\n     <use x=\"821.882812\" xlink:href=\"#DejaVuSans-100\"/>\r\n     <use x=\"885.359375\" xlink:href=\"#DejaVuSans-101\"/>\r\n     <use x=\"946.882812\" xlink:href=\"#DejaVuSans-110\"/>\r\n     <use x=\"1010.261719\" xlink:href=\"#DejaVuSans-115\"/>\r\n     <use x=\"1062.361328\" xlink:href=\"#DejaVuSans-97\"/>\r\n     <use x=\"1123.640625\" xlink:href=\"#DejaVuSans-100\"/>\r\n     <use x=\"1187.117188\" xlink:href=\"#DejaVuSans-111\"/>\r\n     <use x=\"1248.298828\" xlink:href=\"#DejaVuSans-114\"/>\r\n    </g>\r\n   </g>\r\n  </g>\r\n </g>\r\n <defs>\r\n  <clipPath id=\"p6449f3581e\">\r\n   <rect height=\"217.44\" width=\"334.8\" x=\"54.908594\" y=\"22.318125\"/>\r\n  </clipPath>\r\n </defs>\r\n</svg>\r\n",
            "image/png": "[encoded data removed]"
          },
          "metadata": {
            "needs_background": "light"
          }
        }
      ],
      "execution_count": 70,
      "metadata": {}
    },
    {
      "cell_type": "markdown",
      "source": [
        "> **Pregunta:** Etiqueta los ejes convenientemente y comenta la gráfica. Dibuja otra gráfica con el voltaje en el borne `V1`. ¿Por qué son *opuestas*? ¿Qué le ocurre al voltaje a medida que evoluciona el circuito en el tiempo? Dibuja las gráficas en un formato estándar de representación vectorial (SVG, por ejemplo). Algo de ayuda [aquí](https://ipython.readthedocs.io/en/stable/api/generated/IPython.display.html#IPython.display.set_matplotlib_formats). ¿Qué valores devuelve el análisis de tipo `.op`? Justifícalo."
      ],
      "metadata": {}
    },
    {
      "cell_type": "code",
      "execution_count": 76,
      "metadata": {},
      "outputs": [
        {
          "output_type": "display_data",
          "data": {
            "text/plain": "<Figure size 432x288 with 1 Axes>",
            "image/svg+xml": "<?xml version=\"1.0\" encoding=\"utf-8\" standalone=\"no\"?>\r\n<!DOCTYPE svg PUBLIC \"-//W3C//DTD SVG 1.1//EN\"\r\n  \"http://www.w3.org/Graphics/SVG/1.1/DTD/svg11.dtd\">\r\n<!-- Created with matplotlib (https://matplotlib.org/) -->\r\n<svg height=\"264.604062pt\" version=\"1.1\" viewBox=\"0 0 372.416406 264.604062\" width=\"372.416406pt\" xmlns=\"http://www.w3.org/2000/svg\" xmlns:xlink=\"http://www.w3.org/1999/xlink\">\r\n <metadata>\r\n  <rdf:RDF xmlns:cc=\"http://creativecommons.org/ns#\" xmlns:dc=\"http://purl.org/dc/elements/1.1/\" xmlns:rdf=\"http://www.w3.org/1999/02/22-rdf-syntax-ns#\">\r\n   <cc:Work>\r\n    <dc:type rdf:resource=\"http://purl.org/dc/dcmitype/StillImage\"/>\r\n    <dc:date>2020-12-29T01:49:06.047270</dc:date>\r\n    <dc:format>image/svg+xml</dc:format>\r\n    <dc:creator>\r\n     <cc:Agent>\r\n      <dc:title>Matplotlib v3.3.3, https://matplotlib.org/</dc:title>\r\n     </cc:Agent>\r\n    </dc:creator>\r\n   </cc:Work>\r\n  </rdf:RDF>\r\n </metadata>\r\n <defs>\r\n  <style type=\"text/css\">*{stroke-linecap:butt;stroke-linejoin:round;}</style>\r\n </defs>\r\n <g id=\"figure_1\">\r\n  <g id=\"patch_1\">\r\n   <path d=\"M 0 264.604062 \r\nL 372.416406 264.604062 \r\nL 372.416406 0 \r\nL 0 0 \r\nz\r\n\" style=\"fill:none;\"/>\r\n  </g>\r\n  <g id=\"axes_1\">\r\n   <g id=\"patch_2\">\r\n    <path d=\"M 30.416406 239.758125 \r\nL 365.216406 239.758125 \r\nL 365.216406 22.318125 \r\nL 30.416406 22.318125 \r\nz\r\n\" style=\"fill:#ffffff;\"/>\r\n   </g>\r\n   <g id=\"matplotlib.axis_1\">\r\n    <g id=\"xtick_1\">\r\n     <g id=\"line2d_1\">\r\n      <defs>\r\n       <path d=\"M 0 0 \r\nL 0 3.5 \r\n\" id=\"mc4b70705a7\" style=\"stroke:#000000;stroke-width:0.8;\"/>\r\n      </defs>\r\n      <g>\r\n       <use style=\"stroke:#000000;stroke-width:0.8;\" x=\"45.604414\" xlink:href=\"#mc4b70705a7\" y=\"239.758125\"/>\r\n      </g>\r\n     </g>\r\n     <g id=\"text_1\">\r\n      <!-- 0 -->\r\n      <g transform=\"translate(42.105039 255.116406)scale(0.11 -0.11)\">\r\n       <defs>\r\n        <path d=\"M 31.78125 66.40625 \r\nQ 24.171875 66.40625 20.328125 58.90625 \r\nQ 16.5 51.421875 16.5 36.375 \r\nQ 16.5 21.390625 20.328125 13.890625 \r\nQ 24.171875 6.390625 31.78125 6.390625 \r\nQ 39.453125 6.390625 43.28125 13.890625 \r\nQ 47.125 21.390625 47.125 36.375 \r\nQ 47.125 51.421875 43.28125 58.90625 \r\nQ 39.453125 66.40625 31.78125 66.40625 \r\nz\r\nM 31.78125 74.21875 \r\nQ 44.046875 74.21875 50.515625 64.515625 \r\nQ 56.984375 54.828125 56.984375 36.375 \r\nQ 56.984375 17.96875 50.515625 8.265625 \r\nQ 44.046875 -1.421875 31.78125 -1.421875 \r\nQ 19.53125 -1.421875 13.0625 8.265625 \r\nQ 6.59375 17.96875 6.59375 36.375 \r\nQ 6.59375 54.828125 13.0625 64.515625 \r\nQ 19.53125 74.21875 31.78125 74.21875 \r\nz\r\n\" id=\"DejaVuSans-48\"/>\r\n       </defs>\r\n       <use xlink:href=\"#DejaVuSans-48\"/>\r\n      </g>\r\n     </g>\r\n    </g>\r\n    <g id=\"xtick_2\">\r\n     <g id=\"line2d_2\">\r\n      <g>\r\n       <use style=\"stroke:#000000;stroke-width:0.8;\" x=\"83.318304\" xlink:href=\"#mc4b70705a7\" y=\"239.758125\"/>\r\n      </g>\r\n     </g>\r\n     <g id=\"text_2\">\r\n      <!-- 1 -->\r\n      <g transform=\"translate(79.818929 255.116406)scale(0.11 -0.11)\">\r\n       <defs>\r\n        <path d=\"M 12.40625 8.296875 \r\nL 28.515625 8.296875 \r\nL 28.515625 63.921875 \r\nL 10.984375 60.40625 \r\nL 10.984375 69.390625 \r\nL 28.421875 72.90625 \r\nL 38.28125 72.90625 \r\nL 38.28125 8.296875 \r\nL 54.390625 8.296875 \r\nL 54.390625 0 \r\nL 12.40625 0 \r\nz\r\n\" id=\"DejaVuSans-49\"/>\r\n       </defs>\r\n       <use xlink:href=\"#DejaVuSans-49\"/>\r\n      </g>\r\n     </g>\r\n    </g>\r\n    <g id=\"xtick_3\">\r\n     <g id=\"line2d_3\">\r\n      <g>\r\n       <use style=\"stroke:#000000;stroke-width:0.8;\" x=\"121.032195\" xlink:href=\"#mc4b70705a7\" y=\"239.758125\"/>\r\n      </g>\r\n     </g>\r\n     <g id=\"text_3\">\r\n      <!-- 2 -->\r\n      <g transform=\"translate(117.53282 255.116406)scale(0.11 -0.11)\">\r\n       <defs>\r\n        <path d=\"M 19.1875 8.296875 \r\nL 53.609375 8.296875 \r\nL 53.609375 0 \r\nL 7.328125 0 \r\nL 7.328125 8.296875 \r\nQ 12.9375 14.109375 22.625 23.890625 \r\nQ 32.328125 33.6875 34.8125 36.53125 \r\nQ 39.546875 41.84375 41.421875 45.53125 \r\nQ 43.3125 49.21875 43.3125 52.78125 \r\nQ 43.3125 58.59375 39.234375 62.25 \r\nQ 35.15625 65.921875 28.609375 65.921875 \r\nQ 23.96875 65.921875 18.8125 64.3125 \r\nQ 13.671875 62.703125 7.8125 59.421875 \r\nL 7.8125 69.390625 \r\nQ 13.765625 71.78125 18.9375 73 \r\nQ 24.125 74.21875 28.421875 74.21875 \r\nQ 39.75 74.21875 46.484375 68.546875 \r\nQ 53.21875 62.890625 53.21875 53.421875 \r\nQ 53.21875 48.921875 51.53125 44.890625 \r\nQ 49.859375 40.875 45.40625 35.40625 \r\nQ 44.1875 33.984375 37.640625 27.21875 \r\nQ 31.109375 20.453125 19.1875 8.296875 \r\nz\r\n\" id=\"DejaVuSans-50\"/>\r\n       </defs>\r\n       <use xlink:href=\"#DejaVuSans-50\"/>\r\n      </g>\r\n     </g>\r\n    </g>\r\n    <g id=\"xtick_4\">\r\n     <g id=\"line2d_4\">\r\n      <g>\r\n       <use style=\"stroke:#000000;stroke-width:0.8;\" x=\"158.746086\" xlink:href=\"#mc4b70705a7\" y=\"239.758125\"/>\r\n      </g>\r\n     </g>\r\n     <g id=\"text_4\">\r\n      <!-- 3 -->\r\n      <g transform=\"translate(155.246711 255.116406)scale(0.11 -0.11)\">\r\n       <defs>\r\n        <path d=\"M 40.578125 39.3125 \r\nQ 47.65625 37.796875 51.625 33 \r\nQ 55.609375 28.21875 55.609375 21.1875 \r\nQ 55.609375 10.40625 48.1875 4.484375 \r\nQ 40.765625 -1.421875 27.09375 -1.421875 \r\nQ 22.515625 -1.421875 17.65625 -0.515625 \r\nQ 12.796875 0.390625 7.625 2.203125 \r\nL 7.625 11.71875 \r\nQ 11.71875 9.328125 16.59375 8.109375 \r\nQ 21.484375 6.890625 26.8125 6.890625 \r\nQ 36.078125 6.890625 40.9375 10.546875 \r\nQ 45.796875 14.203125 45.796875 21.1875 \r\nQ 45.796875 27.640625 41.28125 31.265625 \r\nQ 36.765625 34.90625 28.71875 34.90625 \r\nL 20.21875 34.90625 \r\nL 20.21875 43.015625 \r\nL 29.109375 43.015625 \r\nQ 36.375 43.015625 40.234375 45.921875 \r\nQ 44.09375 48.828125 44.09375 54.296875 \r\nQ 44.09375 59.90625 40.109375 62.90625 \r\nQ 36.140625 65.921875 28.71875 65.921875 \r\nQ 24.65625 65.921875 20.015625 65.03125 \r\nQ 15.375 64.15625 9.8125 62.3125 \r\nL 9.8125 71.09375 \r\nQ 15.4375 72.65625 20.34375 73.4375 \r\nQ 25.25 74.21875 29.59375 74.21875 \r\nQ 40.828125 74.21875 47.359375 69.109375 \r\nQ 53.90625 64.015625 53.90625 55.328125 \r\nQ 53.90625 49.265625 50.4375 45.09375 \r\nQ 46.96875 40.921875 40.578125 39.3125 \r\nz\r\n\" id=\"DejaVuSans-51\"/>\r\n       </defs>\r\n       <use xlink:href=\"#DejaVuSans-51\"/>\r\n      </g>\r\n     </g>\r\n    </g>\r\n    <g id=\"xtick_5\">\r\n     <g id=\"line2d_5\">\r\n      <g>\r\n       <use style=\"stroke:#000000;stroke-width:0.8;\" x=\"196.459976\" xlink:href=\"#mc4b70705a7\" y=\"239.758125\"/>\r\n      </g>\r\n     </g>\r\n     <g id=\"text_5\">\r\n      <!-- 4 -->\r\n      <g transform=\"translate(192.960601 255.116406)scale(0.11 -0.11)\">\r\n       <defs>\r\n        <path d=\"M 37.796875 64.3125 \r\nL 12.890625 25.390625 \r\nL 37.796875 25.390625 \r\nz\r\nM 35.203125 72.90625 \r\nL 47.609375 72.90625 \r\nL 47.609375 25.390625 \r\nL 58.015625 25.390625 \r\nL 58.015625 17.1875 \r\nL 47.609375 17.1875 \r\nL 47.609375 0 \r\nL 37.796875 0 \r\nL 37.796875 17.1875 \r\nL 4.890625 17.1875 \r\nL 4.890625 26.703125 \r\nz\r\n\" id=\"DejaVuSans-52\"/>\r\n       </defs>\r\n       <use xlink:href=\"#DejaVuSans-52\"/>\r\n      </g>\r\n     </g>\r\n    </g>\r\n    <g id=\"xtick_6\">\r\n     <g id=\"line2d_6\">\r\n      <g>\r\n       <use style=\"stroke:#000000;stroke-width:0.8;\" x=\"234.173867\" xlink:href=\"#mc4b70705a7\" y=\"239.758125\"/>\r\n      </g>\r\n     </g>\r\n     <g id=\"text_6\">\r\n      <!-- 5 -->\r\n      <g transform=\"translate(230.674492 255.116406)scale(0.11 -0.11)\">\r\n       <defs>\r\n        <path d=\"M 10.796875 72.90625 \r\nL 49.515625 72.90625 \r\nL 49.515625 64.59375 \r\nL 19.828125 64.59375 \r\nL 19.828125 46.734375 \r\nQ 21.96875 47.46875 24.109375 47.828125 \r\nQ 26.265625 48.1875 28.421875 48.1875 \r\nQ 40.625 48.1875 47.75 41.5 \r\nQ 54.890625 34.8125 54.890625 23.390625 \r\nQ 54.890625 11.625 47.5625 5.09375 \r\nQ 40.234375 -1.421875 26.90625 -1.421875 \r\nQ 22.3125 -1.421875 17.546875 -0.640625 \r\nQ 12.796875 0.140625 7.71875 1.703125 \r\nL 7.71875 11.625 \r\nQ 12.109375 9.234375 16.796875 8.0625 \r\nQ 21.484375 6.890625 26.703125 6.890625 \r\nQ 35.15625 6.890625 40.078125 11.328125 \r\nQ 45.015625 15.765625 45.015625 23.390625 \r\nQ 45.015625 31 40.078125 35.4375 \r\nQ 35.15625 39.890625 26.703125 39.890625 \r\nQ 22.75 39.890625 18.8125 39.015625 \r\nQ 14.890625 38.140625 10.796875 36.28125 \r\nz\r\n\" id=\"DejaVuSans-53\"/>\r\n       </defs>\r\n       <use xlink:href=\"#DejaVuSans-53\"/>\r\n      </g>\r\n     </g>\r\n    </g>\r\n    <g id=\"xtick_7\">\r\n     <g id=\"line2d_7\">\r\n      <g>\r\n       <use style=\"stroke:#000000;stroke-width:0.8;\" x=\"271.887757\" xlink:href=\"#mc4b70705a7\" y=\"239.758125\"/>\r\n      </g>\r\n     </g>\r\n     <g id=\"text_7\">\r\n      <!-- 6 -->\r\n      <g transform=\"translate(268.388382 255.116406)scale(0.11 -0.11)\">\r\n       <defs>\r\n        <path d=\"M 33.015625 40.375 \r\nQ 26.375 40.375 22.484375 35.828125 \r\nQ 18.609375 31.296875 18.609375 23.390625 \r\nQ 18.609375 15.53125 22.484375 10.953125 \r\nQ 26.375 6.390625 33.015625 6.390625 \r\nQ 39.65625 6.390625 43.53125 10.953125 \r\nQ 47.40625 15.53125 47.40625 23.390625 \r\nQ 47.40625 31.296875 43.53125 35.828125 \r\nQ 39.65625 40.375 33.015625 40.375 \r\nz\r\nM 52.59375 71.296875 \r\nL 52.59375 62.3125 \r\nQ 48.875 64.0625 45.09375 64.984375 \r\nQ 41.3125 65.921875 37.59375 65.921875 \r\nQ 27.828125 65.921875 22.671875 59.328125 \r\nQ 17.53125 52.734375 16.796875 39.40625 \r\nQ 19.671875 43.65625 24.015625 45.921875 \r\nQ 28.375 48.1875 33.59375 48.1875 \r\nQ 44.578125 48.1875 50.953125 41.515625 \r\nQ 57.328125 34.859375 57.328125 23.390625 \r\nQ 57.328125 12.15625 50.6875 5.359375 \r\nQ 44.046875 -1.421875 33.015625 -1.421875 \r\nQ 20.359375 -1.421875 13.671875 8.265625 \r\nQ 6.984375 17.96875 6.984375 36.375 \r\nQ 6.984375 53.65625 15.1875 63.9375 \r\nQ 23.390625 74.21875 37.203125 74.21875 \r\nQ 40.921875 74.21875 44.703125 73.484375 \r\nQ 48.484375 72.75 52.59375 71.296875 \r\nz\r\n\" id=\"DejaVuSans-54\"/>\r\n       </defs>\r\n       <use xlink:href=\"#DejaVuSans-54\"/>\r\n      </g>\r\n     </g>\r\n    </g>\r\n    <g id=\"xtick_8\">\r\n     <g id=\"line2d_8\">\r\n      <g>\r\n       <use style=\"stroke:#000000;stroke-width:0.8;\" x=\"309.601648\" xlink:href=\"#mc4b70705a7\" y=\"239.758125\"/>\r\n      </g>\r\n     </g>\r\n     <g id=\"text_8\">\r\n      <!-- 7 -->\r\n      <g transform=\"translate(306.102273 255.116406)scale(0.11 -0.11)\">\r\n       <defs>\r\n        <path d=\"M 8.203125 72.90625 \r\nL 55.078125 72.90625 \r\nL 55.078125 68.703125 \r\nL 28.609375 0 \r\nL 18.3125 0 \r\nL 43.21875 64.59375 \r\nL 8.203125 64.59375 \r\nz\r\n\" id=\"DejaVuSans-55\"/>\r\n       </defs>\r\n       <use xlink:href=\"#DejaVuSans-55\"/>\r\n      </g>\r\n     </g>\r\n    </g>\r\n    <g id=\"xtick_9\">\r\n     <g id=\"line2d_9\">\r\n      <g>\r\n       <use style=\"stroke:#000000;stroke-width:0.8;\" x=\"347.315538\" xlink:href=\"#mc4b70705a7\" y=\"239.758125\"/>\r\n      </g>\r\n     </g>\r\n     <g id=\"text_9\">\r\n      <!-- 8 -->\r\n      <g transform=\"translate(343.816163 255.116406)scale(0.11 -0.11)\">\r\n       <defs>\r\n        <path d=\"M 31.78125 34.625 \r\nQ 24.75 34.625 20.71875 30.859375 \r\nQ 16.703125 27.09375 16.703125 20.515625 \r\nQ 16.703125 13.921875 20.71875 10.15625 \r\nQ 24.75 6.390625 31.78125 6.390625 \r\nQ 38.8125 6.390625 42.859375 10.171875 \r\nQ 46.921875 13.96875 46.921875 20.515625 \r\nQ 46.921875 27.09375 42.890625 30.859375 \r\nQ 38.875 34.625 31.78125 34.625 \r\nz\r\nM 21.921875 38.8125 \r\nQ 15.578125 40.375 12.03125 44.71875 \r\nQ 8.5 49.078125 8.5 55.328125 \r\nQ 8.5 64.0625 14.71875 69.140625 \r\nQ 20.953125 74.21875 31.78125 74.21875 \r\nQ 42.671875 74.21875 48.875 69.140625 \r\nQ 55.078125 64.0625 55.078125 55.328125 \r\nQ 55.078125 49.078125 51.53125 44.71875 \r\nQ 48 40.375 41.703125 38.8125 \r\nQ 48.828125 37.15625 52.796875 32.3125 \r\nQ 56.78125 27.484375 56.78125 20.515625 \r\nQ 56.78125 9.90625 50.3125 4.234375 \r\nQ 43.84375 -1.421875 31.78125 -1.421875 \r\nQ 19.734375 -1.421875 13.25 4.234375 \r\nQ 6.78125 9.90625 6.78125 20.515625 \r\nQ 6.78125 27.484375 10.78125 32.3125 \r\nQ 14.796875 37.15625 21.921875 38.8125 \r\nz\r\nM 18.3125 54.390625 \r\nQ 18.3125 48.734375 21.84375 45.5625 \r\nQ 25.390625 42.390625 31.78125 42.390625 \r\nQ 38.140625 42.390625 41.71875 45.5625 \r\nQ 45.3125 48.734375 45.3125 54.390625 \r\nQ 45.3125 60.0625 41.71875 63.234375 \r\nQ 38.140625 66.40625 31.78125 66.40625 \r\nQ 25.390625 66.40625 21.84375 63.234375 \r\nQ 18.3125 60.0625 18.3125 54.390625 \r\nz\r\n\" id=\"DejaVuSans-56\"/>\r\n       </defs>\r\n       <use xlink:href=\"#DejaVuSans-56\"/>\r\n      </g>\r\n     </g>\r\n    </g>\r\n   </g>\r\n   <g id=\"matplotlib.axis_2\">\r\n    <g id=\"ytick_1\">\r\n     <g id=\"line2d_10\">\r\n      <defs>\r\n       <path d=\"M 0 0 \r\nL -3.5 0 \r\n\" id=\"md5af0a3e49\" style=\"stroke:#000000;stroke-width:0.8;\"/>\r\n      </defs>\r\n      <g>\r\n       <use style=\"stroke:#000000;stroke-width:0.8;\" x=\"30.416406\" xlink:href=\"#md5af0a3e49\" y=\"229.935906\"/>\r\n      </g>\r\n     </g>\r\n     <g id=\"text_10\">\r\n      <!-- −6 -->\r\n      <g transform=\"translate(7.2 234.115047)scale(0.11 -0.11)\">\r\n       <defs>\r\n        <path d=\"M 10.59375 35.5 \r\nL 73.1875 35.5 \r\nL 73.1875 27.203125 \r\nL 10.59375 27.203125 \r\nz\r\n\" id=\"DejaVuSans-8722\"/>\r\n       </defs>\r\n       <use xlink:href=\"#DejaVuSans-8722\"/>\r\n       <use x=\"83.789062\" xlink:href=\"#DejaVuSans-54\"/>\r\n      </g>\r\n     </g>\r\n    </g>\r\n    <g id=\"ytick_2\">\r\n     <g id=\"line2d_11\">\r\n      <g>\r\n       <use style=\"stroke:#000000;stroke-width:0.8;\" x=\"30.416406\" xlink:href=\"#md5af0a3e49\" y=\"196.953848\"/>\r\n      </g>\r\n     </g>\r\n     <g id=\"text_11\">\r\n      <!-- −5 -->\r\n      <g transform=\"translate(7.2 201.132989)scale(0.11 -0.11)\">\r\n       <use xlink:href=\"#DejaVuSans-8722\"/>\r\n       <use x=\"83.789062\" xlink:href=\"#DejaVuSans-53\"/>\r\n      </g>\r\n     </g>\r\n    </g>\r\n    <g id=\"ytick_3\">\r\n     <g id=\"line2d_12\">\r\n      <g>\r\n       <use style=\"stroke:#000000;stroke-width:0.8;\" x=\"30.416406\" xlink:href=\"#md5af0a3e49\" y=\"163.97179\"/>\r\n      </g>\r\n     </g>\r\n     <g id=\"text_12\">\r\n      <!-- −4 -->\r\n      <g transform=\"translate(7.2 168.150931)scale(0.11 -0.11)\">\r\n       <use xlink:href=\"#DejaVuSans-8722\"/>\r\n       <use x=\"83.789062\" xlink:href=\"#DejaVuSans-52\"/>\r\n      </g>\r\n     </g>\r\n    </g>\r\n    <g id=\"ytick_4\">\r\n     <g id=\"line2d_13\">\r\n      <g>\r\n       <use style=\"stroke:#000000;stroke-width:0.8;\" x=\"30.416406\" xlink:href=\"#md5af0a3e49\" y=\"130.989732\"/>\r\n      </g>\r\n     </g>\r\n     <g id=\"text_13\">\r\n      <!-- −3 -->\r\n      <g transform=\"translate(7.2 135.168873)scale(0.11 -0.11)\">\r\n       <use xlink:href=\"#DejaVuSans-8722\"/>\r\n       <use x=\"83.789062\" xlink:href=\"#DejaVuSans-51\"/>\r\n      </g>\r\n     </g>\r\n    </g>\r\n    <g id=\"ytick_5\">\r\n     <g id=\"line2d_14\">\r\n      <g>\r\n       <use style=\"stroke:#000000;stroke-width:0.8;\" x=\"30.416406\" xlink:href=\"#md5af0a3e49\" y=\"98.007674\"/>\r\n      </g>\r\n     </g>\r\n     <g id=\"text_14\">\r\n      <!-- −2 -->\r\n      <g transform=\"translate(7.2 102.186815)scale(0.11 -0.11)\">\r\n       <use xlink:href=\"#DejaVuSans-8722\"/>\r\n       <use x=\"83.789062\" xlink:href=\"#DejaVuSans-50\"/>\r\n      </g>\r\n     </g>\r\n    </g>\r\n    <g id=\"ytick_6\">\r\n     <g id=\"line2d_15\">\r\n      <g>\r\n       <use style=\"stroke:#000000;stroke-width:0.8;\" x=\"30.416406\" xlink:href=\"#md5af0a3e49\" y=\"65.025616\"/>\r\n      </g>\r\n     </g>\r\n     <g id=\"text_15\">\r\n      <!-- −1 -->\r\n      <g transform=\"translate(7.2 69.204757)scale(0.11 -0.11)\">\r\n       <use xlink:href=\"#DejaVuSans-8722\"/>\r\n       <use x=\"83.789062\" xlink:href=\"#DejaVuSans-49\"/>\r\n      </g>\r\n     </g>\r\n    </g>\r\n    <g id=\"ytick_7\">\r\n     <g id=\"line2d_16\">\r\n      <g>\r\n       <use style=\"stroke:#000000;stroke-width:0.8;\" x=\"30.416406\" xlink:href=\"#md5af0a3e49\" y=\"32.043558\"/>\r\n      </g>\r\n     </g>\r\n     <g id=\"text_16\">\r\n      <!-- 0 -->\r\n      <g transform=\"translate(16.417656 36.222699)scale(0.11 -0.11)\">\r\n       <use xlink:href=\"#DejaVuSans-48\"/>\r\n      </g>\r\n     </g>\r\n    </g>\r\n   </g>\r\n   <g id=\"line2d_17\">\r\n    <path clip-path=\"url(#p9569a39691)\" d=\"M 45.634588 32.201761 \r\nL 45.664762 32.359901 \r\nL 45.671046 32.392818 \r\nL 45.677301 32.425577 \r\nL 45.68981 32.491078 \r\nL 45.714828 32.622014 \r\nL 45.764865 32.883627 \r\nL 45.864939 33.405812 \r\nL 46.065086 34.446036 \r\nL 46.465381 36.510011 \r\nL 47.265971 40.572929 \r\nL 48.867151 48.445402 \r\nL 52.058489 63.179668 \r\nL 55.829878 79.061215 \r\nL 59.601267 93.430233 \r\nL 63.372656 106.430773 \r\nL 67.144045 118.193167 \r\nL 70.915434 128.835333 \r\nL 74.686824 138.463959 \r\nL 78.458213 147.175573 \r\nL 82.229602 155.057509 \r\nL 86.000991 162.188785 \r\nL 89.77238 168.640892 \r\nL 93.543769 174.478512 \r\nL 97.315158 179.760169 \r\nL 101.086547 184.538811 \r\nL 104.857936 188.862343 \r\nL 108.629325 192.774111 \r\nL 112.400714 196.31333 \r\nL 116.172103 199.51548 \r\nL 119.943492 202.412663 \r\nL 123.714881 205.033925 \r\nL 127.48627 207.405542 \r\nL 131.257659 209.551291 \r\nL 135.029048 211.492683 \r\nL 138.800437 213.24918 \r\nL 142.571826 214.838392 \r\nL 146.343216 216.276251 \r\nL 150.114605 217.57717 \r\nL 153.885994 218.754193 \r\nL 157.657383 219.819118 \r\nL 161.428772 220.782622 \r\nL 165.200161 221.654363 \r\nL 168.97155 222.443081 \r\nL 172.742939 223.156684 \r\nL 176.514328 223.802324 \r\nL 180.285717 224.386475 \r\nL 184.057106 224.914992 \r\nL 187.828495 225.393174 \r\nL 191.599884 225.825815 \r\nL 195.371273 226.217253 \r\nL 199.142662 226.57141 \r\nL 202.914051 226.891838 \r\nL 206.68544 227.181749 \r\nL 210.456829 227.44405 \r\nL 214.228218 227.68137 \r\nL 217.999608 227.896087 \r\nL 221.770997 228.090356 \r\nL 225.542386 228.266123 \r\nL 229.313775 228.42515 \r\nL 233.085164 228.569031 \r\nL 236.856553 228.69921 \r\nL 240.627942 228.81699 \r\nL 244.399331 228.923554 \r\nL 248.17072 229.019968 \r\nL 251.942109 229.1072 \r\nL 255.713498 229.186125 \r\nL 259.484887 229.257533 \r\nL 263.256276 229.32214 \r\nL 267.027665 229.380594 \r\nL 270.799054 229.43348 \r\nL 274.570443 229.481331 \r\nL 278.341832 229.524623 \r\nL 282.113221 229.563793 \r\nL 285.884611 229.599233 \r\nL 289.656 229.631297 \r\nL 293.427389 229.660307 \r\nL 297.198778 229.686555 \r\nL 300.970167 229.710302 \r\nL 304.741556 229.731788 \r\nL 308.512945 229.751228 \r\nL 312.284334 229.768817 \r\nL 316.055723 229.78473 \r\nL 319.827112 229.799128 \r\nL 323.598501 229.812154 \r\nL 327.36989 229.82394 \r\nL 331.141279 229.834604 \r\nL 334.912668 229.844251 \r\nL 338.684057 229.85298 \r\nL 342.455446 229.860878 \r\nL 346.226835 229.868024 \r\nL 349.998224 229.874489 \r\n\" style=\"fill:none;stroke:#1f77b4;stroke-linecap:square;stroke-width:1.5;\"/>\r\n   </g>\r\n   <g id=\"patch_3\">\r\n    <path d=\"M 30.416406 239.758125 \r\nL 30.416406 22.318125 \r\n\" style=\"fill:none;stroke:#000000;stroke-linecap:square;stroke-linejoin:miter;stroke-width:0.8;\"/>\r\n   </g>\r\n   <g id=\"patch_4\">\r\n    <path d=\"M 365.216406 239.758125 \r\nL 365.216406 22.318125 \r\n\" style=\"fill:none;stroke:#000000;stroke-linecap:square;stroke-linejoin:miter;stroke-width:0.8;\"/>\r\n   </g>\r\n   <g id=\"patch_5\">\r\n    <path d=\"M 30.416406 239.758125 \r\nL 365.216406 239.758125 \r\n\" style=\"fill:none;stroke:#000000;stroke-linecap:square;stroke-linejoin:miter;stroke-width:0.8;\"/>\r\n   </g>\r\n   <g id=\"patch_6\">\r\n    <path d=\"M 30.416406 22.318125 \r\nL 365.216406 22.318125 \r\n\" style=\"fill:none;stroke:#000000;stroke-linecap:square;stroke-linejoin:miter;stroke-width:0.8;\"/>\r\n   </g>\r\n   <g id=\"text_17\">\r\n    <!-- Carga de un condensador -->\r\n    <g transform=\"translate(120.450156 16.318125)scale(0.12 -0.12)\">\r\n     <defs>\r\n      <path d=\"M 64.40625 67.28125 \r\nL 64.40625 56.890625 \r\nQ 59.421875 61.53125 53.78125 63.8125 \r\nQ 48.140625 66.109375 41.796875 66.109375 \r\nQ 29.296875 66.109375 22.65625 58.46875 \r\nQ 16.015625 50.828125 16.015625 36.375 \r\nQ 16.015625 21.96875 22.65625 14.328125 \r\nQ 29.296875 6.6875 41.796875 6.6875 \r\nQ 48.140625 6.6875 53.78125 8.984375 \r\nQ 59.421875 11.28125 64.40625 15.921875 \r\nL 64.40625 5.609375 \r\nQ 59.234375 2.09375 53.4375 0.328125 \r\nQ 47.65625 -1.421875 41.21875 -1.421875 \r\nQ 24.65625 -1.421875 15.125 8.703125 \r\nQ 5.609375 18.84375 5.609375 36.375 \r\nQ 5.609375 53.953125 15.125 64.078125 \r\nQ 24.65625 74.21875 41.21875 74.21875 \r\nQ 47.75 74.21875 53.53125 72.484375 \r\nQ 59.328125 70.75 64.40625 67.28125 \r\nz\r\n\" id=\"DejaVuSans-67\"/>\r\n      <path d=\"M 34.28125 27.484375 \r\nQ 23.390625 27.484375 19.1875 25 \r\nQ 14.984375 22.515625 14.984375 16.5 \r\nQ 14.984375 11.71875 18.140625 8.90625 \r\nQ 21.296875 6.109375 26.703125 6.109375 \r\nQ 34.1875 6.109375 38.703125 11.40625 \r\nQ 43.21875 16.703125 43.21875 25.484375 \r\nL 43.21875 27.484375 \r\nz\r\nM 52.203125 31.203125 \r\nL 52.203125 0 \r\nL 43.21875 0 \r\nL 43.21875 8.296875 \r\nQ 40.140625 3.328125 35.546875 0.953125 \r\nQ 30.953125 -1.421875 24.3125 -1.421875 \r\nQ 15.921875 -1.421875 10.953125 3.296875 \r\nQ 6 8.015625 6 15.921875 \r\nQ 6 25.140625 12.171875 29.828125 \r\nQ 18.359375 34.515625 30.609375 34.515625 \r\nL 43.21875 34.515625 \r\nL 43.21875 35.40625 \r\nQ 43.21875 41.609375 39.140625 45 \r\nQ 35.0625 48.390625 27.6875 48.390625 \r\nQ 23 48.390625 18.546875 47.265625 \r\nQ 14.109375 46.140625 10.015625 43.890625 \r\nL 10.015625 52.203125 \r\nQ 14.9375 54.109375 19.578125 55.046875 \r\nQ 24.21875 56 28.609375 56 \r\nQ 40.484375 56 46.34375 49.84375 \r\nQ 52.203125 43.703125 52.203125 31.203125 \r\nz\r\n\" id=\"DejaVuSans-97\"/>\r\n      <path d=\"M 41.109375 46.296875 \r\nQ 39.59375 47.171875 37.8125 47.578125 \r\nQ 36.03125 48 33.890625 48 \r\nQ 26.265625 48 22.1875 43.046875 \r\nQ 18.109375 38.09375 18.109375 28.8125 \r\nL 18.109375 0 \r\nL 9.078125 0 \r\nL 9.078125 54.6875 \r\nL 18.109375 54.6875 \r\nL 18.109375 46.1875 \r\nQ 20.953125 51.171875 25.484375 53.578125 \r\nQ 30.03125 56 36.53125 56 \r\nQ 37.453125 56 38.578125 55.875 \r\nQ 39.703125 55.765625 41.0625 55.515625 \r\nz\r\n\" id=\"DejaVuSans-114\"/>\r\n      <path d=\"M 45.40625 27.984375 \r\nQ 45.40625 37.75 41.375 43.109375 \r\nQ 37.359375 48.484375 30.078125 48.484375 \r\nQ 22.859375 48.484375 18.828125 43.109375 \r\nQ 14.796875 37.75 14.796875 27.984375 \r\nQ 14.796875 18.265625 18.828125 12.890625 \r\nQ 22.859375 7.515625 30.078125 7.515625 \r\nQ 37.359375 7.515625 41.375 12.890625 \r\nQ 45.40625 18.265625 45.40625 27.984375 \r\nz\r\nM 54.390625 6.78125 \r\nQ 54.390625 -7.171875 48.1875 -13.984375 \r\nQ 42 -20.796875 29.203125 -20.796875 \r\nQ 24.46875 -20.796875 20.265625 -20.09375 \r\nQ 16.0625 -19.390625 12.109375 -17.921875 \r\nL 12.109375 -9.1875 \r\nQ 16.0625 -11.328125 19.921875 -12.34375 \r\nQ 23.78125 -13.375 27.78125 -13.375 \r\nQ 36.625 -13.375 41.015625 -8.765625 \r\nQ 45.40625 -4.15625 45.40625 5.171875 \r\nL 45.40625 9.625 \r\nQ 42.625 4.78125 38.28125 2.390625 \r\nQ 33.9375 0 27.875 0 \r\nQ 17.828125 0 11.671875 7.65625 \r\nQ 5.515625 15.328125 5.515625 27.984375 \r\nQ 5.515625 40.671875 11.671875 48.328125 \r\nQ 17.828125 56 27.875 56 \r\nQ 33.9375 56 38.28125 53.609375 \r\nQ 42.625 51.21875 45.40625 46.390625 \r\nL 45.40625 54.6875 \r\nL 54.390625 54.6875 \r\nz\r\n\" id=\"DejaVuSans-103\"/>\r\n      <path id=\"DejaVuSans-32\"/>\r\n      <path d=\"M 45.40625 46.390625 \r\nL 45.40625 75.984375 \r\nL 54.390625 75.984375 \r\nL 54.390625 0 \r\nL 45.40625 0 \r\nL 45.40625 8.203125 \r\nQ 42.578125 3.328125 38.25 0.953125 \r\nQ 33.9375 -1.421875 27.875 -1.421875 \r\nQ 17.96875 -1.421875 11.734375 6.484375 \r\nQ 5.515625 14.40625 5.515625 27.296875 \r\nQ 5.515625 40.1875 11.734375 48.09375 \r\nQ 17.96875 56 27.875 56 \r\nQ 33.9375 56 38.25 53.625 \r\nQ 42.578125 51.265625 45.40625 46.390625 \r\nz\r\nM 14.796875 27.296875 \r\nQ 14.796875 17.390625 18.875 11.75 \r\nQ 22.953125 6.109375 30.078125 6.109375 \r\nQ 37.203125 6.109375 41.296875 11.75 \r\nQ 45.40625 17.390625 45.40625 27.296875 \r\nQ 45.40625 37.203125 41.296875 42.84375 \r\nQ 37.203125 48.484375 30.078125 48.484375 \r\nQ 22.953125 48.484375 18.875 42.84375 \r\nQ 14.796875 37.203125 14.796875 27.296875 \r\nz\r\n\" id=\"DejaVuSans-100\"/>\r\n      <path d=\"M 56.203125 29.59375 \r\nL 56.203125 25.203125 \r\nL 14.890625 25.203125 \r\nQ 15.484375 15.921875 20.484375 11.0625 \r\nQ 25.484375 6.203125 34.421875 6.203125 \r\nQ 39.59375 6.203125 44.453125 7.46875 \r\nQ 49.3125 8.734375 54.109375 11.28125 \r\nL 54.109375 2.78125 \r\nQ 49.265625 0.734375 44.1875 -0.34375 \r\nQ 39.109375 -1.421875 33.890625 -1.421875 \r\nQ 20.796875 -1.421875 13.15625 6.1875 \r\nQ 5.515625 13.8125 5.515625 26.8125 \r\nQ 5.515625 40.234375 12.765625 48.109375 \r\nQ 20.015625 56 32.328125 56 \r\nQ 43.359375 56 49.78125 48.890625 \r\nQ 56.203125 41.796875 56.203125 29.59375 \r\nz\r\nM 47.21875 32.234375 \r\nQ 47.125 39.59375 43.09375 43.984375 \r\nQ 39.0625 48.390625 32.421875 48.390625 \r\nQ 24.90625 48.390625 20.390625 44.140625 \r\nQ 15.875 39.890625 15.1875 32.171875 \r\nz\r\n\" id=\"DejaVuSans-101\"/>\r\n      <path d=\"M 8.5 21.578125 \r\nL 8.5 54.6875 \r\nL 17.484375 54.6875 \r\nL 17.484375 21.921875 \r\nQ 17.484375 14.15625 20.5 10.265625 \r\nQ 23.53125 6.390625 29.59375 6.390625 \r\nQ 36.859375 6.390625 41.078125 11.03125 \r\nQ 45.3125 15.671875 45.3125 23.6875 \r\nL 45.3125 54.6875 \r\nL 54.296875 54.6875 \r\nL 54.296875 0 \r\nL 45.3125 0 \r\nL 45.3125 8.40625 \r\nQ 42.046875 3.421875 37.71875 1 \r\nQ 33.40625 -1.421875 27.6875 -1.421875 \r\nQ 18.265625 -1.421875 13.375 4.4375 \r\nQ 8.5 10.296875 8.5 21.578125 \r\nz\r\nM 31.109375 56 \r\nz\r\n\" id=\"DejaVuSans-117\"/>\r\n      <path d=\"M 54.890625 33.015625 \r\nL 54.890625 0 \r\nL 45.90625 0 \r\nL 45.90625 32.71875 \r\nQ 45.90625 40.484375 42.875 44.328125 \r\nQ 39.84375 48.1875 33.796875 48.1875 \r\nQ 26.515625 48.1875 22.3125 43.546875 \r\nQ 18.109375 38.921875 18.109375 30.90625 \r\nL 18.109375 0 \r\nL 9.078125 0 \r\nL 9.078125 54.6875 \r\nL 18.109375 54.6875 \r\nL 18.109375 46.1875 \r\nQ 21.34375 51.125 25.703125 53.5625 \r\nQ 30.078125 56 35.796875 56 \r\nQ 45.21875 56 50.046875 50.171875 \r\nQ 54.890625 44.34375 54.890625 33.015625 \r\nz\r\n\" id=\"DejaVuSans-110\"/>\r\n      <path d=\"M 48.78125 52.59375 \r\nL 48.78125 44.1875 \r\nQ 44.96875 46.296875 41.140625 47.34375 \r\nQ 37.3125 48.390625 33.40625 48.390625 \r\nQ 24.65625 48.390625 19.8125 42.84375 \r\nQ 14.984375 37.3125 14.984375 27.296875 \r\nQ 14.984375 17.28125 19.8125 11.734375 \r\nQ 24.65625 6.203125 33.40625 6.203125 \r\nQ 37.3125 6.203125 41.140625 7.25 \r\nQ 44.96875 8.296875 48.78125 10.40625 \r\nL 48.78125 2.09375 \r\nQ 45.015625 0.34375 40.984375 -0.53125 \r\nQ 36.96875 -1.421875 32.421875 -1.421875 \r\nQ 20.0625 -1.421875 12.78125 6.34375 \r\nQ 5.515625 14.109375 5.515625 27.296875 \r\nQ 5.515625 40.671875 12.859375 48.328125 \r\nQ 20.21875 56 33.015625 56 \r\nQ 37.15625 56 41.109375 55.140625 \r\nQ 45.0625 54.296875 48.78125 52.59375 \r\nz\r\n\" id=\"DejaVuSans-99\"/>\r\n      <path d=\"M 30.609375 48.390625 \r\nQ 23.390625 48.390625 19.1875 42.75 \r\nQ 14.984375 37.109375 14.984375 27.296875 \r\nQ 14.984375 17.484375 19.15625 11.84375 \r\nQ 23.34375 6.203125 30.609375 6.203125 \r\nQ 37.796875 6.203125 41.984375 11.859375 \r\nQ 46.1875 17.53125 46.1875 27.296875 \r\nQ 46.1875 37.015625 41.984375 42.703125 \r\nQ 37.796875 48.390625 30.609375 48.390625 \r\nz\r\nM 30.609375 56 \r\nQ 42.328125 56 49.015625 48.375 \r\nQ 55.71875 40.765625 55.71875 27.296875 \r\nQ 55.71875 13.875 49.015625 6.21875 \r\nQ 42.328125 -1.421875 30.609375 -1.421875 \r\nQ 18.84375 -1.421875 12.171875 6.21875 \r\nQ 5.515625 13.875 5.515625 27.296875 \r\nQ 5.515625 40.765625 12.171875 48.375 \r\nQ 18.84375 56 30.609375 56 \r\nz\r\n\" id=\"DejaVuSans-111\"/>\r\n      <path d=\"M 44.28125 53.078125 \r\nL 44.28125 44.578125 \r\nQ 40.484375 46.53125 36.375 47.5 \r\nQ 32.28125 48.484375 27.875 48.484375 \r\nQ 21.1875 48.484375 17.84375 46.4375 \r\nQ 14.5 44.390625 14.5 40.28125 \r\nQ 14.5 37.15625 16.890625 35.375 \r\nQ 19.28125 33.59375 26.515625 31.984375 \r\nL 29.59375 31.296875 \r\nQ 39.15625 29.25 43.1875 25.515625 \r\nQ 47.21875 21.78125 47.21875 15.09375 \r\nQ 47.21875 7.46875 41.1875 3.015625 \r\nQ 35.15625 -1.421875 24.609375 -1.421875 \r\nQ 20.21875 -1.421875 15.453125 -0.5625 \r\nQ 10.6875 0.296875 5.421875 2 \r\nL 5.421875 11.28125 \r\nQ 10.40625 8.6875 15.234375 7.390625 \r\nQ 20.0625 6.109375 24.8125 6.109375 \r\nQ 31.15625 6.109375 34.5625 8.28125 \r\nQ 37.984375 10.453125 37.984375 14.40625 \r\nQ 37.984375 18.0625 35.515625 20.015625 \r\nQ 33.0625 21.96875 24.703125 23.78125 \r\nL 21.578125 24.515625 \r\nQ 13.234375 26.265625 9.515625 29.90625 \r\nQ 5.8125 33.546875 5.8125 39.890625 \r\nQ 5.8125 47.609375 11.28125 51.796875 \r\nQ 16.75 56 26.8125 56 \r\nQ 31.78125 56 36.171875 55.265625 \r\nQ 40.578125 54.546875 44.28125 53.078125 \r\nz\r\n\" id=\"DejaVuSans-115\"/>\r\n     </defs>\r\n     <use xlink:href=\"#DejaVuSans-67\"/>\r\n     <use x=\"69.824219\" xlink:href=\"#DejaVuSans-97\"/>\r\n     <use x=\"131.103516\" xlink:href=\"#DejaVuSans-114\"/>\r\n     <use x=\"170.466797\" xlink:href=\"#DejaVuSans-103\"/>\r\n     <use x=\"233.943359\" xlink:href=\"#DejaVuSans-97\"/>\r\n     <use x=\"295.222656\" xlink:href=\"#DejaVuSans-32\"/>\r\n     <use x=\"327.009766\" xlink:href=\"#DejaVuSans-100\"/>\r\n     <use x=\"390.486328\" xlink:href=\"#DejaVuSans-101\"/>\r\n     <use x=\"452.009766\" xlink:href=\"#DejaVuSans-32\"/>\r\n     <use x=\"483.796875\" xlink:href=\"#DejaVuSans-117\"/>\r\n     <use x=\"547.175781\" xlink:href=\"#DejaVuSans-110\"/>\r\n     <use x=\"610.554688\" xlink:href=\"#DejaVuSans-32\"/>\r\n     <use x=\"642.341797\" xlink:href=\"#DejaVuSans-99\"/>\r\n     <use x=\"697.322266\" xlink:href=\"#DejaVuSans-111\"/>\r\n     <use x=\"758.503906\" xlink:href=\"#DejaVuSans-110\"/>\r\n     <use x=\"821.882812\" xlink:href=\"#DejaVuSans-100\"/>\r\n     <use x=\"885.359375\" xlink:href=\"#DejaVuSans-101\"/>\r\n     <use x=\"946.882812\" xlink:href=\"#DejaVuSans-110\"/>\r\n     <use x=\"1010.261719\" xlink:href=\"#DejaVuSans-115\"/>\r\n     <use x=\"1062.361328\" xlink:href=\"#DejaVuSans-97\"/>\r\n     <use x=\"1123.640625\" xlink:href=\"#DejaVuSans-100\"/>\r\n     <use x=\"1187.117188\" xlink:href=\"#DejaVuSans-111\"/>\r\n     <use x=\"1248.298828\" xlink:href=\"#DejaVuSans-114\"/>\r\n    </g>\r\n   </g>\r\n  </g>\r\n </g>\r\n <defs>\r\n  <clipPath id=\"p9569a39691\">\r\n   <rect height=\"217.44\" width=\"334.8\" x=\"30.416406\" y=\"22.318125\"/>\r\n  </clipPath>\r\n </defs>\r\n</svg>\r\n",
            "image/png": "[encoded data removed]"
          },
          "metadata": {
            "needs_background": "light"
          }
        }
      ],
      "source": [
        "figura = plt.figure()\n",
        "plt.title(\"Carga de un condensador\")\n",
        "plt.plot(resultados['tran']['T'], resultados['tran']['V2'], label=\"Una etiqueta\")\n",
        "plt.savefig(\"test.svg\", format=\"svg\")"
      ]
    },
    {
      "cell_type": "markdown",
      "source": [
        "## Carrera de condensadores\n",
        "\n",
        "Ahora tenemos un circuito con dos condensadores en paralelo: \n",
        "\n",
        "![](https://raw.githubusercontent.com/pammacdotnet/spicelab/master/condensadores%20en%20paralelo.svg?sanitize=true)\n",
        "\n",
        "> **Pregunta:** Crea el netlist de este circuito e identifica qué condensador se satura primero. Dibuja la evolución de la intensidad en ambas ramas de manera simultánea. [Aquí](https://matplotlib.org/gallery/api/two_scales.html) tienes un ejemplo de cómo se hace esto en Matplotlib. Recuerda que para que Ahkab nos devuelva la corriente en una rama, debe de estar presente una pila. Si es necesario, inserta pilas virtuales de valor nulo (cero voltios), tal y como hemos comentado antes. Grafica también los voltajes (en otra gráfica, pero que aparezcan juntos). "
      ],
      "metadata": {}
    },
    {
      "cell_type": "code",
      "source": [
        "%%writefile \"carrera en condensadores.ckt\"\n",
        "* Carga condensador\n",
        "v0 0 1 type=vdc vdc=10\n",
        "r1 0 2 3k\n",
        "c1 2 3 47u ic=0\n",
        "v1dummy 3 1 type=vdc vdc=0\n",
        "c2 2 4 22u ic=0\n",
        "v2dummy 4 1 type=vdc vdc=0\n",
        ".tran tstep=0.01 tstart=6.5 tstop=7.5 uic=0\n",
        ".end"
      ],
      "outputs": [
        {
          "output_type": "stream",
          "name": "stdout",
          "text": [
            "Overwriting carrera en condensadores.ckt\n"
          ]
        }
      ],
      "execution_count": 86,
      "metadata": {}
    },
    {
      "cell_type": "code",
      "source": [
        "circuito_y_análisis = ahkab.netlist_parser.parse_circuit(\"carrera en condensadores.ckt\")\n",
        "circuito = circuito_y_análisis[0]       \n",
        "análisis_en_netlist = circuito_y_análisis[1]\n",
        "lista_de_análisis = ahkab.netlist_parser.parse_analysis(circuito, análisis_en_netlist)\n",
        "lista_de_análisis[0]['outfile'] = \"simulación tran carrera condensadores.tsv\"\n",
        "resultados = ahkab.run(circuito, lista_de_análisis)"
      ],
      "outputs": [
        {
          "output_type": "stream",
          "name": "stdout",
          "text": [
            "Starting transient analysis: \n",
            "Selected method: TRAP\n",
            "Solving...  done.\n",
            "Average time step: 0.00900901\n"
          ]
        }
      ],
      "execution_count": 87,
      "metadata": {}
    },
    {
      "source": [],
      "cell_type": "markdown",
      "metadata": {}
    },
    {
      "cell_type": "code",
      "source": [
        "figura = plt.figure()\n",
        "plt.title(\"Carrera de condensadores\")\n",
        "plt.xlim(6.65, 7.5)\n",
        "plt.ylim(0.0, 0.0005)\n",
        "plt.grid()\n",
        "plt.plot(resultados['tran']['T'], resultados['tran']['I(V1DUMMY)'],label=\"Intensidad en C1\")\n",
        "plt.plot(resultados['tran']['T'], resultados['tran']['I(V2DUMMY)'],label=\"Intensidad en C2\")"
      ],
      "outputs": [
        {
          "output_type": "execute_result",
          "data": {
            "text/plain": [
              "[<matplotlib.lines.Line2D at 0x19f220a1cc8>]"
            ]
          },
          "metadata": {},
          "execution_count": 89
        },
        {
          "output_type": "display_data",
          "data": {
            "text/plain": "<Figure size 432x288 with 1 Axes>",
            "image/svg+xml": "<?xml version=\"1.0\" encoding=\"utf-8\" standalone=\"no\"?>\r\n<!DOCTYPE svg PUBLIC \"-//W3C//DTD SVG 1.1//EN\"\r\n  \"http://www.w3.org/Graphics/SVG/1.1/DTD/svg11.dtd\">\r\n<!-- Created with matplotlib (https://matplotlib.org/) -->\r\n<svg height=\"264.604062pt\" version=\"1.1\" viewBox=\"0 0 403.436406 264.604062\" width=\"403.436406pt\" xmlns=\"http://www.w3.org/2000/svg\" xmlns:xlink=\"http://www.w3.org/1999/xlink\">\r\n <metadata>\r\n  <rdf:RDF xmlns:cc=\"http://creativecommons.org/ns#\" xmlns:dc=\"http://purl.org/dc/elements/1.1/\" xmlns:rdf=\"http://www.w3.org/1999/02/22-rdf-syntax-ns#\">\r\n   <cc:Work>\r\n    <dc:type rdf:resource=\"http://purl.org/dc/dcmitype/StillImage\"/>\r\n    <dc:date>2020-12-28T13:36:16.067837</dc:date>\r\n    <dc:format>image/svg+xml</dc:format>\r\n    <dc:creator>\r\n     <cc:Agent>\r\n      <dc:title>Matplotlib v3.3.3, https://matplotlib.org/</dc:title>\r\n     </cc:Agent>\r\n    </dc:creator>\r\n   </cc:Work>\r\n  </rdf:RDF>\r\n </metadata>\r\n <defs>\r\n  <style type=\"text/css\">*{stroke-linecap:butt;stroke-linejoin:round;}</style>\r\n </defs>\r\n <g id=\"figure_1\">\r\n  <g id=\"patch_1\">\r\n   <path d=\"M 0 264.604062 \r\nL 403.436406 264.604062 \r\nL 403.436406 0 \r\nL 0 0 \r\nz\r\n\" style=\"fill:none;\"/>\r\n  </g>\r\n  <g id=\"axes_1\">\r\n   <g id=\"patch_2\">\r\n    <path d=\"M 52.689688 239.758125 \r\nL 387.489688 239.758125 \r\nL 387.489688 22.318125 \r\nL 52.689688 22.318125 \r\nz\r\n\" style=\"fill:#ffffff;\"/>\r\n   </g>\r\n   <g id=\"matplotlib.axis_1\">\r\n    <g id=\"xtick_1\">\r\n     <g id=\"line2d_1\">\r\n      <path clip-path=\"url(#p2ca6dcd43d)\" d=\"M 72.383805 239.758125 \r\nL 72.383805 22.318125 \r\n\" style=\"fill:none;stroke:#b0b0b0;stroke-linecap:square;stroke-width:0.8;\"/>\r\n     </g>\r\n     <g id=\"line2d_2\">\r\n      <defs>\r\n       <path d=\"M 0 0 \r\nL 0 3.5 \r\n\" id=\"m54a8618b28\" style=\"stroke:#000000;stroke-width:0.8;\"/>\r\n      </defs>\r\n      <g>\r\n       <use style=\"stroke:#000000;stroke-width:0.8;\" x=\"72.383805\" xlink:href=\"#m54a8618b28\" y=\"239.758125\"/>\r\n      </g>\r\n     </g>\r\n     <g id=\"text_1\">\r\n      <!-- 6.7 -->\r\n      <g transform=\"translate(63.637086 255.116406)scale(0.11 -0.11)\">\r\n       <defs>\r\n        <path d=\"M 33.015625 40.375 \r\nQ 26.375 40.375 22.484375 35.828125 \r\nQ 18.609375 31.296875 18.609375 23.390625 \r\nQ 18.609375 15.53125 22.484375 10.953125 \r\nQ 26.375 6.390625 33.015625 6.390625 \r\nQ 39.65625 6.390625 43.53125 10.953125 \r\nQ 47.40625 15.53125 47.40625 23.390625 \r\nQ 47.40625 31.296875 43.53125 35.828125 \r\nQ 39.65625 40.375 33.015625 40.375 \r\nz\r\nM 52.59375 71.296875 \r\nL 52.59375 62.3125 \r\nQ 48.875 64.0625 45.09375 64.984375 \r\nQ 41.3125 65.921875 37.59375 65.921875 \r\nQ 27.828125 65.921875 22.671875 59.328125 \r\nQ 17.53125 52.734375 16.796875 39.40625 \r\nQ 19.671875 43.65625 24.015625 45.921875 \r\nQ 28.375 48.1875 33.59375 48.1875 \r\nQ 44.578125 48.1875 50.953125 41.515625 \r\nQ 57.328125 34.859375 57.328125 23.390625 \r\nQ 57.328125 12.15625 50.6875 5.359375 \r\nQ 44.046875 -1.421875 33.015625 -1.421875 \r\nQ 20.359375 -1.421875 13.671875 8.265625 \r\nQ 6.984375 17.96875 6.984375 36.375 \r\nQ 6.984375 53.65625 15.1875 63.9375 \r\nQ 23.390625 74.21875 37.203125 74.21875 \r\nQ 40.921875 74.21875 44.703125 73.484375 \r\nQ 48.484375 72.75 52.59375 71.296875 \r\nz\r\n\" id=\"DejaVuSans-54\"/>\r\n        <path d=\"M 10.6875 12.40625 \r\nL 21 12.40625 \r\nL 21 0 \r\nL 10.6875 0 \r\nz\r\n\" id=\"DejaVuSans-46\"/>\r\n        <path d=\"M 8.203125 72.90625 \r\nL 55.078125 72.90625 \r\nL 55.078125 68.703125 \r\nL 28.609375 0 \r\nL 18.3125 0 \r\nL 43.21875 64.59375 \r\nL 8.203125 64.59375 \r\nz\r\n\" id=\"DejaVuSans-55\"/>\r\n       </defs>\r\n       <use xlink:href=\"#DejaVuSans-54\"/>\r\n       <use x=\"63.623047\" xlink:href=\"#DejaVuSans-46\"/>\r\n       <use x=\"95.410156\" xlink:href=\"#DejaVuSans-55\"/>\r\n      </g>\r\n     </g>\r\n    </g>\r\n    <g id=\"xtick_2\">\r\n     <g id=\"line2d_3\">\r\n      <path clip-path=\"url(#p2ca6dcd43d)\" d=\"M 111.77204 239.758125 \r\nL 111.77204 22.318125 \r\n\" style=\"fill:none;stroke:#b0b0b0;stroke-linecap:square;stroke-width:0.8;\"/>\r\n     </g>\r\n     <g id=\"line2d_4\">\r\n      <g>\r\n       <use style=\"stroke:#000000;stroke-width:0.8;\" x=\"111.77204\" xlink:href=\"#m54a8618b28\" y=\"239.758125\"/>\r\n      </g>\r\n     </g>\r\n     <g id=\"text_2\">\r\n      <!-- 6.8 -->\r\n      <g transform=\"translate(103.025322 255.116406)scale(0.11 -0.11)\">\r\n       <defs>\r\n        <path d=\"M 31.78125 34.625 \r\nQ 24.75 34.625 20.71875 30.859375 \r\nQ 16.703125 27.09375 16.703125 20.515625 \r\nQ 16.703125 13.921875 20.71875 10.15625 \r\nQ 24.75 6.390625 31.78125 6.390625 \r\nQ 38.8125 6.390625 42.859375 10.171875 \r\nQ 46.921875 13.96875 46.921875 20.515625 \r\nQ 46.921875 27.09375 42.890625 30.859375 \r\nQ 38.875 34.625 31.78125 34.625 \r\nz\r\nM 21.921875 38.8125 \r\nQ 15.578125 40.375 12.03125 44.71875 \r\nQ 8.5 49.078125 8.5 55.328125 \r\nQ 8.5 64.0625 14.71875 69.140625 \r\nQ 20.953125 74.21875 31.78125 74.21875 \r\nQ 42.671875 74.21875 48.875 69.140625 \r\nQ 55.078125 64.0625 55.078125 55.328125 \r\nQ 55.078125 49.078125 51.53125 44.71875 \r\nQ 48 40.375 41.703125 38.8125 \r\nQ 48.828125 37.15625 52.796875 32.3125 \r\nQ 56.78125 27.484375 56.78125 20.515625 \r\nQ 56.78125 9.90625 50.3125 4.234375 \r\nQ 43.84375 -1.421875 31.78125 -1.421875 \r\nQ 19.734375 -1.421875 13.25 4.234375 \r\nQ 6.78125 9.90625 6.78125 20.515625 \r\nQ 6.78125 27.484375 10.78125 32.3125 \r\nQ 14.796875 37.15625 21.921875 38.8125 \r\nz\r\nM 18.3125 54.390625 \r\nQ 18.3125 48.734375 21.84375 45.5625 \r\nQ 25.390625 42.390625 31.78125 42.390625 \r\nQ 38.140625 42.390625 41.71875 45.5625 \r\nQ 45.3125 48.734375 45.3125 54.390625 \r\nQ 45.3125 60.0625 41.71875 63.234375 \r\nQ 38.140625 66.40625 31.78125 66.40625 \r\nQ 25.390625 66.40625 21.84375 63.234375 \r\nQ 18.3125 60.0625 18.3125 54.390625 \r\nz\r\n\" id=\"DejaVuSans-56\"/>\r\n       </defs>\r\n       <use xlink:href=\"#DejaVuSans-54\"/>\r\n       <use x=\"63.623047\" xlink:href=\"#DejaVuSans-46\"/>\r\n       <use x=\"95.410156\" xlink:href=\"#DejaVuSans-56\"/>\r\n      </g>\r\n     </g>\r\n    </g>\r\n    <g id=\"xtick_3\">\r\n     <g id=\"line2d_5\">\r\n      <path clip-path=\"url(#p2ca6dcd43d)\" d=\"M 151.160276 239.758125 \r\nL 151.160276 22.318125 \r\n\" style=\"fill:none;stroke:#b0b0b0;stroke-linecap:square;stroke-width:0.8;\"/>\r\n     </g>\r\n     <g id=\"line2d_6\">\r\n      <g>\r\n       <use style=\"stroke:#000000;stroke-width:0.8;\" x=\"151.160276\" xlink:href=\"#m54a8618b28\" y=\"239.758125\"/>\r\n      </g>\r\n     </g>\r\n     <g id=\"text_3\">\r\n      <!-- 6.9 -->\r\n      <g transform=\"translate(142.413557 255.116406)scale(0.11 -0.11)\">\r\n       <defs>\r\n        <path d=\"M 10.984375 1.515625 \r\nL 10.984375 10.5 \r\nQ 14.703125 8.734375 18.5 7.8125 \r\nQ 22.3125 6.890625 25.984375 6.890625 \r\nQ 35.75 6.890625 40.890625 13.453125 \r\nQ 46.046875 20.015625 46.78125 33.40625 \r\nQ 43.953125 29.203125 39.59375 26.953125 \r\nQ 35.25 24.703125 29.984375 24.703125 \r\nQ 19.046875 24.703125 12.671875 31.3125 \r\nQ 6.296875 37.9375 6.296875 49.421875 \r\nQ 6.296875 60.640625 12.9375 67.421875 \r\nQ 19.578125 74.21875 30.609375 74.21875 \r\nQ 43.265625 74.21875 49.921875 64.515625 \r\nQ 56.59375 54.828125 56.59375 36.375 \r\nQ 56.59375 19.140625 48.40625 8.859375 \r\nQ 40.234375 -1.421875 26.421875 -1.421875 \r\nQ 22.703125 -1.421875 18.890625 -0.6875 \r\nQ 15.09375 0.046875 10.984375 1.515625 \r\nz\r\nM 30.609375 32.421875 \r\nQ 37.25 32.421875 41.125 36.953125 \r\nQ 45.015625 41.5 45.015625 49.421875 \r\nQ 45.015625 57.28125 41.125 61.84375 \r\nQ 37.25 66.40625 30.609375 66.40625 \r\nQ 23.96875 66.40625 20.09375 61.84375 \r\nQ 16.21875 57.28125 16.21875 49.421875 \r\nQ 16.21875 41.5 20.09375 36.953125 \r\nQ 23.96875 32.421875 30.609375 32.421875 \r\nz\r\n\" id=\"DejaVuSans-57\"/>\r\n       </defs>\r\n       <use xlink:href=\"#DejaVuSans-54\"/>\r\n       <use x=\"63.623047\" xlink:href=\"#DejaVuSans-46\"/>\r\n       <use x=\"95.410156\" xlink:href=\"#DejaVuSans-57\"/>\r\n      </g>\r\n     </g>\r\n    </g>\r\n    <g id=\"xtick_4\">\r\n     <g id=\"line2d_7\">\r\n      <path clip-path=\"url(#p2ca6dcd43d)\" d=\"M 190.548511 239.758125 \r\nL 190.548511 22.318125 \r\n\" style=\"fill:none;stroke:#b0b0b0;stroke-linecap:square;stroke-width:0.8;\"/>\r\n     </g>\r\n     <g id=\"line2d_8\">\r\n      <g>\r\n       <use style=\"stroke:#000000;stroke-width:0.8;\" x=\"190.548511\" xlink:href=\"#m54a8618b28\" y=\"239.758125\"/>\r\n      </g>\r\n     </g>\r\n     <g id=\"text_4\">\r\n      <!-- 7.0 -->\r\n      <g transform=\"translate(181.801792 255.116406)scale(0.11 -0.11)\">\r\n       <defs>\r\n        <path d=\"M 31.78125 66.40625 \r\nQ 24.171875 66.40625 20.328125 58.90625 \r\nQ 16.5 51.421875 16.5 36.375 \r\nQ 16.5 21.390625 20.328125 13.890625 \r\nQ 24.171875 6.390625 31.78125 6.390625 \r\nQ 39.453125 6.390625 43.28125 13.890625 \r\nQ 47.125 21.390625 47.125 36.375 \r\nQ 47.125 51.421875 43.28125 58.90625 \r\nQ 39.453125 66.40625 31.78125 66.40625 \r\nz\r\nM 31.78125 74.21875 \r\nQ 44.046875 74.21875 50.515625 64.515625 \r\nQ 56.984375 54.828125 56.984375 36.375 \r\nQ 56.984375 17.96875 50.515625 8.265625 \r\nQ 44.046875 -1.421875 31.78125 -1.421875 \r\nQ 19.53125 -1.421875 13.0625 8.265625 \r\nQ 6.59375 17.96875 6.59375 36.375 \r\nQ 6.59375 54.828125 13.0625 64.515625 \r\nQ 19.53125 74.21875 31.78125 74.21875 \r\nz\r\n\" id=\"DejaVuSans-48\"/>\r\n       </defs>\r\n       <use xlink:href=\"#DejaVuSans-55\"/>\r\n       <use x=\"63.623047\" xlink:href=\"#DejaVuSans-46\"/>\r\n       <use x=\"95.410156\" xlink:href=\"#DejaVuSans-48\"/>\r\n      </g>\r\n     </g>\r\n    </g>\r\n    <g id=\"xtick_5\">\r\n     <g id=\"line2d_9\">\r\n      <path clip-path=\"url(#p2ca6dcd43d)\" d=\"M 229.936746 239.758125 \r\nL 229.936746 22.318125 \r\n\" style=\"fill:none;stroke:#b0b0b0;stroke-linecap:square;stroke-width:0.8;\"/>\r\n     </g>\r\n     <g id=\"line2d_10\">\r\n      <g>\r\n       <use style=\"stroke:#000000;stroke-width:0.8;\" x=\"229.936746\" xlink:href=\"#m54a8618b28\" y=\"239.758125\"/>\r\n      </g>\r\n     </g>\r\n     <g id=\"text_5\">\r\n      <!-- 7.1 -->\r\n      <g transform=\"translate(221.190028 255.116406)scale(0.11 -0.11)\">\r\n       <defs>\r\n        <path d=\"M 12.40625 8.296875 \r\nL 28.515625 8.296875 \r\nL 28.515625 63.921875 \r\nL 10.984375 60.40625 \r\nL 10.984375 69.390625 \r\nL 28.421875 72.90625 \r\nL 38.28125 72.90625 \r\nL 38.28125 8.296875 \r\nL 54.390625 8.296875 \r\nL 54.390625 0 \r\nL 12.40625 0 \r\nz\r\n\" id=\"DejaVuSans-49\"/>\r\n       </defs>\r\n       <use xlink:href=\"#DejaVuSans-55\"/>\r\n       <use x=\"63.623047\" xlink:href=\"#DejaVuSans-46\"/>\r\n       <use x=\"95.410156\" xlink:href=\"#DejaVuSans-49\"/>\r\n      </g>\r\n     </g>\r\n    </g>\r\n    <g id=\"xtick_6\">\r\n     <g id=\"line2d_11\">\r\n      <path clip-path=\"url(#p2ca6dcd43d)\" d=\"M 269.324982 239.758125 \r\nL 269.324982 22.318125 \r\n\" style=\"fill:none;stroke:#b0b0b0;stroke-linecap:square;stroke-width:0.8;\"/>\r\n     </g>\r\n     <g id=\"line2d_12\">\r\n      <g>\r\n       <use style=\"stroke:#000000;stroke-width:0.8;\" x=\"269.324982\" xlink:href=\"#m54a8618b28\" y=\"239.758125\"/>\r\n      </g>\r\n     </g>\r\n     <g id=\"text_6\">\r\n      <!-- 7.2 -->\r\n      <g transform=\"translate(260.578263 255.116406)scale(0.11 -0.11)\">\r\n       <defs>\r\n        <path d=\"M 19.1875 8.296875 \r\nL 53.609375 8.296875 \r\nL 53.609375 0 \r\nL 7.328125 0 \r\nL 7.328125 8.296875 \r\nQ 12.9375 14.109375 22.625 23.890625 \r\nQ 32.328125 33.6875 34.8125 36.53125 \r\nQ 39.546875 41.84375 41.421875 45.53125 \r\nQ 43.3125 49.21875 43.3125 52.78125 \r\nQ 43.3125 58.59375 39.234375 62.25 \r\nQ 35.15625 65.921875 28.609375 65.921875 \r\nQ 23.96875 65.921875 18.8125 64.3125 \r\nQ 13.671875 62.703125 7.8125 59.421875 \r\nL 7.8125 69.390625 \r\nQ 13.765625 71.78125 18.9375 73 \r\nQ 24.125 74.21875 28.421875 74.21875 \r\nQ 39.75 74.21875 46.484375 68.546875 \r\nQ 53.21875 62.890625 53.21875 53.421875 \r\nQ 53.21875 48.921875 51.53125 44.890625 \r\nQ 49.859375 40.875 45.40625 35.40625 \r\nQ 44.1875 33.984375 37.640625 27.21875 \r\nQ 31.109375 20.453125 19.1875 8.296875 \r\nz\r\n\" id=\"DejaVuSans-50\"/>\r\n       </defs>\r\n       <use xlink:href=\"#DejaVuSans-55\"/>\r\n       <use x=\"63.623047\" xlink:href=\"#DejaVuSans-46\"/>\r\n       <use x=\"95.410156\" xlink:href=\"#DejaVuSans-50\"/>\r\n      </g>\r\n     </g>\r\n    </g>\r\n    <g id=\"xtick_7\">\r\n     <g id=\"line2d_13\">\r\n      <path clip-path=\"url(#p2ca6dcd43d)\" d=\"M 308.713217 239.758125 \r\nL 308.713217 22.318125 \r\n\" style=\"fill:none;stroke:#b0b0b0;stroke-linecap:square;stroke-width:0.8;\"/>\r\n     </g>\r\n     <g id=\"line2d_14\">\r\n      <g>\r\n       <use style=\"stroke:#000000;stroke-width:0.8;\" x=\"308.713217\" xlink:href=\"#m54a8618b28\" y=\"239.758125\"/>\r\n      </g>\r\n     </g>\r\n     <g id=\"text_7\">\r\n      <!-- 7.3 -->\r\n      <g transform=\"translate(299.966498 255.116406)scale(0.11 -0.11)\">\r\n       <defs>\r\n        <path d=\"M 40.578125 39.3125 \r\nQ 47.65625 37.796875 51.625 33 \r\nQ 55.609375 28.21875 55.609375 21.1875 \r\nQ 55.609375 10.40625 48.1875 4.484375 \r\nQ 40.765625 -1.421875 27.09375 -1.421875 \r\nQ 22.515625 -1.421875 17.65625 -0.515625 \r\nQ 12.796875 0.390625 7.625 2.203125 \r\nL 7.625 11.71875 \r\nQ 11.71875 9.328125 16.59375 8.109375 \r\nQ 21.484375 6.890625 26.8125 6.890625 \r\nQ 36.078125 6.890625 40.9375 10.546875 \r\nQ 45.796875 14.203125 45.796875 21.1875 \r\nQ 45.796875 27.640625 41.28125 31.265625 \r\nQ 36.765625 34.90625 28.71875 34.90625 \r\nL 20.21875 34.90625 \r\nL 20.21875 43.015625 \r\nL 29.109375 43.015625 \r\nQ 36.375 43.015625 40.234375 45.921875 \r\nQ 44.09375 48.828125 44.09375 54.296875 \r\nQ 44.09375 59.90625 40.109375 62.90625 \r\nQ 36.140625 65.921875 28.71875 65.921875 \r\nQ 24.65625 65.921875 20.015625 65.03125 \r\nQ 15.375 64.15625 9.8125 62.3125 \r\nL 9.8125 71.09375 \r\nQ 15.4375 72.65625 20.34375 73.4375 \r\nQ 25.25 74.21875 29.59375 74.21875 \r\nQ 40.828125 74.21875 47.359375 69.109375 \r\nQ 53.90625 64.015625 53.90625 55.328125 \r\nQ 53.90625 49.265625 50.4375 45.09375 \r\nQ 46.96875 40.921875 40.578125 39.3125 \r\nz\r\n\" id=\"DejaVuSans-51\"/>\r\n       </defs>\r\n       <use xlink:href=\"#DejaVuSans-55\"/>\r\n       <use x=\"63.623047\" xlink:href=\"#DejaVuSans-46\"/>\r\n       <use x=\"95.410156\" xlink:href=\"#DejaVuSans-51\"/>\r\n      </g>\r\n     </g>\r\n    </g>\r\n    <g id=\"xtick_8\">\r\n     <g id=\"line2d_15\">\r\n      <path clip-path=\"url(#p2ca6dcd43d)\" d=\"M 348.101452 239.758125 \r\nL 348.101452 22.318125 \r\n\" style=\"fill:none;stroke:#b0b0b0;stroke-linecap:square;stroke-width:0.8;\"/>\r\n     </g>\r\n     <g id=\"line2d_16\">\r\n      <g>\r\n       <use style=\"stroke:#000000;stroke-width:0.8;\" x=\"348.101452\" xlink:href=\"#m54a8618b28\" y=\"239.758125\"/>\r\n      </g>\r\n     </g>\r\n     <g id=\"text_8\">\r\n      <!-- 7.4 -->\r\n      <g transform=\"translate(339.354733 255.116406)scale(0.11 -0.11)\">\r\n       <defs>\r\n        <path d=\"M 37.796875 64.3125 \r\nL 12.890625 25.390625 \r\nL 37.796875 25.390625 \r\nz\r\nM 35.203125 72.90625 \r\nL 47.609375 72.90625 \r\nL 47.609375 25.390625 \r\nL 58.015625 25.390625 \r\nL 58.015625 17.1875 \r\nL 47.609375 17.1875 \r\nL 47.609375 0 \r\nL 37.796875 0 \r\nL 37.796875 17.1875 \r\nL 4.890625 17.1875 \r\nL 4.890625 26.703125 \r\nz\r\n\" id=\"DejaVuSans-52\"/>\r\n       </defs>\r\n       <use xlink:href=\"#DejaVuSans-55\"/>\r\n       <use x=\"63.623047\" xlink:href=\"#DejaVuSans-46\"/>\r\n       <use x=\"95.410156\" xlink:href=\"#DejaVuSans-52\"/>\r\n      </g>\r\n     </g>\r\n    </g>\r\n    <g id=\"xtick_9\">\r\n     <g id=\"line2d_17\">\r\n      <path clip-path=\"url(#p2ca6dcd43d)\" d=\"M 387.489688 239.758125 \r\nL 387.489688 22.318125 \r\n\" style=\"fill:none;stroke:#b0b0b0;stroke-linecap:square;stroke-width:0.8;\"/>\r\n     </g>\r\n     <g id=\"line2d_18\">\r\n      <g>\r\n       <use style=\"stroke:#000000;stroke-width:0.8;\" x=\"387.489688\" xlink:href=\"#m54a8618b28\" y=\"239.758125\"/>\r\n      </g>\r\n     </g>\r\n     <g id=\"text_9\">\r\n      <!-- 7.5 -->\r\n      <g transform=\"translate(378.742969 255.116406)scale(0.11 -0.11)\">\r\n       <defs>\r\n        <path d=\"M 10.796875 72.90625 \r\nL 49.515625 72.90625 \r\nL 49.515625 64.59375 \r\nL 19.828125 64.59375 \r\nL 19.828125 46.734375 \r\nQ 21.96875 47.46875 24.109375 47.828125 \r\nQ 26.265625 48.1875 28.421875 48.1875 \r\nQ 40.625 48.1875 47.75 41.5 \r\nQ 54.890625 34.8125 54.890625 23.390625 \r\nQ 54.890625 11.625 47.5625 5.09375 \r\nQ 40.234375 -1.421875 26.90625 -1.421875 \r\nQ 22.3125 -1.421875 17.546875 -0.640625 \r\nQ 12.796875 0.140625 7.71875 1.703125 \r\nL 7.71875 11.625 \r\nQ 12.109375 9.234375 16.796875 8.0625 \r\nQ 21.484375 6.890625 26.703125 6.890625 \r\nQ 35.15625 6.890625 40.078125 11.328125 \r\nQ 45.015625 15.765625 45.015625 23.390625 \r\nQ 45.015625 31 40.078125 35.4375 \r\nQ 35.15625 39.890625 26.703125 39.890625 \r\nQ 22.75 39.890625 18.8125 39.015625 \r\nQ 14.890625 38.140625 10.796875 36.28125 \r\nz\r\n\" id=\"DejaVuSans-53\"/>\r\n       </defs>\r\n       <use xlink:href=\"#DejaVuSans-55\"/>\r\n       <use x=\"63.623047\" xlink:href=\"#DejaVuSans-46\"/>\r\n       <use x=\"95.410156\" xlink:href=\"#DejaVuSans-53\"/>\r\n      </g>\r\n     </g>\r\n    </g>\r\n   </g>\r\n   <g id=\"matplotlib.axis_2\">\r\n    <g id=\"ytick_1\">\r\n     <g id=\"line2d_19\">\r\n      <path clip-path=\"url(#p2ca6dcd43d)\" d=\"M 52.689688 239.758125 \r\nL 387.489688 239.758125 \r\n\" style=\"fill:none;stroke:#b0b0b0;stroke-linecap:square;stroke-width:0.8;\"/>\r\n     </g>\r\n     <g id=\"line2d_20\">\r\n      <defs>\r\n       <path d=\"M 0 0 \r\nL -3.5 0 \r\n\" id=\"m9f03de3c80\" style=\"stroke:#000000;stroke-width:0.8;\"/>\r\n      </defs>\r\n      <g>\r\n       <use style=\"stroke:#000000;stroke-width:0.8;\" x=\"52.689688\" xlink:href=\"#m9f03de3c80\" y=\"239.758125\"/>\r\n      </g>\r\n     </g>\r\n     <g id=\"text_10\">\r\n      <!-- 0.0000 -->\r\n      <g transform=\"translate(7.2 243.937266)scale(0.11 -0.11)\">\r\n       <use xlink:href=\"#DejaVuSans-48\"/>\r\n       <use x=\"63.623047\" xlink:href=\"#DejaVuSans-46\"/>\r\n       <use x=\"95.410156\" xlink:href=\"#DejaVuSans-48\"/>\r\n       <use x=\"159.033203\" xlink:href=\"#DejaVuSans-48\"/>\r\n       <use x=\"222.65625\" xlink:href=\"#DejaVuSans-48\"/>\r\n       <use x=\"286.279297\" xlink:href=\"#DejaVuSans-48\"/>\r\n      </g>\r\n     </g>\r\n    </g>\r\n    <g id=\"ytick_2\">\r\n     <g id=\"line2d_21\">\r\n      <path clip-path=\"url(#p2ca6dcd43d)\" d=\"M 52.689688 196.270125 \r\nL 387.489688 196.270125 \r\n\" style=\"fill:none;stroke:#b0b0b0;stroke-linecap:square;stroke-width:0.8;\"/>\r\n     </g>\r\n     <g id=\"line2d_22\">\r\n      <g>\r\n       <use style=\"stroke:#000000;stroke-width:0.8;\" x=\"52.689688\" xlink:href=\"#m9f03de3c80\" y=\"196.270125\"/>\r\n      </g>\r\n     </g>\r\n     <g id=\"text_11\">\r\n      <!-- 0.0001 -->\r\n      <g transform=\"translate(7.2 200.449266)scale(0.11 -0.11)\">\r\n       <use xlink:href=\"#DejaVuSans-48\"/>\r\n       <use x=\"63.623047\" xlink:href=\"#DejaVuSans-46\"/>\r\n       <use x=\"95.410156\" xlink:href=\"#DejaVuSans-48\"/>\r\n       <use x=\"159.033203\" xlink:href=\"#DejaVuSans-48\"/>\r\n       <use x=\"222.65625\" xlink:href=\"#DejaVuSans-48\"/>\r\n       <use x=\"286.279297\" xlink:href=\"#DejaVuSans-49\"/>\r\n      </g>\r\n     </g>\r\n    </g>\r\n    <g id=\"ytick_3\">\r\n     <g id=\"line2d_23\">\r\n      <path clip-path=\"url(#p2ca6dcd43d)\" d=\"M 52.689688 152.782125 \r\nL 387.489688 152.782125 \r\n\" style=\"fill:none;stroke:#b0b0b0;stroke-linecap:square;stroke-width:0.8;\"/>\r\n     </g>\r\n     <g id=\"line2d_24\">\r\n      <g>\r\n       <use style=\"stroke:#000000;stroke-width:0.8;\" x=\"52.689688\" xlink:href=\"#m9f03de3c80\" y=\"152.782125\"/>\r\n      </g>\r\n     </g>\r\n     <g id=\"text_12\">\r\n      <!-- 0.0002 -->\r\n      <g transform=\"translate(7.2 156.961266)scale(0.11 -0.11)\">\r\n       <use xlink:href=\"#DejaVuSans-48\"/>\r\n       <use x=\"63.623047\" xlink:href=\"#DejaVuSans-46\"/>\r\n       <use x=\"95.410156\" xlink:href=\"#DejaVuSans-48\"/>\r\n       <use x=\"159.033203\" xlink:href=\"#DejaVuSans-48\"/>\r\n       <use x=\"222.65625\" xlink:href=\"#DejaVuSans-48\"/>\r\n       <use x=\"286.279297\" xlink:href=\"#DejaVuSans-50\"/>\r\n      </g>\r\n     </g>\r\n    </g>\r\n    <g id=\"ytick_4\">\r\n     <g id=\"line2d_25\">\r\n      <path clip-path=\"url(#p2ca6dcd43d)\" d=\"M 52.689688 109.294125 \r\nL 387.489688 109.294125 \r\n\" style=\"fill:none;stroke:#b0b0b0;stroke-linecap:square;stroke-width:0.8;\"/>\r\n     </g>\r\n     <g id=\"line2d_26\">\r\n      <g>\r\n       <use style=\"stroke:#000000;stroke-width:0.8;\" x=\"52.689688\" xlink:href=\"#m9f03de3c80\" y=\"109.294125\"/>\r\n      </g>\r\n     </g>\r\n     <g id=\"text_13\">\r\n      <!-- 0.0003 -->\r\n      <g transform=\"translate(7.2 113.473266)scale(0.11 -0.11)\">\r\n       <use xlink:href=\"#DejaVuSans-48\"/>\r\n       <use x=\"63.623047\" xlink:href=\"#DejaVuSans-46\"/>\r\n       <use x=\"95.410156\" xlink:href=\"#DejaVuSans-48\"/>\r\n       <use x=\"159.033203\" xlink:href=\"#DejaVuSans-48\"/>\r\n       <use x=\"222.65625\" xlink:href=\"#DejaVuSans-48\"/>\r\n       <use x=\"286.279297\" xlink:href=\"#DejaVuSans-51\"/>\r\n      </g>\r\n     </g>\r\n    </g>\r\n    <g id=\"ytick_5\">\r\n     <g id=\"line2d_27\">\r\n      <path clip-path=\"url(#p2ca6dcd43d)\" d=\"M 52.689688 65.806125 \r\nL 387.489688 65.806125 \r\n\" style=\"fill:none;stroke:#b0b0b0;stroke-linecap:square;stroke-width:0.8;\"/>\r\n     </g>\r\n     <g id=\"line2d_28\">\r\n      <g>\r\n       <use style=\"stroke:#000000;stroke-width:0.8;\" x=\"52.689688\" xlink:href=\"#m9f03de3c80\" y=\"65.806125\"/>\r\n      </g>\r\n     </g>\r\n     <g id=\"text_14\">\r\n      <!-- 0.0004 -->\r\n      <g transform=\"translate(7.2 69.985266)scale(0.11 -0.11)\">\r\n       <use xlink:href=\"#DejaVuSans-48\"/>\r\n       <use x=\"63.623047\" xlink:href=\"#DejaVuSans-46\"/>\r\n       <use x=\"95.410156\" xlink:href=\"#DejaVuSans-48\"/>\r\n       <use x=\"159.033203\" xlink:href=\"#DejaVuSans-48\"/>\r\n       <use x=\"222.65625\" xlink:href=\"#DejaVuSans-48\"/>\r\n       <use x=\"286.279297\" xlink:href=\"#DejaVuSans-52\"/>\r\n      </g>\r\n     </g>\r\n    </g>\r\n    <g id=\"ytick_6\">\r\n     <g id=\"line2d_29\">\r\n      <path clip-path=\"url(#p2ca6dcd43d)\" d=\"M 52.689688 22.318125 \r\nL 387.489688 22.318125 \r\n\" style=\"fill:none;stroke:#b0b0b0;stroke-linecap:square;stroke-width:0.8;\"/>\r\n     </g>\r\n     <g id=\"line2d_30\">\r\n      <g>\r\n       <use style=\"stroke:#000000;stroke-width:0.8;\" x=\"52.689688\" xlink:href=\"#m9f03de3c80\" y=\"22.318125\"/>\r\n      </g>\r\n     </g>\r\n     <g id=\"text_15\">\r\n      <!-- 0.0005 -->\r\n      <g transform=\"translate(7.2 26.497266)scale(0.11 -0.11)\">\r\n       <use xlink:href=\"#DejaVuSans-48\"/>\r\n       <use x=\"63.623047\" xlink:href=\"#DejaVuSans-46\"/>\r\n       <use x=\"95.410156\" xlink:href=\"#DejaVuSans-48\"/>\r\n       <use x=\"159.033203\" xlink:href=\"#DejaVuSans-48\"/>\r\n       <use x=\"222.65625\" xlink:href=\"#DejaVuSans-48\"/>\r\n       <use x=\"286.279297\" xlink:href=\"#DejaVuSans-53\"/>\r\n      </g>\r\n     </g>\r\n    </g>\r\n   </g>\r\n   <g id=\"line2d_31\">\r\n    <path clip-path=\"url(#p2ca6dcd43d)\" d=\"M 108.66401 -1 \r\nL 112.091211 8.94231 \r\nL 116.030035 19.829848 \r\nL 119.968858 30.203823 \r\nL 123.907682 40.08846 \r\nL 127.846505 49.50684 \r\nL 131.785329 58.480957 \r\nL 135.724152 67.031767 \r\nL 139.662976 75.179236 \r\nL 143.601799 82.942391 \r\nL 147.540623 90.33936 \r\nL 151.479446 97.387414 \r\nL 155.41827 104.103014 \r\nL 159.357093 110.50184 \r\nL 163.295917 116.598834 \r\nL 167.23474 122.408234 \r\nL 171.173564 127.943606 \r\nL 175.112387 133.217876 \r\nL 179.051211 138.243359 \r\nL 182.990035 143.031791 \r\nL 186.928858 147.594354 \r\nL 190.867682 151.941701 \r\nL 194.806505 156.083986 \r\nL 198.745329 160.030879 \r\nL 202.684152 163.791598 \r\nL 206.622976 167.374924 \r\nL 210.561799 170.789226 \r\nL 214.500623 174.042476 \r\nL 218.439446 177.14227 \r\nL 222.37827 180.095848 \r\nL 226.317093 182.910106 \r\nL 230.255917 185.591616 \r\nL 234.19474 188.14664 \r\nL 238.133564 190.581144 \r\nL 242.072387 192.900813 \r\nL 246.011211 195.111063 \r\nL 249.950035 197.217056 \r\nL 253.888858 199.22371 \r\nL 257.827682 201.135711 \r\nL 261.766505 202.957523 \r\nL 265.705329 204.6934 \r\nL 269.644152 206.347396 \r\nL 273.582976 207.923374 \r\nL 277.521799 209.425013 \r\nL 281.460623 210.85582 \r\nL 285.399446 212.219136 \r\nL 289.33827 213.518145 \r\nL 293.277093 214.755879 \r\nL 297.215917 215.93523 \r\nL 301.15474 217.058951 \r\nL 305.093564 218.129667 \r\nL 309.032387 219.149877 \r\nL 312.971211 220.121964 \r\nL 316.910035 221.048198 \r\nL 320.848858 221.930741 \r\nL 324.787682 222.771655 \r\nL 328.726505 223.572904 \r\nL 332.665329 224.336357 \r\nL 336.604152 225.063799 \r\nL 340.542976 225.756927 \r\nL 344.481799 226.417361 \r\nL 348.420623 227.046642 \r\nL 352.359446 227.64624 \r\nL 356.29827 228.217555 \r\nL 360.237093 228.761922 \r\nL 364.175917 229.28061 \r\nL 368.11474 229.774833 \r\nL 372.053564 230.245742 \r\nL 375.992387 230.69444 \r\nL 379.931211 231.121972 \r\nL 383.870035 231.529337 \r\nL 387.808858 231.917487 \r\n\" style=\"fill:none;stroke:#1f77b4;stroke-linecap:square;stroke-width:1.5;\"/>\r\n   </g>\r\n   <g id=\"line2d_32\">\r\n    <path clip-path=\"url(#p2ca6dcd43d)\" d=\"M 46.795971 -1 \r\nL 49.070035 5.690014 \r\nL 53.008858 16.730962 \r\nL 56.947682 27.251111 \r\nL 60.886505 37.275027 \r\nL 64.825329 46.826116 \r\nL 68.764152 55.926683 \r\nL 72.702976 64.597977 \r\nL 76.641799 72.860248 \r\nL 80.580623 80.732789 \r\nL 84.519446 88.233984 \r\nL 88.45827 95.381349 \r\nL 92.397093 102.191574 \r\nL 96.335917 108.680562 \r\nL 100.27474 114.863466 \r\nL 104.213564 120.754723 \r\nL 108.152387 126.368091 \r\nL 112.091211 131.716677 \r\nL 116.030035 136.812972 \r\nL 119.968858 141.668875 \r\nL 123.907682 146.295726 \r\nL 127.846505 150.70433 \r\nL 131.785329 154.90498 \r\nL 135.724152 158.907487 \r\nL 139.662976 162.721196 \r\nL 143.601799 166.355013 \r\nL 147.540623 169.817424 \r\nL 151.479446 173.116513 \r\nL 155.41827 176.259986 \r\nL 159.357093 179.255181 \r\nL 163.295917 182.109093 \r\nL 167.23474 184.828387 \r\nL 171.173564 187.419412 \r\nL 175.112387 189.888219 \r\nL 179.051211 192.240573 \r\nL 182.990035 194.481966 \r\nL 186.928858 196.617634 \r\nL 190.867682 198.652563 \r\nL 194.806505 200.591504 \r\nL 198.745329 202.438986 \r\nL 202.684152 204.199323 \r\nL 206.622976 205.876624 \r\nL 210.561799 207.474808 \r\nL 214.500623 208.997606 \r\nL 218.439446 210.448574 \r\nL 222.37827 211.831099 \r\nL 226.317093 213.148412 \r\nL 230.255917 214.403587 \r\nL 234.19474 215.599555 \r\nL 238.133564 216.73911 \r\nL 242.072387 217.824913 \r\nL 246.011211 218.859498 \r\nL 249.950035 219.845282 \r\nL 253.888858 220.784567 \r\nL 257.827682 221.679546 \r\nL 261.766505 222.532309 \r\nL 265.705329 223.344847 \r\nL 269.644152 224.119058 \r\nL 273.582976 224.85675 \r\nL 277.521799 225.559645 \r\nL 281.460623 226.229384 \r\nL 285.399446 226.867532 \r\nL 289.33827 227.475579 \r\nL 293.277093 228.054944 \r\nL 297.215917 228.606981 \r\nL 301.15474 229.132978 \r\nL 305.093564 229.634164 \r\nL 309.032387 230.111709 \r\nL 312.971211 230.566728 \r\nL 316.910035 231.000284 \r\nL 320.848858 231.41339 \r\nL 324.787682 231.807009 \r\nL 328.726505 232.182062 \r\nL 332.665329 232.539423 \r\nL 336.604152 232.879928 \r\nL 340.542976 233.204371 \r\nL 344.481799 233.51351 \r\nL 348.420623 233.808067 \r\nL 352.359446 234.08873 \r\nL 356.29827 234.356154 \r\nL 360.237093 234.610964 \r\nL 364.175917 234.853754 \r\nL 368.11474 235.085092 \r\nL 372.053564 235.305518 \r\nL 375.992387 235.515547 \r\nL 379.931211 235.715668 \r\nL 383.870035 235.90635 \r\nL 387.808858 236.088037 \r\n\" style=\"fill:none;stroke:#ff7f0e;stroke-linecap:square;stroke-width:1.5;\"/>\r\n   </g>\r\n   <g id=\"patch_3\">\r\n    <path d=\"M 52.689688 239.758125 \r\nL 52.689688 22.318125 \r\n\" style=\"fill:none;stroke:#000000;stroke-linecap:square;stroke-linejoin:miter;stroke-width:0.8;\"/>\r\n   </g>\r\n   <g id=\"patch_4\">\r\n    <path d=\"M 387.489688 239.758125 \r\nL 387.489688 22.318125 \r\n\" style=\"fill:none;stroke:#000000;stroke-linecap:square;stroke-linejoin:miter;stroke-width:0.8;\"/>\r\n   </g>\r\n   <g id=\"patch_5\">\r\n    <path d=\"M 52.689688 239.758125 \r\nL 387.489688 239.758125 \r\n\" style=\"fill:none;stroke:#000000;stroke-linecap:square;stroke-linejoin:miter;stroke-width:0.8;\"/>\r\n   </g>\r\n   <g id=\"patch_6\">\r\n    <path d=\"M 52.689688 22.318125 \r\nL 387.489688 22.318125 \r\n\" style=\"fill:none;stroke:#000000;stroke-linecap:square;stroke-linejoin:miter;stroke-width:0.8;\"/>\r\n   </g>\r\n   <g id=\"text_16\">\r\n    <!-- Carrera de condensadores -->\r\n    <g transform=\"translate(140.871875 16.318125)scale(0.12 -0.12)\">\r\n     <defs>\r\n      <path d=\"M 64.40625 67.28125 \r\nL 64.40625 56.890625 \r\nQ 59.421875 61.53125 53.78125 63.8125 \r\nQ 48.140625 66.109375 41.796875 66.109375 \r\nQ 29.296875 66.109375 22.65625 58.46875 \r\nQ 16.015625 50.828125 16.015625 36.375 \r\nQ 16.015625 21.96875 22.65625 14.328125 \r\nQ 29.296875 6.6875 41.796875 6.6875 \r\nQ 48.140625 6.6875 53.78125 8.984375 \r\nQ 59.421875 11.28125 64.40625 15.921875 \r\nL 64.40625 5.609375 \r\nQ 59.234375 2.09375 53.4375 0.328125 \r\nQ 47.65625 -1.421875 41.21875 -1.421875 \r\nQ 24.65625 -1.421875 15.125 8.703125 \r\nQ 5.609375 18.84375 5.609375 36.375 \r\nQ 5.609375 53.953125 15.125 64.078125 \r\nQ 24.65625 74.21875 41.21875 74.21875 \r\nQ 47.75 74.21875 53.53125 72.484375 \r\nQ 59.328125 70.75 64.40625 67.28125 \r\nz\r\n\" id=\"DejaVuSans-67\"/>\r\n      <path d=\"M 34.28125 27.484375 \r\nQ 23.390625 27.484375 19.1875 25 \r\nQ 14.984375 22.515625 14.984375 16.5 \r\nQ 14.984375 11.71875 18.140625 8.90625 \r\nQ 21.296875 6.109375 26.703125 6.109375 \r\nQ 34.1875 6.109375 38.703125 11.40625 \r\nQ 43.21875 16.703125 43.21875 25.484375 \r\nL 43.21875 27.484375 \r\nz\r\nM 52.203125 31.203125 \r\nL 52.203125 0 \r\nL 43.21875 0 \r\nL 43.21875 8.296875 \r\nQ 40.140625 3.328125 35.546875 0.953125 \r\nQ 30.953125 -1.421875 24.3125 -1.421875 \r\nQ 15.921875 -1.421875 10.953125 3.296875 \r\nQ 6 8.015625 6 15.921875 \r\nQ 6 25.140625 12.171875 29.828125 \r\nQ 18.359375 34.515625 30.609375 34.515625 \r\nL 43.21875 34.515625 \r\nL 43.21875 35.40625 \r\nQ 43.21875 41.609375 39.140625 45 \r\nQ 35.0625 48.390625 27.6875 48.390625 \r\nQ 23 48.390625 18.546875 47.265625 \r\nQ 14.109375 46.140625 10.015625 43.890625 \r\nL 10.015625 52.203125 \r\nQ 14.9375 54.109375 19.578125 55.046875 \r\nQ 24.21875 56 28.609375 56 \r\nQ 40.484375 56 46.34375 49.84375 \r\nQ 52.203125 43.703125 52.203125 31.203125 \r\nz\r\n\" id=\"DejaVuSans-97\"/>\r\n      <path d=\"M 41.109375 46.296875 \r\nQ 39.59375 47.171875 37.8125 47.578125 \r\nQ 36.03125 48 33.890625 48 \r\nQ 26.265625 48 22.1875 43.046875 \r\nQ 18.109375 38.09375 18.109375 28.8125 \r\nL 18.109375 0 \r\nL 9.078125 0 \r\nL 9.078125 54.6875 \r\nL 18.109375 54.6875 \r\nL 18.109375 46.1875 \r\nQ 20.953125 51.171875 25.484375 53.578125 \r\nQ 30.03125 56 36.53125 56 \r\nQ 37.453125 56 38.578125 55.875 \r\nQ 39.703125 55.765625 41.0625 55.515625 \r\nz\r\n\" id=\"DejaVuSans-114\"/>\r\n      <path d=\"M 56.203125 29.59375 \r\nL 56.203125 25.203125 \r\nL 14.890625 25.203125 \r\nQ 15.484375 15.921875 20.484375 11.0625 \r\nQ 25.484375 6.203125 34.421875 6.203125 \r\nQ 39.59375 6.203125 44.453125 7.46875 \r\nQ 49.3125 8.734375 54.109375 11.28125 \r\nL 54.109375 2.78125 \r\nQ 49.265625 0.734375 44.1875 -0.34375 \r\nQ 39.109375 -1.421875 33.890625 -1.421875 \r\nQ 20.796875 -1.421875 13.15625 6.1875 \r\nQ 5.515625 13.8125 5.515625 26.8125 \r\nQ 5.515625 40.234375 12.765625 48.109375 \r\nQ 20.015625 56 32.328125 56 \r\nQ 43.359375 56 49.78125 48.890625 \r\nQ 56.203125 41.796875 56.203125 29.59375 \r\nz\r\nM 47.21875 32.234375 \r\nQ 47.125 39.59375 43.09375 43.984375 \r\nQ 39.0625 48.390625 32.421875 48.390625 \r\nQ 24.90625 48.390625 20.390625 44.140625 \r\nQ 15.875 39.890625 15.1875 32.171875 \r\nz\r\n\" id=\"DejaVuSans-101\"/>\r\n      <path id=\"DejaVuSans-32\"/>\r\n      <path d=\"M 45.40625 46.390625 \r\nL 45.40625 75.984375 \r\nL 54.390625 75.984375 \r\nL 54.390625 0 \r\nL 45.40625 0 \r\nL 45.40625 8.203125 \r\nQ 42.578125 3.328125 38.25 0.953125 \r\nQ 33.9375 -1.421875 27.875 -1.421875 \r\nQ 17.96875 -1.421875 11.734375 6.484375 \r\nQ 5.515625 14.40625 5.515625 27.296875 \r\nQ 5.515625 40.1875 11.734375 48.09375 \r\nQ 17.96875 56 27.875 56 \r\nQ 33.9375 56 38.25 53.625 \r\nQ 42.578125 51.265625 45.40625 46.390625 \r\nz\r\nM 14.796875 27.296875 \r\nQ 14.796875 17.390625 18.875 11.75 \r\nQ 22.953125 6.109375 30.078125 6.109375 \r\nQ 37.203125 6.109375 41.296875 11.75 \r\nQ 45.40625 17.390625 45.40625 27.296875 \r\nQ 45.40625 37.203125 41.296875 42.84375 \r\nQ 37.203125 48.484375 30.078125 48.484375 \r\nQ 22.953125 48.484375 18.875 42.84375 \r\nQ 14.796875 37.203125 14.796875 27.296875 \r\nz\r\n\" id=\"DejaVuSans-100\"/>\r\n      <path d=\"M 48.78125 52.59375 \r\nL 48.78125 44.1875 \r\nQ 44.96875 46.296875 41.140625 47.34375 \r\nQ 37.3125 48.390625 33.40625 48.390625 \r\nQ 24.65625 48.390625 19.8125 42.84375 \r\nQ 14.984375 37.3125 14.984375 27.296875 \r\nQ 14.984375 17.28125 19.8125 11.734375 \r\nQ 24.65625 6.203125 33.40625 6.203125 \r\nQ 37.3125 6.203125 41.140625 7.25 \r\nQ 44.96875 8.296875 48.78125 10.40625 \r\nL 48.78125 2.09375 \r\nQ 45.015625 0.34375 40.984375 -0.53125 \r\nQ 36.96875 -1.421875 32.421875 -1.421875 \r\nQ 20.0625 -1.421875 12.78125 6.34375 \r\nQ 5.515625 14.109375 5.515625 27.296875 \r\nQ 5.515625 40.671875 12.859375 48.328125 \r\nQ 20.21875 56 33.015625 56 \r\nQ 37.15625 56 41.109375 55.140625 \r\nQ 45.0625 54.296875 48.78125 52.59375 \r\nz\r\n\" id=\"DejaVuSans-99\"/>\r\n      <path d=\"M 30.609375 48.390625 \r\nQ 23.390625 48.390625 19.1875 42.75 \r\nQ 14.984375 37.109375 14.984375 27.296875 \r\nQ 14.984375 17.484375 19.15625 11.84375 \r\nQ 23.34375 6.203125 30.609375 6.203125 \r\nQ 37.796875 6.203125 41.984375 11.859375 \r\nQ 46.1875 17.53125 46.1875 27.296875 \r\nQ 46.1875 37.015625 41.984375 42.703125 \r\nQ 37.796875 48.390625 30.609375 48.390625 \r\nz\r\nM 30.609375 56 \r\nQ 42.328125 56 49.015625 48.375 \r\nQ 55.71875 40.765625 55.71875 27.296875 \r\nQ 55.71875 13.875 49.015625 6.21875 \r\nQ 42.328125 -1.421875 30.609375 -1.421875 \r\nQ 18.84375 -1.421875 12.171875 6.21875 \r\nQ 5.515625 13.875 5.515625 27.296875 \r\nQ 5.515625 40.765625 12.171875 48.375 \r\nQ 18.84375 56 30.609375 56 \r\nz\r\n\" id=\"DejaVuSans-111\"/>\r\n      <path d=\"M 54.890625 33.015625 \r\nL 54.890625 0 \r\nL 45.90625 0 \r\nL 45.90625 32.71875 \r\nQ 45.90625 40.484375 42.875 44.328125 \r\nQ 39.84375 48.1875 33.796875 48.1875 \r\nQ 26.515625 48.1875 22.3125 43.546875 \r\nQ 18.109375 38.921875 18.109375 30.90625 \r\nL 18.109375 0 \r\nL 9.078125 0 \r\nL 9.078125 54.6875 \r\nL 18.109375 54.6875 \r\nL 18.109375 46.1875 \r\nQ 21.34375 51.125 25.703125 53.5625 \r\nQ 30.078125 56 35.796875 56 \r\nQ 45.21875 56 50.046875 50.171875 \r\nQ 54.890625 44.34375 54.890625 33.015625 \r\nz\r\n\" id=\"DejaVuSans-110\"/>\r\n      <path d=\"M 44.28125 53.078125 \r\nL 44.28125 44.578125 \r\nQ 40.484375 46.53125 36.375 47.5 \r\nQ 32.28125 48.484375 27.875 48.484375 \r\nQ 21.1875 48.484375 17.84375 46.4375 \r\nQ 14.5 44.390625 14.5 40.28125 \r\nQ 14.5 37.15625 16.890625 35.375 \r\nQ 19.28125 33.59375 26.515625 31.984375 \r\nL 29.59375 31.296875 \r\nQ 39.15625 29.25 43.1875 25.515625 \r\nQ 47.21875 21.78125 47.21875 15.09375 \r\nQ 47.21875 7.46875 41.1875 3.015625 \r\nQ 35.15625 -1.421875 24.609375 -1.421875 \r\nQ 20.21875 -1.421875 15.453125 -0.5625 \r\nQ 10.6875 0.296875 5.421875 2 \r\nL 5.421875 11.28125 \r\nQ 10.40625 8.6875 15.234375 7.390625 \r\nQ 20.0625 6.109375 24.8125 6.109375 \r\nQ 31.15625 6.109375 34.5625 8.28125 \r\nQ 37.984375 10.453125 37.984375 14.40625 \r\nQ 37.984375 18.0625 35.515625 20.015625 \r\nQ 33.0625 21.96875 24.703125 23.78125 \r\nL 21.578125 24.515625 \r\nQ 13.234375 26.265625 9.515625 29.90625 \r\nQ 5.8125 33.546875 5.8125 39.890625 \r\nQ 5.8125 47.609375 11.28125 51.796875 \r\nQ 16.75 56 26.8125 56 \r\nQ 31.78125 56 36.171875 55.265625 \r\nQ 40.578125 54.546875 44.28125 53.078125 \r\nz\r\n\" id=\"DejaVuSans-115\"/>\r\n     </defs>\r\n     <use xlink:href=\"#DejaVuSans-67\"/>\r\n     <use x=\"69.824219\" xlink:href=\"#DejaVuSans-97\"/>\r\n     <use x=\"131.103516\" xlink:href=\"#DejaVuSans-114\"/>\r\n     <use x=\"170.466797\" xlink:href=\"#DejaVuSans-114\"/>\r\n     <use x=\"209.330078\" xlink:href=\"#DejaVuSans-101\"/>\r\n     <use x=\"270.853516\" xlink:href=\"#DejaVuSans-114\"/>\r\n     <use x=\"311.966797\" xlink:href=\"#DejaVuSans-97\"/>\r\n     <use x=\"373.246094\" xlink:href=\"#DejaVuSans-32\"/>\r\n     <use x=\"405.033203\" xlink:href=\"#DejaVuSans-100\"/>\r\n     <use x=\"468.509766\" xlink:href=\"#DejaVuSans-101\"/>\r\n     <use x=\"530.033203\" xlink:href=\"#DejaVuSans-32\"/>\r\n     <use x=\"561.820312\" xlink:href=\"#DejaVuSans-99\"/>\r\n     <use x=\"616.800781\" xlink:href=\"#DejaVuSans-111\"/>\r\n     <use x=\"677.982422\" xlink:href=\"#DejaVuSans-110\"/>\r\n     <use x=\"741.361328\" xlink:href=\"#DejaVuSans-100\"/>\r\n     <use x=\"804.837891\" xlink:href=\"#DejaVuSans-101\"/>\r\n     <use x=\"866.361328\" xlink:href=\"#DejaVuSans-110\"/>\r\n     <use x=\"929.740234\" xlink:href=\"#DejaVuSans-115\"/>\r\n     <use x=\"981.839844\" xlink:href=\"#DejaVuSans-97\"/>\r\n     <use x=\"1043.119141\" xlink:href=\"#DejaVuSans-100\"/>\r\n     <use x=\"1106.595703\" xlink:href=\"#DejaVuSans-111\"/>\r\n     <use x=\"1167.777344\" xlink:href=\"#DejaVuSans-114\"/>\r\n     <use x=\"1206.640625\" xlink:href=\"#DejaVuSans-101\"/>\r\n     <use x=\"1268.164062\" xlink:href=\"#DejaVuSans-115\"/>\r\n    </g>\r\n   </g>\r\n  </g>\r\n </g>\r\n <defs>\r\n  <clipPath id=\"p2ca6dcd43d\">\r\n   <rect height=\"217.44\" width=\"334.8\" x=\"52.689688\" y=\"22.318125\"/>\r\n  </clipPath>\r\n </defs>\r\n</svg>\r\n",
            "image/png": "[encoded data removed]"
          },
          "metadata": {
            "needs_background": "light"
          }
        }
      ],
      "execution_count": 89,
      "metadata": {}
    },
    {
      "source": [
        "Revisando el archivo tsv vemos quq "
      ],
      "cell_type": "markdown",
      "metadata": {}
    },
    {
      "cell_type": "code",
      "execution_count": 97,
      "metadata": {},
      "outputs": [
        {
          "output_type": "execute_result",
          "data": {
            "text/plain": [
              "[<matplotlib.lines.Line2D at 0x19f225021c8>]"
            ]
          },
          "metadata": {},
          "execution_count": 97
        },
        {
          "output_type": "display_data",
          "data": {
            "text/plain": "<Figure size 432x288 with 1 Axes>",
            "image/svg+xml": "<?xml version=\"1.0\" encoding=\"utf-8\" standalone=\"no\"?>\r\n<!DOCTYPE svg PUBLIC \"-//W3C//DTD SVG 1.1//EN\"\r\n  \"http://www.w3.org/Graphics/SVG/1.1/DTD/svg11.dtd\">\r\n<!-- Created with matplotlib (https://matplotlib.org/) -->\r\n<svg height=\"264.604062pt\" version=\"1.1\" viewBox=\"0 0 379.415156 264.604062\" width=\"379.415156pt\" xmlns=\"http://www.w3.org/2000/svg\" xmlns:xlink=\"http://www.w3.org/1999/xlink\">\r\n <metadata>\r\n  <rdf:RDF xmlns:cc=\"http://creativecommons.org/ns#\" xmlns:dc=\"http://purl.org/dc/elements/1.1/\" xmlns:rdf=\"http://www.w3.org/1999/02/22-rdf-syntax-ns#\">\r\n   <cc:Work>\r\n    <dc:type rdf:resource=\"http://purl.org/dc/dcmitype/StillImage\"/>\r\n    <dc:date>2020-12-28T13:38:27.626887</dc:date>\r\n    <dc:format>image/svg+xml</dc:format>\r\n    <dc:creator>\r\n     <cc:Agent>\r\n      <dc:title>Matplotlib v3.3.3, https://matplotlib.org/</dc:title>\r\n     </cc:Agent>\r\n    </dc:creator>\r\n   </cc:Work>\r\n  </rdf:RDF>\r\n </metadata>\r\n <defs>\r\n  <style type=\"text/css\">*{stroke-linecap:butt;stroke-linejoin:round;}</style>\r\n </defs>\r\n <g id=\"figure_1\">\r\n  <g id=\"patch_1\">\r\n   <path d=\"M 0 264.604062 \r\nL 379.415156 264.604062 \r\nL 379.415156 0 \r\nL 0 0 \r\nz\r\n\" style=\"fill:none;\"/>\r\n  </g>\r\n  <g id=\"axes_1\">\r\n   <g id=\"patch_2\">\r\n    <path d=\"M 37.415156 239.758125 \r\nL 372.215156 239.758125 \r\nL 372.215156 22.318125 \r\nL 37.415156 22.318125 \r\nz\r\n\" style=\"fill:#ffffff;\"/>\r\n   </g>\r\n   <g id=\"matplotlib.axis_1\">\r\n    <g id=\"xtick_1\">\r\n     <g id=\"line2d_1\">\r\n      <path clip-path=\"url(#pd4de900fa9)\" d=\"M 83.01768 239.758125 \r\nL 83.01768 22.318125 \r\n\" style=\"fill:none;stroke:#b0b0b0;stroke-linecap:square;stroke-width:0.8;\"/>\r\n     </g>\r\n     <g id=\"line2d_2\">\r\n      <defs>\r\n       <path d=\"M 0 0 \r\nL 0 3.5 \r\n\" id=\"m5dcb50aade\" style=\"stroke:#000000;stroke-width:0.8;\"/>\r\n      </defs>\r\n      <g>\r\n       <use style=\"stroke:#000000;stroke-width:0.8;\" x=\"83.01768\" xlink:href=\"#m5dcb50aade\" y=\"239.758125\"/>\r\n      </g>\r\n     </g>\r\n     <g id=\"text_1\">\r\n      <!-- 6.6 -->\r\n      <g transform=\"translate(74.270961 255.116406)scale(0.11 -0.11)\">\r\n       <defs>\r\n        <path d=\"M 33.015625 40.375 \r\nQ 26.375 40.375 22.484375 35.828125 \r\nQ 18.609375 31.296875 18.609375 23.390625 \r\nQ 18.609375 15.53125 22.484375 10.953125 \r\nQ 26.375 6.390625 33.015625 6.390625 \r\nQ 39.65625 6.390625 43.53125 10.953125 \r\nQ 47.40625 15.53125 47.40625 23.390625 \r\nQ 47.40625 31.296875 43.53125 35.828125 \r\nQ 39.65625 40.375 33.015625 40.375 \r\nz\r\nM 52.59375 71.296875 \r\nL 52.59375 62.3125 \r\nQ 48.875 64.0625 45.09375 64.984375 \r\nQ 41.3125 65.921875 37.59375 65.921875 \r\nQ 27.828125 65.921875 22.671875 59.328125 \r\nQ 17.53125 52.734375 16.796875 39.40625 \r\nQ 19.671875 43.65625 24.015625 45.921875 \r\nQ 28.375 48.1875 33.59375 48.1875 \r\nQ 44.578125 48.1875 50.953125 41.515625 \r\nQ 57.328125 34.859375 57.328125 23.390625 \r\nQ 57.328125 12.15625 50.6875 5.359375 \r\nQ 44.046875 -1.421875 33.015625 -1.421875 \r\nQ 20.359375 -1.421875 13.671875 8.265625 \r\nQ 6.984375 17.96875 6.984375 36.375 \r\nQ 6.984375 53.65625 15.1875 63.9375 \r\nQ 23.390625 74.21875 37.203125 74.21875 \r\nQ 40.921875 74.21875 44.703125 73.484375 \r\nQ 48.484375 72.75 52.59375 71.296875 \r\nz\r\n\" id=\"DejaVuSans-54\"/>\r\n        <path d=\"M 10.6875 12.40625 \r\nL 21 12.40625 \r\nL 21 0 \r\nL 10.6875 0 \r\nz\r\n\" id=\"DejaVuSans-46\"/>\r\n       </defs>\r\n       <use xlink:href=\"#DejaVuSans-54\"/>\r\n       <use x=\"63.623047\" xlink:href=\"#DejaVuSans-46\"/>\r\n       <use x=\"95.410156\" xlink:href=\"#DejaVuSans-54\"/>\r\n      </g>\r\n     </g>\r\n    </g>\r\n    <g id=\"xtick_2\">\r\n     <g id=\"line2d_3\">\r\n      <path clip-path=\"url(#pd4de900fa9)\" d=\"M 143.847199 239.758125 \r\nL 143.847199 22.318125 \r\n\" style=\"fill:none;stroke:#b0b0b0;stroke-linecap:square;stroke-width:0.8;\"/>\r\n     </g>\r\n     <g id=\"line2d_4\">\r\n      <g>\r\n       <use style=\"stroke:#000000;stroke-width:0.8;\" x=\"143.847199\" xlink:href=\"#m5dcb50aade\" y=\"239.758125\"/>\r\n      </g>\r\n     </g>\r\n     <g id=\"text_2\">\r\n      <!-- 6.8 -->\r\n      <g transform=\"translate(135.100481 255.116406)scale(0.11 -0.11)\">\r\n       <defs>\r\n        <path d=\"M 31.78125 34.625 \r\nQ 24.75 34.625 20.71875 30.859375 \r\nQ 16.703125 27.09375 16.703125 20.515625 \r\nQ 16.703125 13.921875 20.71875 10.15625 \r\nQ 24.75 6.390625 31.78125 6.390625 \r\nQ 38.8125 6.390625 42.859375 10.171875 \r\nQ 46.921875 13.96875 46.921875 20.515625 \r\nQ 46.921875 27.09375 42.890625 30.859375 \r\nQ 38.875 34.625 31.78125 34.625 \r\nz\r\nM 21.921875 38.8125 \r\nQ 15.578125 40.375 12.03125 44.71875 \r\nQ 8.5 49.078125 8.5 55.328125 \r\nQ 8.5 64.0625 14.71875 69.140625 \r\nQ 20.953125 74.21875 31.78125 74.21875 \r\nQ 42.671875 74.21875 48.875 69.140625 \r\nQ 55.078125 64.0625 55.078125 55.328125 \r\nQ 55.078125 49.078125 51.53125 44.71875 \r\nQ 48 40.375 41.703125 38.8125 \r\nQ 48.828125 37.15625 52.796875 32.3125 \r\nQ 56.78125 27.484375 56.78125 20.515625 \r\nQ 56.78125 9.90625 50.3125 4.234375 \r\nQ 43.84375 -1.421875 31.78125 -1.421875 \r\nQ 19.734375 -1.421875 13.25 4.234375 \r\nQ 6.78125 9.90625 6.78125 20.515625 \r\nQ 6.78125 27.484375 10.78125 32.3125 \r\nQ 14.796875 37.15625 21.921875 38.8125 \r\nz\r\nM 18.3125 54.390625 \r\nQ 18.3125 48.734375 21.84375 45.5625 \r\nQ 25.390625 42.390625 31.78125 42.390625 \r\nQ 38.140625 42.390625 41.71875 45.5625 \r\nQ 45.3125 48.734375 45.3125 54.390625 \r\nQ 45.3125 60.0625 41.71875 63.234375 \r\nQ 38.140625 66.40625 31.78125 66.40625 \r\nQ 25.390625 66.40625 21.84375 63.234375 \r\nQ 18.3125 60.0625 18.3125 54.390625 \r\nz\r\n\" id=\"DejaVuSans-56\"/>\r\n       </defs>\r\n       <use xlink:href=\"#DejaVuSans-54\"/>\r\n       <use x=\"63.623047\" xlink:href=\"#DejaVuSans-46\"/>\r\n       <use x=\"95.410156\" xlink:href=\"#DejaVuSans-56\"/>\r\n      </g>\r\n     </g>\r\n    </g>\r\n    <g id=\"xtick_3\">\r\n     <g id=\"line2d_5\">\r\n      <path clip-path=\"url(#pd4de900fa9)\" d=\"M 204.676719 239.758125 \r\nL 204.676719 22.318125 \r\n\" style=\"fill:none;stroke:#b0b0b0;stroke-linecap:square;stroke-width:0.8;\"/>\r\n     </g>\r\n     <g id=\"line2d_6\">\r\n      <g>\r\n       <use style=\"stroke:#000000;stroke-width:0.8;\" x=\"204.676719\" xlink:href=\"#m5dcb50aade\" y=\"239.758125\"/>\r\n      </g>\r\n     </g>\r\n     <g id=\"text_3\">\r\n      <!-- 7.0 -->\r\n      <g transform=\"translate(195.93 255.116406)scale(0.11 -0.11)\">\r\n       <defs>\r\n        <path d=\"M 8.203125 72.90625 \r\nL 55.078125 72.90625 \r\nL 55.078125 68.703125 \r\nL 28.609375 0 \r\nL 18.3125 0 \r\nL 43.21875 64.59375 \r\nL 8.203125 64.59375 \r\nz\r\n\" id=\"DejaVuSans-55\"/>\r\n        <path d=\"M 31.78125 66.40625 \r\nQ 24.171875 66.40625 20.328125 58.90625 \r\nQ 16.5 51.421875 16.5 36.375 \r\nQ 16.5 21.390625 20.328125 13.890625 \r\nQ 24.171875 6.390625 31.78125 6.390625 \r\nQ 39.453125 6.390625 43.28125 13.890625 \r\nQ 47.125 21.390625 47.125 36.375 \r\nQ 47.125 51.421875 43.28125 58.90625 \r\nQ 39.453125 66.40625 31.78125 66.40625 \r\nz\r\nM 31.78125 74.21875 \r\nQ 44.046875 74.21875 50.515625 64.515625 \r\nQ 56.984375 54.828125 56.984375 36.375 \r\nQ 56.984375 17.96875 50.515625 8.265625 \r\nQ 44.046875 -1.421875 31.78125 -1.421875 \r\nQ 19.53125 -1.421875 13.0625 8.265625 \r\nQ 6.59375 17.96875 6.59375 36.375 \r\nQ 6.59375 54.828125 13.0625 64.515625 \r\nQ 19.53125 74.21875 31.78125 74.21875 \r\nz\r\n\" id=\"DejaVuSans-48\"/>\r\n       </defs>\r\n       <use xlink:href=\"#DejaVuSans-55\"/>\r\n       <use x=\"63.623047\" xlink:href=\"#DejaVuSans-46\"/>\r\n       <use x=\"95.410156\" xlink:href=\"#DejaVuSans-48\"/>\r\n      </g>\r\n     </g>\r\n    </g>\r\n    <g id=\"xtick_4\">\r\n     <g id=\"line2d_7\">\r\n      <path clip-path=\"url(#pd4de900fa9)\" d=\"M 265.506238 239.758125 \r\nL 265.506238 22.318125 \r\n\" style=\"fill:none;stroke:#b0b0b0;stroke-linecap:square;stroke-width:0.8;\"/>\r\n     </g>\r\n     <g id=\"line2d_8\">\r\n      <g>\r\n       <use style=\"stroke:#000000;stroke-width:0.8;\" x=\"265.506238\" xlink:href=\"#m5dcb50aade\" y=\"239.758125\"/>\r\n      </g>\r\n     </g>\r\n     <g id=\"text_4\">\r\n      <!-- 7.2 -->\r\n      <g transform=\"translate(256.75952 255.116406)scale(0.11 -0.11)\">\r\n       <defs>\r\n        <path d=\"M 19.1875 8.296875 \r\nL 53.609375 8.296875 \r\nL 53.609375 0 \r\nL 7.328125 0 \r\nL 7.328125 8.296875 \r\nQ 12.9375 14.109375 22.625 23.890625 \r\nQ 32.328125 33.6875 34.8125 36.53125 \r\nQ 39.546875 41.84375 41.421875 45.53125 \r\nQ 43.3125 49.21875 43.3125 52.78125 \r\nQ 43.3125 58.59375 39.234375 62.25 \r\nQ 35.15625 65.921875 28.609375 65.921875 \r\nQ 23.96875 65.921875 18.8125 64.3125 \r\nQ 13.671875 62.703125 7.8125 59.421875 \r\nL 7.8125 69.390625 \r\nQ 13.765625 71.78125 18.9375 73 \r\nQ 24.125 74.21875 28.421875 74.21875 \r\nQ 39.75 74.21875 46.484375 68.546875 \r\nQ 53.21875 62.890625 53.21875 53.421875 \r\nQ 53.21875 48.921875 51.53125 44.890625 \r\nQ 49.859375 40.875 45.40625 35.40625 \r\nQ 44.1875 33.984375 37.640625 27.21875 \r\nQ 31.109375 20.453125 19.1875 8.296875 \r\nz\r\n\" id=\"DejaVuSans-50\"/>\r\n       </defs>\r\n       <use xlink:href=\"#DejaVuSans-55\"/>\r\n       <use x=\"63.623047\" xlink:href=\"#DejaVuSans-46\"/>\r\n       <use x=\"95.410156\" xlink:href=\"#DejaVuSans-50\"/>\r\n      </g>\r\n     </g>\r\n    </g>\r\n    <g id=\"xtick_5\">\r\n     <g id=\"line2d_9\">\r\n      <path clip-path=\"url(#pd4de900fa9)\" d=\"M 326.335758 239.758125 \r\nL 326.335758 22.318125 \r\n\" style=\"fill:none;stroke:#b0b0b0;stroke-linecap:square;stroke-width:0.8;\"/>\r\n     </g>\r\n     <g id=\"line2d_10\">\r\n      <g>\r\n       <use style=\"stroke:#000000;stroke-width:0.8;\" x=\"326.335758\" xlink:href=\"#m5dcb50aade\" y=\"239.758125\"/>\r\n      </g>\r\n     </g>\r\n     <g id=\"text_5\">\r\n      <!-- 7.4 -->\r\n      <g transform=\"translate(317.589039 255.116406)scale(0.11 -0.11)\">\r\n       <defs>\r\n        <path d=\"M 37.796875 64.3125 \r\nL 12.890625 25.390625 \r\nL 37.796875 25.390625 \r\nz\r\nM 35.203125 72.90625 \r\nL 47.609375 72.90625 \r\nL 47.609375 25.390625 \r\nL 58.015625 25.390625 \r\nL 58.015625 17.1875 \r\nL 47.609375 17.1875 \r\nL 47.609375 0 \r\nL 37.796875 0 \r\nL 37.796875 17.1875 \r\nL 4.890625 17.1875 \r\nL 4.890625 26.703125 \r\nz\r\n\" id=\"DejaVuSans-52\"/>\r\n       </defs>\r\n       <use xlink:href=\"#DejaVuSans-55\"/>\r\n       <use x=\"63.623047\" xlink:href=\"#DejaVuSans-46\"/>\r\n       <use x=\"95.410156\" xlink:href=\"#DejaVuSans-52\"/>\r\n      </g>\r\n     </g>\r\n    </g>\r\n   </g>\r\n   <g id=\"matplotlib.axis_2\">\r\n    <g id=\"ytick_1\">\r\n     <g id=\"line2d_11\">\r\n      <path clip-path=\"url(#pd4de900fa9)\" d=\"M 37.415156 229.874489 \r\nL 372.215156 229.874489 \r\n\" style=\"fill:none;stroke:#b0b0b0;stroke-linecap:square;stroke-width:0.8;\"/>\r\n     </g>\r\n     <g id=\"line2d_12\">\r\n      <defs>\r\n       <path d=\"M 0 0 \r\nL -3.5 0 \r\n\" id=\"m8461851f68\" style=\"stroke:#000000;stroke-width:0.8;\"/>\r\n      </defs>\r\n      <g>\r\n       <use style=\"stroke:#000000;stroke-width:0.8;\" x=\"37.415156\" xlink:href=\"#m8461851f68\" y=\"229.874489\"/>\r\n      </g>\r\n     </g>\r\n     <g id=\"text_6\">\r\n      <!-- −10 -->\r\n      <g transform=\"translate(7.2 234.053629)scale(0.11 -0.11)\">\r\n       <defs>\r\n        <path d=\"M 10.59375 35.5 \r\nL 73.1875 35.5 \r\nL 73.1875 27.203125 \r\nL 10.59375 27.203125 \r\nz\r\n\" id=\"DejaVuSans-8722\"/>\r\n        <path d=\"M 12.40625 8.296875 \r\nL 28.515625 8.296875 \r\nL 28.515625 63.921875 \r\nL 10.984375 60.40625 \r\nL 10.984375 69.390625 \r\nL 28.421875 72.90625 \r\nL 38.28125 72.90625 \r\nL 38.28125 8.296875 \r\nL 54.390625 8.296875 \r\nL 54.390625 0 \r\nL 12.40625 0 \r\nz\r\n\" id=\"DejaVuSans-49\"/>\r\n       </defs>\r\n       <use xlink:href=\"#DejaVuSans-8722\"/>\r\n       <use x=\"83.789062\" xlink:href=\"#DejaVuSans-49\"/>\r\n       <use x=\"147.412109\" xlink:href=\"#DejaVuSans-48\"/>\r\n      </g>\r\n     </g>\r\n    </g>\r\n    <g id=\"ytick_2\">\r\n     <g id=\"line2d_13\">\r\n      <path clip-path=\"url(#pd4de900fa9)\" d=\"M 37.415156 190.023502 \r\nL 372.215156 190.023502 \r\n\" style=\"fill:none;stroke:#b0b0b0;stroke-linecap:square;stroke-width:0.8;\"/>\r\n     </g>\r\n     <g id=\"line2d_14\">\r\n      <g>\r\n       <use style=\"stroke:#000000;stroke-width:0.8;\" x=\"37.415156\" xlink:href=\"#m8461851f68\" y=\"190.023502\"/>\r\n      </g>\r\n     </g>\r\n     <g id=\"text_7\">\r\n      <!-- −8 -->\r\n      <g transform=\"translate(14.19875 194.202642)scale(0.11 -0.11)\">\r\n       <use xlink:href=\"#DejaVuSans-8722\"/>\r\n       <use x=\"83.789062\" xlink:href=\"#DejaVuSans-56\"/>\r\n      </g>\r\n     </g>\r\n    </g>\r\n    <g id=\"ytick_3\">\r\n     <g id=\"line2d_15\">\r\n      <path clip-path=\"url(#pd4de900fa9)\" d=\"M 37.415156 150.172515 \r\nL 372.215156 150.172515 \r\n\" style=\"fill:none;stroke:#b0b0b0;stroke-linecap:square;stroke-width:0.8;\"/>\r\n     </g>\r\n     <g id=\"line2d_16\">\r\n      <g>\r\n       <use style=\"stroke:#000000;stroke-width:0.8;\" x=\"37.415156\" xlink:href=\"#m8461851f68\" y=\"150.172515\"/>\r\n      </g>\r\n     </g>\r\n     <g id=\"text_8\">\r\n      <!-- −6 -->\r\n      <g transform=\"translate(14.19875 154.351656)scale(0.11 -0.11)\">\r\n       <use xlink:href=\"#DejaVuSans-8722\"/>\r\n       <use x=\"83.789062\" xlink:href=\"#DejaVuSans-54\"/>\r\n      </g>\r\n     </g>\r\n    </g>\r\n    <g id=\"ytick_4\">\r\n     <g id=\"line2d_17\">\r\n      <path clip-path=\"url(#pd4de900fa9)\" d=\"M 37.415156 110.321528 \r\nL 372.215156 110.321528 \r\n\" style=\"fill:none;stroke:#b0b0b0;stroke-linecap:square;stroke-width:0.8;\"/>\r\n     </g>\r\n     <g id=\"line2d_18\">\r\n      <g>\r\n       <use style=\"stroke:#000000;stroke-width:0.8;\" x=\"37.415156\" xlink:href=\"#m8461851f68\" y=\"110.321528\"/>\r\n      </g>\r\n     </g>\r\n     <g id=\"text_9\">\r\n      <!-- −4 -->\r\n      <g transform=\"translate(14.19875 114.500669)scale(0.11 -0.11)\">\r\n       <use xlink:href=\"#DejaVuSans-8722\"/>\r\n       <use x=\"83.789062\" xlink:href=\"#DejaVuSans-52\"/>\r\n      </g>\r\n     </g>\r\n    </g>\r\n    <g id=\"ytick_5\">\r\n     <g id=\"line2d_19\">\r\n      <path clip-path=\"url(#pd4de900fa9)\" d=\"M 37.415156 70.470541 \r\nL 372.215156 70.470541 \r\n\" style=\"fill:none;stroke:#b0b0b0;stroke-linecap:square;stroke-width:0.8;\"/>\r\n     </g>\r\n     <g id=\"line2d_20\">\r\n      <g>\r\n       <use style=\"stroke:#000000;stroke-width:0.8;\" x=\"37.415156\" xlink:href=\"#m8461851f68\" y=\"70.470541\"/>\r\n      </g>\r\n     </g>\r\n     <g id=\"text_10\">\r\n      <!-- −2 -->\r\n      <g transform=\"translate(14.19875 74.649682)scale(0.11 -0.11)\">\r\n       <use xlink:href=\"#DejaVuSans-8722\"/>\r\n       <use x=\"83.789062\" xlink:href=\"#DejaVuSans-50\"/>\r\n      </g>\r\n     </g>\r\n    </g>\r\n    <g id=\"ytick_6\">\r\n     <g id=\"line2d_21\">\r\n      <path clip-path=\"url(#pd4de900fa9)\" d=\"M 37.415156 30.619554 \r\nL 372.215156 30.619554 \r\n\" style=\"fill:none;stroke:#b0b0b0;stroke-linecap:square;stroke-width:0.8;\"/>\r\n     </g>\r\n     <g id=\"line2d_22\">\r\n      <g>\r\n       <use style=\"stroke:#000000;stroke-width:0.8;\" x=\"37.415156\" xlink:href=\"#m8461851f68\" y=\"30.619554\"/>\r\n      </g>\r\n     </g>\r\n     <g id=\"text_11\">\r\n      <!-- 0 -->\r\n      <g transform=\"translate(23.416406 34.798695)scale(0.11 -0.11)\">\r\n       <use xlink:href=\"#DejaVuSans-48\"/>\r\n      </g>\r\n     </g>\r\n    </g>\r\n   </g>\r\n   <g id=\"line2d_23\">\r\n    <path clip-path=\"url(#pd4de900fa9)\" d=\"M 52.633338 229.778267 \r\nL 52.663756 229.682069 \r\nL 52.670088 229.662048 \r\nL 52.676391 229.642123 \r\nL 52.688997 229.602278 \r\nL 52.714208 229.522612 \r\nL 52.764631 229.363376 \r\nL 52.865477 229.045287 \r\nL 53.067169 228.410634 \r\nL 53.470552 227.147408 \r\nL 54.277319 224.645083 \r\nL 55.890853 219.735412 \r\nL 58.932329 210.814852 \r\nL 61.973805 202.315074 \r\nL 65.015281 194.216229 \r\nL 68.056757 186.499405 \r\nL 71.098233 179.146581 \r\nL 74.139709 172.14059 \r\nL 77.181185 165.465069 \r\nL 80.222661 159.104431 \r\nL 83.264137 153.043824 \r\nL 86.305613 147.269094 \r\nL 89.347089 141.766758 \r\nL 92.388565 136.523965 \r\nL 95.430041 131.528474 \r\nL 98.471517 126.768619 \r\nL 101.512993 122.233286 \r\nL 104.554469 117.911883 \r\nL 107.595945 113.794321 \r\nL 110.637421 109.870983 \r\nL 113.678897 106.132708 \r\nL 116.720372 102.570767 \r\nL 119.761848 99.176841 \r\nL 122.803324 95.943007 \r\nL 125.8448 92.861712 \r\nL 128.886276 89.925761 \r\nL 131.927752 87.128299 \r\nL 134.969228 84.462792 \r\nL 138.010704 81.923017 \r\nL 141.05218 79.503042 \r\nL 144.093656 77.197217 \r\nL 147.135132 75.000157 \r\nL 150.176608 72.906733 \r\nL 153.218084 70.912055 \r\nL 156.25956 69.011465 \r\nL 159.301036 67.200526 \r\nL 162.342512 65.475008 \r\nL 165.383988 63.830883 \r\nL 168.425464 62.264311 \r\nL 171.46694 60.771634 \r\nL 174.508416 59.349366 \r\nL 177.549892 57.994186 \r\nL 180.591368 56.70293 \r\nL 183.632844 55.472582 \r\nL 186.67432 54.300269 \r\nL 189.715796 53.183254 \r\nL 192.757272 52.118929 \r\nL 195.798748 51.104808 \r\nL 198.840224 50.138522 \r\nL 201.8817 49.217816 \r\nL 204.923176 48.34054 \r\nL 207.964652 47.504644 \r\nL 211.006128 46.708177 \r\nL 214.047604 45.94928 \r\nL 217.08908 45.22618 \r\nL 220.130556 44.537188 \r\nL 223.172032 43.880696 \r\nL 226.213508 43.25517 \r\nL 229.254984 42.659151 \r\nL 232.296459 42.091245 \r\nL 235.337935 41.550128 \r\nL 238.379411 41.034535 \r\nL 241.420887 40.543262 \r\nL 244.462363 40.075163 \r\nL 247.503839 39.629143 \r\nL 250.545315 39.204163 \r\nL 253.586791 38.799228 \r\nL 256.628267 38.413395 \r\nL 259.669743 38.045761 \r\nL 262.711219 37.695468 \r\nL 265.752695 37.361699 \r\nL 268.794171 37.043673 \r\nL 271.835647 36.740648 \r\nL 274.877123 36.451918 \r\nL 277.918599 36.176806 \r\nL 280.960075 35.914672 \r\nL 284.001551 35.664902 \r\nL 287.043027 35.426914 \r\nL 290.084503 35.200152 \r\nL 293.125979 34.984086 \r\nL 296.167455 34.778212 \r\nL 299.208931 34.582048 \r\nL 302.250407 34.395138 \r\nL 305.291883 34.217045 \r\nL 308.333359 34.047352 \r\nL 311.374835 33.885663 \r\nL 314.416311 33.731602 \r\nL 317.457787 33.584807 \r\nL 320.499263 33.444936 \r\nL 323.540739 33.311664 \r\nL 326.582215 33.184677 \r\nL 329.623691 33.063681 \r\nL 332.665167 32.948392 \r\nL 335.706643 32.838541 \r\nL 338.748119 32.733872 \r\nL 341.789595 32.63414 \r\nL 344.831071 32.539112 \r\nL 347.872547 32.448567 \r\nL 350.914022 32.362293 \r\nL 353.955498 32.280088 \r\nL 356.996974 32.201761 \r\n\" style=\"fill:none;stroke:#1f77b4;stroke-linecap:square;stroke-width:1.5;\"/>\r\n   </g>\r\n   <g id=\"line2d_24\">\r\n    <path clip-path=\"url(#pd4de900fa9)\" d=\"M 52.633338 229.874489 \r\nL 52.663756 229.874489 \r\nL 52.670088 229.874489 \r\nL 52.676391 229.874489 \r\nL 52.688997 229.874489 \r\nL 52.714208 229.874489 \r\nL 52.764631 229.874489 \r\nL 52.865477 229.874489 \r\nL 53.067169 229.874489 \r\nL 53.470552 229.874489 \r\nL 54.277319 229.874489 \r\nL 55.890853 229.874489 \r\nL 58.932329 229.874489 \r\nL 61.973805 229.874489 \r\nL 65.015281 229.874489 \r\nL 68.056757 229.874489 \r\nL 71.098233 229.874489 \r\nL 74.139709 229.874489 \r\nL 77.181185 229.874489 \r\nL 80.222661 229.874489 \r\nL 83.264137 229.874489 \r\nL 86.305613 229.874489 \r\nL 89.347089 229.874489 \r\nL 92.388565 229.874489 \r\nL 95.430041 229.874489 \r\nL 98.471517 229.874489 \r\nL 101.512993 229.874489 \r\nL 104.554469 229.874489 \r\nL 107.595945 229.874489 \r\nL 110.637421 229.874489 \r\nL 113.678897 229.874489 \r\nL 116.720372 229.874489 \r\nL 119.761848 229.874489 \r\nL 122.803324 229.874489 \r\nL 125.8448 229.874489 \r\nL 128.886276 229.874489 \r\nL 131.927752 229.874489 \r\nL 134.969228 229.874489 \r\nL 138.010704 229.874489 \r\nL 141.05218 229.874489 \r\nL 144.093656 229.874489 \r\nL 147.135132 229.874489 \r\nL 150.176608 229.874489 \r\nL 153.218084 229.874489 \r\nL 156.25956 229.874489 \r\nL 159.301036 229.874489 \r\nL 162.342512 229.874489 \r\nL 165.383988 229.874489 \r\nL 168.425464 229.874489 \r\nL 171.46694 229.874489 \r\nL 174.508416 229.874489 \r\nL 177.549892 229.874489 \r\nL 180.591368 229.874489 \r\nL 183.632844 229.874489 \r\nL 186.67432 229.874489 \r\nL 189.715796 229.874489 \r\nL 192.757272 229.874489 \r\nL 195.798748 229.874489 \r\nL 198.840224 229.874489 \r\nL 201.8817 229.874489 \r\nL 204.923176 229.874489 \r\nL 207.964652 229.874489 \r\nL 211.006128 229.874489 \r\nL 214.047604 229.874489 \r\nL 217.08908 229.874489 \r\nL 220.130556 229.874489 \r\nL 223.172032 229.874489 \r\nL 226.213508 229.874489 \r\nL 229.254984 229.874489 \r\nL 232.296459 229.874489 \r\nL 235.337935 229.874489 \r\nL 238.379411 229.874489 \r\nL 241.420887 229.874489 \r\nL 244.462363 229.874489 \r\nL 247.503839 229.874489 \r\nL 250.545315 229.874489 \r\nL 253.586791 229.874489 \r\nL 256.628267 229.874489 \r\nL 259.669743 229.874489 \r\nL 262.711219 229.874489 \r\nL 265.752695 229.874489 \r\nL 268.794171 229.874489 \r\nL 271.835647 229.874489 \r\nL 274.877123 229.874489 \r\nL 277.918599 229.874489 \r\nL 280.960075 229.874489 \r\nL 284.001551 229.874489 \r\nL 287.043027 229.874489 \r\nL 290.084503 229.874489 \r\nL 293.125979 229.874489 \r\nL 296.167455 229.874489 \r\nL 299.208931 229.874489 \r\nL 302.250407 229.874489 \r\nL 305.291883 229.874489 \r\nL 308.333359 229.874489 \r\nL 311.374835 229.874489 \r\nL 314.416311 229.874489 \r\nL 317.457787 229.874489 \r\nL 320.499263 229.874489 \r\nL 323.540739 229.874489 \r\nL 326.582215 229.874489 \r\nL 329.623691 229.874489 \r\nL 332.665167 229.874489 \r\nL 335.706643 229.874489 \r\nL 338.748119 229.874489 \r\nL 341.789595 229.874489 \r\nL 344.831071 229.874489 \r\nL 347.872547 229.874489 \r\nL 350.914022 229.874489 \r\nL 353.955498 229.874489 \r\nL 356.996974 229.874489 \r\n\" style=\"fill:none;stroke:#ff7f0e;stroke-linecap:square;stroke-width:1.5;\"/>\r\n   </g>\r\n   <g id=\"patch_3\">\r\n    <path d=\"M 37.415156 239.758125 \r\nL 37.415156 22.318125 \r\n\" style=\"fill:none;stroke:#000000;stroke-linecap:square;stroke-linejoin:miter;stroke-width:0.8;\"/>\r\n   </g>\r\n   <g id=\"patch_4\">\r\n    <path d=\"M 372.215156 239.758125 \r\nL 372.215156 22.318125 \r\n\" style=\"fill:none;stroke:#000000;stroke-linecap:square;stroke-linejoin:miter;stroke-width:0.8;\"/>\r\n   </g>\r\n   <g id=\"patch_5\">\r\n    <path d=\"M 37.415156 239.758125 \r\nL 372.215156 239.758125 \r\n\" style=\"fill:none;stroke:#000000;stroke-linecap:square;stroke-linejoin:miter;stroke-width:0.8;\"/>\r\n   </g>\r\n   <g id=\"patch_6\">\r\n    <path d=\"M 37.415156 22.318125 \r\nL 372.215156 22.318125 \r\n\" style=\"fill:none;stroke:#000000;stroke-linecap:square;stroke-linejoin:miter;stroke-width:0.8;\"/>\r\n   </g>\r\n   <g id=\"text_12\">\r\n    <!-- Carrera de condensadores -->\r\n    <g transform=\"translate(125.597344 16.318125)scale(0.12 -0.12)\">\r\n     <defs>\r\n      <path d=\"M 64.40625 67.28125 \r\nL 64.40625 56.890625 \r\nQ 59.421875 61.53125 53.78125 63.8125 \r\nQ 48.140625 66.109375 41.796875 66.109375 \r\nQ 29.296875 66.109375 22.65625 58.46875 \r\nQ 16.015625 50.828125 16.015625 36.375 \r\nQ 16.015625 21.96875 22.65625 14.328125 \r\nQ 29.296875 6.6875 41.796875 6.6875 \r\nQ 48.140625 6.6875 53.78125 8.984375 \r\nQ 59.421875 11.28125 64.40625 15.921875 \r\nL 64.40625 5.609375 \r\nQ 59.234375 2.09375 53.4375 0.328125 \r\nQ 47.65625 -1.421875 41.21875 -1.421875 \r\nQ 24.65625 -1.421875 15.125 8.703125 \r\nQ 5.609375 18.84375 5.609375 36.375 \r\nQ 5.609375 53.953125 15.125 64.078125 \r\nQ 24.65625 74.21875 41.21875 74.21875 \r\nQ 47.75 74.21875 53.53125 72.484375 \r\nQ 59.328125 70.75 64.40625 67.28125 \r\nz\r\n\" id=\"DejaVuSans-67\"/>\r\n      <path d=\"M 34.28125 27.484375 \r\nQ 23.390625 27.484375 19.1875 25 \r\nQ 14.984375 22.515625 14.984375 16.5 \r\nQ 14.984375 11.71875 18.140625 8.90625 \r\nQ 21.296875 6.109375 26.703125 6.109375 \r\nQ 34.1875 6.109375 38.703125 11.40625 \r\nQ 43.21875 16.703125 43.21875 25.484375 \r\nL 43.21875 27.484375 \r\nz\r\nM 52.203125 31.203125 \r\nL 52.203125 0 \r\nL 43.21875 0 \r\nL 43.21875 8.296875 \r\nQ 40.140625 3.328125 35.546875 0.953125 \r\nQ 30.953125 -1.421875 24.3125 -1.421875 \r\nQ 15.921875 -1.421875 10.953125 3.296875 \r\nQ 6 8.015625 6 15.921875 \r\nQ 6 25.140625 12.171875 29.828125 \r\nQ 18.359375 34.515625 30.609375 34.515625 \r\nL 43.21875 34.515625 \r\nL 43.21875 35.40625 \r\nQ 43.21875 41.609375 39.140625 45 \r\nQ 35.0625 48.390625 27.6875 48.390625 \r\nQ 23 48.390625 18.546875 47.265625 \r\nQ 14.109375 46.140625 10.015625 43.890625 \r\nL 10.015625 52.203125 \r\nQ 14.9375 54.109375 19.578125 55.046875 \r\nQ 24.21875 56 28.609375 56 \r\nQ 40.484375 56 46.34375 49.84375 \r\nQ 52.203125 43.703125 52.203125 31.203125 \r\nz\r\n\" id=\"DejaVuSans-97\"/>\r\n      <path d=\"M 41.109375 46.296875 \r\nQ 39.59375 47.171875 37.8125 47.578125 \r\nQ 36.03125 48 33.890625 48 \r\nQ 26.265625 48 22.1875 43.046875 \r\nQ 18.109375 38.09375 18.109375 28.8125 \r\nL 18.109375 0 \r\nL 9.078125 0 \r\nL 9.078125 54.6875 \r\nL 18.109375 54.6875 \r\nL 18.109375 46.1875 \r\nQ 20.953125 51.171875 25.484375 53.578125 \r\nQ 30.03125 56 36.53125 56 \r\nQ 37.453125 56 38.578125 55.875 \r\nQ 39.703125 55.765625 41.0625 55.515625 \r\nz\r\n\" id=\"DejaVuSans-114\"/>\r\n      <path d=\"M 56.203125 29.59375 \r\nL 56.203125 25.203125 \r\nL 14.890625 25.203125 \r\nQ 15.484375 15.921875 20.484375 11.0625 \r\nQ 25.484375 6.203125 34.421875 6.203125 \r\nQ 39.59375 6.203125 44.453125 7.46875 \r\nQ 49.3125 8.734375 54.109375 11.28125 \r\nL 54.109375 2.78125 \r\nQ 49.265625 0.734375 44.1875 -0.34375 \r\nQ 39.109375 -1.421875 33.890625 -1.421875 \r\nQ 20.796875 -1.421875 13.15625 6.1875 \r\nQ 5.515625 13.8125 5.515625 26.8125 \r\nQ 5.515625 40.234375 12.765625 48.109375 \r\nQ 20.015625 56 32.328125 56 \r\nQ 43.359375 56 49.78125 48.890625 \r\nQ 56.203125 41.796875 56.203125 29.59375 \r\nz\r\nM 47.21875 32.234375 \r\nQ 47.125 39.59375 43.09375 43.984375 \r\nQ 39.0625 48.390625 32.421875 48.390625 \r\nQ 24.90625 48.390625 20.390625 44.140625 \r\nQ 15.875 39.890625 15.1875 32.171875 \r\nz\r\n\" id=\"DejaVuSans-101\"/>\r\n      <path id=\"DejaVuSans-32\"/>\r\n      <path d=\"M 45.40625 46.390625 \r\nL 45.40625 75.984375 \r\nL 54.390625 75.984375 \r\nL 54.390625 0 \r\nL 45.40625 0 \r\nL 45.40625 8.203125 \r\nQ 42.578125 3.328125 38.25 0.953125 \r\nQ 33.9375 -1.421875 27.875 -1.421875 \r\nQ 17.96875 -1.421875 11.734375 6.484375 \r\nQ 5.515625 14.40625 5.515625 27.296875 \r\nQ 5.515625 40.1875 11.734375 48.09375 \r\nQ 17.96875 56 27.875 56 \r\nQ 33.9375 56 38.25 53.625 \r\nQ 42.578125 51.265625 45.40625 46.390625 \r\nz\r\nM 14.796875 27.296875 \r\nQ 14.796875 17.390625 18.875 11.75 \r\nQ 22.953125 6.109375 30.078125 6.109375 \r\nQ 37.203125 6.109375 41.296875 11.75 \r\nQ 45.40625 17.390625 45.40625 27.296875 \r\nQ 45.40625 37.203125 41.296875 42.84375 \r\nQ 37.203125 48.484375 30.078125 48.484375 \r\nQ 22.953125 48.484375 18.875 42.84375 \r\nQ 14.796875 37.203125 14.796875 27.296875 \r\nz\r\n\" id=\"DejaVuSans-100\"/>\r\n      <path d=\"M 48.78125 52.59375 \r\nL 48.78125 44.1875 \r\nQ 44.96875 46.296875 41.140625 47.34375 \r\nQ 37.3125 48.390625 33.40625 48.390625 \r\nQ 24.65625 48.390625 19.8125 42.84375 \r\nQ 14.984375 37.3125 14.984375 27.296875 \r\nQ 14.984375 17.28125 19.8125 11.734375 \r\nQ 24.65625 6.203125 33.40625 6.203125 \r\nQ 37.3125 6.203125 41.140625 7.25 \r\nQ 44.96875 8.296875 48.78125 10.40625 \r\nL 48.78125 2.09375 \r\nQ 45.015625 0.34375 40.984375 -0.53125 \r\nQ 36.96875 -1.421875 32.421875 -1.421875 \r\nQ 20.0625 -1.421875 12.78125 6.34375 \r\nQ 5.515625 14.109375 5.515625 27.296875 \r\nQ 5.515625 40.671875 12.859375 48.328125 \r\nQ 20.21875 56 33.015625 56 \r\nQ 37.15625 56 41.109375 55.140625 \r\nQ 45.0625 54.296875 48.78125 52.59375 \r\nz\r\n\" id=\"DejaVuSans-99\"/>\r\n      <path d=\"M 30.609375 48.390625 \r\nQ 23.390625 48.390625 19.1875 42.75 \r\nQ 14.984375 37.109375 14.984375 27.296875 \r\nQ 14.984375 17.484375 19.15625 11.84375 \r\nQ 23.34375 6.203125 30.609375 6.203125 \r\nQ 37.796875 6.203125 41.984375 11.859375 \r\nQ 46.1875 17.53125 46.1875 27.296875 \r\nQ 46.1875 37.015625 41.984375 42.703125 \r\nQ 37.796875 48.390625 30.609375 48.390625 \r\nz\r\nM 30.609375 56 \r\nQ 42.328125 56 49.015625 48.375 \r\nQ 55.71875 40.765625 55.71875 27.296875 \r\nQ 55.71875 13.875 49.015625 6.21875 \r\nQ 42.328125 -1.421875 30.609375 -1.421875 \r\nQ 18.84375 -1.421875 12.171875 6.21875 \r\nQ 5.515625 13.875 5.515625 27.296875 \r\nQ 5.515625 40.765625 12.171875 48.375 \r\nQ 18.84375 56 30.609375 56 \r\nz\r\n\" id=\"DejaVuSans-111\"/>\r\n      <path d=\"M 54.890625 33.015625 \r\nL 54.890625 0 \r\nL 45.90625 0 \r\nL 45.90625 32.71875 \r\nQ 45.90625 40.484375 42.875 44.328125 \r\nQ 39.84375 48.1875 33.796875 48.1875 \r\nQ 26.515625 48.1875 22.3125 43.546875 \r\nQ 18.109375 38.921875 18.109375 30.90625 \r\nL 18.109375 0 \r\nL 9.078125 0 \r\nL 9.078125 54.6875 \r\nL 18.109375 54.6875 \r\nL 18.109375 46.1875 \r\nQ 21.34375 51.125 25.703125 53.5625 \r\nQ 30.078125 56 35.796875 56 \r\nQ 45.21875 56 50.046875 50.171875 \r\nQ 54.890625 44.34375 54.890625 33.015625 \r\nz\r\n\" id=\"DejaVuSans-110\"/>\r\n      <path d=\"M 44.28125 53.078125 \r\nL 44.28125 44.578125 \r\nQ 40.484375 46.53125 36.375 47.5 \r\nQ 32.28125 48.484375 27.875 48.484375 \r\nQ 21.1875 48.484375 17.84375 46.4375 \r\nQ 14.5 44.390625 14.5 40.28125 \r\nQ 14.5 37.15625 16.890625 35.375 \r\nQ 19.28125 33.59375 26.515625 31.984375 \r\nL 29.59375 31.296875 \r\nQ 39.15625 29.25 43.1875 25.515625 \r\nQ 47.21875 21.78125 47.21875 15.09375 \r\nQ 47.21875 7.46875 41.1875 3.015625 \r\nQ 35.15625 -1.421875 24.609375 -1.421875 \r\nQ 20.21875 -1.421875 15.453125 -0.5625 \r\nQ 10.6875 0.296875 5.421875 2 \r\nL 5.421875 11.28125 \r\nQ 10.40625 8.6875 15.234375 7.390625 \r\nQ 20.0625 6.109375 24.8125 6.109375 \r\nQ 31.15625 6.109375 34.5625 8.28125 \r\nQ 37.984375 10.453125 37.984375 14.40625 \r\nQ 37.984375 18.0625 35.515625 20.015625 \r\nQ 33.0625 21.96875 24.703125 23.78125 \r\nL 21.578125 24.515625 \r\nQ 13.234375 26.265625 9.515625 29.90625 \r\nQ 5.8125 33.546875 5.8125 39.890625 \r\nQ 5.8125 47.609375 11.28125 51.796875 \r\nQ 16.75 56 26.8125 56 \r\nQ 31.78125 56 36.171875 55.265625 \r\nQ 40.578125 54.546875 44.28125 53.078125 \r\nz\r\n\" id=\"DejaVuSans-115\"/>\r\n     </defs>\r\n     <use xlink:href=\"#DejaVuSans-67\"/>\r\n     <use x=\"69.824219\" xlink:href=\"#DejaVuSans-97\"/>\r\n     <use x=\"131.103516\" xlink:href=\"#DejaVuSans-114\"/>\r\n     <use x=\"170.466797\" xlink:href=\"#DejaVuSans-114\"/>\r\n     <use x=\"209.330078\" xlink:href=\"#DejaVuSans-101\"/>\r\n     <use x=\"270.853516\" xlink:href=\"#DejaVuSans-114\"/>\r\n     <use x=\"311.966797\" xlink:href=\"#DejaVuSans-97\"/>\r\n     <use x=\"373.246094\" xlink:href=\"#DejaVuSans-32\"/>\r\n     <use x=\"405.033203\" xlink:href=\"#DejaVuSans-100\"/>\r\n     <use x=\"468.509766\" xlink:href=\"#DejaVuSans-101\"/>\r\n     <use x=\"530.033203\" xlink:href=\"#DejaVuSans-32\"/>\r\n     <use x=\"561.820312\" xlink:href=\"#DejaVuSans-99\"/>\r\n     <use x=\"616.800781\" xlink:href=\"#DejaVuSans-111\"/>\r\n     <use x=\"677.982422\" xlink:href=\"#DejaVuSans-110\"/>\r\n     <use x=\"741.361328\" xlink:href=\"#DejaVuSans-100\"/>\r\n     <use x=\"804.837891\" xlink:href=\"#DejaVuSans-101\"/>\r\n     <use x=\"866.361328\" xlink:href=\"#DejaVuSans-110\"/>\r\n     <use x=\"929.740234\" xlink:href=\"#DejaVuSans-115\"/>\r\n     <use x=\"981.839844\" xlink:href=\"#DejaVuSans-97\"/>\r\n     <use x=\"1043.119141\" xlink:href=\"#DejaVuSans-100\"/>\r\n     <use x=\"1106.595703\" xlink:href=\"#DejaVuSans-111\"/>\r\n     <use x=\"1167.777344\" xlink:href=\"#DejaVuSans-114\"/>\r\n     <use x=\"1206.640625\" xlink:href=\"#DejaVuSans-101\"/>\r\n     <use x=\"1268.164062\" xlink:href=\"#DejaVuSans-115\"/>\r\n    </g>\r\n   </g>\r\n  </g>\r\n </g>\r\n <defs>\r\n  <clipPath id=\"pd4de900fa9\">\r\n   <rect height=\"217.44\" width=\"334.8\" x=\"37.415156\" y=\"22.318125\"/>\r\n  </clipPath>\r\n </defs>\r\n</svg>\r\n",
            "image/png": "[encoded data removed]"
          },
          "metadata": {
            "needs_background": "light"
          }
        }
      ],
      "source": [
        "figura = plt.figure()\n",
        "plt.title(\"Carrera de condensadores\")\n",
        "plt.grid()\n",
        "#plt.plot(resultados['tran']['T'], resultados['tran']['V1'])\n",
        "plt.plot(resultados['tran']['T'], resultados['tran']['V2'])\n",
        "#plt.plot(resultados['tran']['T'], resultados['tran']['V3'])\n",
        "plt.plot(resultados['tran']['T'], resultados['tran']['V4'])"
      ]
    },
    {
      "source": [
        "**Ejercicio premium:** Repite la simulación con LTspice (invocándolo como comando externo, leyendo los datos de un fichero `.raw` y volviendo a graficar con Matplotlib. "
      ],
      "cell_type": "markdown",
      "metadata": {}
    },
    {
      "cell_type": "code",
      "execution_count": 84,
      "metadata": {},
      "outputs": [
        {
          "output_type": "stream",
          "name": "stdout",
          "text": [
            "Overwriting carrera en condensadores.net\n"
          ]
        }
      ],
      "source": [
        "%%writefile \"carrera en condensadores.net\"\n",
        "* Carga condensador\n",
        "v0 0 1 \n",
        "r1 0 2 3k\n",
        "c1 2 3 47u ic=0\n",
        "c2 2 4 22u ic=0\n",
        ".tran 0.01 7.5 6.5 uic\n",
        ".end"
      ]
    },
    {
      "cell_type": "code",
      "execution_count": 85,
      "metadata": {},
      "outputs": [],
      "source": []
    },
    {
      "source": [
        "## Circuitos en corriente alterna\n",
        "\n",
        "** Ejercicio:** Simula este circuito con LTspice y representa el voltaje y la intensidad en función del tiempo. Traduce este ejercicio a la versión Spice de Akhab y haz la misma representación. Ahkab utiliza otra sintaxis para expresar la corriente alterna. Esta está descrita en la [documentación](https://ahkab.readthedocs.io/en/latest/help/Netlist-Syntax.html#id24). "
      ],
      "cell_type": "markdown",
      "metadata": {}
    },
    {
      "cell_type": "code",
      "execution_count": 38,
      "metadata": {},
      "outputs": [
        {
          "output_type": "stream",
          "name": "stdout",
          "text": [
            "Overwriting corriente alterna.net\n"
          ]
        }
      ],
      "source": [
        "%%writefile \"corriente alterna.net\"\n",
        "* Circuito en corriente alterna\n",
        "v1 1 0 sin(0 120 60 0 0)\n",
        "r1 0 1 10k\n",
        ".tran 1\n",
        ".end"
      ]
    },
    {
      "cell_type": "code",
      "execution_count": 41,
      "metadata": {},
      "outputs": [],
      "source": [
        "lts \"corriente alterna.net\""
      ]
    },
    {
      "cell_type": "code",
      "execution_count": 42,
      "metadata": {},
      "outputs": [
        {
          "output_type": "stream",
          "text": [
            "\u001b[0mCircuit\u001b[0m\u001b[1;33m:\u001b[0m \u001b[1;33m*\u001b[0m \u001b[0mCircuito\u001b[0m \u001b[0men\u001b[0m \u001b[0mcorriente\u001b[0m \u001b[0malterna\u001b[0m\u001b[1;33m\n",
            "\u001b[0m\u001b[1;33m\n",
            "\u001b[0m\u001b[1;33m.\u001b[0m\u001b[0mOP\u001b[0m \u001b[0mpoint\u001b[0m \u001b[0mfound\u001b[0m \u001b[0mby\u001b[0m \u001b[0minspection\u001b[0m\u001b[1;33m.\u001b[0m\u001b[1;33m\n",
            "\u001b[0m\u001b[1;33m\n",
            "\u001b[0m\u001b[0mDate\u001b[0m\u001b[1;33m:\u001b[0m \u001b[0mThu\u001b[0m \u001b[0mDec\u001b[0m \u001b[1;36m24\u001b[0m \u001b[1;36m17\u001b[0m\u001b[1;33m:\u001b[0m\u001b[1;36m31\u001b[0m\u001b[1;33m:\u001b[0m\u001b[1;36m58\u001b[0m \u001b[1;36m2020\u001b[0m\u001b[1;33m\n",
            "\u001b[0m\u001b[0mTotal\u001b[0m \u001b[0melapsed\u001b[0m \u001b[0mtime\u001b[0m\u001b[1;33m:\u001b[0m \u001b[1;36m0.397\u001b[0m \u001b[0mseconds\u001b[0m\u001b[1;33m.\u001b[0m\u001b[1;33m\n",
            "\u001b[0m\u001b[1;33m\n",
            "\u001b[0m\u001b[0mtnom\u001b[0m \u001b[1;33m=\u001b[0m \u001b[1;36m27\u001b[0m\u001b[1;33m\n",
            "\u001b[0m\u001b[0mtemp\u001b[0m \u001b[1;33m=\u001b[0m \u001b[1;36m27\u001b[0m\u001b[1;33m\n",
            "\u001b[0m\u001b[0mmethod\u001b[0m \u001b[1;33m=\u001b[0m \u001b[0mmodified\u001b[0m \u001b[0mtrap\u001b[0m\u001b[1;33m\n",
            "\u001b[0m\u001b[0mtotiter\u001b[0m \u001b[1;33m=\u001b[0m \u001b[1;36m4128\u001b[0m\u001b[1;33m\n",
            "\u001b[0m\u001b[0mtraniter\u001b[0m \u001b[1;33m=\u001b[0m \u001b[1;36m4128\u001b[0m\u001b[1;33m\n",
            "\u001b[0m\u001b[0mtranpoints\u001b[0m \u001b[1;33m=\u001b[0m \u001b[1;36m2065\u001b[0m\u001b[1;33m\n",
            "\u001b[0m\u001b[0maccept\u001b[0m \u001b[1;33m=\u001b[0m \u001b[1;36m1532\u001b[0m\u001b[1;33m\n",
            "\u001b[0m\u001b[0mrejected\u001b[0m \u001b[1;33m=\u001b[0m \u001b[1;36m533\u001b[0m\u001b[1;33m\n",
            "\u001b[0m\u001b[0mmatrix\u001b[0m \u001b[0msize\u001b[0m \u001b[1;33m=\u001b[0m \u001b[1;36m2\u001b[0m\u001b[1;33m\n",
            "\u001b[0m\u001b[0mfillins\u001b[0m \u001b[1;33m=\u001b[0m \u001b[1;36m0\u001b[0m\u001b[1;33m\n",
            "\u001b[0m\u001b[0msolver\u001b[0m \u001b[1;33m=\u001b[0m \u001b[0mNormal\u001b[0m\u001b[1;33m\n",
            "\u001b[0m\u001b[0mMatrix\u001b[0m \u001b[0mCompiler1\u001b[0m\u001b[1;33m:\u001b[0m \u001b[1;36m36\u001b[0m \u001b[0mbytes\u001b[0m \u001b[0mobject\u001b[0m \u001b[0mcode\u001b[0m \u001b[0msize\u001b[0m  \u001b[1;36m0.0\u001b[0m\u001b[1;33m/\u001b[0m\u001b[1;36m0.0\u001b[0m\u001b[1;33m/\u001b[0m\u001b[1;33m[\u001b[0m\u001b[1;36m0.0\u001b[0m\u001b[1;33m]\u001b[0m\u001b[1;33m\n",
            "\u001b[0m\u001b[0mMatrix\u001b[0m \u001b[0mCompiler2\u001b[0m\u001b[1;33m:\u001b[0m \u001b[0moff\u001b[0m  \u001b[1;33m[\u001b[0m\u001b[1;36m0.0\u001b[0m\u001b[1;33m]\u001b[0m\u001b[1;33m/\u001b[0m\u001b[1;36m0.0\u001b[0m\u001b[1;33m/\u001b[0m\u001b[1;36m0.0\u001b[0m\u001b[1;33m\u001b[0m\u001b[1;33m\u001b[0m\u001b[0m\n"
          ],
          "name": "stdout"
        }
      ],
      "source": [
        "%pycat corriente alterna.log"
      ]
    },
    {
      "cell_type": "code",
      "execution_count": 51,
      "metadata": {},
      "outputs": [
        {
          "output_type": "execute_result",
          "data": {
            "text/plain": [
              "[<matplotlib.lines.Line2D at 0x1d3bae61d88>]"
            ]
          },
          "metadata": {},
          "execution_count": 51
        },
        {
          "output_type": "display_data",
          "data": {
            "text/plain": "<Figure size 432x288 with 1 Axes>",
            "image/svg+xml": "<?xml version=\"1.0\" encoding=\"utf-8\" standalone=\"no\"?>\r\n<!DOCTYPE svg PUBLIC \"-//W3C//DTD SVG 1.1//EN\"\r\n  \"http://www.w3.org/Graphics/SVG/1.1/DTD/svg11.dtd\">\r\n<!-- Created with matplotlib (https://matplotlib.org/) -->\r\n<svg height=\"249.485937pt\" version=\"1.1\" viewBox=\"0 0 396.908594 249.485937\" width=\"396.908594pt\" xmlns=\"http://www.w3.org/2000/svg\" xmlns:xlink=\"http://www.w3.org/1999/xlink\">\r\n <metadata>\r\n  <rdf:RDF xmlns:cc=\"http://creativecommons.org/ns#\" xmlns:dc=\"http://purl.org/dc/elements/1.1/\" xmlns:rdf=\"http://www.w3.org/1999/02/22-rdf-syntax-ns#\">\r\n   <cc:Work>\r\n    <dc:type rdf:resource=\"http://purl.org/dc/dcmitype/StillImage\"/>\r\n    <dc:date>2020-12-24T17:40:09.219663</dc:date>\r\n    <dc:format>image/svg+xml</dc:format>\r\n    <dc:creator>\r\n     <cc:Agent>\r\n      <dc:title>Matplotlib v3.3.3, https://matplotlib.org/</dc:title>\r\n     </cc:Agent>\r\n    </dc:creator>\r\n   </cc:Work>\r\n  </rdf:RDF>\r\n </metadata>\r\n <defs>\r\n  <style type=\"text/css\">*{stroke-linecap:butt;stroke-linejoin:round;}</style>\r\n </defs>\r\n <g id=\"figure_1\">\r\n  <g id=\"patch_1\">\r\n   <path d=\"M -0 249.485937 \r\nL 396.908594 249.485937 \r\nL 396.908594 0 \r\nL -0 0 \r\nz\r\n\" style=\"fill:none;\"/>\r\n  </g>\r\n  <g id=\"axes_1\">\r\n   <g id=\"patch_2\">\r\n    <path d=\"M 54.908594 224.64 \r\nL 389.708594 224.64 \r\nL 389.708594 7.2 \r\nL 54.908594 7.2 \r\nz\r\n\" style=\"fill:#ffffff;\"/>\r\n   </g>\r\n   <g id=\"matplotlib.axis_1\">\r\n    <g id=\"xtick_1\">\r\n     <g id=\"line2d_1\">\r\n      <defs>\r\n       <path d=\"M 0 0 \r\nL 0 3.5 \r\n\" id=\"m6662236bfd\" style=\"stroke:#000000;stroke-width:0.8;\"/>\r\n      </defs>\r\n      <g>\r\n       <use style=\"stroke:#000000;stroke-width:0.8;\" x=\"70.126776\" xlink:href=\"#m6662236bfd\" y=\"224.64\"/>\r\n      </g>\r\n     </g>\r\n     <g id=\"text_1\">\r\n      <!-- 0.0 -->\r\n      <g transform=\"translate(61.380057 239.998281)scale(0.11 -0.11)\">\r\n       <defs>\r\n        <path d=\"M 31.78125 66.40625 \r\nQ 24.171875 66.40625 20.328125 58.90625 \r\nQ 16.5 51.421875 16.5 36.375 \r\nQ 16.5 21.390625 20.328125 13.890625 \r\nQ 24.171875 6.390625 31.78125 6.390625 \r\nQ 39.453125 6.390625 43.28125 13.890625 \r\nQ 47.125 21.390625 47.125 36.375 \r\nQ 47.125 51.421875 43.28125 58.90625 \r\nQ 39.453125 66.40625 31.78125 66.40625 \r\nz\r\nM 31.78125 74.21875 \r\nQ 44.046875 74.21875 50.515625 64.515625 \r\nQ 56.984375 54.828125 56.984375 36.375 \r\nQ 56.984375 17.96875 50.515625 8.265625 \r\nQ 44.046875 -1.421875 31.78125 -1.421875 \r\nQ 19.53125 -1.421875 13.0625 8.265625 \r\nQ 6.59375 17.96875 6.59375 36.375 \r\nQ 6.59375 54.828125 13.0625 64.515625 \r\nQ 19.53125 74.21875 31.78125 74.21875 \r\nz\r\n\" id=\"DejaVuSans-48\"/>\r\n        <path d=\"M 10.6875 12.40625 \r\nL 21 12.40625 \r\nL 21 0 \r\nL 10.6875 0 \r\nz\r\n\" id=\"DejaVuSans-46\"/>\r\n       </defs>\r\n       <use xlink:href=\"#DejaVuSans-48\"/>\r\n       <use x=\"63.623047\" xlink:href=\"#DejaVuSans-46\"/>\r\n       <use x=\"95.410156\" xlink:href=\"#DejaVuSans-48\"/>\r\n      </g>\r\n     </g>\r\n    </g>\r\n    <g id=\"xtick_2\">\r\n     <g id=\"line2d_2\">\r\n      <g>\r\n       <use style=\"stroke:#000000;stroke-width:0.8;\" x=\"130.999503\" xlink:href=\"#m6662236bfd\" y=\"224.64\"/>\r\n      </g>\r\n     </g>\r\n     <g id=\"text_2\">\r\n      <!-- 0.2 -->\r\n      <g transform=\"translate(122.252784 239.998281)scale(0.11 -0.11)\">\r\n       <defs>\r\n        <path d=\"M 19.1875 8.296875 \r\nL 53.609375 8.296875 \r\nL 53.609375 0 \r\nL 7.328125 0 \r\nL 7.328125 8.296875 \r\nQ 12.9375 14.109375 22.625 23.890625 \r\nQ 32.328125 33.6875 34.8125 36.53125 \r\nQ 39.546875 41.84375 41.421875 45.53125 \r\nQ 43.3125 49.21875 43.3125 52.78125 \r\nQ 43.3125 58.59375 39.234375 62.25 \r\nQ 35.15625 65.921875 28.609375 65.921875 \r\nQ 23.96875 65.921875 18.8125 64.3125 \r\nQ 13.671875 62.703125 7.8125 59.421875 \r\nL 7.8125 69.390625 \r\nQ 13.765625 71.78125 18.9375 73 \r\nQ 24.125 74.21875 28.421875 74.21875 \r\nQ 39.75 74.21875 46.484375 68.546875 \r\nQ 53.21875 62.890625 53.21875 53.421875 \r\nQ 53.21875 48.921875 51.53125 44.890625 \r\nQ 49.859375 40.875 45.40625 35.40625 \r\nQ 44.1875 33.984375 37.640625 27.21875 \r\nQ 31.109375 20.453125 19.1875 8.296875 \r\nz\r\n\" id=\"DejaVuSans-50\"/>\r\n       </defs>\r\n       <use xlink:href=\"#DejaVuSans-48\"/>\r\n       <use x=\"63.623047\" xlink:href=\"#DejaVuSans-46\"/>\r\n       <use x=\"95.410156\" xlink:href=\"#DejaVuSans-50\"/>\r\n      </g>\r\n     </g>\r\n    </g>\r\n    <g id=\"xtick_3\">\r\n     <g id=\"line2d_3\">\r\n      <g>\r\n       <use style=\"stroke:#000000;stroke-width:0.8;\" x=\"191.87223\" xlink:href=\"#m6662236bfd\" y=\"224.64\"/>\r\n      </g>\r\n     </g>\r\n     <g id=\"text_3\">\r\n      <!-- 0.4 -->\r\n      <g transform=\"translate(183.125511 239.998281)scale(0.11 -0.11)\">\r\n       <defs>\r\n        <path d=\"M 37.796875 64.3125 \r\nL 12.890625 25.390625 \r\nL 37.796875 25.390625 \r\nz\r\nM 35.203125 72.90625 \r\nL 47.609375 72.90625 \r\nL 47.609375 25.390625 \r\nL 58.015625 25.390625 \r\nL 58.015625 17.1875 \r\nL 47.609375 17.1875 \r\nL 47.609375 0 \r\nL 37.796875 0 \r\nL 37.796875 17.1875 \r\nL 4.890625 17.1875 \r\nL 4.890625 26.703125 \r\nz\r\n\" id=\"DejaVuSans-52\"/>\r\n       </defs>\r\n       <use xlink:href=\"#DejaVuSans-48\"/>\r\n       <use x=\"63.623047\" xlink:href=\"#DejaVuSans-46\"/>\r\n       <use x=\"95.410156\" xlink:href=\"#DejaVuSans-52\"/>\r\n      </g>\r\n     </g>\r\n    </g>\r\n    <g id=\"xtick_4\">\r\n     <g id=\"line2d_4\">\r\n      <g>\r\n       <use style=\"stroke:#000000;stroke-width:0.8;\" x=\"252.744957\" xlink:href=\"#m6662236bfd\" y=\"224.64\"/>\r\n      </g>\r\n     </g>\r\n     <g id=\"text_4\">\r\n      <!-- 0.6 -->\r\n      <g transform=\"translate(243.998239 239.998281)scale(0.11 -0.11)\">\r\n       <defs>\r\n        <path d=\"M 33.015625 40.375 \r\nQ 26.375 40.375 22.484375 35.828125 \r\nQ 18.609375 31.296875 18.609375 23.390625 \r\nQ 18.609375 15.53125 22.484375 10.953125 \r\nQ 26.375 6.390625 33.015625 6.390625 \r\nQ 39.65625 6.390625 43.53125 10.953125 \r\nQ 47.40625 15.53125 47.40625 23.390625 \r\nQ 47.40625 31.296875 43.53125 35.828125 \r\nQ 39.65625 40.375 33.015625 40.375 \r\nz\r\nM 52.59375 71.296875 \r\nL 52.59375 62.3125 \r\nQ 48.875 64.0625 45.09375 64.984375 \r\nQ 41.3125 65.921875 37.59375 65.921875 \r\nQ 27.828125 65.921875 22.671875 59.328125 \r\nQ 17.53125 52.734375 16.796875 39.40625 \r\nQ 19.671875 43.65625 24.015625 45.921875 \r\nQ 28.375 48.1875 33.59375 48.1875 \r\nQ 44.578125 48.1875 50.953125 41.515625 \r\nQ 57.328125 34.859375 57.328125 23.390625 \r\nQ 57.328125 12.15625 50.6875 5.359375 \r\nQ 44.046875 -1.421875 33.015625 -1.421875 \r\nQ 20.359375 -1.421875 13.671875 8.265625 \r\nQ 6.984375 17.96875 6.984375 36.375 \r\nQ 6.984375 53.65625 15.1875 63.9375 \r\nQ 23.390625 74.21875 37.203125 74.21875 \r\nQ 40.921875 74.21875 44.703125 73.484375 \r\nQ 48.484375 72.75 52.59375 71.296875 \r\nz\r\n\" id=\"DejaVuSans-54\"/>\r\n       </defs>\r\n       <use xlink:href=\"#DejaVuSans-48\"/>\r\n       <use x=\"63.623047\" xlink:href=\"#DejaVuSans-46\"/>\r\n       <use x=\"95.410156\" xlink:href=\"#DejaVuSans-54\"/>\r\n      </g>\r\n     </g>\r\n    </g>\r\n    <g id=\"xtick_5\">\r\n     <g id=\"line2d_5\">\r\n      <g>\r\n       <use style=\"stroke:#000000;stroke-width:0.8;\" x=\"313.617685\" xlink:href=\"#m6662236bfd\" y=\"224.64\"/>\r\n      </g>\r\n     </g>\r\n     <g id=\"text_5\">\r\n      <!-- 0.8 -->\r\n      <g transform=\"translate(304.870966 239.998281)scale(0.11 -0.11)\">\r\n       <defs>\r\n        <path d=\"M 31.78125 34.625 \r\nQ 24.75 34.625 20.71875 30.859375 \r\nQ 16.703125 27.09375 16.703125 20.515625 \r\nQ 16.703125 13.921875 20.71875 10.15625 \r\nQ 24.75 6.390625 31.78125 6.390625 \r\nQ 38.8125 6.390625 42.859375 10.171875 \r\nQ 46.921875 13.96875 46.921875 20.515625 \r\nQ 46.921875 27.09375 42.890625 30.859375 \r\nQ 38.875 34.625 31.78125 34.625 \r\nz\r\nM 21.921875 38.8125 \r\nQ 15.578125 40.375 12.03125 44.71875 \r\nQ 8.5 49.078125 8.5 55.328125 \r\nQ 8.5 64.0625 14.71875 69.140625 \r\nQ 20.953125 74.21875 31.78125 74.21875 \r\nQ 42.671875 74.21875 48.875 69.140625 \r\nQ 55.078125 64.0625 55.078125 55.328125 \r\nQ 55.078125 49.078125 51.53125 44.71875 \r\nQ 48 40.375 41.703125 38.8125 \r\nQ 48.828125 37.15625 52.796875 32.3125 \r\nQ 56.78125 27.484375 56.78125 20.515625 \r\nQ 56.78125 9.90625 50.3125 4.234375 \r\nQ 43.84375 -1.421875 31.78125 -1.421875 \r\nQ 19.734375 -1.421875 13.25 4.234375 \r\nQ 6.78125 9.90625 6.78125 20.515625 \r\nQ 6.78125 27.484375 10.78125 32.3125 \r\nQ 14.796875 37.15625 21.921875 38.8125 \r\nz\r\nM 18.3125 54.390625 \r\nQ 18.3125 48.734375 21.84375 45.5625 \r\nQ 25.390625 42.390625 31.78125 42.390625 \r\nQ 38.140625 42.390625 41.71875 45.5625 \r\nQ 45.3125 48.734375 45.3125 54.390625 \r\nQ 45.3125 60.0625 41.71875 63.234375 \r\nQ 38.140625 66.40625 31.78125 66.40625 \r\nQ 25.390625 66.40625 21.84375 63.234375 \r\nQ 18.3125 60.0625 18.3125 54.390625 \r\nz\r\n\" id=\"DejaVuSans-56\"/>\r\n       </defs>\r\n       <use xlink:href=\"#DejaVuSans-48\"/>\r\n       <use x=\"63.623047\" xlink:href=\"#DejaVuSans-46\"/>\r\n       <use x=\"95.410156\" xlink:href=\"#DejaVuSans-56\"/>\r\n      </g>\r\n     </g>\r\n    </g>\r\n    <g id=\"xtick_6\">\r\n     <g id=\"line2d_6\">\r\n      <g>\r\n       <use style=\"stroke:#000000;stroke-width:0.8;\" x=\"374.490412\" xlink:href=\"#m6662236bfd\" y=\"224.64\"/>\r\n      </g>\r\n     </g>\r\n     <g id=\"text_6\">\r\n      <!-- 1.0 -->\r\n      <g transform=\"translate(365.743693 239.998281)scale(0.11 -0.11)\">\r\n       <defs>\r\n        <path d=\"M 12.40625 8.296875 \r\nL 28.515625 8.296875 \r\nL 28.515625 63.921875 \r\nL 10.984375 60.40625 \r\nL 10.984375 69.390625 \r\nL 28.421875 72.90625 \r\nL 38.28125 72.90625 \r\nL 38.28125 8.296875 \r\nL 54.390625 8.296875 \r\nL 54.390625 0 \r\nL 12.40625 0 \r\nz\r\n\" id=\"DejaVuSans-49\"/>\r\n       </defs>\r\n       <use xlink:href=\"#DejaVuSans-49\"/>\r\n       <use x=\"63.623047\" xlink:href=\"#DejaVuSans-46\"/>\r\n       <use x=\"95.410156\" xlink:href=\"#DejaVuSans-48\"/>\r\n      </g>\r\n     </g>\r\n    </g>\r\n   </g>\r\n   <g id=\"matplotlib.axis_2\">\r\n    <g id=\"ytick_1\">\r\n     <g id=\"line2d_7\">\r\n      <defs>\r\n       <path d=\"M 0 0 \r\nL -3.5 0 \r\n\" id=\"m36f64d818b\" style=\"stroke:#000000;stroke-width:0.8;\"/>\r\n      </defs>\r\n      <g>\r\n       <use style=\"stroke:#000000;stroke-width:0.8;\" x=\"54.908594\" xlink:href=\"#m36f64d818b\" y=\"198.287067\"/>\r\n      </g>\r\n     </g>\r\n     <g id=\"text_7\">\r\n      <!-- −0.010 -->\r\n      <g transform=\"translate(7.2 202.466208)scale(0.11 -0.11)\">\r\n       <defs>\r\n        <path d=\"M 10.59375 35.5 \r\nL 73.1875 35.5 \r\nL 73.1875 27.203125 \r\nL 10.59375 27.203125 \r\nz\r\n\" id=\"DejaVuSans-8722\"/>\r\n       </defs>\r\n       <use xlink:href=\"#DejaVuSans-8722\"/>\r\n       <use x=\"83.789062\" xlink:href=\"#DejaVuSans-48\"/>\r\n       <use x=\"147.412109\" xlink:href=\"#DejaVuSans-46\"/>\r\n       <use x=\"179.199219\" xlink:href=\"#DejaVuSans-48\"/>\r\n       <use x=\"242.822266\" xlink:href=\"#DejaVuSans-49\"/>\r\n       <use x=\"306.445312\" xlink:href=\"#DejaVuSans-48\"/>\r\n      </g>\r\n     </g>\r\n    </g>\r\n    <g id=\"ytick_2\">\r\n     <g id=\"line2d_8\">\r\n      <g>\r\n       <use style=\"stroke:#000000;stroke-width:0.8;\" x=\"54.908594\" xlink:href=\"#m36f64d818b\" y=\"157.104384\"/>\r\n      </g>\r\n     </g>\r\n     <g id=\"text_8\">\r\n      <!-- −0.005 -->\r\n      <g transform=\"translate(7.2 161.283525)scale(0.11 -0.11)\">\r\n       <defs>\r\n        <path d=\"M 10.796875 72.90625 \r\nL 49.515625 72.90625 \r\nL 49.515625 64.59375 \r\nL 19.828125 64.59375 \r\nL 19.828125 46.734375 \r\nQ 21.96875 47.46875 24.109375 47.828125 \r\nQ 26.265625 48.1875 28.421875 48.1875 \r\nQ 40.625 48.1875 47.75 41.5 \r\nQ 54.890625 34.8125 54.890625 23.390625 \r\nQ 54.890625 11.625 47.5625 5.09375 \r\nQ 40.234375 -1.421875 26.90625 -1.421875 \r\nQ 22.3125 -1.421875 17.546875 -0.640625 \r\nQ 12.796875 0.140625 7.71875 1.703125 \r\nL 7.71875 11.625 \r\nQ 12.109375 9.234375 16.796875 8.0625 \r\nQ 21.484375 6.890625 26.703125 6.890625 \r\nQ 35.15625 6.890625 40.078125 11.328125 \r\nQ 45.015625 15.765625 45.015625 23.390625 \r\nQ 45.015625 31 40.078125 35.4375 \r\nQ 35.15625 39.890625 26.703125 39.890625 \r\nQ 22.75 39.890625 18.8125 39.015625 \r\nQ 14.890625 38.140625 10.796875 36.28125 \r\nz\r\n\" id=\"DejaVuSans-53\"/>\r\n       </defs>\r\n       <use xlink:href=\"#DejaVuSans-8722\"/>\r\n       <use x=\"83.789062\" xlink:href=\"#DejaVuSans-48\"/>\r\n       <use x=\"147.412109\" xlink:href=\"#DejaVuSans-46\"/>\r\n       <use x=\"179.199219\" xlink:href=\"#DejaVuSans-48\"/>\r\n       <use x=\"242.822266\" xlink:href=\"#DejaVuSans-48\"/>\r\n       <use x=\"306.445312\" xlink:href=\"#DejaVuSans-53\"/>\r\n      </g>\r\n     </g>\r\n    </g>\r\n    <g id=\"ytick_3\">\r\n     <g id=\"line2d_9\">\r\n      <g>\r\n       <use style=\"stroke:#000000;stroke-width:0.8;\" x=\"54.908594\" xlink:href=\"#m36f64d818b\" y=\"115.921701\"/>\r\n      </g>\r\n     </g>\r\n     <g id=\"text_9\">\r\n      <!-- 0.000 -->\r\n      <g transform=\"translate(16.417656 120.100842)scale(0.11 -0.11)\">\r\n       <use xlink:href=\"#DejaVuSans-48\"/>\r\n       <use x=\"63.623047\" xlink:href=\"#DejaVuSans-46\"/>\r\n       <use x=\"95.410156\" xlink:href=\"#DejaVuSans-48\"/>\r\n       <use x=\"159.033203\" xlink:href=\"#DejaVuSans-48\"/>\r\n       <use x=\"222.65625\" xlink:href=\"#DejaVuSans-48\"/>\r\n      </g>\r\n     </g>\r\n    </g>\r\n    <g id=\"ytick_4\">\r\n     <g id=\"line2d_10\">\r\n      <g>\r\n       <use style=\"stroke:#000000;stroke-width:0.8;\" x=\"54.908594\" xlink:href=\"#m36f64d818b\" y=\"74.739018\"/>\r\n      </g>\r\n     </g>\r\n     <g id=\"text_10\">\r\n      <!-- 0.005 -->\r\n      <g transform=\"translate(16.417656 78.918159)scale(0.11 -0.11)\">\r\n       <use xlink:href=\"#DejaVuSans-48\"/>\r\n       <use x=\"63.623047\" xlink:href=\"#DejaVuSans-46\"/>\r\n       <use x=\"95.410156\" xlink:href=\"#DejaVuSans-48\"/>\r\n       <use x=\"159.033203\" xlink:href=\"#DejaVuSans-48\"/>\r\n       <use x=\"222.65625\" xlink:href=\"#DejaVuSans-53\"/>\r\n      </g>\r\n     </g>\r\n    </g>\r\n    <g id=\"ytick_5\">\r\n     <g id=\"line2d_11\">\r\n      <g>\r\n       <use style=\"stroke:#000000;stroke-width:0.8;\" x=\"54.908594\" xlink:href=\"#m36f64d818b\" y=\"33.556335\"/>\r\n      </g>\r\n     </g>\r\n     <g id=\"text_11\">\r\n      <!-- 0.010 -->\r\n      <g transform=\"translate(16.417656 37.735476)scale(0.11 -0.11)\">\r\n       <use xlink:href=\"#DejaVuSans-48\"/>\r\n       <use x=\"63.623047\" xlink:href=\"#DejaVuSans-46\"/>\r\n       <use x=\"95.410156\" xlink:href=\"#DejaVuSans-48\"/>\r\n       <use x=\"159.033203\" xlink:href=\"#DejaVuSans-49\"/>\r\n       <use x=\"222.65625\" xlink:href=\"#DejaVuSans-48\"/>\r\n      </g>\r\n     </g>\r\n    </g>\r\n   </g>\r\n   <g id=\"line2d_12\">\r\n    <path clip-path=\"url(#pa39e4177b7)\" d=\"M 70.126776 115.921701 \r\nL 70.743154 184.261038 \r\nL 71.241373 212.977119 \r\nL 71.446258 214.560673 \r\nL 71.55456 212.835101 \r\nL 71.730281 206.356872 \r\nL 72.011056 187.351061 \r\nL 72.605516 122.970089 \r\nL 73.199977 54.937363 \r\nL 73.658893 22.657061 \r\nL 73.913269 17.107968 \r\nL 74.000701 17.447999 \r\nL 74.120332 19.779517 \r\nL 74.3141 27.985546 \r\nL 74.61133 50.118181 \r\nL 76.21936 210.12155 \r\nL 76.392755 214.334771 \r\nL 76.499096 214.685341 \r\nL 76.594919 213.535296 \r\nL 76.750623 208.752469 \r\nL 77.000872 193.978005 \r\nL 77.595333 133.039584 \r\nL 78.487023 36.667331 \r\nL 78.878097 18.283579 \r\nL 78.971007 17.166025 \r\nL 79.067852 17.391755 \r\nL 79.183991 19.528058 \r\nL 79.37221 27.182991 \r\nL 79.66944 48.793773 \r\nL 81.286609 209.916326 \r\nL 81.460551 214.276984 \r\nL 81.552549 214.748972 \r\nL 81.636266 214.064343 \r\nL 81.772442 210.70626 \r\nL 81.992324 199.676351 \r\nL 82.586784 142.7361 \r\nL 83.478474 43.003884 \r\nL 83.932617 18.654701 \r\nL 84.132335 17.317211 \r\nL 84.243308 19.178476 \r\nL 84.423293 26.048184 \r\nL 84.710484 45.999312 \r\nL 85.304945 111.025222 \r\nL 85.899405 178.587988 \r\nL 86.439619 212.486089 \r\nL 86.606081 214.756364 \r\nL 86.686607 214.351197 \r\nL 86.808795 211.871916 \r\nL 87.00662 203.251974 \r\nL 87.30385 180.741855 \r\nL 88.906838 21.514376 \r\nL 89.079682 17.452646 \r\nL 89.187222 17.191109 \r\nL 89.287003 18.513246 \r\nL 89.449071 23.809561 \r\nL 89.709097 39.889932 \r\nL 90.303557 101.996338 \r\nL 91.195248 197.064975 \r\nL 91.568916 213.724967 \r\nL 91.665338 214.728192 \r\nL 91.754326 214.405017 \r\nL 91.87338 212.106247 \r\nL 92.066232 203.992324 \r\nL 92.363462 181.945333 \r\nL 93.973002 21.755388 \r\nL 94.146487 17.517916 \r\nL 94.241678 17.111937 \r\nL 94.329987 17.962329 \r\nL 94.473584 21.834769 \r\nL 94.705065 34.238141 \r\nL 95.299526 92.769891 \r\nL 96.191216 191.341112 \r\nL 96.621444 213.33743 \r\nL 96.711929 214.595089 \r\nL 96.817324 214.49874 \r\nL 96.930284 212.533625 \r\nL 97.11344 205.366167 \r\nL 97.405377 184.703682 \r\nL 98.297068 83.446328 \r\nL 98.891528 29.168416 \r\nL 99.208814 17.645357 \r\nL 99.28552 17.090015 \r\nL 99.36754 17.482426 \r\nL 99.489175 19.929399 \r\nL 99.686123 28.45907 \r\nL 99.983353 50.88787 \r\nL 101.58697 210.267686 \r\nL 101.759976 214.374471 \r\nL 101.867159 214.66278 \r\nL 101.96576 213.392984 \r\nL 102.125931 208.252195 \r\nL 102.38305 192.565054 \r\nL 102.977511 130.799624 \r\nL 103.869201 35.332025 \r\nL 104.247904 18.169063 \r\nL 104.343653 17.127046 \r\nL 104.434841 17.425005 \r\nL 104.553079 19.677782 \r\nL 104.744636 27.662122 \r\nL 105.041866 49.58757 \r\nL 106.653541 210.040327 \r\nL 106.827153 214.312176 \r\nL 106.921451 214.737179 \r\nL 107.008476 213.934486 \r\nL 107.149998 210.209173 \r\nL 107.378244 198.196061 \r\nL 107.972705 140.100385 \r\nL 108.864395 41.190183 \r\nL 109.301315 18.546558 \r\nL 109.391384 17.265456 \r\nL 109.498261 17.33688 \r\nL 109.610668 19.272889 \r\nL 109.792944 26.357055 \r\nL 110.083565 46.821205 \r\nL 110.975255 147.976925 \r\nL 111.569715 202.461123 \r\nL 111.889405 214.181936 \r\nL 111.966249 214.75174 \r\nL 112.048954 214.365414 \r\nL 112.170335 211.933169 \r\nL 112.366882 203.444692 \r\nL 112.664112 181.053183 \r\nL 114.268016 21.603925 \r\nL 114.441098 17.476497 \r\nL 114.548117 17.176005 \r\nL 114.646178 18.422149 \r\nL 114.805481 23.492475 \r\nL 115.061268 39.000806 \r\nL 115.655729 100.608188 \r\nL 116.547419 196.255401 \r\nL 116.928423 213.650705 \r\nL 117.023863 214.710303 \r\nL 117.116061 214.424455 \r\nL 117.233925 212.192654 \r\nL 117.424886 204.267507 \r\nL 117.722116 182.397992 \r\nL 119.334772 21.825061 \r\nL 119.508442 17.537406 \r\nL 119.60233 17.103813 \r\nL 119.688765 17.88495 \r\nL 119.829335 21.543549 \r\nL 120.056093 33.379021 \r\nL 120.650553 91.272084 \r\nL 121.542243 190.334255 \r\nL 121.982236 213.277948 \r\nL 122.072113 214.569765 \r\nL 122.179673 214.51007 \r\nL 122.291826 212.58741 \r\nL 122.473695 205.541488 \r\nL 122.763709 185.168576 \r\nL 123.655399 84.060402 \r\nL 124.249859 29.481469 \r\nL 124.570646 17.66912 \r\nL 124.65637 17.083637 \r\nL 124.733858 17.512439 \r\nL 124.85717 20.057931 \r\nL 125.056777 28.862477 \r\nL 125.354007 51.537194 \r\nL 126.955722 210.452466 \r\nL 127.128237 214.422823 \r\nL 127.246202 214.561109 \r\nL 127.354469 212.837293 \r\nL 127.530133 206.36415 \r\nL 127.810824 187.370696 \r\nL 128.405284 122.998429 \r\nL 128.999745 54.959725 \r\nL 129.458805 22.660643 \r\nL 129.713124 17.108367 \r\nL 129.800647 17.447432 \r\nL 129.920244 19.777024 \r\nL 130.113958 27.977639 \r\nL 130.411188 50.105257 \r\nL 132.019307 210.119587 \r\nL 132.192707 214.334229 \r\nL 132.299037 214.685621 \r\nL 132.394823 213.537138 \r\nL 132.550467 208.759002 \r\nL 132.800625 193.996568 \r\nL 133.395085 133.069392 \r\nL 134.286776 36.685419 \r\nL 134.678043 18.284614 \r\nL 134.77094 17.166357 \r\nL 134.867828 17.391516 \r\nL 134.983951 19.526972 \r\nL 135.172145 27.179502 \r\nL 135.469375 48.787958 \r\nL 137.086584 209.915406 \r\nL 137.260529 214.27672 \r\nL 137.35251 214.749043 \r\nL 137.436203 214.065258 \r\nL 137.57234 210.709818 \r\nL 137.792159 199.687031 \r\nL 138.386619 142.755462 \r\nL 139.27831 43.017466 \r\nL 139.73258 18.655518 \r\nL 139.932318 17.317068 \r\nL 140.04328 19.177783 \r\nL 140.223249 26.045912 \r\nL 140.510414 45.993249 \r\nL 141.104875 111.016654 \r\nL 141.699335 178.581353 \r\nL 142.239599 212.485573 \r\nL 142.406037 214.756317 \r\nL 142.48659 214.351378 \r\nL 142.608769 211.872691 \r\nL 142.806578 203.254408 \r\nL 143.103808 180.745779 \r\nL 144.706807 21.515498 \r\nL 144.879654 17.452941 \r\nL 144.987187 17.190912 \r\nL 145.086947 18.51208 \r\nL 145.24898 23.805523 \r\nL 145.508953 39.878649 \r\nL 146.103413 101.978853 \r\nL 146.995103 197.05489 \r\nL 147.368865 213.72405 \r\nL 147.465274 214.727992 \r\nL 147.554302 214.405264 \r\nL 147.673341 212.10734 \r\nL 147.86617 203.995797 \r\nL 148.1634 181.951028 \r\nL 149.772979 21.756258 \r\nL 149.946466 17.518158 \r\nL 150.041641 17.111827 \r\nL 150.129927 17.961336 \r\nL 150.273485 21.831061 \r\nL 150.504907 34.227247 \r\nL 151.099368 92.751079 \r\nL 151.991058 191.328604 \r\nL 152.421409 213.336694 \r\nL 152.511886 214.594783 \r\nL 152.617308 214.498883 \r\nL 152.730258 212.534302 \r\nL 152.913397 205.368368 \r\nL 153.205311 184.70951 \r\nL 154.097001 83.453993 \r\nL 154.691462 29.172305 \r\nL 155.008791 17.645649 \r\nL 155.085473 17.090083 \r\nL 155.167523 17.482232 \r\nL 155.289147 19.928564 \r\nL 155.486077 28.456441 \r\nL 155.783307 50.883619 \r\nL 157.386936 210.266461 \r\nL 157.559946 214.374144 \r\nL 157.667121 214.662983 \r\nL 157.765699 213.394221 \r\nL 157.925833 208.256507 \r\nL 158.182894 192.577163 \r\nL 158.777354 130.818585 \r\nL 159.669044 35.34313 \r\nL 160.047847 18.170086 \r\nL 160.143583 17.127301 \r\nL 160.234815 17.42474 \r\nL 160.353037 19.676604 \r\nL 160.544568 27.658366 \r\nL 160.841798 49.581384 \r\nL 162.453516 210.039372 \r\nL 162.62713 214.311908 \r\nL 162.72141 214.737287 \r\nL 162.80841 213.935535 \r\nL 162.94989 210.213133 \r\nL 163.178072 198.207765 \r\nL 163.772532 140.120866 \r\nL 164.664222 41.204009 \r\nL 165.101276 18.547376 \r\nL 165.191336 17.265807 \r\nL 165.298243 17.336726 \r\nL 165.41064 19.272154 \r\nL 165.592897 26.354658 \r\nL 165.883492 46.814843 \r\nL 166.775182 147.968507 \r\nL 167.369643 202.456824 \r\nL 167.68938 214.181611 \r\nL 167.766252 214.751744 \r\nL 167.848955 214.365403 \r\nL 167.970337 211.933119 \r\nL 168.166884 203.444534 \r\nL 168.464115 181.052928 \r\nL 170.068018 21.603851 \r\nL 170.241099 17.476477 \r\nL 170.348119 17.176017 \r\nL 170.446181 18.422223 \r\nL 170.605487 23.492732 \r\nL 170.861278 39.00153 \r\nL 171.455738 100.609327 \r\nL 172.347428 196.256073 \r\nL 172.728426 213.650767 \r\nL 172.823867 214.710319 \r\nL 172.916063 214.424439 \r\nL 173.033927 212.192583 \r\nL 173.22489 204.267281 \r\nL 173.52212 182.39762 \r\nL 175.134774 21.825004 \r\nL 175.308444 17.53739 \r\nL 175.402333 17.103819 \r\nL 175.488769 17.885013 \r\nL 175.629341 21.543786 \r\nL 175.856103 33.379721 \r\nL 176.450563 91.273317 \r\nL 177.342254 190.335093 \r\nL 177.782238 213.277998 \r\nL 177.872116 214.569787 \r\nL 177.979674 214.51006 \r\nL 178.091828 212.587366 \r\nL 178.273698 205.541343 \r\nL 178.563713 185.168192 \r\nL 179.455404 84.059893 \r\nL 180.049864 29.481208 \r\nL 180.370648 17.6691 \r\nL 180.456373 17.083636 \r\nL 180.533859 17.51245 \r\nL 180.657172 20.05798 \r\nL 180.856779 28.862631 \r\nL 181.154009 51.53744 \r\nL 182.755724 210.452535 \r\nL 182.928239 214.42284 \r\nL 183.046203 214.561104 \r\nL 183.15447 212.837268 \r\nL 183.330135 206.364064 \r\nL 183.610827 187.370467 \r\nL 184.205287 122.998097 \r\nL 184.799747 54.959464 \r\nL 185.258806 22.660601 \r\nL 185.513126 17.108362 \r\nL 185.600648 17.447438 \r\nL 185.720245 19.777053 \r\nL 185.91396 27.977731 \r\nL 186.21119 50.105408 \r\nL 187.819308 210.11961 \r\nL 187.992708 214.334235 \r\nL 188.099038 214.685618 \r\nL 188.194824 213.537117 \r\nL 188.350469 208.758926 \r\nL 188.600628 193.996352 \r\nL 189.195088 133.069044 \r\nL 190.086779 36.685208 \r\nL 190.478043 18.284602 \r\nL 190.570941 17.166353 \r\nL 190.667828 17.391519 \r\nL 190.783951 19.526985 \r\nL 190.972146 27.179543 \r\nL 191.269376 48.788026 \r\nL 192.886585 209.915417 \r\nL 193.060529 214.276723 \r\nL 193.152511 214.749042 \r\nL 193.236204 214.065248 \r\nL 193.372341 210.709776 \r\nL 193.592161 199.686907 \r\nL 194.186621 142.755236 \r\nL 195.078312 43.017308 \r\nL 195.53258 18.655508 \r\nL 195.732318 17.317069 \r\nL 195.84328 19.177791 \r\nL 196.023249 26.045939 \r\nL 196.310415 45.99332 \r\nL 196.904875 111.016754 \r\nL 197.499336 178.581431 \r\nL 198.039599 212.485579 \r\nL 198.206038 214.756317 \r\nL 198.286591 214.351376 \r\nL 198.408769 211.872682 \r\nL 198.606578 203.254379 \r\nL 198.903808 180.745733 \r\nL 200.506808 21.515485 \r\nL 200.679654 17.452938 \r\nL 200.787187 17.190914 \r\nL 200.886948 18.512093 \r\nL 201.048981 23.80557 \r\nL 201.308955 39.878781 \r\nL 201.903415 101.979058 \r\nL 202.795105 197.055007 \r\nL 203.168865 213.724061 \r\nL 203.265275 214.727994 \r\nL 203.354302 214.405261 \r\nL 203.473341 212.107327 \r\nL 203.666171 203.995757 \r\nL 203.963401 181.950961 \r\nL 205.572979 21.756248 \r\nL 205.746466 17.518155 \r\nL 205.841641 17.111828 \r\nL 205.929927 17.961348 \r\nL 206.073486 21.831104 \r\nL 206.304909 34.227375 \r\nL 206.899369 92.751299 \r\nL 207.79106 191.32875 \r\nL 208.221409 213.336703 \r\nL 208.311887 214.594787 \r\nL 208.417308 214.498882 \r\nL 208.530258 212.534294 \r\nL 208.713398 205.368343 \r\nL 209.005312 184.709442 \r\nL 209.897002 83.453903 \r\nL 210.491462 29.17226 \r\nL 210.808791 17.645645 \r\nL 210.885473 17.090082 \r\nL 210.967523 17.482235 \r\nL 211.089147 19.928574 \r\nL 211.286078 28.456471 \r\nL 211.583308 50.883669 \r\nL 213.186937 210.266475 \r\nL 213.359946 214.374147 \r\nL 213.467122 214.662981 \r\nL 213.5657 213.394206 \r\nL 213.725834 208.256457 \r\nL 213.982896 192.577021 \r\nL 214.577356 130.818363 \r\nL 215.469046 35.343 \r\nL 215.847848 18.170074 \r\nL 215.943584 17.127298 \r\nL 216.034815 17.424743 \r\nL 216.153037 19.676618 \r\nL 216.344568 27.65841 \r\nL 216.641799 49.581457 \r\nL 218.253516 210.039383 \r\nL 218.42713 214.311911 \r\nL 218.521411 214.737285 \r\nL 218.60841 213.935523 \r\nL 218.749891 210.213087 \r\nL 218.978074 198.207628 \r\nL 219.572534 140.120627 \r\nL 220.464224 41.203847 \r\nL 220.901277 18.547366 \r\nL 220.991337 17.265803 \r\nL 221.098244 17.336727 \r\nL 221.21064 19.272163 \r\nL 221.392898 26.354686 \r\nL 221.683493 46.814917 \r\nL 222.575183 147.968606 \r\nL 223.169643 202.456874 \r\nL 223.48938 214.181614 \r\nL 223.566252 214.751744 \r\nL 223.648955 214.365403 \r\nL 223.770337 211.93312 \r\nL 223.966884 203.444536 \r\nL 224.264115 181.052931 \r\nL 225.868018 21.603852 \r\nL 226.041099 17.476478 \r\nL 226.148119 17.176017 \r\nL 226.246181 18.422222 \r\nL 226.405487 23.492729 \r\nL 226.661278 39.001521 \r\nL 227.255738 100.609314 \r\nL 228.147428 196.256065 \r\nL 228.528426 213.650766 \r\nL 228.623867 214.710319 \r\nL 228.716063 214.424439 \r\nL 228.833927 212.192584 \r\nL 229.02489 204.267284 \r\nL 229.32212 182.397625 \r\nL 230.934774 21.825004 \r\nL 231.108444 17.53739 \r\nL 231.202333 17.103819 \r\nL 231.288769 17.885012 \r\nL 231.429341 21.543783 \r\nL 231.656103 33.379713 \r\nL 232.250563 91.273303 \r\nL 233.142254 190.335083 \r\nL 233.582238 213.277997 \r\nL 233.672116 214.569787 \r\nL 233.779674 214.510061 \r\nL 233.891828 212.587367 \r\nL 234.073698 205.541345 \r\nL 234.363713 185.168197 \r\nL 235.255404 84.059899 \r\nL 235.849864 29.481211 \r\nL 236.170648 17.6691 \r\nL 236.256372 17.083636 \r\nL 236.333859 17.51245 \r\nL 236.457172 20.057979 \r\nL 236.656779 28.862629 \r\nL 236.954009 51.537437 \r\nL 238.555724 210.452534 \r\nL 238.728239 214.42284 \r\nL 238.846203 214.561104 \r\nL 238.95447 212.837268 \r\nL 239.130135 206.364065 \r\nL 239.410827 187.370469 \r\nL 240.005287 122.998101 \r\nL 240.599747 54.959467 \r\nL 241.058806 22.660601 \r\nL 241.313126 17.108363 \r\nL 241.400648 17.447438 \r\nL 241.520245 19.777052 \r\nL 241.71396 27.97773 \r\nL 242.01119 50.105406 \r\nL 243.619308 210.11961 \r\nL 243.792708 214.334235 \r\nL 243.899038 214.685618 \r\nL 243.994824 213.537117 \r\nL 244.150469 208.758927 \r\nL 244.400628 193.996354 \r\nL 244.995088 133.069048 \r\nL 245.886779 36.68521 \r\nL 246.278043 18.284603 \r\nL 246.370941 17.166353 \r\nL 246.467828 17.391519 \r\nL 246.583951 19.526985 \r\nL 246.772146 27.179543 \r\nL 247.069376 48.788025 \r\nL 248.686585 209.915417 \r\nL 248.860529 214.276723 \r\nL 248.952511 214.749042 \r\nL 249.036204 214.065248 \r\nL 249.172341 210.709777 \r\nL 249.392161 199.686908 \r\nL 249.986621 142.755239 \r\nL 250.878312 43.01731 \r\nL 251.33258 18.655508 \r\nL 251.532318 17.317069 \r\nL 251.64328 19.177791 \r\nL 251.823249 26.045939 \r\nL 252.110415 45.993319 \r\nL 252.704875 111.016753 \r\nL 253.299336 178.58143 \r\nL 253.839599 212.485579 \r\nL 254.006038 214.756317 \r\nL 254.086591 214.351376 \r\nL 254.208769 211.872682 \r\nL 254.406578 203.25438 \r\nL 254.703808 180.745734 \r\nL 256.306808 21.515485 \r\nL 256.479654 17.452938 \r\nL 256.587187 17.190914 \r\nL 256.686948 18.512093 \r\nL 256.848981 23.805569 \r\nL 257.108955 39.878779 \r\nL 257.703415 101.979055 \r\nL 258.595105 197.055006 \r\nL 258.968865 213.724061 \r\nL 259.065275 214.727994 \r\nL 259.154302 214.405261 \r\nL 259.273341 212.107327 \r\nL 259.466171 203.995757 \r\nL 259.763401 181.950962 \r\nL 261.372979 21.756248 \r\nL 261.546466 17.518155 \r\nL 261.641641 17.111828 \r\nL 261.729927 17.961348 \r\nL 261.873486 21.831104 \r\nL 262.104909 34.227373 \r\nL 262.699369 92.751296 \r\nL 263.59106 191.328748 \r\nL 264.021409 213.336702 \r\nL 264.111887 214.594787 \r\nL 264.217308 214.498882 \r\nL 264.330258 212.534294 \r\nL 264.513398 205.368343 \r\nL 264.805312 184.709442 \r\nL 265.697002 83.453904 \r\nL 266.291462 29.17226 \r\nL 266.608791 17.645645 \r\nL 266.685473 17.090082 \r\nL 266.767523 17.482235 \r\nL 266.889147 19.928573 \r\nL 267.086078 28.456471 \r\nL 267.383308 50.883668 \r\nL 268.986937 210.266475 \r\nL 269.159946 214.374147 \r\nL 269.267122 214.662981 \r\nL 269.3657 213.394206 \r\nL 269.525834 208.256458 \r\nL 269.782896 192.577023 \r\nL 270.377356 130.818366 \r\nL 271.269046 35.343002 \r\nL 271.647848 18.170074 \r\nL 271.743584 17.127298 \r\nL 271.834815 17.424743 \r\nL 271.953037 19.676618 \r\nL 272.144568 27.658409 \r\nL 272.441799 49.581456 \r\nL 274.053516 210.039383 \r\nL 274.22713 214.311911 \r\nL 274.321411 214.737285 \r\nL 274.40841 213.935523 \r\nL 274.549891 210.213087 \r\nL 274.778074 198.207629 \r\nL 275.372534 140.120629 \r\nL 276.264224 41.203849 \r\nL 276.701277 18.547366 \r\nL 276.791337 17.265803 \r\nL 276.898244 17.336727 \r\nL 277.01064 19.272163 \r\nL 277.192898 26.354685 \r\nL 277.483493 46.814916 \r\nL 278.375183 147.968605 \r\nL 278.969643 202.456874 \r\nL 279.28938 214.181614 \r\nL 279.366252 214.751744 \r\nL 279.448955 214.365403 \r\nL 279.570337 211.93312 \r\nL 279.766884 203.444536 \r\nL 280.064115 181.052931 \r\nL 281.668018 21.603852 \r\nL 281.841099 17.476478 \r\nL 281.948119 17.176017 \r\nL 282.046181 18.422222 \r\nL 282.205487 23.49273 \r\nL 282.461278 39.001521 \r\nL 283.055738 100.609314 \r\nL 283.947428 196.256065 \r\nL 284.328426 213.650766 \r\nL 284.423867 214.710319 \r\nL 284.516063 214.424439 \r\nL 284.633927 212.192584 \r\nL 284.82489 204.267284 \r\nL 285.12212 182.397625 \r\nL 286.734774 21.825004 \r\nL 286.908444 17.53739 \r\nL 287.002333 17.103819 \r\nL 287.088769 17.885012 \r\nL 287.229341 21.543783 \r\nL 287.456103 33.379713 \r\nL 288.050563 91.273303 \r\nL 288.942254 190.335083 \r\nL 289.382238 213.277997 \r\nL 289.472116 214.569787 \r\nL 289.579674 214.510061 \r\nL 289.691828 212.587367 \r\nL 289.873698 205.541345 \r\nL 290.163713 185.168197 \r\nL 291.055404 84.059899 \r\nL 291.649864 29.481211 \r\nL 291.970648 17.6691 \r\nL 292.056372 17.083636 \r\nL 292.133859 17.51245 \r\nL 292.257172 20.057979 \r\nL 292.456779 28.862629 \r\nL 292.754009 51.537437 \r\nL 294.355724 210.452534 \r\nL 294.528239 214.42284 \r\nL 294.646203 214.561104 \r\nL 294.75447 212.837268 \r\nL 294.930135 206.364065 \r\nL 295.210827 187.370469 \r\nL 295.805287 122.998101 \r\nL 296.399747 54.959467 \r\nL 296.858806 22.660601 \r\nL 297.113126 17.108363 \r\nL 297.200648 17.447438 \r\nL 297.320245 19.777052 \r\nL 297.51396 27.97773 \r\nL 297.81119 50.105406 \r\nL 299.419308 210.11961 \r\nL 299.592708 214.334235 \r\nL 299.699038 214.685618 \r\nL 299.794824 213.537117 \r\nL 299.950469 208.758927 \r\nL 300.200628 193.996354 \r\nL 300.795088 133.069048 \r\nL 301.686779 36.68521 \r\nL 302.078043 18.284602 \r\nL 302.170941 17.166353 \r\nL 302.267828 17.391519 \r\nL 302.383951 19.526985 \r\nL 302.572146 27.179543 \r\nL 302.869376 48.788025 \r\nL 304.486585 209.915417 \r\nL 304.660529 214.276723 \r\nL 304.752511 214.749042 \r\nL 304.836204 214.065248 \r\nL 304.972341 210.709777 \r\nL 305.192161 199.686908 \r\nL 305.786621 142.755239 \r\nL 306.678312 43.017309 \r\nL 307.13258 18.655508 \r\nL 307.332318 17.317069 \r\nL 307.44328 19.177791 \r\nL 307.623249 26.045939 \r\nL 307.910415 45.993319 \r\nL 308.504875 111.016753 \r\nL 309.099336 178.58143 \r\nL 309.639599 212.485579 \r\nL 309.806038 214.756317 \r\nL 309.886591 214.351376 \r\nL 310.008769 211.872682 \r\nL 310.206578 203.25438 \r\nL 310.503808 180.745734 \r\nL 312.106808 21.515485 \r\nL 312.279654 17.452938 \r\nL 312.387187 17.190914 \r\nL 312.486948 18.512093 \r\nL 312.648981 23.805569 \r\nL 312.908955 39.878779 \r\nL 313.503415 101.979055 \r\nL 314.395105 197.055006 \r\nL 314.768865 213.724061 \r\nL 314.865275 214.727994 \r\nL 314.954302 214.405261 \r\nL 315.073341 212.107327 \r\nL 315.266171 203.995757 \r\nL 315.563401 181.950962 \r\nL 317.172979 21.756248 \r\nL 317.346466 17.518155 \r\nL 317.441641 17.111828 \r\nL 317.529927 17.961348 \r\nL 317.673486 21.831104 \r\nL 317.904909 34.227373 \r\nL 318.499369 92.751296 \r\nL 319.39106 191.328748 \r\nL 319.821409 213.336702 \r\nL 319.911887 214.594787 \r\nL 320.017308 214.498882 \r\nL 320.130258 212.534294 \r\nL 320.313398 205.368343 \r\nL 320.605312 184.709442 \r\nL 321.497002 83.453904 \r\nL 322.091462 29.17226 \r\nL 322.408791 17.645645 \r\nL 322.485473 17.090082 \r\nL 322.567523 17.482235 \r\nL 322.689147 19.928573 \r\nL 322.886078 28.456471 \r\nL 323.183308 50.883668 \r\nL 324.786937 210.266475 \r\nL 324.959946 214.374147 \r\nL 325.067122 214.662981 \r\nL 325.1657 213.394206 \r\nL 325.325834 208.256458 \r\nL 325.582896 192.577023 \r\nL 326.177356 130.818365 \r\nL 327.069046 35.343002 \r\nL 327.447848 18.170074 \r\nL 327.543584 17.127298 \r\nL 327.634815 17.424743 \r\nL 327.753037 19.676618 \r\nL 327.944568 27.658409 \r\nL 328.241799 49.581456 \r\nL 329.853516 210.039383 \r\nL 330.02713 214.311911 \r\nL 330.121411 214.737285 \r\nL 330.20841 213.935523 \r\nL 330.349891 210.213087 \r\nL 330.578074 198.207629 \r\nL 331.172534 140.120629 \r\nL 332.064224 41.203849 \r\nL 332.501277 18.547366 \r\nL 332.591337 17.265803 \r\nL 332.698244 17.336727 \r\nL 332.81064 19.272163 \r\nL 332.992898 26.354685 \r\nL 333.283493 46.814916 \r\nL 334.175183 147.968605 \r\nL 334.769643 202.456874 \r\nL 335.08938 214.181614 \r\nL 335.166252 214.751744 \r\nL 335.248955 214.365403 \r\nL 335.370337 211.93312 \r\nL 335.566884 203.444536 \r\nL 335.864115 181.052931 \r\nL 337.468018 21.603852 \r\nL 337.641099 17.476478 \r\nL 337.748119 17.176017 \r\nL 337.846181 18.422222 \r\nL 338.005487 23.49273 \r\nL 338.261278 39.001521 \r\nL 338.855738 100.609314 \r\nL 339.747428 196.256065 \r\nL 340.128426 213.650766 \r\nL 340.223867 214.710319 \r\nL 340.316063 214.424439 \r\nL 340.433927 212.192584 \r\nL 340.62489 204.267284 \r\nL 340.92212 182.397625 \r\nL 342.534774 21.825004 \r\nL 342.708444 17.53739 \r\nL 342.802333 17.103819 \r\nL 342.888769 17.885012 \r\nL 343.029341 21.543783 \r\nL 343.256103 33.379713 \r\nL 343.850563 91.273303 \r\nL 344.742254 190.335083 \r\nL 345.182238 213.277997 \r\nL 345.272116 214.569787 \r\nL 345.379674 214.510061 \r\nL 345.491828 212.587367 \r\nL 345.673698 205.541345 \r\nL 345.963713 185.168197 \r\nL 346.855404 84.059899 \r\nL 347.449864 29.481211 \r\nL 347.770648 17.6691 \r\nL 347.856372 17.083636 \r\nL 347.933859 17.51245 \r\nL 348.057172 20.057979 \r\nL 348.256779 28.862629 \r\nL 348.554009 51.537437 \r\nL 350.155724 210.452534 \r\nL 350.328239 214.42284 \r\nL 350.446203 214.561104 \r\nL 350.55447 212.837268 \r\nL 350.730135 206.364065 \r\nL 351.010827 187.370469 \r\nL 351.605287 122.998101 \r\nL 352.199747 54.959467 \r\nL 352.658806 22.660601 \r\nL 352.913126 17.108363 \r\nL 353.000648 17.447438 \r\nL 353.120245 19.777052 \r\nL 353.31396 27.97773 \r\nL 353.61119 50.105406 \r\nL 355.219308 210.11961 \r\nL 355.392708 214.334235 \r\nL 355.499038 214.685618 \r\nL 355.594824 213.537117 \r\nL 355.750469 208.758927 \r\nL 356.000628 193.996354 \r\nL 356.595088 133.069048 \r\nL 357.486779 36.68521 \r\nL 357.878043 18.284602 \r\nL 357.970941 17.166353 \r\nL 358.067828 17.391519 \r\nL 358.183951 19.526985 \r\nL 358.372146 27.179543 \r\nL 358.669376 48.788025 \r\nL 360.286585 209.915417 \r\nL 360.460529 214.276723 \r\nL 360.552511 214.749042 \r\nL 360.636204 214.065248 \r\nL 360.772341 210.709777 \r\nL 360.992161 199.686908 \r\nL 361.586621 142.755239 \r\nL 362.478312 43.017309 \r\nL 362.93258 18.655508 \r\nL 363.132318 17.317069 \r\nL 363.24328 19.177791 \r\nL 363.423249 26.045939 \r\nL 363.710415 45.993319 \r\nL 364.304875 111.016753 \r\nL 364.899336 178.58143 \r\nL 365.439599 212.485579 \r\nL 365.606038 214.756317 \r\nL 365.686591 214.351376 \r\nL 365.808769 211.872682 \r\nL 366.006578 203.25438 \r\nL 366.303808 180.745734 \r\nL 367.906808 21.515485 \r\nL 368.079654 17.452938 \r\nL 368.187187 17.190914 \r\nL 368.286948 18.512093 \r\nL 368.448981 23.805569 \r\nL 368.708955 39.878779 \r\nL 369.303415 101.979055 \r\nL 370.195105 197.055006 \r\nL 370.568865 213.724061 \r\nL 370.665275 214.727994 \r\nL 370.754302 214.405261 \r\nL 370.873341 212.107327 \r\nL 371.066171 203.995757 \r\nL 371.363401 181.950962 \r\nL 372.972979 21.756248 \r\nL 373.146466 17.518155 \r\nL 373.241641 17.111828 \r\nL 373.329927 17.961348 \r\nL 373.473486 21.831104 \r\nL 373.704909 34.227373 \r\nL 374.299369 92.751296 \r\nL 374.490412 115.921701 \r\nL 374.490412 115.921701 \r\n\" style=\"fill:none;stroke:#1f77b4;stroke-linecap:square;stroke-width:1.5;\"/>\r\n   </g>\r\n   <g id=\"patch_3\">\r\n    <path d=\"M 54.908594 224.64 \r\nL 54.908594 7.2 \r\n\" style=\"fill:none;stroke:#000000;stroke-linecap:square;stroke-linejoin:miter;stroke-width:0.8;\"/>\r\n   </g>\r\n   <g id=\"patch_4\">\r\n    <path d=\"M 389.708594 224.64 \r\nL 389.708594 7.2 \r\n\" style=\"fill:none;stroke:#000000;stroke-linecap:square;stroke-linejoin:miter;stroke-width:0.8;\"/>\r\n   </g>\r\n   <g id=\"patch_5\">\r\n    <path d=\"M 54.908594 224.64 \r\nL 389.708594 224.64 \r\n\" style=\"fill:none;stroke:#000000;stroke-linecap:square;stroke-linejoin:miter;stroke-width:0.8;\"/>\r\n   </g>\r\n   <g id=\"patch_6\">\r\n    <path d=\"M 54.908594 7.2 \r\nL 389.708594 7.2 \r\n\" style=\"fill:none;stroke:#000000;stroke-linecap:square;stroke-linejoin:miter;stroke-width:0.8;\"/>\r\n   </g>\r\n  </g>\r\n </g>\r\n <defs>\r\n  <clipPath id=\"pa39e4177b7\">\r\n   <rect height=\"217.44\" width=\"334.8\" x=\"54.908594\" y=\"7.2\"/>\r\n  </clipPath>\r\n </defs>\r\n</svg>\r\n",
            "image/png": "[encoded data removed]"
          },
          "metadata": {
            "needs_background": "light"
          }
        }
      ],
      "source": [
        "import ltspice\n",
        "l = ltspice.Ltspice(\"corriente alterna.raw\")\n",
        "l.parse()\n",
        "tiempo = l.get_time()\n",
        "voltaje = l.get_data('V(1)')\n",
        "corriente = l.get_data('I(V1)')\n",
        "# Podemos pintar la corrente en función del tiempo\n",
        "plt.plot(tiempo, corriente)\n",
        "# O el voltaje\n",
        "#plt.plot(tiempo, voltaje)"
      ]
    },
    {
      "source": [
        "Realizamos el mismo circuito en Ahkab. Revisamos la [documentación](https://ahkab.readthedocs.io/en/latest/help/Netlist-Syntax.html#id24) para saber cómo expresar el circuito en corriente alterna, que sería de la siguiente manera: type=sin <VO> <VA> <FREQ> <TD> <THETA> <PHASE>. \n",
        "En el ejemplo tenemos 120 V y 60 Hz."
      ],
      "cell_type": "markdown",
      "metadata": {}
    },
    {
      "cell_type": "code",
      "execution_count": 65,
      "metadata": {},
      "outputs": [
        {
          "output_type": "stream",
          "name": "stdout",
          "text": [
            "Overwriting corrientealterna2.sp\n"
          ]
        }
      ],
      "source": [
        "%%writefile \"corrientealterna2.sp\"\n",
        "* Circuito en corriente alterna\n",
        "r1 0 1 10k\n",
        "v1 1 0 type=vac type=sin VO=0 VA=120 FREQ=60 TD=0 THETA=0\n",
        ".tran tstep=0.01 tstart=0 tstop=1 uic=0\n",
        ".end\n"
      ]
    },
    {
      "cell_type": "code",
      "execution_count": 66,
      "metadata": {},
      "outputs": [
        {
          "output_type": "stream",
          "name": "stdout",
          "text": [
            "470037e-03\n",
            "8.677897781698122870e-01\t4.930384607492327831e+01\t-4.930384656835611404e-03\n",
            "8.682088049835025023e-01\t6.590057069891035724e+01\t-6.590057135831384194e-03\n",
            "8.686869442843800915e-01\t8.281195647905470025e+01\t-8.281195730748387024e-03\n",
            "8.692253508183543920e-01\t9.861861211528935200e+01\t-9.861861310175303388e-03\n",
            "8.698289403528944863e-01\t1.114998665593664100e+02\t-1.114998676745143462e-02\n",
            "8.705108135440545736e-01\t1.191140868935409429e+02\t-1.191140880847558689e-02\n",
            "8.713043290648673223e-01\t1.181132859013044794e+02\t-1.181132870823380435e-02\n",
            "8.723284534486572817e-01\t1.014374690832756727e+02\t-1.014374700974240116e-02\n",
            "8.731288956781806387e-01\t7.779967064458878667e+01\t-7.779967142222124314e-03\n",
            "8.737569911199768447e-01\t5.419687171979800411e+01\t-5.419687226137941127e-03\n",
            "8.742678273240471754e-01\t3.270371603466893617e+01\t-3.270371636125192234e-03\n",
            "8.746824431535918931e-01\t1.433164256554300842e+01\t-1.433164270842738871e-03\n",
            "8.749915740032416789e-01\t3.811824719790732341e-01\t-3.811824753203820501e-05\n",
            "8.750832227672339370e-01\t-3.764291661735434058e+00\t3.764291699812478379e-04\n",
            "8.751731232205197664e-01\t-7.826350981714542243e+00\t7.826351060447603791e-04\n",
            "8.753529241270914252e-01\t-1.591884800010264911e+01\t1.591884815972173951e-03\n",
            "8.756103733260029998e-01\t-2.736960858850313016e+01\t2.736960886265816465e-03\n",
            "8.759350647418171487e-01\t-4.143067024239377361e+01\t4.143067065710764364e-03\n",
            "8.763228862690908283e-01\t-5.739583875244150590e+01\t5.739583932681604182e-03\n",
            "8.767710605281680003e-01\t-7.429934517305665054e+01\t7.429934591638828224e-03\n",
            "8.772787279626078627e-01\t-9.086748836228022697e+01\t9.086748927126965872e-03\n",
            "8.778483739564865163e-01\t-1.054829050908850547e+02\t1.054829061459127207e-02\n",
            "8.784882419258663866e-01\t-1.160965540776600449e+02\t1.160965552387587321e-02\n",
            "8.792187932515964643e-01\t-1.199768304255141800e+02\t1.199768316252555755e-02\n",
            "8.800980138086632598e-01\t-1.126789985989317273e+02\t1.126789997255826098e-02\n",
            "8.810986552465704946e-01\t-8.955344291947740487e+01\t8.955344381468870879e-03\n",
            "8.818047415760674745e-01\t-6.538756396393046089e+01\t6.538756461744472254e-03\n",
            "8.823682277922101358e-01\t-4.270343231682827678e+01\t4.270343274341884508e-03\n",
            "8.828285887399686116e-01\t-2.269656014453522630e+01\t2.269656037107540235e-03\n",
            "8.831914643157388056e-01\t-6.414943840574895084e+00\t6.414943904252390621e-04\n",
            "8.834267916243625507e-01\t4.227078797979227254e+00\t-4.227078840682517956e-04\n",
            "8.836305133246584731e-01\t1.341599940048416251e+01\t-1.341599953511375936e-03\n",
            "8.838335456299259985e-01\t2.249519163533670962e+01\t-2.249519186071338196e-03\n",
            "8.841339420193585763e-01\t3.567128229384240257e+01\t-3.567128265100771769e-03\n",
            "8.844972715228678339e-01\t5.098180210074050223e+01\t-5.098180261094881725e-03\n",
            "8.849225595895816587e-01\t6.767032975385441773e+01\t-6.767033043095223126e-03\n",
            "8.854068939593721099e-01\t8.453962181479595017e+01\t-8.453962266049426175e-03\n",
            "8.859517674660898345e-01\t1.001334984675915365e+02\t-1.001334994691968280e-02\n",
            "8.865627075131050638e-01\t1.125862091994933252e+02\t-1.125862103254927742e-02\n",
            "8.872540950026384099e-01\t1.194847272843522887e+02\t-1.194847284792617710e-02\n",
            "8.880631187713603492e-01\t1.173060976973284966e+02\t-1.173060988702734168e-02\n",
            "8.891324901590432761e-01\t9.798273624675074700e+01\t-9.798273722633277574e-03\n",
            "8.899067947234386988e-01\t7.390121649597497822e+01\t-7.390121723461046642e-03\n",
            "8.905143194103735116e-01\t5.050663104734325515e+01\t-5.050663155201607149e-03\n",
            "8.910089722166827375e-01\t2.944947486590127639e+01\t-2.944947515993811757e-03\n",
            "8.914076914702958598e-01\t1.169715853292178664e+01\t-1.169715864946081112e-03\n",
            "8.916960660271872063e-01\t-1.329968507287404789e+00\t1.329968521058015802e-04\n",
            "8.918348803002267289e-01\t-7.604706095991556225e+00\t7.604706172471739070e-04\n",
            "8.919717045641583075e-01\t-1.376919469610952440e+01\t1.376919483426943111e-03\n",
            "8.922186725022229759e-01\t-2.479230423517319082e+01\t2.479230448352094836e-03\n",
            "8.925286036905645259e-01\t-3.831052712356888890e+01\t3.831052750712178340e-03\n",
            "8.929040277658005786e-01\t-5.396879232320533504e+01\t5.396879286327979815e-03\n",
            "8.933397413764647688e-01\t-7.076855262647524114e+01\t7.076855333454536504e-03\n",
            "8.938349926439109749e-01\t-8.752760400329916024e+01\t8.752760487886739743e-03\n",
            "8.943913237204973443e-01\t-1.027007282234809651e+02\t1.027007292507415258e-02\n",
            "8.950154912390272388e-01\t-1.143413958261033372e+02\t1.143413969696370144e-02\n",
            "8.957244159259439842e-01\t-1.198988543851154418e+02\t1.198988555841410536e-02\n",
            "8.965635017627131553e-01\t-1.154823188163896361e+02\t1.154823199710705052e-02\n",
            "8.977383604363212699e-01\t-9.036068199033807957e+01\t9.036068289365957809e-03\n",
            "8.984585906278103051e-01\t-6.587300927958511920e+01\t6.587300993792053784e-03\n",
            "8.990270349969367025e-01\t-4.303552300134118269e+01\t4.303552343128757597e-03\n",
            "8.994889565654345942e-01\t-2.297630550202501354e+01\t2.297630573132838656e-03\n",
            "8.998534118746670529e-01\t-6.628115716439046956e+00\t6.628115782282752860e-04\n",
            "9.000913431184899283e-01\t4.131448698476241077e+00\t-4.131448740257703247e-04\n",
            "9.002935338917058550e-01\t1.325207520643380477e+01\t-1.325207533938976053e-03\n",
            "9.004949500609612523e-01\t2.226130982330755614e+01\t-2.226131004638004073e-03\n",
            "9.007940539245230527e-01\t3.538804750365612506e+01\t-3.538804785795495508e-03\n",
            "9.011561336229929609e-01\t5.066195989520456067e+01\t-5.066196040224947746e-03\n",
            "9.015802344823951042e-01\t6.733401197946245986e+01\t-6.733401265316348722e-03\n",
            "9.020633918082769931e-01\t8.421251734753478502e+01\t-8.421251818999771904e-03\n",
            "9.026070329606411535e-01\t9.984833493951141747e+01\t-9.984833593823223483e-03\n",
            "9.032165662376376858e-01\t1.123843937458716624e+02\t-1.123843948698894854e-02\n",
            "9.039061200857372302e-01\t1.194215909927846582e+02\t-1.194215921870308075e-02\n",
            "9.047121138700326970e-01\t1.174719357477822115e+02\t-1.174719369224229600e-02\n",
            "9.057722372657088794e-01\t9.868073760739625300e+01\t-9.868073859392773733e-03\n",
            "9.065518821433795615e-01\t7.466789727757969786e+01\t-7.466789802391857536e-03\n",
            "9.071633586155268825e-01\t5.122888503910112945e+01\t-5.122888555096343811e-03\n",
            "9.076611707882377145e-01\t3.008353882041243210e+01\t-3.008353912082482959e-03\n",
            "9.080630438790717740e-01\t1.220645806573413239e+01\t-1.220645818733201698e-03\n",
            "9.083556416666437316e-01\t-1.009193326390204426e+00\t1.009193336918773668e-04\n",
            "9.084822829556158386e-01\t-6.734781593972344993e+00\t6.734781661787746579e-04\n",
            "9.086069423700986469e-01\t-1.235584389114878689e+01\t1.235584401514146658e-03\n",
            "9.088438463596475447e-01\t-2.295275388139578610e+01\t2.295275411138370143e-03\n",
            "9.091432914661767839e-01\t-3.607489960362226356e+01\t3.607489996478731743e-03\n",
            "9.095091260790924004e-01\t-5.146677341267237438e+01\t5.146677392776552278e-03\n",
            "9.099356409432141080e-01\t-6.815821983229710668e+01\t6.815822051423659628e-03\n",
            "9.104217604475307590e-01\t-8.501560091010674114e+01\t8.501560176059901053e-03\n",
            "9.109684379884211980e-01\t-1.005471264523743287e+02\t1.005471274580775447e-02\n",
            "9.115814483893278641e-01\t-1.128767786198416445e+02\t1.128767797487797465e-02\n",
            "9.122755308393779572e-01\t-1.195705944323684804e+02\t1.195705956280969894e-02\n",
            "9.130890493751364634e-01\t-1.170533304257228622e+02\t1.170533315961717023e-02\n",
            "9.141725447246537017e-01\t-9.692549895289047868e+01\t9.692549992185838653e-03\n",
            "9.149388383555910886e-01\t-7.275374232938021635e+01\t7.275374305657385070e-03\n",
            "9.155405296299937712e-01\t-4.942859955439502784e+01\t4.942860004824948909e-03\n",
            "9.160304708536812779e-01\t-2.850568505888161397e+01\t2.850568534351589824e-03\n",
            "9.164244388274264130e-01\t-1.094290578621407484e+01\t1.094290589517411599e-03\n",
            "9.167063417245924217e-01\t1.794790412987594230e+00\t-1.794790431370175791e-04\n",
            "9.168596989034003553e-01\t8.724867210465783174e+00\t-8.724867298183559307e-04\n",
            "9.170111253121581152e-01\t1.553918289648671269e+01\t-1.553918305230945389e-03\n",
            "9.172700084927178921e-01\t2.705979952226212504e+01\t-2.705979979331923132e-03\n",
            "9.175921618101998689e-01\t4.102410380002834245e+01\t-4.102410421067720532e-03\n",
            "9.179788483812281186e-01\t5.697009443612491708e+01\t-5.697009500624278418e-03\n",
            "9.184254175314924273e-01\t7.386125204773883013e+01\t-7.386125278669091604e-03\n",
            "9.189315401923210391e-01\t9.045688291450882446e+01\t-9.045688381939387748e-03\n",
            "9.194995091085710337e-01\t1.051461013056453169e+02\t-1.051461023573073590e-02\n",
            "9.201373870029651014e-01\t1.158934954479058916e+02\t-1.158934966069767938e-02\n",
            "9.208651437098371861e-01\t1.199913712894294662e+02\t-1.199913724893198440e-02\n",
            "9.217389634593573522e-01\t1.130738400405951722e+02\t-1.130738411711985740e-02\n",
            "9.227557827083481268e-01\t8.984011305736972020e+01\t-8.984011395544885120e-03\n",
            "9.234646236354165927e-01\t6.564471031020333669e+01\t-6.564471096628977063e-03\n",
            "9.240295660958857127e-01\t4.292861602294375700e+01\t-4.292861645178639926e-03\n",
            "9.244909307775124319e-01\t2.288864027765146503e+01\t-2.288864050611265875e-03\n",
            "9.248548951538912988e-01\t6.561115148896573324e+00\t-6.561115214035732239e-04\n",
            "9.250920141495617699e-01\t-4.161787299640578475e+00\t4.161787341690889792e-04\n",
            "9.252946932807835090e-01\t-1.330420265575234318e+01\t1.330420278926408573e-03\n",
            "9.254966242990207981e-01\t-2.233573143713949349e+01\t2.233573166092160840e-03\n",
            "9.257961400132156404e-01\t-3.547821204925016758e+01\t3.547821240448507506e-03\n",
            "9.261586182311961624e-01\t-5.076383038130445158e+01\t5.076383088933336674e-03\n",
            "9.265830975313430473e-01\t-6.744118225102697295e+01\t6.744118292583396214e-03\n",
            "9.270666299336279836e-01\t-8.431681396374187898e+01\t8.431681480721287328e-03\n",
            "9.276106635989832538e-01\t-9.993934406658452474e+01\t9.993934506624944578e-03\n",
            "9.282206446284507750e-01\t-1.124489417284670623e+02\t1.124489428530951567e-02\n",
            "9.289107814296759802e-01\t-1.194420861594759771e+02\t1.194420873539608213e-02\n",
            "9.297177363257895788e-01\t-1.174197372308021414e+02\t1.174197384048854265e-02\n",
            "9.307807702863508670e-01\t-9.846058040341578987e+01\t9.846058138777898441e-03\n",
            "9.315587279366189799e-01\t-7.442520847899423586e+01\t7.442520922287101937e-03\n",
            "9.321689486782646084e-01\t-5.100008557206769666e+01\t5.100008608167609647e-03\n",
            "9.326657597024490265e-01\t-2.988252577329584625e+01\t2.988252607166343514e-03\n",
            "9.330666361518882290e-01\t-1.204477926750637984e+01\t1.204477938752190587e-03\n",
            "9.333579053856962959e-01\t1.111597562169045705e+00\t-1.111597573756137330e-04\n",
            "9.334886830031127181e-01\t7.023836694032895345e+00\t-7.023836764704313208e-04\n",
            "9.336174706520632416e-01\t1.282950207881757265e+01\t-1.282950220758112894e-03\n",
            "9.338578077487157403e-01\t2.357237018423894881e+01\t-2.357237042038809807e-03\n",
            "9.341608475407892076e-01\t3.683158366662124195e+01\t-3.683158403538671407e-03\n",
            "9.345299616728330871e-01\t5.231666308360961182e+01\t-5.231666360716565392e-03\n",
            "9.349596182884949425e-01\t6.904818119223141082e+01\t-6.904818188310265017e-03\n",
            "9.354488487316756640e-01\t8.587600791456910088e+01\t-8.587600877362768295e-03\n",
            "9.359988029739140236e-01\t1.012903245533550205e+02\t-1.012903255665203311e-02\n",
            "9.366155794575968807e-01\t1.133914817766951444e+02\t-1.133914829107403148e-02\n",
            "9.373146260668570040e-01\t1.197070900945862917e+02\t-1.197070912917075347e-02\n",
            "9.381365343018962522e-01\t1.165614760210540339e+02\t-1.165614771865418862e-02\n",
            "9.392477907537001292e-01\t9.487982494248711873e+01\t-9.487982589102205225e-03\n",
            "9.399989978704464955e-01\t7.057090224687188140e+01\t-7.057090295219703088e-03\n",
            "9.405898426560781456e-01\t4.738734802096358578e+01\t-4.738734849443618398e-03\n",
            "9.410708652597828960e-01\t2.672735616341932641e+01\t-2.672735643023476781e-03\n",
            "9.414556776742208921e-01\t9.534855587719267334e+00\t-9.534855682632391001e-04\n",
            "9.417247004029015711e-01\t-2.625174938035155670e+00\t2.625174964755487496e-04\n",
            "9.418987006304945231e-01\t-1.048358750657865812e+01\t1.048358761184921403e-03\n",
            "9.420710214237980606e-01\t-1.822181522698187806e+01\t1.822181540966346779e-03\n",
            "9.423467780978370678e-01\t-3.043151885654643252e+01\t3.043151916128372832e-03\n",
            "9.426859174065826963e-01\t-4.498350238380072597e+01\t4.498350283407182189e-03\n",
            "9.430884042013835122e-01\t-6.128231294693058828e+01\t6.128231356012755343e-03\n",
            "9.435503152724113995e-01\t-7.823086268704848578e+01\t7.823086346971711708e-03\n",
            "9.440719942338000603e-01\t-9.450333393256939019e+01\t9.450333487786658285e-03\n",
            "9.446569162078118920e-01\t-1.083907017689902261e+02\t1.083907028531082631e-02\n",
            "9.453153240455380857e-01\t-1.177190910601822793e+02\t1.177190922374455641e-02\n",
            "9.460726590587738016e-01\t-1.195119125643121691e+02\t1.195119137594062922e-02\n",
            "9.470074590411714510e-01\t-1.084351426318086595e+02\t1.084351437159481249e-02\n",
            "9.478840090274611718e-01\t-8.589103387687489999e+01\t8.589103473548282894e-03\n",
            "9.485607402803137855e-01\t-6.196249560327156303e+01\t6.196249622249174957e-03\n",
            "9.491067366537375705e-01\t-3.965083196731473691e+01\t3.965083236341054689e-03\n",
            "9.495534526743665271e-01\t-2.010604318476840646e+01\t2.010604338536631057e-03\n",
            "9.499011225583926521e-01\t-4.472074254592371290e+00\t4.472074298876285627e-04\n",
            "9.501095883297765443e-01\t4.956249045986918844e+00\t-4.956249096017124834e-04\n",
            "9.503157333467205925e-01\t1.424973644146110630e+01\t-1.424973658439239932e-03\n",
            "9.505303553324970789e-01\t2.383317496180447037e+01\t-2.383317520059534313e-03\n",
            "9.508376877210976685e-01\t3.726933586708788226e+01\t-3.726933624019649303e-03\n",
            "9.512080154292051892e-01\t5.277978489075356094e+01\t-5.277978541897382012e-03\n",
            "9.516398831226965394e-01\t6.955039867876278947e+01\t-6.955039937462102403e-03\n",
            "9.521308067631205629e-01\t8.635775967112768114e+01\t-8.635776053503576091e-03\n",
            "9.526826051109068549e-01\t1.017038713332579078e+02\t-1.017038723505223757e-02\n",
            "9.533015052364888220e-01\t1.136736330492130662e+02\t-1.136736341861104699e-02\n",
            "9.540033853456433288e-01\t1.197727262057268689e+02\t-1.197727274034668561e-02\n",
            "9.548301495969953034e-01\t1.162657141233949147e+02\t-1.162657152859544914e-02\n",
            "9.559583911922737709e-01\t9.365001230017767853e+01\t-9.365001323637446237e-03\n",
            "9.567008413399301636e-01\t6.927764997403257041e+01\t-6.927765066645587277e-03\n",
            "9.572854012495953802e-01\t4.618374868440418624e+01\t-4.618374914580474465e-03\n",
            "9.577611589459499308e-01\t2.568429763760165585e+01\t-2.568429789401980093e-03\n",
            "9.581404642904289837e-01\t8.717504018689234968e+00\t-8.717504105394483773e-04\n",
            "9.584014458769840594e-01\t-3.081000278569559381e+00\t3.081000309813933485e-04\n",
            "9.585849356846307678e-01\t-1.136516249107306642e+01\t1.136516260519327640e-03\n",
            "9.587669525539467275e-01\t-1.952922075203541397e+01\t1.952922094775610485e-03\n",
            "9.590505029714744278e-01\t-3.205016660841995702e+01\t3.205016692937629353e-03\n",
            "9.593973717651362865e-01\t-4.685540275816834566e+01\t4.685540322712134984e-03\n",
            "9.598071050635830215e-01\t-6.329426052329326779e+01\t6.329426115663931533e-03\n",
            "9.602761030180939628e-01\t-8.023935288319859183e+01\t8.023935368591129241e-03\n",
            "9.608050504856266993e-01\t-9.632447223865726471e+01\t9.632447320219101813e-03\n",
            "9.613980250398508343e-01\t-1.097929125636892422e+02\t1.097929136617836234e-02\n",
            "9.620664377419393398e-01\t-1.184006285429964720e+02\t1.184006297270950685e-02\n",
            "9.628388625112214161e-01\t-1.190221554226306466e+02\t1.190221566127759763e-02\n",
            "9.638085810652572416e-01\t-1.056916670526691178e+02\t1.056916681093870818e-02\n",
            "9.646447754974085687e-01\t-8.286476894004491101e+01\t8.286476976834534353e-03\n",
            "9.653018878423026417e-01\t-5.905294886707221735e+01\t5.905294945722422417e-03\n",
            "9.658343764612080662e-01\t-3.703715610823634563e+01\t3.703715647815848493e-03\n",
            "9.662692410711744007e-01\t-1.791192056178777392e+01\t1.791192074047680358e-03\n",
            "9.666031458958604938e-01\t-2.873337335130449421e+00\t2.873337363393228166e-04\n",
            "9.667829045186349113e-01\t5.256793769567488006e+00\t-5.256793822569391346e-04\n",
            "9.669603499628557364e-01\t1.325879274394721108e+01\t-1.325879287700308315e-03\n",
            "9.671789695263928177e-01\t2.303222384505799525e+01\t-2.303222407580639113e-03\n",
            "9.674806230006319785e-01\t3.624736615449751298e+01\t-3.624736651742119838e-03\n",
            "9.678467518950133464e-01\t5.164212640615998140e+01\t-5.164212692297217439e-03\n",
            "9.682742709924528901e-01\t6.835529854868082111e+01\t-6.835529923262475063e-03\n",
            "9.687610378311464210e-01\t8.520516459906392015e+01\t-8.520516545141694487e-03\n",
            "9.693084319067036825e-01\t1.007112790693467161e+02\t-1.007112800767246893e-02\n",
            "9.699222606898826315e-01\t1.129911647488715545e+02\t-1.129911658789181303e-02\n",
            "9.706174275275190055e-01\t1.196027148363718311e+02\t-1.196027160324542558e-02\n",
            "9.714327629685050036e-01\t1.169490088214095778e+02\t-1.169490099907793089e-02\n",
            "9.725221086660591485e-01\t9.649078744495898263e+01\t-9.649078840961161987e-03\n",
            "9.732851461865285048e-01\t7.228609975522535080e+01\t-7.228610047770715231e-03\n",
            "9.738844869534821758e-01\t4.899025228539399279e+01\t-4.899025277489832755e-03\n",
            "9.743725131287401808e-01\t2.812282626262005536e+01\t-2.812282654339133374e-03\n",
            "9.747645332175767230e-01\t1.063828196440721285e+01\t-1.063828207035499591e-03\n",
            "9.750437427789115929e-01\t-1.978787008953534876e+00\t1.978787029210139217e-04\n",
            "9.752021545128489732e-01\t-9.136404620087141382e+00\t9.136404711886127183e-04\n",
            "9.753586766294809474e-01\t-1.617674746556280496e+01\t1.617674762779493800e-03\n",
            "9.756216891350451004e-01\t-2.786778031066754835e+01\t2.786778058976970614e-03\n",
            "9.759480326728864341e-01\t-4.198075412592727673e+01\t4.198075454617537956e-03\n",
            "9.763386010920180880e-01\t-5.801915746584153766e+01\t5.801915804641383408e-03\n",
            "9.767889265080280659e-01\t-7.493233514284523267e+01\t7.493233589253901934e-03\n",
            "9.772988363585249916e-01\t-9.145903026358128329e+01\t9.145903117844939034e-03\n",
            "9.778708988016956427e-01\t-1.059649320727792343e+02\t1.059649331326579028e-02\n",
            "9.785136710098016888e-01\t-1.163822402215275815e+02\t1.163822413854447707e-02\n",
            "9.792483215212282044e-01\t-1.199431483319045384e+02\t1.199431495313381738e-02\n",
            "9.801355886500752179e-01\t-1.120830685377128617e+02\t1.120830696583642073e-02\n",
            "9.811137617743312944e-01\t-8.909709696825784420e+01\t8.909709785893818804e-03\n",
            "9.818156745024532173e-01\t-6.497229104844171843e+01\t6.497229169776786578e-03\n",
            "9.823768804461260329e-01\t-4.233739295933516900e+01\t4.233739338229920886e-03\n",
            "9.828356105103946971e-01\t-2.238455712908657702e+01\t2.238455735247212378e-03\n",
            "9.831967068529363640e-01\t-6.178103793985488146e+00\t6.178103855328926069e-04\n",
            "9.834290738145206046e-01\t4.330256996379165280e+00\t-4.330257040148597237e-04\n",
            "9.836344199055624404e-01\t1.359160637843527297e+01\t-1.359160651478649772e-03\n",
            "9.838391745212281547e-01\t2.274527155882065799e+01\t-2.274527178673232605e-03\n",
            "9.841409473553459630e-01\t3.597374581522510084e+01\t-3.597374617538032400e-03\n",
            "9.845056048573023189e-01\t5.132282668911136625e+01\t-5.132282720276369961e-03\n",
            "9.849321556179998494e-01\t6.802839053452440510e+01\t-6.802839121516752151e-03\n",
            "9.854177431442666668e-01\t8.488724193467811574e+01\t-8.488724278388568717e-03\n",
            "9.859639306151041227e-01\t1.004356808154491745e+02\t-1.004356818200401701e-02\n",
            "9.865763737856593218e-01\t1.127986546903286751e+02\t-1.127986558184847395e-02\n",
            "9.872697273309710697e-01\t1.195481175034007890e+02\t-1.195481186989071250e-02\n",
            "9.880820224861901480e-01\t1.171229333161480355e+02\t-1.171229344872924856e-02\n",
            "9.891616227202152389e-01\t9.721598619224410243e+01\t-9.721598716412005806e-03\n",
            "9.899301054162297220e-01\t7.306752613639774552e+01\t-7.306752686672845012e-03\n",
            "9.905333824506810103e-01\t4.972304744022441270e+01\t-4.972304793702552773e-03\n",
            "9.910246102317832317e-01\t2.876315451892720176e+01\t-2.876315480613474748e-03\n",
            "9.914198813703105628e-01\t1.114820499624158856e+01\t-1.114820510725635701e-03\n",
            "9.917035728574944420e-01\t-1.669542872598227534e+00\t1.669542889730014261e-04\n",
            "9.918532871971257325e-01\t-8.435550936335854288e+00\t8.435551021158861238e-04\n",
            "9.920010480766510153e-01\t-1.508702685062495696e+01\t1.508702700192803047e-03\n",
            "9.922569529696841917e-01\t-2.648406836540510412e+01\t2.648406863070371098e-03\n",
            "9.925760699170053103e-01\t-4.033923515313746577e+01\t4.033923555694024672e-03\n",
            "9.929599501109175330e-01\t-5.621620703946838660e+01\t5.621620760204722005e-03\n",
            "9.934038085433837262e-01\t-7.308836061597307321e+01\t7.308836134720017239e-03\n",
            "9.939072064645466664e-01\t-8.972973522037726468e+01\t8.972973611799229740e-03\n",
            "9.944722430682400027e-01\t-1.045461202787757600e+02\t1.045461213244437346e-02\n",
            "9.951066384719411406e-01\t-1.155249311951580040e+02\t1.155249323505466545e-02\n",
            "9.958295462888937521e-01\t-1.199998777034468276e+02\t1.199998789034300434e-02\n",
            "9.966941537635495285e-01\t-1.137364028631176751e+02\t1.137364040003523667e-02\n",
            "9.977410496244214499e-01\t-9.028058421305958348e+01\t9.028058511554666946e-03\n",
            "9.984544309932635864e-01\t-6.603021832635592148e+01\t6.603021898629699016e-03\n",
            "9.990216626006357403e-01\t-4.326230895274600385e+01\t4.326230938492743074e-03\n",
            "9.994845170899054887e-01\t-2.317339460784959115e+01\t2.317339483915715516e-03\n",
            "9.998500865262706094e-01\t-6.778316034878892005e+00\t6.778316102191469638e-04\n",
            "1.000000000000000000e+00\t-5.174097261750887355e-12\t-4.285412763581700202e-14\n"
          ]
        }
      ],
      "source": [
        "!ahkab \"corrientealterna2.sp\""
      ]
    },
    {
      "cell_type": "code",
      "execution_count": 21,
      "metadata": {},
      "outputs": [
        {
          "output_type": "stream",
          "name": "stdout",
          "text": [
            "Overwriting circuito sencillo3.sp\n"
          ]
        }
      ],
      "source": [
        "%%writefile \"circuito sencillo3.sp\"\n",
        "* Este es un circuito sencillo\n",
        "r1 1 0 10\n",
        "v1 0 1 type=vdc vdc=9\n",
        ".op\n",
        ".dc v1 start=0 stop=9 step=1\n",
        ".tran tstep=0.01 tstart=6.5 tstop=7.5 uic=0\n",
        ".end"
      ]
    },
    {
      "cell_type": "code",
      "execution_count": 22,
      "metadata": {},
      "outputs": [
        {
          "output_type": "stream",
          "name": "stdout",
          "text": [
            "#V1\tV1\tI(V1)\n",
            "0.000000000000000000e+00\t0.000000000000000000e+00\t0.000000000000000000e+00\n",
            "1.000000000000000000e+00\t-1.000000000000000000e+00\t-1.000000000000000056e-01\n",
            "2.000000000000000000e+00\t-2.000000000000000000e+00\t-2.000000000000000111e-01\n",
            "3.000000000000000000e+00\t-3.000000000000000000e+00\t-3.000000000000000444e-01\n",
            "4.000000000000000000e+00\t-4.000000000000000000e+00\t-4.000000000000000222e-01W: Locale appears not set! please export LANG=\"en_US.UTF-8\" or equivalent, \n",
            "W: or ahkab's unicode support is broken.\n",
            "\n",
            "5.000000000000000000e+00\t-5.000000000000000000e+00\t-5.000000000000000000e-01\n",
            "6.000000000000000000e+00\t-6.000000000000000000e+00\t-6.000000000000000888e-01\n",
            "7.000000000000000000e+00\t-7.000000000000000000e+00\t-7.000000000000000666e-01\n",
            "8.000000000000000000e+00\t-8.000000000000000000e+00\t-8.000000000000000444e-01\n",
            "9.000000000000000000e+00\t-9.000000000000000000e+00\t-9.000000000000000222e-01\n",
            "#T\tV1\tI(V1)\n",
            "6.500100010000999795e+00\t-9.000000000000000000e+00\t-9.000000000090901953e-01\n",
            "6.500200020001999590e+00\t-9.000000000000000000e+00\t-9.000000000089101171e-01\n",
            "6.500220846857308388e+00\t-9.000000000000000000e+00\t-9.000000000090901953e-01\n",
            "6.500241576915259500e+00\t-9.000000000000000000e+00\t-9.000000000089101171e-01\n",
            "6.500283037031161726e+00\t-9.000000000000000000e+00\t-9.000000000090900842e-01\n",
            "6.500365957262965289e+00\t-9.000000000000000000e+00\t-9.000000000089101171e-01\n",
            "6.500531797726572414e+00\t-9.000000000000000000e+00\t-9.000000000090900842e-01\n",
            "6.500863478653787553e+00\t-9.000000000000000000e+00\t-9.000000000089100061e-01\n",
            "6.501526840508216942e+00\t-9.000000000000000000e+00\t-9.000000000090900842e-01\n",
            "6.502853564217075721e+00\t-9.000000000000000000e+00\t-9.000000000089102281e-01\n",
            "6.505507011634793280e+00\t-9.000000000000000000e+00\t-9.000000000090899732e-01\n",
            "6.510813906470229284e+00\t-9.000000000000000000e+00\t-9.000000000089101171e-01\n",
            "6.520813906470229071e+00\t-9.000000000000000000e+00\t-9.000000000090899732e-01\n",
            "6.530813906470228858e+00\t-9.000000000000000000e+00\t-9.000000000089101171e-01\n",
            "6.540813906470228645e+00\t-9.000000000000000000e+00\t-9.000000000090900842e-01\n",
            "6.550813906470228432e+00\t-9.000000000000000000e+00\t-9.000000000089101171e-01\n",
            "6.560813906470228218e+00\t-9.000000000000000000e+00\t-9.000000000090900842e-01\n",
            "6.570813906470228005e+00\t-9.000000000000000000e+00\t-9.000000000089101171e-01\n",
            "6.580813906470227792e+00\t-9.000000000000000000e+00\t-9.000000000090900842e-01\n",
            "6.590813906470227579e+00\t-9.000000000000000000e+00\t-9.000000000089101171e-01\n",
            "6.600813906470227366e+00\t-9.000000000000000000e+00\t-9.000000000090900842e-01\n",
            "6.610813906470227153e+00\t-9.000000000000000000e+00\t-9.000000000089101171e-01\n",
            "6.620813906470226939e+00\t-9.000000000000000000e+00\t-9.000000000090900842e-01\n",
            "6.630813906470226726e+00\t-9.000000000000000000e+00\t-9.000000000089101171e-01\n",
            "6.640813906470226513e+00\t-9.000000000000000000e+00\t-9.000000000090900842e-01\n",
            "6.650813906470226300e+00\t-9.000000000000000000e+00\t-9.000000000089101171e-01\n",
            "6.660813906470226087e+00\t-9.000000000000000000e+00\t-9.000000000090900842e-01\n",
            "6.670813906470225874e+00\t-9.000000000000000000e+00\t-9.000000000089101171e-01\n",
            "6.680813906470225660e+00\t-9.000000000000000000e+00\t-9.000000000090900842e-01\n",
            "6.690813906470225447e+00\t-9.000000000000000000e+00\t-9.000000000089101171e-01\n",
            "6.700813906470225234e+00\t-9.000000000000000000e+00\t-9.000000000090900842e-01\n",
            "6.710813906470225021e+00\t-9.000000000000000000e+00\t-9.000000000089101171e-01\n",
            "6.720813906470224808e+00\t-9.000000000000000000e+00\t-9.000000000090900842e-01\n",
            "6.730813906470224595e+00\t-9.000000000000000000e+00\t-9.000000000089101171e-01\n",
            "6.740813906470224381e+00\t-9.000000000000000000e+00\t-9.000000000090900842e-01\n",
            "6.750813906470224168e+00\t-9.000000000000000000e+00\t-9.000000000089101171e-01\n",
            "6.760813906470223955e+00\t-9.000000000000000000e+00\t-9.000000000090900842e-01\n",
            "6.770813906470223742e+00\t-9.000000000000000000e+00\t-9.000000000089101171e-01\n",
            "6.780813906470223529e+00\t-9.000000000000000000e+00\t-9.000000000090900842e-01\n",
            "6.790813906470223316e+00\t-9.000000000000000000e+00\t-9.000000000089101171e-01\n",
            "6.800813906470223102e+00\t-9.000000000000000000e+00\t-9.000000000090900842e-01\n",
            "6.810813906470222889e+00\t-9.000000000000000000e+00\t-9.000000000089101171e-01\n",
            "6.820813906470222676e+00\t-9.000000000000000000e+00\t-9.000000000090900842e-01\n",
            "6.830813906470222463e+00\t-9.000000000000000000e+00\t-9.000000000089101171e-01\n",
            "6.840813906470222250e+00\t-9.000000000000000000e+00\t-9.000000000090900842e-01\n",
            "6.850813906470222037e+00\t-9.000000000000000000e+00\t-9.000000000089101171e-01\n",
            "6.860813906470221823e+00\t-9.000000000000000000e+00\t-9.000000000090900842e-01\n",
            "6.870813906470221610e+00\t-9.000000000000000000e+00\t-9.000000000089101171e-01\n",
            "6.880813906470221397e+00\t-9.000000000000000000e+00\t-9.000000000090900842e-01\n",
            "6.890813906470221184e+00\t-9.000000000000000000e+00\t-9.000000000089101171e-01\n",
            "6.900813906470220971e+00\t-9.000000000000000000e+00\t-9.000000000090900842e-01\n",
            "6.910813906470220758e+00\t-9.000000000000000000e+00\t-9.000000000089101171e-01\n",
            "6.920813906470220545e+00\t-9.000000000000000000e+00\t-9.000000000090900842e-01\n",
            "6.930813906470220331e+00\t-9.000000000000000000e+00\t-9.000000000089101171e-01\n",
            "6.940813906470220118e+00\t-9.000000000000000000e+00\t-9.000000000090900842e-01\n",
            "6.950813906470219905e+00\t-9.000000000000000000e+00\t-9.000000000089101171e-01\n",
            "6.960813906470219692e+00\t-9.000000000000000000e+00\t-9.000000000090900842e-01\n",
            "6.970813906470219479e+00\t-9.000000000000000000e+00\t-9.000000000089101171e-01\n",
            "6.980813906470219266e+00\t-9.000000000000000000e+00\t-9.000000000090900842e-01\n",
            "6.990813906470219052e+00\t-9.000000000000000000e+00\t-9.000000000089101171e-01\n",
            "7.000813906470218839e+00\t-9.000000000000000000e+00\t-9.000000000090900842e-01\n",
            "7.010813906470218626e+00\t-9.000000000000000000e+00\t-9.000000000089101171e-01\n",
            "7.020813906470218413e+00\t-9.000000000000000000e+00\t-9.000000000090900842e-01\n",
            "7.030813906470218200e+00\t-9.000000000000000000e+00\t-9.000000000089101171e-01\n",
            "7.040813906470217987e+00\t-9.000000000000000000e+00\t-9.000000000090900842e-01\n",
            "7.050813906470217773e+00\t-9.000000000000000000e+00\t-9.000000000089101171e-01\n",
            "7.060813906470217560e+00\t-9.000000000000000000e+00\t-9.000000000090900842e-01\n",
            "7.070813906470217347e+00\t-9.000000000000000000e+00\t-9.000000000089101171e-01\n",
            "7.080813906470217134e+00\t-9.000000000000000000e+00\t-9.000000000090900842e-01\n",
            "7.090813906470216921e+00\t-9.000000000000000000e+00\t-9.000000000089101171e-01\n",
            "7.100813906470216708e+00\t-9.000000000000000000e+00\t-9.000000000090900842e-01\n",
            "7.110813906470216494e+00\t-9.000000000000000000e+00\t-9.000000000089101171e-01\n",
            "7.120813906470216281e+00\t-9.000000000000000000e+00\t-9.000000000090900842e-01\n",
            "7.130813906470216068e+00\t-9.000000000000000000e+00\t-9.000000000089101171e-01\n",
            "7.140813906470215855e+00\t-9.000000000000000000e+00\t-9.000000000090900842e-01\n",
            "7.150813906470215642e+00\t-9.000000000000000000e+00\t-9.000000000089101171e-01\n",
            "7.160813906470215429e+00\t-9.000000000000000000e+00\t-9.000000000090900842e-01\n",
            "7.170813906470215215e+00\t-9.000000000000000000e+00\t-9.000000000089101171e-01\n",
            "7.180813906470215002e+00\t-9.000000000000000000e+00\t-9.000000000090900842e-01\n",
            "7.190813906470214789e+00\t-9.000000000000000000e+00\t-9.000000000089101171e-01\n",
            "7.200813906470214576e+00\t-9.000000000000000000e+00\t-9.000000000090900842e-01\n",
            "7.210813906470214363e+00\t-9.000000000000000000e+00\t-9.000000000089101171e-01\n",
            "7.220813906470214150e+00\t-9.000000000000000000e+00\t-9.000000000090900842e-01\n",
            "7.230813906470213936e+00\t-9.000000000000000000e+00\t-9.000000000089101171e-01\n",
            "7.240813906470213723e+00\t-9.000000000000000000e+00\t-9.000000000090900842e-01\n",
            "7.250813906470213510e+00\t-9.000000000000000000e+00\t-9.000000000089101171e-01\n",
            "7.260813906470213297e+00\t-9.000000000000000000e+00\t-9.000000000090900842e-01\n",
            "7.270813906470213084e+00\t-9.000000000000000000e+00\t-9.000000000089101171e-01\n",
            "7.280813906470212871e+00\t-9.000000000000000000e+00\t-9.000000000090900842e-01\n",
            "7.290813906470212657e+00\t-9.000000000000000000e+00\t-9.000000000089101171e-01\n",
            "7.300813906470212444e+00\t-9.000000000000000000e+00\t-9.000000000090900842e-01\n",
            "7.310813906470212231e+00\t-9.000000000000000000e+00\t-9.000000000089101171e-01\n",
            "7.320813906470212018e+00\t-9.000000000000000000e+00\t-9.000000000090900842e-01\n",
            "7.330813906470211805e+00\t-9.000000000000000000e+00\t-9.000000000089101171e-01\n",
            "7.340813906470211592e+00\t-9.000000000000000000e+00\t-9.000000000090900842e-01\n",
            "7.350813906470211379e+00\t-9.000000000000000000e+00\t-9.000000000089101171e-01\n",
            "7.360813906470211165e+00\t-9.000000000000000000e+00\t-9.000000000090900842e-01\n",
            "7.370813906470210952e+00\t-9.000000000000000000e+00\t-9.000000000089101171e-01\n",
            "7.380813906470210739e+00\t-9.000000000000000000e+00\t-9.000000000090900842e-01\n",
            "7.390813906470210526e+00\t-9.000000000000000000e+00\t-9.000000000089101171e-01\n",
            "7.400813906470210313e+00\t-9.000000000000000000e+00\t-9.000000000090900842e-01\n",
            "7.410813906470210100e+00\t-9.000000000000000000e+00\t-9.000000000089101171e-01\n",
            "7.420813906470209886e+00\t-9.000000000000000000e+00\t-9.000000000090900842e-01\n",
            "7.430813906470209673e+00\t-9.000000000000000000e+00\t-9.000000000089101171e-01\n",
            "7.440813906470209460e+00\t-9.000000000000000000e+00\t-9.000000000090900842e-01\n",
            "7.450813906470209247e+00\t-9.000000000000000000e+00\t-9.000000000089101171e-01\n",
            "7.460813906470209034e+00\t-9.000000000000000000e+00\t-9.000000000090900842e-01\n",
            "7.470813906470208821e+00\t-9.000000000000000000e+00\t-9.000000000089101171e-01\n",
            "7.480813906470208607e+00\t-9.000000000000000000e+00\t-9.000000000090900842e-01\n",
            "7.490813906470208394e+00\t-9.000000000000000000e+00\t-9.000000000089101171e-01\n",
            "7.500813906470208181e+00\t-9.000000000000000000e+00\t-9.000000000090900842e-01\n"
          ]
        }
      ],
      "source": [
        "!ahkab \"circuito sencillo3.sp\""
      ]
    },
    {
      "source": [
        "# Resumen de lo que se pide\n",
        "Volved a realizar todos los ejercicios y demos en vuestro propio notebook, explicando con vuestras palabras cada paso, cada gráfica y respondiendo a cada pregunta. Cuidad la belleza, coherencia, narración, explicaciones y gráficas. Todas las gráficas se han pintado con Matplotlib, que es una biblioteca extendidísima en ciencia y tecnología. Es muuuuy bueno que la conozcáis. [Aquí](https://matplotlib.org/tutorials/introductory/pyplot.html) tenéis muchos ejemplos. "
      ],
      "cell_type": "markdown",
      "metadata": {}
    }
  ],
  "metadata": {
    "pygments_lexer": "ipython3",
    "orig_nbformat": 2,
    "name": "python",
    "mimetype": "text/x-python",
    "npconvert_exporter": "python",
    "kernel_info": {
      "name": "python3"
    },
    "language_info": {
      "name": "python",
      "version": "3.7.9-final",
      "mimetype": "text/x-python",
      "codemirror_mode": {
        "name": "ipython",
        "version": 3
      },
      "pygments_lexer": "ipython3",
      "nbconvert_exporter": "python",
      "file_extension": ".py"
    },
    "version": 3,
    "kernelspec": {
      "name": "python3",
      "language": "python",
      "display_name": "Python 3"
    },
    "file_extension": ".py",
    "nteract": {
      "version": "0.27.0"
    }
  },
  "nbformat": 4,
  "nbformat_minor": 2
}